{
 "cells": [
  {
   "cell_type": "markdown",
   "id": "b3b8b21d",
   "metadata": {},
   "source": [
    "### Configurações Pyspark"
   ]
  },
  {
   "cell_type": "code",
   "execution_count": 1,
   "id": "e5254cb2",
   "metadata": {},
   "outputs": [
    {
     "name": "stderr",
     "output_type": "stream",
     "text": [
      "25/03/20 08:54:20 WARN NativeCodeLoader: Unable to load native-hadoop library for your platform... using builtin-java classes where applicable\n",
      "Setting default log level to \"WARN\".\n",
      "To adjust logging level use sc.setLogLevel(newLevel). For SparkR, use setLogLevel(newLevel).\n",
      "25/03/20 08:54:21 WARN Utils: Service 'SparkUI' could not bind on port 4040. Attempting port 4041.\n"
     ]
    }
   ],
   "source": [
    "from pyspark.sql import SparkSession\n",
    "from pyspark.sql import functions as F\n",
    "from pyspark.sql import Window\n",
    "\n",
    "import pandas as pd\n",
    "\n",
    "def write_to_postgresl(df, tb_name=None, write_mode='None'):\n",
    "    df.count()\n",
    "    if tb_name is None:\n",
    "        raise Exception('Informe o nome da tabela')\n",
    "    if write_mode is None:\n",
    "        raise Exception('Informe o mode de escrita: append ou overwrite')\n",
    "        \n",
    "    from datetime import datetime\n",
    "    start_time = datetime.now()\n",
    "    \n",
    "    try:\n",
    "        df.write.jdbc(url, table=tb_name, mode=write_mode, properties=properties)\n",
    "    except Exception as e:\n",
    "        print(f'Erro: {e}')\n",
    "    end_time = datetime.now()\n",
    "    \n",
    "    total_time = str(end_time - start_time)\n",
    "    \n",
    "    return f'Total time: {total_time} and - Total rows: {df.count()} - Total columns: {len(df.columns)}'\n",
    "\n",
    "\n",
    "\n",
    "    # Criando a sessão do Spark\n",
    "spark  = SparkSession.builder \\\n",
    "    .appName(\"Data Analysis\") \\\n",
    "    .config('spark.jars', '/data/IDAF/DATABASECONNECTOR_JAR_FOLDER/postgresql-42.2.18.jar')\\\n",
    "    .config(\"spark.executor.memory\", \"8g\")\\\n",
    "    .config(\"spark.driver.memory\", \"8g\")\\\n",
    "    .config(\"spark.executor.cores\", \"4\")\\\n",
    "    .config(\"spark.executor.instances\",\"8\")\\\n",
    "    .config(\"spark.sql.shuffle.partitions\",\"96\")\\\n",
    "    .config(\"spark.default.parallelism\",\"96\")\\\n",
    "    .getOrCreate()\n",
    "\n",
    "\n",
    "url = \"jdbc:postgresql://localhost:5432/postgres\"\n",
    "\n",
    "properties = {\n",
    "    \"user\" : \"postgres\",\n",
    "    \"password\" : \"cidacs\",\n",
    "    \"driver\" : \"org.postgresql.Driver\"\n",
    "}"
   ]
  },
  {
   "cell_type": "markdown",
   "id": "71825126",
   "metadata": {},
   "source": [
    "## Configurações Pandas"
   ]
  },
  {
   "cell_type": "code",
   "execution_count": 2,
   "id": "787acd6f",
   "metadata": {},
   "outputs": [],
   "source": [
    "spark.conf.set(\"spark.sql.repl.eagerEval.enabled\", True)\n",
    "spark.conf.set(\"spark.sql.repl.eagerEval.truncate\", 100)\n",
    "spark.conf.set(\"spark.sql.repl.eagerEval.maxNumRows\", 300)\n",
    "\n",
    "spark.conf.set(\"spark.sql.debug.maxToStringFields\", 100)\n",
    "\n",
    "pd.set_option(\"display.max_columns\", None) \n",
    "pd.set_option(\"display.max_rows\", None)"
   ]
  },
  {
   "cell_type": "markdown",
   "id": "e5bdd252",
   "metadata": {},
   "source": [
    "### Lendo dados enriquecidos"
   ]
  },
  {
   "cell_type": "code",
   "execution_count": 3,
   "id": "64224f0d",
   "metadata": {},
   "outputs": [
    {
     "name": "stderr",
     "output_type": "stream",
     "text": [
      "\r",
      "[Stage 0:>                                                          (0 + 1) / 1]\r",
      "\r",
      "                                                                                \r"
     ]
    }
   ],
   "source": [
    "df_input = (spark\n",
    "            .read\n",
    "            .parquet('/data/IDAF/PROJETOS/PARCERIA_CIDACS_PHDC/banco_original_enriched'))"
   ]
  },
  {
   "cell_type": "markdown",
   "id": "b21352a3",
   "metadata": {},
   "source": [
    "### Care Site"
   ]
  },
  {
   "cell_type": "code",
   "execution_count": 4,
   "id": "dc28f863",
   "metadata": {},
   "outputs": [
    {
     "name": "stderr",
     "output_type": "stream",
     "text": [
      "                                                                                \r"
     ]
    },
    {
     "data": {
      "text/plain": [
       "24683852"
      ]
     },
     "execution_count": 4,
     "metadata": {},
     "output_type": "execute_result"
    }
   ],
   "source": [
    "df_fact_relationship = (df_input\n",
    "                        .select('person_id','person_id_infant').distinct()\n",
    "                        .withColumn('domain_concept_id_1', F.lit(4248584))\n",
    "                        .withColumn('fact_id_1', F.col('person_id'))\n",
    "                        .withColumn('domain_concept_id_2', F.lit(4285883))\n",
    "                        .withColumn('fact_id_2', F.col('person_id_infant'))\n",
    "                        .withColumn('relationship_concept_id', F.lit(4277283))\n",
    "                       ).select(F.col('domain_concept_id_1').cast('integer'), \n",
    "                                F.col('fact_id_1').cast('integer'),\n",
    "                                F.col('domain_concept_id_2').cast('integer'), \n",
    "                                F.col('fact_id_2').cast('integer'),\n",
    "                                F.col('relationship_concept_id').cast('integer'))\n",
    "\n",
    "\n",
    "df_fact_relationship.count()"
   ]
  },
  {
   "cell_type": "markdown",
   "id": "71569135",
   "metadata": {},
   "source": [
    "### Salvando no Postgresql"
   ]
  },
  {
   "cell_type": "code",
   "execution_count": 5,
   "id": "643ba0b7",
   "metadata": {},
   "outputs": [
    {
     "name": "stderr",
     "output_type": "stream",
     "text": [
      "                                                                                \r"
     ]
    },
    {
     "data": {
      "text/plain": [
       "'Total time: 0:04:39.048408 and - Total rows: 24683852 - Total columns: 5'"
      ]
     },
     "execution_count": 5,
     "metadata": {},
     "output_type": "execute_result"
    }
   ],
   "source": [
    "write_to_postgresl(df_fact_relationship, tb_name='fact_relationship', write_mode='append')"
   ]
  },
  {
   "cell_type": "markdown",
   "id": "49727072",
   "metadata": {},
   "source": [
    "## Deprecated"
   ]
  },
  {
   "cell_type": "markdown",
   "id": "74d8976f",
   "metadata": {},
   "source": [
    "### Salvando CSV "
   ]
  },
  {
   "cell_type": "code",
   "execution_count": null,
   "id": "77898bd0",
   "metadata": {},
   "outputs": [],
   "source": [
    "# df_fact_relationship.repartition(1).write.csv('/data/IDAF/SHARED/omop_tables/fact_relationship.csv', header = True, mode='overwrite')"
   ]
  },
  {
   "cell_type": "markdown",
   "id": "4beea3f6",
   "metadata": {},
   "source": [
    "## SQL de insertion"
   ]
  },
  {
   "cell_type": "code",
   "execution_count": null,
   "id": "c7b417f2",
   "metadata": {},
   "outputs": [],
   "source": [
    "# -- CREATE TABLE public.fact_relationship (\n",
    "# -- \t\t\tdomain_concept_id_1 integer NOT NULL,\n",
    "# -- \t\t\tfact_id_1 integer NOT NULL,\n",
    "# -- \t\t\tdomain_concept_id_2 integer NOT NULL,\n",
    "# -- \t\t\tfact_id_2 integer NOT NULL,\n",
    "# -- \t\t\trelationship_concept_id integer NOT NULL );\n",
    "\n",
    "# -- CREATE TABLE public.fact_relationship_pyspark (\n",
    "# -- \t\t\tdomain_concept_id_1 varchar,\n",
    "# -- \t\t\tfact_id_1 varchar,\n",
    "# -- \t\t\tdomain_concept_id_2 varchar,\n",
    "# -- \t\t\tfact_id_2 varchar,\n",
    "# -- \t\t\trelationship_concept_id varchar);\n",
    "\t\t\t\n",
    "# insert into public.fact_relationship (\n",
    "# domain_concept_id_1,\n",
    "# fact_id_1,\n",
    "# domain_concept_id_2,\n",
    "# location_id,\n",
    "# fact_id_2,\n",
    "# relationship_concept_id \n",
    "# )\n",
    "# SELECT \n",
    "# domain_concept_id_1,\n",
    "# fact_id_1,\n",
    "# domain_concept_id_2,\n",
    "# location_id,\n",
    "# fact_id_2,\n",
    "# relationship_concept_id \n",
    "# \tFROM public.fact_relationship_pyspark;\n",
    "\n",
    "\n"
   ]
  }
 ],
 "metadata": {
  "kernelspec": {
   "display_name": "Python 3 (ipykernel)",
   "language": "python",
   "name": "python3"
  },
  "language_info": {
   "codemirror_mode": {
    "name": "ipython",
    "version": 3
   },
   "file_extension": ".py",
   "mimetype": "text/x-python",
   "name": "python",
   "nbconvert_exporter": "python",
   "pygments_lexer": "ipython3",
   "version": "3.10.12"
  }
 },
 "nbformat": 4,
 "nbformat_minor": 5
}
