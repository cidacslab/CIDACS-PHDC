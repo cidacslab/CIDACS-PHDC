{
 "cells": [
  {
   "cell_type": "markdown",
   "id": "b3b8b21d",
   "metadata": {},
   "source": [
    "## Configurações Pyspark"
   ]
  },
  {
   "cell_type": "code",
   "execution_count": 1,
   "id": "e5254cb2",
   "metadata": {},
   "outputs": [
    {
     "name": "stderr",
     "output_type": "stream",
     "text": [
      "25/03/20 09:39:30 WARN NativeCodeLoader: Unable to load native-hadoop library for your platform... using builtin-java classes where applicable\n",
      "Setting default log level to \"WARN\".\n",
      "To adjust logging level use sc.setLogLevel(newLevel). For SparkR, use setLogLevel(newLevel).\n",
      "25/03/20 09:39:32 WARN Utils: Service 'SparkUI' could not bind on port 4040. Attempting port 4041.\n",
      "25/03/20 09:39:32 WARN Utils: Service 'SparkUI' could not bind on port 4041. Attempting port 4042.\n"
     ]
    }
   ],
   "source": [
    "from pyspark.sql import SparkSession\n",
    "from pyspark.sql import functions as F\n",
    "from pyspark.sql import Window\n",
    "\n",
    "import pandas as pd\n",
    "\n",
    "def write_to_postgresl(df, tb_name=None, write_mode='None'):\n",
    "    df.count()\n",
    "    if tb_name is None:\n",
    "        raise Exception('Informe o nome da tabela')\n",
    "    if write_mode is None:\n",
    "        raise Exception('Informe o mode de escrita: append ou overwrite')\n",
    "        \n",
    "    from datetime import datetime\n",
    "    start_time = datetime.now()\n",
    "    \n",
    "    try:\n",
    "        df.write.jdbc(url, table=tb_name, mode=write_mode, properties=properties)\n",
    "    except Exception as e:\n",
    "        print(f'Erro: {e}')\n",
    "    end_time = datetime.now()\n",
    "    \n",
    "    total_time = str(end_time - start_time)\n",
    "    \n",
    "    return f'Total time: {total_time} and - Total rows: {df.count()} - Total columns: {len(df.columns)}'\n",
    "\n",
    "\n",
    "\n",
    "    # Criando a sessão do Spark\n",
    "spark  = SparkSession.builder \\\n",
    "    .appName(\"Data Analysis\") \\\n",
    "    .config('spark.jars', '/data/IDAF/DATABASECONNECTOR_JAR_FOLDER/postgresql-42.2.18.jar')\\\n",
    "    .config(\"spark.executor.memory\", \"8g\")\\\n",
    "    .config(\"spark.driver.memory\", \"8g\")\\\n",
    "    .config(\"spark.executor.cores\", \"4\")\\\n",
    "    .config(\"spark.executor.instances\",\"8\")\\\n",
    "    .config(\"spark.sql.shuffle.partitions\",\"96\")\\\n",
    "    .config(\"spark.default.parallelism\",\"96\")\\\n",
    "    .getOrCreate()\n",
    "\n",
    "\n",
    "url = \"jdbc:postgresql://localhost:5432/postgres\"\n",
    "\n",
    "properties = {\n",
    "    \"user\" : \"postgres\",\n",
    "    \"password\" : \"cidacs\",\n",
    "    \"driver\" : \"org.postgresql.Driver\"\n",
    "}"
   ]
  },
  {
   "cell_type": "markdown",
   "id": "1392226d-8b67-4bac-be21-74427878fbdc",
   "metadata": {},
   "source": [
    "## Configurações Pandas"
   ]
  },
  {
   "cell_type": "code",
   "execution_count": 2,
   "id": "787acd6f",
   "metadata": {},
   "outputs": [],
   "source": [
    "spark.conf.set(\"spark.sql.repl.eagerEval.enabled\", True)\n",
    "spark.conf.set(\"spark.sql.repl.eagerEval.truncate\", 100)\n",
    "spark.conf.set(\"spark.sql.repl.eagerEval.maxNumRows\", 300)\n",
    "\n",
    "spark.conf.set(\"spark.sql.debug.maxToStringFields\", 100)\n",
    "\n",
    "pd.set_option(\"display.max_columns\", None) \n",
    "pd.set_option(\"display.max_rows\", None)"
   ]
  },
  {
   "cell_type": "markdown",
   "id": "e5bdd252",
   "metadata": {},
   "source": [
    "### Lendo dados enriquecidos"
   ]
  },
  {
   "cell_type": "code",
   "execution_count": 3,
   "id": "64224f0d",
   "metadata": {},
   "outputs": [
    {
     "name": "stderr",
     "output_type": "stream",
     "text": [
      "                                                                                \r"
     ]
    }
   ],
   "source": [
    "df_input = (spark\n",
    "            .read\n",
    "            .parquet('/data/IDAF/PROJETOS/PARCERIA_CIDACS_PHDC/banco_original_enriched')\n",
    "            .filter((F.col('id_cidacs_mae_sinasc')=='10324544718')&(F.col('tpteste1_mae')==1))\n",
    "           )"
   ]
  },
  {
   "cell_type": "markdown",
   "id": "b21352a3",
   "metadata": {},
   "source": [
    "### Measurement"
   ]
  },
  {
   "cell_type": "code",
   "execution_count": 5,
   "id": "c9933edb",
   "metadata": {},
   "outputs": [],
   "source": [
    "window_measurement = Window.partitionBy().orderBy('person_id', 'dtnasc_sinasc')"
   ]
  },
  {
   "cell_type": "code",
   "execution_count": 6,
   "id": "dc28f863",
   "metadata": {},
   "outputs": [
    {
     "name": "stderr",
     "output_type": "stream",
     "text": [
      "                                                                                \r"
     ]
    },
    {
     "data": {
      "text/plain": [
       "3"
      ]
     },
     "execution_count": 6,
     "metadata": {},
     "output_type": "execute_result"
    }
   ],
   "source": [
    "df_measurement = (df_input.select('id_cidacs_mae_sinasc', 'tpteste1_mae', 'semagestac_sinasc', \n",
    "                                  'gravidez_sinasc', 'dtnasc_sinasc', 'person_id', 'mesprenat_sinasc', 'visit_occurrence_id')\n",
    "                 .withColumn('person_id', F.col('person_id'))\n",
    "                 .withColumn('semagestac_sinasc_code', F.when(F.col('semagestac_sinasc').isNotNull(), F.lit(3012266)).otherwise(None))\n",
    "                 .withColumn('gravidez_sinasc_code', F.when(F.col('gravidez_sinasc').isNotNull(), F.lit(4077859)).otherwise(None))\n",
    "                 .withColumn('tpteste1_mae_code', F.when(F.col('tpteste1_mae').isNotNull(), F.lit(4299241)).otherwise(None))\n",
    "                 .withColumn('measurement_concept_id_list', F.concat_ws(\",\", F.col('semagestac_sinasc_code'), F.col('gravidez_sinasc_code'), F.col('tpteste1_mae_code'))) \n",
    "                 .withColumn('measurement_concept_id', F.explode(F.split(F.col('measurement_concept_id_list'), ',')))\n",
    "                 .withColumn('date_mesprenat_sinasc', F.when(F.col('mesprenat_sinasc')<=9, F.add_months(F.col('dtnasc_sinasc'), -(9 - F.col('mesprenat_sinasc').cast('int'))))\n",
    "                                     .when((F.col('mesprenat_sinasc')==99)|(F.col('mesprenat_sinasc').isNull()), F.lit('2099-12-31'))\n",
    "                                     .when(F.col('mesprenat_sinasc')>9, F.trunc(F.col('dtnasc_sinasc'), 'month')))\n",
    "                 .withColumn('measurement_date', F.when(F.col('measurement_concept_id').isin(3012266, 4077859), F.col('dtnasc_sinasc'))\n",
    "                                                  .when(F.col('measurement_concept_id').isin(4299241), F.col('date_mesprenat_sinasc')))\n",
    "                 .withColumn('value_as_number', F.when(F.col('measurement_concept_id').isin(3012266), F.col('semagestac_sinasc'))\n",
    "                                                 .when(F.col('measurement_concept_id').isin(4299241), F.col('tpteste1_mae'))\n",
    "                                                 .when((F.col('measurement_concept_id').isin(4077859))&(F.col('gravidez_sinasc').isin(0, 1, 2, 3)), F.col('gravidez_sinasc'))\n",
    "                                                 .when((F.col('measurement_concept_id').isin(4077859))&(F.col('gravidez_sinasc').isin(88,99)), F.lit(None)).otherwise(None))\n",
    "                 .withColumn('value_as_concept_id', F.when(F.col('tpteste1_mae')==0, F.lit(0))\n",
    "                                                     .when(F.col('tpteste1_mae')==1, F.lit(9191))\n",
    "                                                     .when(F.col('tpteste1_mae')==2, F.lit(9189))\n",
    "                                                     .when(F.col('tpteste1_mae')==3, F.lit(4118638))\n",
    "                                                     .when(F.col('tpteste1_mae')==88, F.lit(0))\n",
    "                                                     .when(F.col('tpteste1_mae').isNull(), F.lit(0))\n",
    "                            )\n",
    "                 .withColumn('measurement_type_concept_id', F.lit(32879))\n",
    "                 .withColumn('measurement_id', F.row_number().over(window_measurement))\n",
    "                 .withColumn('unit_source_value', F.lit(None))\n",
    "                 .withColumn('unit_concept_id', F.lit(None))\n",
    "                 .withColumn('measurement_datetime', F.lit(None))\n",
    "                 .withColumn('measurement_time', F.lit(None))\n",
    "                 .withColumn('operator_concept_id', F.lit(None))\n",
    "                 .withColumn('value_as_concept_id', F.lit(None))\n",
    "                 .withColumn('range_low', F.lit(None))\n",
    "                 .withColumn('range_high', F.lit(None))\n",
    "                 .withColumn('provider_id', F.lit(None))\n",
    "                 .withColumn('visit_occurrence_id', F.col('visit_occurrence_id'))\n",
    "                 .withColumn('visit_detail_id', F.lit(None))\n",
    "                 .withColumn('measurement_source_value', F.lit(None))\n",
    "                 .withColumn('measurement_source_concept_id', F.lit(None))\n",
    "                 .withColumn('unit_source_concept_id', F.lit(None))\n",
    "                 .withColumn('value_source_value', F.lit(None))\n",
    "                  .withColumn('measurement_event_id', F.lit(None))\n",
    "                  .withColumn('meas_event_field_concept_id', F.lit(None))\n",
    "                  ).select( F.col(\"measurement_id\").cast('integer'),\n",
    "                            F.col(\"person_id\").cast('integer'),\n",
    "                            F.col(\"measurement_concept_id\").cast('integer'),\n",
    "                            F.col(\"measurement_date\").cast('date'),\n",
    "                            F.col(\"measurement_datetime\").cast('timestamp'),\n",
    "                            F.col(\"measurement_time\").cast('string'),\n",
    "                            F.col(\"measurement_type_concept_id\").cast('integer'),\n",
    "                            F.col(\"operator_concept_id\").cast('integer'),\n",
    "                            F.col(\"value_as_number\").cast('float'),\n",
    "                            F.col(\"value_as_concept_id\").cast('integer'),\n",
    "                            F.col(\"unit_concept_id\").cast('integer'),\n",
    "                            F.col(\"range_low\").cast('float'),\n",
    "                            F.col(\"range_high\").cast('float'),\n",
    "                            F.col(\"provider_id\").cast('integer'),\n",
    "                            F.col(\"visit_occurrence_id\").cast('integer'),\n",
    "                            F.col(\"visit_detail_id\").cast('integer'),\n",
    "                            F.col(\"measurement_source_value\").cast('string'),\n",
    "                            F.col(\"measurement_source_concept_id\").cast('integer'),\n",
    "                            F.col(\"unit_source_value\").cast('string'),\n",
    "                            F.col(\"unit_source_concept_id\").cast('integer'),\n",
    "                            F.col(\"value_source_value\").cast('string'),\n",
    "                            F.col(\"measurement_event_id\").cast('integer'),\n",
    "                            F.col(\"meas_event_field_concept_id\").cast('integer')\n",
    "                            )\n",
    "df_measurement.count()"
   ]
  },
  {
   "cell_type": "code",
   "execution_count": 7,
   "id": "08063046",
   "metadata": {},
   "outputs": [
    {
     "name": "stderr",
     "output_type": "stream",
     "text": [
      "25/03/20 09:40:14 WARN WindowExec: No Partition Defined for Window operation! Moving all data to a single partition, this can cause serious performance degradation.\n",
      "25/03/20 09:40:14 WARN WindowExec: No Partition Defined for Window operation! Moving all data to a single partition, this can cause serious performance degradation.\n",
      "25/03/20 09:40:14 WARN WindowExec: No Partition Defined for Window operation! Moving all data to a single partition, this can cause serious performance degradation.\n",
      "25/03/20 09:40:15 WARN WindowExec: No Partition Defined for Window operation! Moving all data to a single partition, this can cause serious performance degradation.\n",
      "25/03/20 09:40:15 WARN WindowExec: No Partition Defined for Window operation! Moving all data to a single partition, this can cause serious performance degradation.\n",
      "                                                                                \r"
     ]
    },
    {
     "data": {
      "text/html": [
       "<div>\n",
       "<style scoped>\n",
       "    .dataframe tbody tr th:only-of-type {\n",
       "        vertical-align: middle;\n",
       "    }\n",
       "\n",
       "    .dataframe tbody tr th {\n",
       "        vertical-align: top;\n",
       "    }\n",
       "\n",
       "    .dataframe thead th {\n",
       "        text-align: right;\n",
       "    }\n",
       "</style>\n",
       "<table border=\"1\" class=\"dataframe\">\n",
       "  <thead>\n",
       "    <tr style=\"text-align: right;\">\n",
       "      <th></th>\n",
       "      <th>measurement_id</th>\n",
       "      <th>person_id</th>\n",
       "      <th>measurement_concept_id</th>\n",
       "      <th>measurement_date</th>\n",
       "      <th>measurement_datetime</th>\n",
       "      <th>measurement_time</th>\n",
       "      <th>measurement_type_concept_id</th>\n",
       "      <th>operator_concept_id</th>\n",
       "      <th>value_as_number</th>\n",
       "      <th>value_as_concept_id</th>\n",
       "      <th>unit_concept_id</th>\n",
       "      <th>range_low</th>\n",
       "      <th>range_high</th>\n",
       "      <th>provider_id</th>\n",
       "      <th>visit_occurrence_id</th>\n",
       "      <th>visit_detail_id</th>\n",
       "      <th>measurement_source_value</th>\n",
       "      <th>measurement_source_concept_id</th>\n",
       "      <th>unit_source_value</th>\n",
       "      <th>unit_source_concept_id</th>\n",
       "      <th>value_source_value</th>\n",
       "      <th>measurement_event_id</th>\n",
       "      <th>meas_event_field_concept_id</th>\n",
       "    </tr>\n",
       "  </thead>\n",
       "  <tbody>\n",
       "    <tr>\n",
       "      <th>0</th>\n",
       "      <td>1</td>\n",
       "      <td>74836</td>\n",
       "      <td>3012266</td>\n",
       "      <td>2012-07-02</td>\n",
       "      <td>NaT</td>\n",
       "      <td>None</td>\n",
       "      <td>32879</td>\n",
       "      <td>NaN</td>\n",
       "      <td>40.0</td>\n",
       "      <td>NaN</td>\n",
       "      <td>NaN</td>\n",
       "      <td>NaN</td>\n",
       "      <td>NaN</td>\n",
       "      <td>NaN</td>\n",
       "      <td>115959</td>\n",
       "      <td>NaN</td>\n",
       "      <td>None</td>\n",
       "      <td>NaN</td>\n",
       "      <td>None</td>\n",
       "      <td>NaN</td>\n",
       "      <td>None</td>\n",
       "      <td>NaN</td>\n",
       "      <td>NaN</td>\n",
       "    </tr>\n",
       "    <tr>\n",
       "      <th>1</th>\n",
       "      <td>2</td>\n",
       "      <td>74836</td>\n",
       "      <td>4077859</td>\n",
       "      <td>2012-07-02</td>\n",
       "      <td>NaT</td>\n",
       "      <td>None</td>\n",
       "      <td>32879</td>\n",
       "      <td>NaN</td>\n",
       "      <td>1.0</td>\n",
       "      <td>NaN</td>\n",
       "      <td>NaN</td>\n",
       "      <td>NaN</td>\n",
       "      <td>NaN</td>\n",
       "      <td>NaN</td>\n",
       "      <td>115959</td>\n",
       "      <td>NaN</td>\n",
       "      <td>None</td>\n",
       "      <td>NaN</td>\n",
       "      <td>None</td>\n",
       "      <td>NaN</td>\n",
       "      <td>None</td>\n",
       "      <td>NaN</td>\n",
       "      <td>NaN</td>\n",
       "    </tr>\n",
       "    <tr>\n",
       "      <th>2</th>\n",
       "      <td>3</td>\n",
       "      <td>74836</td>\n",
       "      <td>4299241</td>\n",
       "      <td>2012-03-02</td>\n",
       "      <td>NaT</td>\n",
       "      <td>None</td>\n",
       "      <td>32879</td>\n",
       "      <td>NaN</td>\n",
       "      <td>1.0</td>\n",
       "      <td>NaN</td>\n",
       "      <td>NaN</td>\n",
       "      <td>NaN</td>\n",
       "      <td>NaN</td>\n",
       "      <td>NaN</td>\n",
       "      <td>115959</td>\n",
       "      <td>NaN</td>\n",
       "      <td>None</td>\n",
       "      <td>NaN</td>\n",
       "      <td>None</td>\n",
       "      <td>NaN</td>\n",
       "      <td>None</td>\n",
       "      <td>NaN</td>\n",
       "      <td>NaN</td>\n",
       "    </tr>\n",
       "  </tbody>\n",
       "</table>\n",
       "</div>"
      ],
      "text/plain": [
       "   measurement_id  person_id  measurement_concept_id measurement_date  \\\n",
       "0               1      74836                 3012266       2012-07-02   \n",
       "1               2      74836                 4077859       2012-07-02   \n",
       "2               3      74836                 4299241       2012-03-02   \n",
       "\n",
       "  measurement_datetime measurement_time  measurement_type_concept_id  \\\n",
       "0                  NaT             None                        32879   \n",
       "1                  NaT             None                        32879   \n",
       "2                  NaT             None                        32879   \n",
       "\n",
       "   operator_concept_id  value_as_number  value_as_concept_id  unit_concept_id  \\\n",
       "0                  NaN             40.0                  NaN              NaN   \n",
       "1                  NaN              1.0                  NaN              NaN   \n",
       "2                  NaN              1.0                  NaN              NaN   \n",
       "\n",
       "   range_low  range_high  provider_id  visit_occurrence_id  visit_detail_id  \\\n",
       "0        NaN         NaN          NaN               115959              NaN   \n",
       "1        NaN         NaN          NaN               115959              NaN   \n",
       "2        NaN         NaN          NaN               115959              NaN   \n",
       "\n",
       "  measurement_source_value  measurement_source_concept_id unit_source_value  \\\n",
       "0                     None                            NaN              None   \n",
       "1                     None                            NaN              None   \n",
       "2                     None                            NaN              None   \n",
       "\n",
       "   unit_source_concept_id value_source_value  measurement_event_id  \\\n",
       "0                     NaN               None                   NaN   \n",
       "1                     NaN               None                   NaN   \n",
       "2                     NaN               None                   NaN   \n",
       "\n",
       "   meas_event_field_concept_id  \n",
       "0                          NaN  \n",
       "1                          NaN  \n",
       "2                          NaN  "
      ]
     },
     "execution_count": 7,
     "metadata": {},
     "output_type": "execute_result"
    }
   ],
   "source": [
    "df_measurement.toPandas()"
   ]
  },
  {
   "cell_type": "markdown",
   "id": "c08eadb8",
   "metadata": {},
   "source": [
    "### Salvando no Postgresql"
   ]
  },
  {
   "cell_type": "code",
   "execution_count": 7,
   "id": "2a2dd6eb",
   "metadata": {},
   "outputs": [
    {
     "name": "stderr",
     "output_type": "stream",
     "text": [
      "25/03/14 07:53:05 WARN WindowExec: No Partition Defined for Window operation! Moving all data to a single partition, this can cause serious performance degradation.\n",
      "25/03/14 07:53:05 WARN WindowExec: No Partition Defined for Window operation! Moving all data to a single partition, this can cause serious performance degradation.\n",
      "25/03/14 07:53:05 WARN WindowExec: No Partition Defined for Window operation! Moving all data to a single partition, this can cause serious performance degradation.\n",
      "25/03/14 07:53:10 WARN WindowExec: No Partition Defined for Window operation! Moving all data to a single partition, this can cause serious performance degradation.\n",
      "25/03/14 07:53:10 WARN WindowExec: No Partition Defined for Window operation! Moving all data to a single partition, this can cause serious performance degradation.\n",
      "                                                                                \r"
     ]
    },
    {
     "data": {
      "text/plain": [
       "'Total time: 0:33:48.812641 and - Total rows: 33028498 - Total columns: 23'"
      ]
     },
     "execution_count": 7,
     "metadata": {},
     "output_type": "execute_result"
    }
   ],
   "source": [
    "write_to_postgresl(df_measurement, tb_name='measurement', write_mode='append')"
   ]
  },
  {
   "cell_type": "markdown",
   "id": "e69506d2",
   "metadata": {},
   "source": [
    "## Deprecated"
   ]
  },
  {
   "cell_type": "markdown",
   "id": "74d8976f",
   "metadata": {},
   "source": [
    "### Salvando CSV "
   ]
  },
  {
   "cell_type": "code",
   "execution_count": null,
   "id": "77898bd0",
   "metadata": {},
   "outputs": [],
   "source": [
    "# df_measurement.repartition(1).write.option(\"quoteAll\",True).csv('/data/IDAF/SHARED/omop_tables_revisadas/measurement', header=True, mode='overwrite')"
   ]
  },
  {
   "cell_type": "markdown",
   "id": "4beea3f6",
   "metadata": {},
   "source": [
    "## SQL de insertion"
   ]
  },
  {
   "cell_type": "code",
   "execution_count": null,
   "id": "c7b417f2",
   "metadata": {},
   "outputs": [],
   "source": [
    "# CREATE TABLE public.measurement (\n",
    "# \t\t\tmeasurement_id integer NOT NULL,\n",
    "# \t\t\tperson_id integer NOT NULL,\n",
    "# \t\t\tmeasurement_concept_id integer NOT NULL,\n",
    "# \t\t\tmeasurement_date date NOT NULL,\n",
    "# \t\t\tmeasurement_datetime TIMESTAMP NULL,\n",
    "# \t\t\tmeasurement_time varchar(10) NULL,\n",
    "# \t\t\tmeasurement_type_concept_id integer NOT NULL,\n",
    "# \t\t\toperator_concept_id integer NULL,\n",
    "# \t\t\tvalue_as_number NUMERIC NULL,\n",
    "# \t\t\tvalue_as_concept_id integer NULL,\n",
    "# \t\t\tunit_concept_id integer NULL,\n",
    "# \t\t\trange_low NUMERIC NULL,\n",
    "# \t\t\trange_high NUMERIC NULL,\n",
    "# \t\t\tprovider_id integer NULL,\n",
    "# \t\t\tvisit_occurrence_id integer NULL,\n",
    "# \t\t\tvisit_detail_id integer NULL,\n",
    "# \t\t\tmeasurement_source_value varchar(50) NULL,\n",
    "# \t\t\tmeasurement_source_concept_id integer NULL,\n",
    "# \t\t\tunit_source_value varchar(50) NULL,\n",
    "# \t\t\tunit_source_concept_id integer NULL,\n",
    "# \t\t\tvalue_source_value varchar(50) NULL,\n",
    "# \t\t\tmeasurement_event_id bigint NULL,\n",
    "# \t\t\tmeas_event_field_concept_id integer NULL );\n",
    "\n",
    "\n",
    "# CREATE TABLE public.measurement_pyspark (\n",
    "# \t\t\tmeasurement_id varchar,\n",
    "# \t\t\tperson_id varchar,\n",
    "# \t\t\tmeasurement_concept_id varchar,\n",
    "# \t\t\tmeasurement_date varchar,\n",
    "# \t\t\tmeasurement_datetime varchar,\n",
    "# \t\t\tmeasurement_time varchar,\n",
    "# \t\t\tmeasurement_type_concept_id varchar,\n",
    "# \t\t\toperator_concept_id varchar,\n",
    "# \t\t\tvalue_as_number varchar,\n",
    "# \t\t\tvalue_as_concept_id varchar,\n",
    "# \t\t\tunit_concept_id varchar,\n",
    "# \t\t\trange_low varchar,\n",
    "# \t\t\trange_high varchar,\n",
    "# \t\t\tprovider_id varchar,\n",
    "# \t\t\tvisit_occurrence_id varchar,\n",
    "# \t\t\tvisit_detail_id varchar,\n",
    "# \t\t\tmeasurement_source_value varchar,\n",
    "# \t\t\tmeasurement_source_concept_id varchar,\n",
    "# \t\t\tunit_source_value varchar,\n",
    "# \t\t\tunit_source_concept_id varchar,\n",
    "# \t\t\tvalue_source_value varchar,\n",
    "# \t\t\tmeasurement_event_id varchar,\n",
    "# \t\t\tmeas_event_field_concept_id varchar);\n",
    "\n",
    "\n",
    "\n",
    "  \n",
    "# insert into public.measurement (\n",
    "# measurement_id,\n",
    "# person_id,\n",
    "# measurement_concept_id,\n",
    "# measurement_date,\n",
    "# measurement_datetime,\n",
    "# measurement_time,\n",
    "# measurement_type_concept_id,\n",
    "# operator_concept_id,\n",
    "# value_as_number,\n",
    "# value_as_concept_id,\n",
    "# unit_concept_id,\n",
    "# range_low,\n",
    "# range_high,\n",
    "# provider_id,\n",
    "# visit_occurrence_id,\n",
    "# visit_detail_id,\n",
    "# measurement_source_value,\n",
    "# measurement_source_concept_id,\n",
    "# unit_source_value,\n",
    "# unit_source_concept_id,\n",
    "# value_source_value,\n",
    "# measurement_event_id,\n",
    "# meas_event_field_concept_id\n",
    "#     )\n",
    "# SELECT \n",
    "#     cast(case when measurement_id='' then null else measurement_id end as integer),\n",
    "#     cast(case when person_id='' then null else person_id end as integer),\n",
    "#     cast(case when measurement_concept_id='' then null else measurement_concept_id end as integer),\n",
    "#     cast(case when measurement_date='' then null else measurement_date end as date),\n",
    "#     cast(case when measurement_datetime='' then null else measurement_datetime end as timestamp),\n",
    "#     cast(case when measurement_time='' then null else measurement_time end as varchar),\n",
    "#     cast(case when measurement_type_concept_id='' then null else measurement_type_concept_id end as integer),\n",
    "#     cast(case when operator_concept_id='' then null else operator_concept_id end as integer),\n",
    "#     cast(case when value_as_number='' then null else value_as_number end as float),\n",
    "#     cast(case when value_as_concept_id='' then null else value_as_concept_id end as integer),\n",
    "#     cast(case when unit_concept_id='' then null else unit_concept_id end as integer),\n",
    "#     cast(case when range_low='' then null else range_low end as float),\n",
    "#     cast(case when range_high='' then null else range_high end as float),\n",
    "#     cast(case when provider_id='' then null else provider_id end as integer),\n",
    "#     cast(case when visit_occurrence_id='' then null else visit_occurrence_id end as integer),\n",
    "#     cast(case when visit_detail_id='' then null else visit_detail_id end as integer),\n",
    "#     measurement_source_value,\n",
    "#     cast(case when measurement_source_concept_id='' then null else measurement_source_concept_id end as integer),\n",
    "#     unit_source_value,\n",
    "#     cast(case when unit_source_concept_id='' then null else unit_source_concept_id end as integer),\n",
    "#     value_source_value,\n",
    "#     cast(case when measurement_event_id='' then null else measurement_event_id end as integer),\n",
    "#     cast(case when meas_event_field_concept_id='' then null else meas_event_field_concept_id end as integer)\n",
    "# FROM public.measurement_pyspark;\n",
    "    \n",
    "    \n",
    "    "
   ]
  }
 ],
 "metadata": {
  "kernelspec": {
   "display_name": "Python 3 (ipykernel)",
   "language": "python",
   "name": "python3"
  },
  "language_info": {
   "codemirror_mode": {
    "name": "ipython",
    "version": 3
   },
   "file_extension": ".py",
   "mimetype": "text/x-python",
   "name": "python",
   "nbconvert_exporter": "python",
   "pygments_lexer": "ipython3",
   "version": "3.10.12"
  }
 },
 "nbformat": 4,
 "nbformat_minor": 5
}
