{
 "cells": [
  {
   "cell_type": "markdown",
   "id": "b3b8b21d",
   "metadata": {},
   "source": [
    "### Configurações Pyspark"
   ]
  },
  {
   "cell_type": "code",
   "execution_count": 1,
   "id": "e5254cb2",
   "metadata": {},
   "outputs": [
    {
     "name": "stderr",
     "output_type": "stream",
     "text": [
      "25/03/13 15:32:44 WARN NativeCodeLoader: Unable to load native-hadoop library for your platform... using builtin-java classes where applicable\n",
      "Setting default log level to \"WARN\".\n",
      "To adjust logging level use sc.setLogLevel(newLevel). For SparkR, use setLogLevel(newLevel).\n",
      "25/03/13 15:32:45 WARN Utils: Service 'SparkUI' could not bind on port 4040. Attempting port 4041.\n",
      "25/03/13 15:32:45 WARN Utils: Service 'SparkUI' could not bind on port 4041. Attempting port 4042.\n"
     ]
    }
   ],
   "source": [
    "from pyspark.sql import SparkSession\n",
    "from pyspark.sql import functions as F\n",
    "from pyspark.sql import Window\n",
    "\n",
    "import pandas as pd\n",
    "\n",
    "def write_to_postgresl(df, tb_name=None, write_mode='None'):\n",
    "    df.count()\n",
    "    if tb_name is None:\n",
    "        raise Exception('Informe o nome da tabela')\n",
    "    if write_mode is None:\n",
    "        raise Exception('Informe o mode de escrita: append ou overwrite')\n",
    "        \n",
    "    from datetime import datetime\n",
    "    start_time = datetime.now()\n",
    "    \n",
    "    try:\n",
    "        df.write.jdbc(url, table=tb_name, mode=write_mode, properties=properties)\n",
    "    except Exception as e:\n",
    "        print(f'Erro: {e}')\n",
    "    end_time = datetime.now()\n",
    "    \n",
    "    total_time = str(end_time - start_time)\n",
    "    \n",
    "    return f'Total time: {total_time} and - Total rows: {df.count()} - Total columns: {len(df.columns)}'\n",
    "\n",
    "\n",
    "\n",
    "    # Criando a sessão do Spark\n",
    "spark  = SparkSession.builder \\\n",
    "    .appName(\"Data Analysis\") \\\n",
    "    .config('spark.jars', '/data/IDAF/DATABASECONNECTOR_JAR_FOLDER/postgresql-42.2.18.jar')\\\n",
    "    .config(\"spark.executor.memory\", \"8g\")\\\n",
    "    .config(\"spark.driver.memory\", \"8g\")\\\n",
    "    .config(\"spark.executor.cores\", \"4\")\\\n",
    "    .config(\"spark.executor.instances\",\"8\")\\\n",
    "    .config(\"spark.sql.shuffle.partitions\",\"96\")\\\n",
    "    .config(\"spark.default.parallelism\",\"96\")\\\n",
    "    .getOrCreate()\n",
    "\n",
    "\n",
    "url = \"jdbc:postgresql://localhost:5432/postgres\"\n",
    "\n",
    "properties = {\n",
    "    \"user\" : \"postgres\",\n",
    "    \"password\" : \"cidacs\",\n",
    "    \"driver\" : \"org.postgresql.Driver\"\n",
    "}"
   ]
  },
  {
   "cell_type": "markdown",
   "id": "9d12cdb5-6411-423f-8d9e-b6d19167fd56",
   "metadata": {},
   "source": [
    "### Configurações Pandas"
   ]
  },
  {
   "cell_type": "code",
   "execution_count": 2,
   "id": "787acd6f",
   "metadata": {},
   "outputs": [],
   "source": [
    "spark.conf.set(\"spark.sql.repl.eagerEval.enabled\", True)\n",
    "spark.conf.set(\"spark.sql.repl.eagerEval.truncate\", 100)\n",
    "spark.conf.set(\"spark.sql.repl.eagerEval.maxNumRows\", 300)\n",
    "\n",
    "spark.conf.set(\"spark.sql.debug.maxToStringFields\", 100)\n",
    "\n",
    "pd.set_option(\"display.max_columns\", None) \n",
    "pd.set_option(\"display.max_rows\", None)"
   ]
  },
  {
   "cell_type": "markdown",
   "id": "e5bdd252",
   "metadata": {},
   "source": [
    "### Lendo dados enriquecidos"
   ]
  },
  {
   "cell_type": "code",
   "execution_count": 3,
   "id": "64224f0d",
   "metadata": {},
   "outputs": [
    {
     "name": "stderr",
     "output_type": "stream",
     "text": [
      "\r",
      "[Stage 0:>                                                          (0 + 1) / 1]\r",
      "\r",
      "                                                                                \r"
     ]
    }
   ],
   "source": [
    "df_input = (spark\n",
    "            .read\n",
    "            .parquet('/data/IDAF/PROJETOS/PARCERIA_CIDACS_PHDC/banco_original_enriched')\n",
    "           )"
   ]
  },
  {
   "cell_type": "markdown",
   "id": "b21352a3",
   "metadata": {},
   "source": [
    "### Location"
   ]
  },
  {
   "cell_type": "code",
   "execution_count": 4,
   "id": "5b364336",
   "metadata": {},
   "outputs": [
    {
     "name": "stderr",
     "output_type": "stream",
     "text": [
      "                                                                                \r"
     ]
    },
    {
     "data": {
      "text/plain": [
       "11158"
      ]
     },
     "execution_count": 4,
     "metadata": {},
     "output_type": "execute_result"
    }
   ],
   "source": [
    "df_location = (df_input\n",
    "               .select('codmunres_sinasc').distinct()\n",
    "               .withColumn('city', F.lit(None))\n",
    "               .withColumn('state', F.substring('codmunres_sinasc', 1,2))\n",
    "               .withColumn('county', F.col('codmunres_sinasc'))\n",
    "               .withColumn('address_1', F.lit(None))\n",
    "               .withColumn('address_2', F.lit(None))\n",
    "               .withColumn('zip', F.lit(None))\n",
    "               .withColumn('location_source_value', F.lit(None))\n",
    "               .withColumn('country_concept_id', F.lit(None))\n",
    "               .withColumn('country_source_value', F.lit(None))\n",
    "               .withColumn('latitude', F.lit(None))\n",
    "               .withColumn('longitude', F.lit(None))\n",
    "               .withColumn('location_id', F.col('codmunres_sinasc'))\n",
    "               .distinct()\n",
    "            ).select(\n",
    "                    F.col('location_id').cast('integer'),\n",
    "                    F.col('city').cast('string'),\n",
    "                    F.col('state').cast('string'),\n",
    "                    F.col('county').cast('string'),\n",
    "                    F.col('address_1').cast('string'),\n",
    "                    F.col('address_2').cast('string'),\n",
    "                    F.col('zip').cast('string'),\n",
    "                    F.col('location_source_value').cast('string'),\n",
    "                    F.col('country_concept_id').cast('integer'),\n",
    "                    F.col('country_source_value').cast('string'),\n",
    "                    F.col('latitude').cast('float'),\n",
    "                    F.col('longitude').cast('float')\n",
    "                    )\n",
    "\n",
    "df_location.count()"
   ]
  },
  {
   "cell_type": "markdown",
   "id": "1895e05b",
   "metadata": {},
   "source": [
    "## Salvando no Postgresql"
   ]
  },
  {
   "cell_type": "code",
   "execution_count": 5,
   "id": "26b37c17",
   "metadata": {},
   "outputs": [
    {
     "name": "stderr",
     "output_type": "stream",
     "text": [
      "                                                                                \r"
     ]
    },
    {
     "data": {
      "text/plain": [
       "'Total time: 0:00:03.798135 and - Total rows: 11158 - Total columns: 12'"
      ]
     },
     "execution_count": 5,
     "metadata": {},
     "output_type": "execute_result"
    }
   ],
   "source": [
    "write_to_postgresl(df_location, tb_name='location', write_mode='append')"
   ]
  },
  {
   "cell_type": "markdown",
   "id": "60e2519c",
   "metadata": {},
   "source": [
    "### Deprecated"
   ]
  },
  {
   "cell_type": "markdown",
   "id": "74d8976f",
   "metadata": {},
   "source": [
    "### Salvando CSV "
   ]
  },
  {
   "cell_type": "code",
   "execution_count": null,
   "id": "77898bd0",
   "metadata": {},
   "outputs": [],
   "source": [
    "# df_location.repartition(1).write.option(\"quoteAll\",True).csv('/data/IDAF/SHARED/omop_tables_revisadas/location', header=True, mode='overwrite')"
   ]
  },
  {
   "cell_type": "markdown",
   "id": "4beea3f6",
   "metadata": {},
   "source": [
    "## SQL de insertion"
   ]
  },
  {
   "cell_type": "code",
   "execution_count": null,
   "id": "c7b417f2",
   "metadata": {},
   "outputs": [],
   "source": [
    "# CREATE TABLE public.location (\n",
    "# \t\t\tlocation_id integer NOT NULL,\n",
    "# \t\t\taddress_1 varchar(50) NULL,\n",
    "# \t\t\taddress_2 varchar(50) NULL,\n",
    "# \t\t\tcity varchar(50) NULL,\n",
    "# \t\t\tstate varchar(2) NULL,\n",
    "# \t\t\tzip varchar(9) NULL,\n",
    "# \t\t\tcounty varchar(20) NULL,\n",
    "# \t\t\tlocation_source_value varchar(50) NULL,\n",
    "# \t\t\tcountry_concept_id integer NULL,\n",
    "# \t\t\tcountry_source_value varchar(80) NULL,\n",
    "# \t\t\tlatitude NUMERIC NULL,\n",
    "# \t\t\tlongitude NUMERIC NULL );\n",
    "\n",
    "\n",
    "# CREATE TABLE public.location_pyspark (\n",
    "# \t\t\tlocation_id varchar,\n",
    "# \t\t\taddress_1 varchar,\n",
    "# \t\t\taddress_2 varchar,\n",
    "# \t\t\tcity varchar,\n",
    "# \t\t\tstate varchar,\n",
    "# \t\t\tzip varchar,\n",
    "# \t\t\tcounty varchar,\n",
    "# \t\t\tlocation_source_value varchar,\n",
    "# \t\t\tcountry_concept_id varchar,\n",
    "# \t\t\tcountry_source_value varchar,\n",
    "# \t\t\tlatitude varchar,\n",
    "# \t\t\tlongitude varchar);\n",
    "\n",
    "\n",
    "# insert into public.location (\n",
    "# location_id ,\n",
    "# address_1 ,\n",
    "# address_2 ,\n",
    "# city ,\n",
    "# state ,\n",
    "# zip ,\n",
    "# county ,\n",
    "# location_source_value ,\n",
    "# country_concept_id ,\n",
    "# country_source_value ,\n",
    "# latitude ,\n",
    "# longitude \n",
    "# )\n",
    "# SELECT \n",
    "# cast(location_id as integer) ,\n",
    "# address_1 ,\n",
    "# address_2 ,\n",
    "# city ,\n",
    "# state ,\n",
    "# zip ,\n",
    "# county ,\n",
    "# location_source_value ,\n",
    "# cast(case when country_concept_id='' then null else country_concept_id end as integer) ,\n",
    "# country_source_value ,\n",
    "# cast(case when latitude='' then null else latitude end as numeric) ,\n",
    "# cast(case when longitude='' then null else longitude end as numeric) \n",
    "# \tFROM public.location_pyspark;\n"
   ]
  }
 ],
 "metadata": {
  "kernelspec": {
   "display_name": "Python 3 (ipykernel)",
   "language": "python",
   "name": "python3"
  },
  "language_info": {
   "codemirror_mode": {
    "name": "ipython",
    "version": 3
   },
   "file_extension": ".py",
   "mimetype": "text/x-python",
   "name": "python",
   "nbconvert_exporter": "python",
   "pygments_lexer": "ipython3",
   "version": "3.10.12"
  }
 },
 "nbformat": 4,
 "nbformat_minor": 5
}
