{
 "cells": [
  {
   "cell_type": "markdown",
   "id": "b3b8b21d",
   "metadata": {},
   "source": [
    "### Configurações Pyspark"
   ]
  },
  {
   "cell_type": "code",
   "execution_count": 1,
   "id": "e5254cb2",
   "metadata": {},
   "outputs": [
    {
     "name": "stderr",
     "output_type": "stream",
     "text": [
      "25/04/01 10:52:09 WARN NativeCodeLoader: Unable to load native-hadoop library for your platform... using builtin-java classes where applicable\n",
      "Setting default log level to \"WARN\".\n",
      "To adjust logging level use sc.setLogLevel(newLevel). For SparkR, use setLogLevel(newLevel).\n"
     ]
    }
   ],
   "source": [
    "from pyspark.sql import SparkSession\n",
    "from pyspark.sql import functions as F\n",
    "from pyspark.sql import Window\n",
    "\n",
    "import pandas as pd\n",
    "\n",
    "def write_to_postgresl(df, tb_name=None, write_mode='None'):\n",
    "    df.count()\n",
    "    if tb_name is None:\n",
    "        raise Exception('Informe o nome da tabela')\n",
    "    if write_mode is None:\n",
    "        raise Exception('Informe o mode de escrita: append ou overwrite')\n",
    "        \n",
    "    from datetime import datetime\n",
    "    start_time = datetime.now()\n",
    "    \n",
    "    try:\n",
    "        df.write.jdbc(url, table=tb_name, mode=write_mode, properties=properties)\n",
    "    except Exception as e:\n",
    "        print(f'Erro: {e}')\n",
    "    end_time = datetime.now()\n",
    "    \n",
    "    total_time = str(end_time - start_time)\n",
    "    \n",
    "    return f'Total time: {total_time} and - Total rows: {df.count()} - Total columns: {len(df.columns)}'\n",
    "\n",
    "\n",
    "\n",
    "    # Criando a sessão do Spark\n",
    "spark  = SparkSession.builder \\\n",
    "    .appName(\"Data Analysis\") \\\n",
    "    .config('spark.jars', '/data/IDAF/DATABASECONNECTOR_JAR_FOLDER/postgresql-42.2.18.jar')\\\n",
    "    .config(\"spark.executor.memory\", \"8g\")\\\n",
    "    .config(\"spark.driver.memory\", \"8g\")\\\n",
    "    .config(\"spark.executor.cores\", \"4\")\\\n",
    "    .config(\"spark.executor.instances\",\"8\")\\\n",
    "    .config(\"spark.sql.shuffle.partitions\",\"96\")\\\n",
    "    .config(\"spark.default.parallelism\",\"96\")\\\n",
    "    .getOrCreate()\n",
    "\n",
    "\n",
    "url = \"jdbc:postgresql://localhost:5432/postgres\"\n",
    "\n",
    "properties = {\n",
    "    \"user\" : \"postgres\",\n",
    "    \"password\" : \"cidacs\",\n",
    "    \"driver\" : \"org.postgresql.Driver\"\n",
    "}"
   ]
  },
  {
   "cell_type": "code",
   "execution_count": 2,
   "id": "522d064c",
   "metadata": {},
   "outputs": [],
   "source": [
    "from pyspark.sql.types import ArrayType, StringType\n",
    "\n",
    "def dividir_em_blocos(s):\n",
    "    import re\n",
    "    return re.findall('.{1,4}', s)\n",
    "\n",
    "dividir_udf = F.udf(dividir_em_blocos, ArrayType(StringType()))"
   ]
  },
  {
   "cell_type": "markdown",
   "id": "9dd51723-94ea-4008-96d7-28e63d71eb99",
   "metadata": {},
   "source": [
    "### Configurações Pyspark"
   ]
  },
  {
   "cell_type": "code",
   "execution_count": 3,
   "id": "787acd6f",
   "metadata": {},
   "outputs": [],
   "source": [
    "spark.conf.set(\"spark.sql.repl.eagerEval.enabled\", True)\n",
    "spark.conf.set(\"spark.sql.repl.eagerEval.truncate\", 100)\n",
    "spark.conf.set(\"spark.sql.repl.eagerEval.maxNumRows\", 300)\n",
    "\n",
    "spark.conf.set(\"spark.sql.debug.maxToStringFields\", 100)\n",
    "\n",
    "pd.set_option(\"display.max_columns\", None) \n",
    "pd.set_option(\"display.max_rows\", None)"
   ]
  },
  {
   "cell_type": "markdown",
   "id": "e5bdd252",
   "metadata": {},
   "source": [
    "### Lendo dados enriquecidos"
   ]
  },
  {
   "cell_type": "code",
   "execution_count": 4,
   "id": "64224f0d",
   "metadata": {},
   "outputs": [
    {
     "name": "stderr",
     "output_type": "stream",
     "text": [
      "                                                                                \r"
     ]
    }
   ],
   "source": [
    "df_input = (spark\n",
    "            .read\n",
    "            .parquet('/data/IDAF/PROJETOS/PARCERIA_CIDACS_PHDC/banco_original_enriched')\n",
    "           )"
   ]
  },
  {
   "cell_type": "markdown",
   "id": "b21352a3",
   "metadata": {},
   "source": [
    "### Observation"
   ]
  },
  {
   "cell_type": "code",
   "execution_count": 5,
   "id": "5b364336",
   "metadata": {},
   "outputs": [
    {
     "name": "stderr",
     "output_type": "stream",
     "text": [
      "                                                                                \r"
     ]
    },
    {
     "data": {
      "text/plain": [
       "33201993"
      ]
     },
     "execution_count": 5,
     "metadata": {},
     "output_type": "execute_result"
    }
   ],
   "source": [
    "df_observation = (df_input\n",
    "                  .withColumn('tipobito_sim', F.col('`tipobito_sim.y`'))\n",
    "                  .withColumn('dtobito_sim', F.to_date(F.col('`dtobito_sim.y`').cast('date')))\n",
    "#                   .filter(F.col('tipobito_sim').isNotNull()).limit(10)\n",
    "                  .withColumn('person_id', F.col('person_id_infant'))\n",
    "                  .withColumn('dtobito_minus_dtnasc', (F.col('dtobito_sim') - F.col('dtnasc_sinasc').cast('date')).cast('int'))\n",
    "                  .withColumn('tipobito_sim_code', F.when(F.col('tipobito_sim')==1, F.lit(4079844))\n",
    "                                                    .when((F.col('tipobito_sim')==2) & (F.col('dtobito_minus_dtnasc').between(0,7)), F.lit(4307303))\n",
    "                                                    .when((F.col('tipobito_sim')==2) & (F.col('dtobito_minus_dtnasc').between(8,28)), F.lit(4173168))\n",
    "                                                    .when((F.col('tipobito_sim')==2) & (F.col('dtobito_minus_dtnasc')>28), F.lit(4344630))\n",
    "                                                    .otherwise(None))\n",
    "                  .withColumn('mesprenat_sinasc_code', F.lit(4311447))\n",
    "                  .withColumn('consprenat_sinasc_code', F.lit(4313474))\n",
    "                  .withColumn('observation_concept_id_list', F.concat_ws(',',\n",
    "                                                                        F.col('tipobito_sim_code'),\n",
    "                                                                        F.col('mesprenat_sinasc_code'),\n",
    "                                                                        F.col('consprenat_sinasc_code')))\n",
    "                  .withColumn('observation_concept_id', F.explode(F.split('observation_concept_id_list', ',')))\n",
    "                  .withColumn('observation_date', F.when(F.col('observation_concept_id')==4311447, \n",
    "                                                         F.add_months(F.col('dtnasc_sinasc').cast('date'), -F.col('mesprenat_sinasc').cast('int')))\n",
    "                                                         .otherwise(F.col('dtnasc_sinasc')))\n",
    "                  .withColumn('observation_type_concept_id', F.lit(32879))\n",
    "                  .withColumn('value_as_number', F.when(F.col('observation_concept_id')==4313474, F.col('consprenat_sinasc')).otherwise(None))\n",
    "                  .withColumn('observation_id', F.row_number().over(Window.orderBy('person_id', 'dtnasc_sinasc'))+F.lit(1000000000))\n",
    "                  .withColumn('observation_datetime', F.lit(None))\n",
    "                  .withColumn('value_as_string', F.lit(None))\n",
    "                  .withColumn('value_as_concept_id', F.lit(None))\n",
    "                  .withColumn('qualifier_concept_id', F.lit(None))\n",
    "                  .withColumn('unit_concept_id', F.lit(None))\n",
    "                  .withColumn('provider_id', F.lit(None))\n",
    "                  .withColumn('visit_occurrence_id', F.lit(None))\n",
    "                  .withColumn('visit_detail_id', F.lit(None))\n",
    "                  .withColumn('observation_source_value', F.lit(None))\n",
    "                  .withColumn('observation_source_concept_id', F.lit(None))\n",
    "                  .withColumn('unit_source_value', F.lit(None))\n",
    "                  .withColumn('qualifier_source_value', F.lit(None))\n",
    "                  .withColumn('value_source_value', F.lit(None))\n",
    "                  .withColumn('observation_event_id', F.lit(None))\n",
    "                  .withColumn('obs_event_field_concept_id', F.lit(None))\n",
    "                  .filter(F.col('observation_date').isNotNull())\n",
    "#                   .filter(F.col('observation_concept_id').isNotNull())\n",
    "                 ).select(\n",
    "                    F.col('observation_id').cast('integer'),\n",
    "                    F.col('person_id').cast('integer'),\n",
    "                    F.col('observation_concept_id').cast('integer'),\n",
    "                    F.col('observation_date').cast('date'),\n",
    "                    F.col('observation_datetime').cast('timestamp'),\n",
    "                    F.col('observation_type_concept_id').cast('integer'),\n",
    "                    F.col('value_as_number').cast('float'),\n",
    "                    F.col('value_as_string').cast('string'),\n",
    "                    F.col('value_as_concept_id').cast('integer'),\n",
    "                    F.col('qualifier_concept_id').cast('integer'),\n",
    "                    F.col('unit_concept_id').cast('integer'),\n",
    "                    F.col('provider_id').cast('integer'),\n",
    "                    F.col('visit_occurrence_id').cast('integer'),\n",
    "                    F.col('visit_detail_id').cast('integer'),\n",
    "                    F.col('observation_source_value').cast('string'),\n",
    "                    F.col('observation_source_concept_id').cast('integer'),\n",
    "                    F.col('unit_source_value').cast('string'),\n",
    "                    F.col('qualifier_source_value').cast('string'),\n",
    "                    F.col('value_source_value').cast('string'),\n",
    "                    F.col('observation_event_id').cast('integer'),\n",
    "                    F.col('obs_event_field_concept_id').cast('integer')\n",
    "                    )\n",
    "                  \n",
    "                  \n",
    "df_observation.count()"
   ]
  },
  {
   "cell_type": "markdown",
   "id": "30346ec4",
   "metadata": {},
   "source": [
    "## Salvando no Postgresql"
   ]
  },
  {
   "cell_type": "code",
   "execution_count": 6,
   "id": "a311832f",
   "metadata": {},
   "outputs": [
    {
     "name": "stderr",
     "output_type": "stream",
     "text": [
      "25/04/01 10:53:52 WARN WindowExec: No Partition Defined for Window operation! Moving all data to a single partition, this can cause serious performance degradation.\n",
      "25/04/01 10:53:52 WARN WindowExec: No Partition Defined for Window operation! Moving all data to a single partition, this can cause serious performance degradation.\n",
      "25/04/01 10:53:52 WARN WindowExec: No Partition Defined for Window operation! Moving all data to a single partition, this can cause serious performance degradation.\n",
      "25/04/01 10:53:59 WARN WindowExec: No Partition Defined for Window operation! Moving all data to a single partition, this can cause serious performance degradation.\n",
      "25/04/01 10:53:59 WARN WindowExec: No Partition Defined for Window operation! Moving all data to a single partition, this can cause serious performance degradation.\n",
      "                                                                                \r"
     ]
    },
    {
     "data": {
      "text/plain": [
       "'Total time: 0:26:57.550314 and - Total rows: 33201993 - Total columns: 21'"
      ]
     },
     "execution_count": 6,
     "metadata": {},
     "output_type": "execute_result"
    }
   ],
   "source": [
    "write_to_postgresl(df_observation, tb_name='observation', write_mode='append')"
   ]
  },
  {
   "cell_type": "markdown",
   "id": "b606549e",
   "metadata": {},
   "source": [
    "## Deprecated"
   ]
  },
  {
   "cell_type": "markdown",
   "id": "74d8976f",
   "metadata": {},
   "source": [
    "### Salvando CSV "
   ]
  },
  {
   "cell_type": "code",
   "execution_count": null,
   "id": "6154c8b0",
   "metadata": {},
   "outputs": [],
   "source": [
    "# df_observation.repartition(15).write.option(\"quoteAll\",True).csv(f'/data/IDAF/SHARED/omop_tables_revisadas/observation', header=True, mode='overwrite')"
   ]
  },
  {
   "cell_type": "markdown",
   "id": "4beea3f6",
   "metadata": {},
   "source": [
    "## SQL de insertion"
   ]
  },
  {
   "cell_type": "code",
   "execution_count": null,
   "id": "c7b417f2",
   "metadata": {},
   "outputs": [],
   "source": [
    "# CREATE TABLE public.drug_exposure (\n",
    "# \t\t\tdrug_exposure_id integer NOT NULL,\n",
    "# \t\t\tperson_id integer NOT NULL,\n",
    "# \t\t\tdrug_concept_id integer NOT NULL,\n",
    "# \t\t\tdrug_exposure_start_date date NOT NULL,\n",
    "# \t\t\tdrug_exposure_start_datetime TIMESTAMP NULL,\n",
    "# \t\t\tdrug_exposure_end_date date NOT NULL,\n",
    "# \t\t\tdrug_exposure_end_datetime TIMESTAMP NULL,\n",
    "# \t\t\tverbatim_end_date date NULL,\n",
    "# \t\t\tdrug_type_concept_id integer NOT NULL,\n",
    "# \t\t\tstop_reason varchar(20) NULL,\n",
    "# \t\t\trefills integer NULL,\n",
    "# \t\t\tquantity NUMERIC NULL,\n",
    "# \t\t\tdays_supply integer NULL,\n",
    "# \t\t\tsig TEXT NULL,\n",
    "# \t\t\troute_concept_id integer NULL,\n",
    "# \t\t\tlot_number varchar(50) NULL,\n",
    "# \t\t\tprovider_id integer NULL,\n",
    "# \t\t\tvisit_occurrence_id integer NULL,\n",
    "# \t\t\tvisit_detail_id integer NULL,\n",
    "# \t\t\tdrug_source_value varchar(50) NULL,\n",
    "# \t\t\tdrug_source_concept_id integer NULL,\n",
    "# \t\t\troute_source_value varchar(50) NULL,\n",
    "# \t\t\tdose_unit_source_value varchar(50) NULL );\n",
    "\n",
    "\n",
    "\n",
    "# CREATE TABLE public.drug_exposure_pyspark (\n",
    "# \t\t\tdrug_exposure_id varchar,\n",
    "# \t\t\tperson_id varchar,\n",
    "# \t\t\tdrug_concept_id varchar,\n",
    "# \t\t\tdrug_exposure_start_date varchar,\n",
    "# \t\t\tdrug_exposure_start_datetime varchar,\n",
    "# \t\t\tdrug_exposure_end_date varchar,\n",
    "# \t\t\tdrug_exposure_end_datetime varchar,\n",
    "# \t\t\tverbatim_end_date varchar,\n",
    "# \t\t\tdrug_type_concept_id varchar,\n",
    "# \t\t\tstop_reason varchar,\n",
    "# \t\t\trefills varchar,\n",
    "# \t\t\tquantity varchar,\n",
    "# \t\t\tdays_supply varchar,\n",
    "# \t\t\tsig varchar,\n",
    "# \t\t\troute_concept_id varchar,\n",
    "# \t\t\tlot_number varchar,\n",
    "# \t\t\tprovider_id varchar,\n",
    "# \t\t\tvisit_occurrence_id varchar,\n",
    "# \t\t\tvisit_detail_id varchar,\n",
    "# \t\t\tdrug_source_value varchar,\n",
    "# \t\t\tdrug_source_concept_id varchar,\n",
    "# \t\t\troute_source_value varchar,\n",
    "# \t\t\tdose_unit_source_value varchar)\n",
    "\n",
    "\n",
    "# insert into public.drug_exposure (\n",
    "# drug_exposure_id,\n",
    "# person_id,\n",
    "# drug_concept_id,\n",
    "# drug_exposure_start_date,\n",
    "# drug_exposure_start_datetime,\n",
    "# drug_exposure_end_date,\n",
    "# drug_exposure_end_datetime,\n",
    "# verbatim_end_date,\n",
    "# drug_type_concept_id,\n",
    "# stop_reason,\n",
    "# refills,\n",
    "# quantity,\n",
    "# days_supply,\n",
    "# sig,\n",
    "# route_concept_id,\n",
    "# lot_number,\n",
    "# provider_id,\n",
    "# visit_occurrence_id,\n",
    "# visit_detail_id,\n",
    "# drug_source_value,\n",
    "# drug_source_concept_id,\n",
    "# route_source_value,\n",
    "# dose_unit_source_value\n",
    "# )\n",
    "# SELECT \n",
    "# cast(case when drug_exposure_id='' then null else drug_exposure_id end as integer),\n",
    "# cast(case when person_id='' then null else person_id end as integer),\n",
    "# cast(case when drug_concept_id='' then null else drug_concept_id end as integer),\n",
    "# cast(case when drug_exposure_start_date='' then null else drug_exposure_start_date end as date),\n",
    "# cast(case when drug_exposure_start_datetime='' then null else drug_exposure_start_datetime end as timestamp),\n",
    "# cast(case when drug_exposure_end_date='' then null else drug_exposure_end_date end as date),\n",
    "# cast(case when drug_exposure_end_datetime='' then null else drug_exposure_end_datetime end as timestamp),\n",
    "# cast(case when verbatim_end_date='' then null else verbatim_end_date end as timestamp),\n",
    "# cast(case when drug_type_concept_id='' then null else drug_type_concept_id end as integer),\n",
    "# stop_reason,\n",
    "# cast(case when refills='' then null else refills end as integer),\n",
    "# cast(case when quantity='' then null else quantity end as decimal),\n",
    "# cast(case when days_supply='' then null else days_supply end as integer),\n",
    "# sig,\n",
    "# cast(case when route_concept_id='' then null else route_concept_id end as integer),\n",
    "# cast(case when lot_number='' then null else lot_number end as integer),\n",
    "# cast(case when provider_id='' then null else provider_id end as integer),\n",
    "# cast(case when visit_occurrence_id='' then null else visit_occurrence_id end as integer),\n",
    "# cast(case when visit_detail_id='' then null else visit_detail_id end as integer),\n",
    "# drug_source_value,\n",
    "# cast(case when drug_source_concept_id='' then null else drug_source_concept_id end as integer),\n",
    "# route_source_value,\n",
    "# dose_unit_source_value\n",
    "# \tFROM public.drug_exposure_pyspark;\n"
   ]
  }
 ],
 "metadata": {
  "kernelspec": {
   "display_name": "Python 3 (ipykernel)",
   "language": "python",
   "name": "python3"
  },
  "language_info": {
   "codemirror_mode": {
    "name": "ipython",
    "version": 3
   },
   "file_extension": ".py",
   "mimetype": "text/x-python",
   "name": "python",
   "nbconvert_exporter": "python",
   "pygments_lexer": "ipython3",
   "version": "3.10.12"
  }
 },
 "nbformat": 4,
 "nbformat_minor": 5
}
