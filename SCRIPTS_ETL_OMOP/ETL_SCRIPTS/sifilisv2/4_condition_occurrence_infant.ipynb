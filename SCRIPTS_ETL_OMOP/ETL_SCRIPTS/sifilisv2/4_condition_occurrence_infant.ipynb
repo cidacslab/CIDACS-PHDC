{
 "cells": [
  {
   "cell_type": "markdown",
   "id": "b3b8b21d",
   "metadata": {},
   "source": [
    "## Configurações Pyspark"
   ]
  },
  {
   "cell_type": "code",
   "execution_count": 1,
   "id": "ace3c323",
   "metadata": {},
   "outputs": [
    {
     "name": "stderr",
     "output_type": "stream",
     "text": [
      "25/05/26 12:24:17 WARN NativeCodeLoader: Unable to load native-hadoop library for your platform... using builtin-java classes where applicable\n",
      "Setting default log level to \"WARN\".\n",
      "To adjust logging level use sc.setLogLevel(newLevel). For SparkR, use setLogLevel(newLevel).\n",
      "25/05/26 12:24:18 WARN Utils: Service 'SparkUI' could not bind on port 4040. Attempting port 4041.\n",
      "25/05/26 12:24:18 WARN Utils: Service 'SparkUI' could not bind on port 4041. Attempting port 4042.\n",
      "25/05/26 12:24:18 WARN Utils: Service 'SparkUI' could not bind on port 4042. Attempting port 4043.\n",
      "25/05/26 12:24:18 WARN Utils: Service 'SparkUI' could not bind on port 4043. Attempting port 4044.\n",
      "25/05/26 12:24:18 WARN Utils: Service 'SparkUI' could not bind on port 4044. Attempting port 4045.\n",
      "25/05/26 12:24:18 WARN Utils: Service 'SparkUI' could not bind on port 4045. Attempting port 4046.\n",
      "25/05/26 12:24:18 WARN Utils: Service 'SparkUI' could not bind on port 4046. Attempting port 4047.\n"
     ]
    }
   ],
   "source": [
    "from pyspark.sql import SparkSession\n",
    "from pyspark.sql import functions as F\n",
    "from pyspark.sql import Window\n",
    "\n",
    "import pandas as pd\n",
    "\n",
    "def write_to_postgresl(df, tb_name=None, write_mode='None'):\n",
    "    df.count()\n",
    "    if tb_name is None:\n",
    "        raise Exception('Informe o nome da tabela')\n",
    "    if write_mode is None:\n",
    "        raise Exception('Informe o mode de escrita: append ou overwrite')\n",
    "        \n",
    "    from datetime import datetime\n",
    "    start_time = datetime.now()\n",
    "    \n",
    "    try:\n",
    "        df.write.jdbc(url, table=tb_name, mode=write_mode, properties=properties)\n",
    "    except Exception as e:\n",
    "        print(f'Erro: {e}')\n",
    "    end_time = datetime.now()\n",
    "    \n",
    "    total_time = str(end_time - start_time)\n",
    "    \n",
    "    return f'Total time: {total_time} and - Total rows: {df.count()} - Total columns: {len(df.columns)}'\n",
    "\n",
    "\n",
    "\n",
    "    # Criando a sessão do Spark\n",
    "spark  = SparkSession.builder \\\n",
    "    .appName(\"Data Analysis\") \\\n",
    "    .config('spark.jars', '/data/IDAF/DATABASECONNECTOR_JAR_FOLDER/postgresql-42.2.18.jar')\\\n",
    "    .config(\"spark.executor.memory\", \"8g\")\\\n",
    "    .config(\"spark.driver.memory\", \"8g\")\\\n",
    "    .config(\"spark.executor.cores\", \"4\")\\\n",
    "    .config(\"spark.executor.instances\",\"8\")\\\n",
    "    .config(\"spark.sql.shuffle.partitions\",\"96\")\\\n",
    "    .config(\"spark.default.parallelism\",\"96\")\\\n",
    "    .getOrCreate()\n",
    "\n",
    "\n",
    "url = \"jdbc:postgresql://localhost:5432/postgres\"\n",
    "\n",
    "properties = {\n",
    "    \"user\" : \"postgres\",\n",
    "    \"password\" : \"cidacs\",\n",
    "    \"driver\" : \"org.postgresql.Driver\"\n",
    "}\n",
    "\n"
   ]
  },
  {
   "cell_type": "code",
   "execution_count": 2,
   "id": "5c73cc57",
   "metadata": {},
   "outputs": [],
   "source": [
    "import re\n",
    "from pyspark.sql.types import ArrayType, StringType\n",
    "\n",
    "def dividir_em_blocos(s):\n",
    "    return re.findall('.{1,4}', s) if s else None\n",
    "\n",
    "dividir_udf = F.udf(dividir_em_blocos, ArrayType(StringType()))"
   ]
  },
  {
   "cell_type": "markdown",
   "id": "1a25813f-48a0-4773-95ad-0c2ff8f205c7",
   "metadata": {},
   "source": [
    "## Configurações Pandas"
   ]
  },
  {
   "cell_type": "code",
   "execution_count": 3,
   "id": "787acd6f",
   "metadata": {},
   "outputs": [],
   "source": [
    "spark.conf.set(\"spark.sql.repl.eagerEval.enabled\", True)\n",
    "spark.conf.set(\"spark.sql.repl.eagerEval.truncate\", 100)\n",
    "spark.conf.set(\"spark.sql.repl.eagerEval.maxNumRows\", 300)\n",
    "\n",
    "spark.conf.set(\"spark.sql.debug.maxToStringFields\", 100)\n",
    "\n",
    "pd.set_option(\"display.max_columns\", None) \n",
    "pd.set_option(\"display.max_rows\", None)"
   ]
  },
  {
   "cell_type": "markdown",
   "id": "e5bdd252",
   "metadata": {},
   "source": [
    "### Lendo dados enriquecidos"
   ]
  },
  {
   "cell_type": "code",
   "execution_count": 4,
   "id": "64224f0d",
   "metadata": {},
   "outputs": [],
   "source": [
    "df_input = (spark\n",
    "            .read\n",
    "            .parquet('/data/IDAF/PROJETOS/PARCERIA_CIDACS_PHDC/basefinal_gest_limp_enriched', header=True)\n",
    "           )"
   ]
  },
  {
   "cell_type": "code",
   "execution_count": 5,
   "id": "5db9861c",
   "metadata": {},
   "outputs": [
    {
     "name": "stderr",
     "output_type": "stream",
     "text": [
      "                                                                                \r"
     ]
    },
    {
     "data": {
      "text/plain": [
       "5284745"
      ]
     },
     "execution_count": 5,
     "metadata": {},
     "output_type": "execute_result"
    }
   ],
   "source": [
    "df_vocab_map = spark.read.csv('/data/IDAF/PROJETOS/PARCERIA_CIDACS_PHDC/omop_scripts_base_16mi_karine/cte_vocab_map_standard.csv', header=True, sep='\\t')\n",
    "\n",
    "df_vocab_map.createOrReplaceTempView('cte_vocab_map_standard')\n",
    "df_vocab_map.count()"
   ]
  },
  {
   "cell_type": "code",
   "execution_count": 6,
   "id": "98bcabac",
   "metadata": {},
   "outputs": [
    {
     "name": "stderr",
     "output_type": "stream",
     "text": [
      "                                                                                \r"
     ]
    },
    {
     "data": {
      "text/plain": [
       "15762"
      ]
     },
     "execution_count": 6,
     "metadata": {},
     "output_type": "execute_result"
    }
   ],
   "source": [
    "df_vocab_map_standard = spark.sql(\"\"\"\n",
    "        SELECT \n",
    "            REPLACE(source_code, '.', '') as source_code,\n",
    "            target_concept_id,\n",
    "            source_vocabulary_id,\n",
    "            source_concept_id\n",
    "        FROM cte_vocab_map_standard csv\n",
    "        WHERE true \n",
    "        and target_domain_id = 'Condition'\n",
    "        and target_standard_concept = 'S'\n",
    "        and source_vocabulary_id = 'ICD10'\n",
    "\"\"\")\n",
    "df_vocab_map_standard.count()"
   ]
  },
  {
   "cell_type": "code",
   "execution_count": 7,
   "id": "e800691d",
   "metadata": {},
   "outputs": [
    {
     "name": "stderr",
     "output_type": "stream",
     "text": [
      "                                                                                \r"
     ]
    },
    {
     "data": {
      "text/plain": [
       "19103"
      ]
     },
     "execution_count": 7,
     "metadata": {},
     "output_type": "execute_result"
    }
   ],
   "source": [
    "df_vocab_map_source = spark.sql(\"\"\"\n",
    "        SELECT \n",
    "            REPLACE(source_code, '.', '') as source_code,\n",
    "            source_concept_id            \n",
    "        FROM cte_vocab_map_standard csv2\n",
    "        WHERE source_vocabulary_id = 'ICD10'\n",
    "\"\"\")\n",
    "df_vocab_map_source.count()"
   ]
  },
  {
   "cell_type": "markdown",
   "id": "b21352a3",
   "metadata": {},
   "source": [
    "### Condition Occurrence"
   ]
  },
  {
   "cell_type": "code",
   "execution_count": 8,
   "id": "c9933edb",
   "metadata": {},
   "outputs": [],
   "source": [
    "window_condition_occurrence = Window.partitionBy().orderBy('person_id_infant', 'dtnasc_sinasc')"
   ]
  },
  {
   "cell_type": "code",
   "execution_count": 9,
   "id": "e9af9b81",
   "metadata": {},
   "outputs": [
    {
     "name": "stderr",
     "output_type": "stream",
     "text": [
      "                                                                                \r"
     ]
    },
    {
     "data": {
      "text/plain": [
       "289488"
      ]
     },
     "execution_count": 9,
     "metadata": {},
     "output_type": "execute_result"
    }
   ],
   "source": [
    "df_condition_occurrence = (\n",
    "df_input\n",
    "    .withColumn('person_id', F.col('person_id_infant'))\n",
    "    .withColumn('cond_concept_tpapresent_sinasc', F.when(F.col('tpapresent_sinasc')==1, 4312344)\n",
    "                                                   .when(F.col('tpapresent_sinasc')==2, 4195566)\n",
    "                                                   .when(F.col('tpapresent_sinasc')==3, 81358)\n",
    "                                                   .when(F.col('tpapresent_sinasc').isin(0, 9), 0)\n",
    "                                                   .otherwise(0))\n",
    "    .withColumn('cond_concept_tpapresent_sinasc', F.array(F.col('cond_concept_tpapresent_sinasc')))\n",
    "    .withColumn('cond_concept_codanomal_sinasc', F.when(F.col('codanomal_sinasc')!='', dividir_udf(df_input['codanomal_sinasc'])).otherwise(F.array(F.col('codanomal_sinasc'))))\n",
    "    .withColumn('cond_concept_codanomal_sinasc', F.concat(F.col('cond_concept_tpapresent_sinasc'), F.col('cond_concept_codanomal_sinasc')))\n",
    "    .withColumn('cond_concept_codanomal_sinasc_exploded', F.explode(F.col('cond_concept_codanomal_sinasc')))\n",
    "    .withColumn('condition_concept_id_source', F.when(F.col('idanomal_sinasc').isin(0, 2, 88), 0)\n",
    "                                                 .when(F.col('idanomal_sinasc')==1, F.col('cond_concept_codanomal_sinasc_exploded'))\n",
    "                                                 .otherwise(0))\n",
    "    .join(df_vocab_map_standard, F.col('condition_concept_id_source')==df_vocab_map_standard.source_code, how='left')\n",
    "    .join(df_vocab_map_source, F.col('condition_concept_id_source')==df_vocab_map_source.source_code, how='left')\n",
    "    .withColumn('condition_concept_id', F.col('target_concept_id'))\n",
    "    .withColumn('condition_source_concept_id', F.col('csv.source_concept_id'))\n",
    "    .withColumn('condition_start_date', F.col('dtnasc_sinasc'))\n",
    "    .withColumn('condition_type_concept_id', F.lit(32879))\n",
    "    .withColumn('condition_start_datetime', F.lit(None))\n",
    "    .withColumn('condition_end_date', F.lit(None))\n",
    "    .withColumn('condition_end_datetime', F.lit(None))\n",
    "    .withColumn('stop_reason', F.lit(None))\n",
    "    .withColumn('condition_status_concept_id', F.lit(None))\n",
    "    .withColumn('provider_id', F.lit(None))\n",
    "    .withColumn('visit_occurrence_id', F.col('visit_occurrence_id_infant'))\n",
    "    .withColumn('visit_detail_id', F.lit(None))\n",
    "    .withColumn('condition_source_value', F.col('condition_concept_id_source'))\n",
    "    .withColumn('condition_status_source_value', F.lit(None))\n",
    "    .withColumn('condition_occurrence_id', F.row_number().over(window_condition_occurrence)+F.lit('1000000000'))\n",
    "    .withColumn('condition_concept_id', F.when((F.col('condition_source_concept_id').isNull())\n",
    "                                                     &(F.col('condition_source_value').isin('0', '4312344', '4195566', '81358'))\n",
    "                                                     ,F.col('condition_source_value')).otherwise(F.col('condition_concept_id')))        \n",
    "    .select(\n",
    "                F.col('condition_occurrence_id').cast('integer'),\n",
    "                F.col('person_id').cast('integer'),\n",
    "                F.col('condition_concept_id').cast('integer'), # Snomed\n",
    "                F.col('condition_start_date').cast('date'),\n",
    "                F.col('condition_start_datetime').cast('timestamp'),\n",
    "                F.col('condition_end_date').cast('date'),\n",
    "                F.col('condition_end_datetime').cast('timestamp'),\n",
    "                F.col('condition_type_concept_id').cast('integer'),\n",
    "                F.col('condition_status_concept_id').cast('integer'),\n",
    "                F.col('stop_reason').cast('string'),\n",
    "                F.col('provider_id').cast('integer'),\n",
    "                F.col('visit_occurrence_id').cast('integer'),\n",
    "                F.col('visit_detail_id').cast('integer'),\n",
    "                F.col('condition_source_value').cast('string'),\n",
    "                F.col('condition_source_concept_id').cast('integer'), # CID10\n",
    "                F.col('condition_status_source_value').cast('string'))\n",
    "    \n",
    "    .filter(F.col('condition_concept_id').isNotNull())\n",
    "    .filter(F.col('condition_concept_id')!=0)\n",
    "    \n",
    ")\n",
    "\n",
    "\n",
    "df_condition_occurrence.count()"
   ]
  },
  {
   "cell_type": "code",
   "execution_count": 13,
   "id": "f554c797",
   "metadata": {},
   "outputs": [
    {
     "name": "stderr",
     "output_type": "stream",
     "text": [
      "25/05/07 08:44:31 WARN WindowExec: No Partition Defined for Window operation! Moving all data to a single partition, this can cause serious performance degradation.\n",
      "25/05/07 08:44:31 WARN WindowExec: No Partition Defined for Window operation! Moving all data to a single partition, this can cause serious performance degradation.\n",
      "25/05/07 08:44:31 WARN WindowExec: No Partition Defined for Window operation! Moving all data to a single partition, this can cause serious performance degradation.\n",
      "25/05/07 08:44:47 WARN WindowExec: No Partition Defined for Window operation! Moving all data to a single partition, this can cause serious performance degradation.\n",
      "25/05/07 08:44:47 WARN WindowExec: No Partition Defined for Window operation! Moving all data to a single partition, this can cause serious performance degradation.\n",
      "25/05/07 08:44:50 WARN WindowExec: No Partition Defined for Window operation! Moving all data to a single partition, this can cause serious performance degradation.\n",
      "25/05/07 08:44:50 WARN WindowExec: No Partition Defined for Window operation! Moving all data to a single partition, this can cause serious performance degradation.\n",
      "25/05/07 08:44:51 WARN WindowExec: No Partition Defined for Window operation! Moving all data to a single partition, this can cause serious performance degradation.\n",
      "25/05/07 08:44:51 WARN WindowExec: No Partition Defined for Window operation! Moving all data to a single partition, this can cause serious performance degradation.\n",
      "25/05/07 08:44:51 WARN WindowExec: No Partition Defined for Window operation! Moving all data to a single partition, this can cause serious performance degradation.\n",
      "25/05/07 08:44:51 WARN WindowExec: No Partition Defined for Window operation! Moving all data to a single partition, this can cause serious performance degradation.\n",
      "25/05/07 08:44:51 WARN WindowExec: No Partition Defined for Window operation! Moving all data to a single partition, this can cause serious performance degradation.\n",
      "25/05/07 08:44:51 WARN WindowExec: No Partition Defined for Window operation! Moving all data to a single partition, this can cause serious performance degradation.\n",
      "25/05/07 08:45:15 WARN WindowExec: No Partition Defined for Window operation! Moving all data to a single partition, this can cause serious performance degradation.\n",
      "25/05/07 08:45:15 WARN WindowExec: No Partition Defined for Window operation! Moving all data to a single partition, this can cause serious performance degradation.\n",
      "                                                                                \r"
     ]
    },
    {
     "data": {
      "text/plain": [
       "'Total time: 0:03:58.730957 and - Total rows: 289488 - Total columns: 16'"
      ]
     },
     "execution_count": 13,
     "metadata": {},
     "output_type": "execute_result"
    }
   ],
   "source": [
    "# Não foi escrito no banco ainda, pois o CID não pode ser string, precisa ser integer\n",
    "write_to_postgresl(df_condition_occurrence, tb_name='omop.condition_occurrence', write_mode='append')"
   ]
  },
  {
   "cell_type": "markdown",
   "id": "328dfab2",
   "metadata": {},
   "source": [
    "## Deprecated"
   ]
  },
  {
   "cell_type": "markdown",
   "id": "74d8976f",
   "metadata": {},
   "source": [
    "### Salvando CSV "
   ]
  },
  {
   "cell_type": "code",
   "execution_count": 10,
   "id": "77898bd0",
   "metadata": {},
   "outputs": [
    {
     "name": "stderr",
     "output_type": "stream",
     "text": [
      "25/05/26 12:24:58 WARN WindowExec: No Partition Defined for Window operation! Moving all data to a single partition, this can cause serious performance degradation.\n",
      "25/05/26 12:24:58 WARN WindowExec: No Partition Defined for Window operation! Moving all data to a single partition, this can cause serious performance degradation.\n",
      "25/05/26 12:25:12 WARN WindowExec: No Partition Defined for Window operation! Moving all data to a single partition, this can cause serious performance degradation.\n",
      "25/05/26 12:25:12 WARN WindowExec: No Partition Defined for Window operation! Moving all data to a single partition, this can cause serious performance degradation.\n",
      "25/05/26 12:25:15 WARN WindowExec: No Partition Defined for Window operation! Moving all data to a single partition, this can cause serious performance degradation.\n",
      "25/05/26 12:25:15 WARN WindowExec: No Partition Defined for Window operation! Moving all data to a single partition, this can cause serious performance degradation.\n",
      "25/05/26 12:25:15 WARN WindowExec: No Partition Defined for Window operation! Moving all data to a single partition, this can cause serious performance degradation.\n",
      "25/05/26 12:25:15 WARN WindowExec: No Partition Defined for Window operation! Moving all data to a single partition, this can cause serious performance degradation.\n",
      "25/05/26 12:25:15 WARN WindowExec: No Partition Defined for Window operation! Moving all data to a single partition, this can cause serious performance degradation.\n",
      "25/05/26 12:25:15 WARN WindowExec: No Partition Defined for Window operation! Moving all data to a single partition, this can cause serious performance degradation.\n",
      "25/05/26 12:25:15 WARN WindowExec: No Partition Defined for Window operation! Moving all data to a single partition, this can cause serious performance degradation.\n",
      "25/05/26 12:25:15 WARN WindowExec: No Partition Defined for Window operation! Moving all data to a single partition, this can cause serious performance degradation.\n",
      "25/05/26 12:25:31 WARN WindowExec: No Partition Defined for Window operation! Moving all data to a single partition, this can cause serious performance degradation.\n",
      "25/05/26 12:25:31 WARN WindowExec: No Partition Defined for Window operation! Moving all data to a single partition, this can cause serious performance degradation.\n",
      "                                                                                \r"
     ]
    }
   ],
   "source": [
    "df_condition_occurrence.repartition(1).write.parquet('/data/IDAF/PROJETOS/PARCERIA_CIDACS_PHDC/omop_scripts_base_16mi_karine/csv/condition_occurrence_infant', mode='overwrite')"
   ]
  },
  {
   "cell_type": "markdown",
   "id": "4beea3f6",
   "metadata": {},
   "source": [
    "## SQL de insertion"
   ]
  },
  {
   "cell_type": "code",
   "execution_count": null,
   "id": "c7b417f2",
   "metadata": {},
   "outputs": [],
   "source": [
    "# -- CREATE TABLE public.condition_occurrence (\n",
    "# -- \t\t\tcondition_occurrence_id integer NOT NULL,\n",
    "# -- \t\t\tperson_id integer NOT NULL,\n",
    "# -- \t\t\tcondition_concept_id integer NOT NULL,\n",
    "# -- \t\t\tcondition_start_date date NOT NULL,\n",
    "# -- \t\t\tcondition_start_datetime TIMESTAMP NULL,\n",
    "# -- \t\t\tcondition_end_date date NULL,\n",
    "# -- \t\t\tcondition_end_datetime TIMESTAMP NULL,\n",
    "# -- \t\t\tcondition_type_concept_id integer NOT NULL,\n",
    "# -- \t\t\tcondition_status_concept_id integer NULL,\n",
    "# -- \t\t\tstop_reason varchar(20) NULL,\n",
    "# -- \t\t\tprovider_id integer NULL,\n",
    "# -- \t\t\tvisit_occurrence_id integer NULL,\n",
    "# -- \t\t\tvisit_detail_id integer NULL,\n",
    "# -- \t\t\tcondition_source_value varchar(50) NULL,\n",
    "# -- \t\t\tcondition_source_concept_id integer NULL,\n",
    "# -- \t\t\tcondition_status_source_value varchar(50) NULL );\n",
    "\n",
    "\n",
    "# -- CREATE TABLE public.condition_occurrence_pyspark (\n",
    "# -- \t\t\tcondition_occurrence_id varchar,\n",
    "# -- \t\t\tperson_id varchar,\n",
    "# -- \t\t\tcondition_concept_id varchar,\n",
    "# -- \t\t\tcondition_start_date varchar,\n",
    "# -- \t\t\tcondition_start_datetime varchar,\n",
    "# -- \t\t\tcondition_end_date varchar,\n",
    "# -- \t\t\tcondition_end_datetime varchar,\n",
    "# -- \t\t\tcondition_type_concept_id varchar,\n",
    "# -- \t\t\tcondition_status_concept_id varchar,\n",
    "# -- \t\t\tstop_reason varchar,\n",
    "# -- \t\t\tprovider_id varchar,\n",
    "# -- \t\t\tvisit_occurrence_id varchar,\n",
    "# -- \t\t\tvisit_detail_id varchar,\n",
    "# -- \t\t\tcondition_source_value varchar,\n",
    "# -- \t\t\tcondition_source_concept_id varchar,\n",
    "# -- \t\t\tcondition_status_source_value varchar);\n",
    "\n",
    "\n",
    "# insert into public.condition_occurrence (\n",
    "# condition_occurrence_id,\n",
    "# person_id,\n",
    "# condition_concept_id,\n",
    "# condition_start_date,\n",
    "# condition_start_datetime,\n",
    "# condition_end_date ,\n",
    "# condition_end_datetime ,\n",
    "# condition_type_concept_id ,\n",
    "# condition_status_concept_id ,\n",
    "# stop_reason ,\n",
    "# provider_id ,\n",
    "# visit_occurrence_id ,\n",
    "# visit_detail_id ,\n",
    "# condition_source_value ,\n",
    "# condition_source_concept_id ,\n",
    "# condition_status_source_value \n",
    "# )\n",
    "# SELECT \n",
    "# cast(condition_occurrence_id as integer),\n",
    "# cast(person_id as integer),\n",
    "# cast(case when condition_concept_id = '' then null else condition_concept_id end as integer),\n",
    "# cast(case when  condition_start_date = '' then null else condition_start_date end as date),\n",
    "# cast(case when condition_start_datetime = '' then null else condition_start_datetime end as timestamp),\n",
    "# cast(case when condition_end_date ='' then null else condition_end_date end as date) ,\n",
    "# cast(case when condition_end_datetime = '' then null else condition_end_datetime end as timestamp) ,\n",
    "# cast(case when condition_type_concept_id = '' then null else condition_type_concept_id end as integer) ,\n",
    "# cast(case when condition_status_concept_id = '' then null else condition_status_concept_id end as integer) ,\n",
    "# stop_reason ,\n",
    "# cast(case when provider_id = '' then null else provider_id end as integer) ,\n",
    "# cast(case when visit_occurrence_id = '' then null else visit_occurrence_id end as integer) ,\n",
    "# cast(case when visit_detail_id ='' then null else visit_detail_id end as integer) ,\n",
    "# condition_source_value ,\n",
    "# cast(case when condition_source_concept_id = '' then null else condition_source_concept_id end as integer) ,\n",
    "# condition_status_source_value\n",
    "# \tFROM public.condition_occurrence_pyspark;\n",
    "\n",
    "\n"
   ]
  }
 ],
 "metadata": {
  "kernelspec": {
   "display_name": "Python 3 (ipykernel)",
   "language": "python",
   "name": "python3"
  },
  "language_info": {
   "codemirror_mode": {
    "name": "ipython",
    "version": 3
   },
   "file_extension": ".py",
   "mimetype": "text/x-python",
   "name": "python",
   "nbconvert_exporter": "python",
   "pygments_lexer": "ipython3",
   "version": "3.10.12"
  }
 },
 "nbformat": 4,
 "nbformat_minor": 5
}
