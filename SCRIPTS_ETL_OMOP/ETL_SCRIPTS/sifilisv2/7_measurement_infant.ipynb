{
 "cells": [
  {
   "cell_type": "markdown",
   "id": "b3b8b21d",
   "metadata": {},
   "source": [
    "## Configurações Pyspark"
   ]
  },
  {
   "cell_type": "code",
   "execution_count": 1,
   "id": "32a9ebf8",
   "metadata": {},
   "outputs": [
    {
     "name": "stderr",
     "output_type": "stream",
     "text": [
      "25/05/26 13:12:54 WARN NativeCodeLoader: Unable to load native-hadoop library for your platform... using builtin-java classes where applicable\n",
      "Setting default log level to \"WARN\".\n",
      "To adjust logging level use sc.setLogLevel(newLevel). For SparkR, use setLogLevel(newLevel).\n",
      "25/05/26 13:12:55 WARN Utils: Service 'SparkUI' could not bind on port 4040. Attempting port 4041.\n",
      "25/05/26 13:12:55 WARN Utils: Service 'SparkUI' could not bind on port 4041. Attempting port 4042.\n",
      "25/05/26 13:12:55 WARN Utils: Service 'SparkUI' could not bind on port 4042. Attempting port 4043.\n",
      "25/05/26 13:12:55 WARN Utils: Service 'SparkUI' could not bind on port 4043. Attempting port 4044.\n",
      "25/05/26 13:12:55 WARN Utils: Service 'SparkUI' could not bind on port 4044. Attempting port 4045.\n",
      "25/05/26 13:12:55 WARN Utils: Service 'SparkUI' could not bind on port 4045. Attempting port 4046.\n",
      "25/05/26 13:12:55 WARN Utils: Service 'SparkUI' could not bind on port 4046. Attempting port 4047.\n",
      "25/05/26 13:12:55 WARN Utils: Service 'SparkUI' could not bind on port 4047. Attempting port 4048.\n",
      "25/05/26 13:12:55 WARN Utils: Service 'SparkUI' could not bind on port 4048. Attempting port 4049.\n",
      "25/05/26 13:12:55 WARN Utils: Service 'SparkUI' could not bind on port 4049. Attempting port 4050.\n",
      "25/05/26 13:12:55 WARN Utils: Service 'SparkUI' could not bind on port 4050. Attempting port 4051.\n",
      "25/05/26 13:12:55 WARN Utils: Service 'SparkUI' could not bind on port 4051. Attempting port 4052.\n"
     ]
    }
   ],
   "source": [
    "from pyspark.sql import SparkSession\n",
    "from pyspark.sql import functions as F\n",
    "from pyspark.sql import Window\n",
    "\n",
    "import pandas as pd\n",
    "\n",
    "def write_to_postgresl(df, tb_name=None, write_mode='None'):\n",
    "    df.count()\n",
    "    if tb_name is None:\n",
    "        raise Exception('Informe o nome da tabela')\n",
    "    if write_mode is None:\n",
    "        raise Exception('Informe o mode de escrita: append ou overwrite')\n",
    "        \n",
    "    from datetime import datetime\n",
    "    start_time = datetime.now()\n",
    "    \n",
    "    try:\n",
    "        df.write.jdbc(url, table=tb_name, mode=write_mode, properties=properties)\n",
    "    except Exception as e:\n",
    "        print(f'Erro: {e}')\n",
    "    end_time = datetime.now()\n",
    "    \n",
    "    total_time = str(end_time - start_time)\n",
    "    \n",
    "    return f'Total time: {total_time} and - Total rows: {df.count()} - Total columns: {len(df.columns)}'\n",
    "\n",
    "\n",
    "\n",
    "    # Criando a sessão do Spark\n",
    "spark  = SparkSession.builder \\\n",
    "    .appName(\"Data Analysis\") \\\n",
    "    .config('spark.jars', '/data/IDAF/DATABASECONNECTOR_JAR_FOLDER/postgresql-42.2.18.jar')\\\n",
    "    .config(\"spark.executor.memory\", \"8g\")\\\n",
    "    .config(\"spark.driver.memory\", \"8g\")\\\n",
    "    .config(\"spark.executor.cores\", \"4\")\\\n",
    "    .config(\"spark.executor.instances\",\"8\")\\\n",
    "    .config(\"spark.sql.shuffle.partitions\",\"96\")\\\n",
    "    .config(\"spark.default.parallelism\",\"96\")\\\n",
    "    .getOrCreate()\n",
    "\n",
    "\n",
    "url = \"jdbc:postgresql://localhost:5432/postgres\"\n",
    "\n",
    "properties = {\n",
    "    \"user\" : \"postgres\",\n",
    "    \"password\" : \"cidacs\",\n",
    "    \"driver\" : \"org.postgresql.Driver\"\n",
    "}"
   ]
  },
  {
   "cell_type": "markdown",
   "id": "1392226d-8b67-4bac-be21-74427878fbdc",
   "metadata": {},
   "source": [
    "## Configurações Pandas"
   ]
  },
  {
   "cell_type": "code",
   "execution_count": 2,
   "id": "787acd6f",
   "metadata": {},
   "outputs": [],
   "source": [
    "spark.conf.set(\"spark.sql.repl.eagerEval.enabled\", True)\n",
    "spark.conf.set(\"spark.sql.repl.eagerEval.truncate\", 100)\n",
    "spark.conf.set(\"spark.sql.repl.eagerEval.maxNumRows\", 300)\n",
    "\n",
    "spark.conf.set(\"spark.sql.debug.maxToStringFields\", 100)\n",
    "\n",
    "pd.set_option(\"display.max_columns\", None) \n",
    "pd.set_option(\"display.max_rows\", None)"
   ]
  },
  {
   "cell_type": "markdown",
   "id": "e5bdd252",
   "metadata": {},
   "source": [
    "### Lendo dados enriquecidos"
   ]
  },
  {
   "cell_type": "code",
   "execution_count": 3,
   "id": "64224f0d",
   "metadata": {},
   "outputs": [],
   "source": [
    "df_input = (spark\n",
    "            .read\n",
    "            .parquet('/data/IDAF/PROJETOS/PARCERIA_CIDACS_PHDC/basefinal_gest_limp_enriched', header=True)\n",
    "           )"
   ]
  },
  {
   "cell_type": "markdown",
   "id": "b21352a3",
   "metadata": {},
   "source": [
    "### Measurement"
   ]
  },
  {
   "cell_type": "code",
   "execution_count": 4,
   "id": "c9933edb",
   "metadata": {},
   "outputs": [],
   "source": [
    "window_measurement = Window.partitionBy().orderBy('person_id_infant', 'dtnasc_sinasc')"
   ]
  },
  {
   "cell_type": "code",
   "execution_count": 5,
   "id": "85ba32fc",
   "metadata": {},
   "outputs": [
    {
     "name": "stderr",
     "output_type": "stream",
     "text": [
      "                                                                                \r"
     ]
    },
    {
     "data": {
      "text/plain": [
       "81885801"
      ]
     },
     "execution_count": 5,
     "metadata": {},
     "output_type": "execute_result"
    }
   ],
   "source": [
    "df_measurement = (df_input\n",
    "                 .withColumn('person_id', F.col('person_id_infant'))\n",
    "                 .withColumn('gravidez_sinasc_code', F.when(F.col('gravidez_sinasc').isNotNull(), F.lit(4077859)).otherwise(None))\n",
    "                 .withColumn('peso_sinasc_code', F.when(F.col('peso_sinasc').isNotNull(), F.lit(4264825)).otherwise(None))\n",
    "                 .withColumn('apgar1_sinasc_code', \n",
    "                             F.when(F.col('apgar1_sinasc')==0, F.lit(4014468))\n",
    "                             .when(F.col('apgar1_sinasc')==1, F.lit(4015430))\n",
    "                             .when(F.col('apgar1_sinasc')==2, F.lit(4015289))\n",
    "                             .when(F.col('apgar1_sinasc')==3, F.lit(4014305))\n",
    "                             .when(F.col('apgar1_sinasc')==4, F.lit(4015291))\n",
    "                             .when(F.col('apgar1_sinasc')==5, F.lit(4014469))\n",
    "                             .when(F.col('apgar1_sinasc')==6, F.lit(4014306))\n",
    "                             .when(F.col('apgar1_sinasc')==7, F.lit(4015292))\n",
    "                             .when(F.col('apgar1_sinasc')==8, F.lit(4016052))\n",
    "                             .when(F.col('apgar1_sinasc')==9, F.lit(4015431))\n",
    "                             .when(F.col('apgar1_sinasc')==10, F.lit(4014470))\n",
    "                             .when(F.col('apgar1_sinasc').isin(19,89,99), F.lit(4127662))\n",
    "                             .when(F.col('apgar1_sinasc').isNull(), F.lit(40482639))\n",
    "                             .otherwise(None)\n",
    "                            )\n",
    "                 .withColumn('apgar5_sinasc_code', \n",
    "                             F.when(F.col('apgar5_sinasc')==0, F.lit(4014307))\n",
    "                             .when(F.col('apgar5_sinasc')==1, F.lit(4016054))\n",
    "                             .when(F.col('apgar5_sinasc')==2, F.lit(4014308))\n",
    "                             .when(F.col('apgar5_sinasc')==3, F.lit(4016055))\n",
    "                             .when(F.col('apgar5_sinasc')==4, F.lit(4014471))\n",
    "                             .when(F.col('apgar5_sinasc')==5, F.lit(4014309))\n",
    "                             .when(F.col('apgar5_sinasc')==6, F.lit(4014310))\n",
    "                             .when(F.col('apgar5_sinasc')==7, F.lit(4016056))\n",
    "                             .when(F.col('apgar5_sinasc')==8, F.lit(4016465))\n",
    "                             .when(F.col('apgar5_sinasc')==9, F.lit(4016466))\n",
    "                             .when(F.col('apgar5_sinasc')==10, F.lit(4016467))\n",
    "                             .when(F.col('apgar5_sinasc')==99, F.lit(4127662))\n",
    "                             .when(F.col('apgar5_sinasc').isNull(), F.lit(40482639))\n",
    "                             .otherwise(None))\n",
    "                 .withColumn('semagestac_sinasc_code', F.when(F.col('semagestac_sinasc').isNotNull(), F.lit(3012266)).otherwise(None))\n",
    "                  \n",
    "                 .withColumn('measurement_concept_id_list', F.concat_ws(\",\", \n",
    "                                                                        F.col('gravidez_sinasc_code'), \n",
    "                                                                        F.col('peso_sinasc_code'), \n",
    "                                                                        F.col('apgar1_sinasc_code'),\n",
    "                                                                        F.col('apgar5_sinasc_code'),\n",
    "                                                                        F.col('semagestac_sinasc_code')\n",
    "                                                                       )) \n",
    "                 .withColumn('measurement_concept_id', F.explode(F.split(F.col('measurement_concept_id_list'), ',')))\n",
    "                 .withColumn('measurement_date', F.col('dtnasc_sinasc'))\n",
    "                 .withColumn('measurement_type_concept_id', F.lit(32879))                  \n",
    "                 .withColumn('gravidez_sinasc_value', F.when(((F.col('gravidez_sinasc').isNull()) |F.col('gravidez_sinasc').isin(88, 99)), F.lit(None))\n",
    "                                                       .when(F.col('gravidez_sinasc').isin(0, 1, 2, 3), F.col('gravidez_sinasc')).otherwise(None))                                  \n",
    "                 .withColumn('value_as_number_list', F.concat_ws(\",\", \n",
    "                                                                F.col('gravidez_sinasc_value'), \n",
    "                                                                F.col('peso_sinasc'), \n",
    "                                                                F.col('semagestac_sinasc')\n",
    "                                                               ))\n",
    "                 .withColumn('value_as_number', F.when(F.col('measurement_concept_id')==4077859, F.col('gravidez_sinasc'))\n",
    "                                                 .when(F.col('measurement_concept_id')==4264825, F.col('peso_sinasc'))\n",
    "                                                 .when(F.col('measurement_concept_id')==3012266, F.col('semagestac_sinasc'))\n",
    "                                                 .when(F.col('measurement_concept_id').isin(4014468, 4015430, 4015289, 4014305, 4015291, 4014469, 4014306, 4015292, 4016052, 4015431, 4014470), F.lit(None))\n",
    "                                                 .when(F.col('measurement_concept_id').isin(4014307, 4016054, 4014308, 4016055, 4014471, 4014309, 4014310, 4016056, 4016465, 4016466, 4016467), F.lit(None))\n",
    "                                                 .otherwise(None))\n",
    "         \n",
    "                 .withColumn('value_as_concept_id', F.lit(None))\n",
    "                 .withColumn('unit_concept_id', F.when(F.col('measurement_concept_id')==4264825, F.lit(8504)).otherwise(None))\n",
    "                 .withColumn('measurement_id', F.row_number().over(window_measurement)+F.lit(1000000000))\n",
    "                 .withColumn('unit_source_value', F.lit(None).cast('string'))\n",
    "                 .withColumn('measurement_datetime', F.lit(None).cast('timestamp'))\n",
    "                 .withColumn('measurement_time', F.lit(None).cast('string'))\n",
    "                 .withColumn('operator_concept_id', F.lit(None).cast('integer'))\n",
    "                 .withColumn('range_low', F.lit(None).cast('float'))\n",
    "                 .withColumn('range_high', F.lit(None).cast('float'))\n",
    "                 .withColumn('provider_id', F.lit(None).cast('integer'))\n",
    "                 .withColumn('visit_occurrence_id', F.col('visit_occurrence_id_infant').cast('integer'))\n",
    "                 .withColumn('visit_detail_id', F.lit(None).cast('integer'))\n",
    "                 .withColumn('measurement_source_value', F.lit(None).cast('string'))\n",
    "                 .withColumn('measurement_source_concept_id', F.lit(None).cast('integer'))\n",
    "                 .withColumn('unit_source_concept_id', F.lit(None).cast('integer'))\n",
    "                 .withColumn('value_source_value', F.lit(None).cast('string'))\n",
    "                  .withColumn('measurement_event_id', F.lit(None).cast('integer'))\n",
    "                  .withColumn('meas_event_field_concept_id', F.lit(None).cast('integer'))\n",
    "                  .filter(F.col('measurement_concept_id').isNotNull())\n",
    "                  ).select(F.col(\"measurement_id\").cast('integer'),\n",
    "                        F.col(\"person_id\").cast('integer'),\n",
    "                        F.col(\"measurement_concept_id\").cast('integer'),\n",
    "                        F.col(\"measurement_date\").cast('date'),\n",
    "                        F.col(\"measurement_datetime\").cast('timestamp'),\n",
    "                        F.col(\"measurement_time\").cast('string'),\n",
    "                        F.col(\"measurement_type_concept_id\").cast('integer'),\n",
    "                        F.col(\"operator_concept_id\").cast('integer'),\n",
    "                        F.col(\"value_as_number\").cast('float'),\n",
    "                        F.col(\"value_as_concept_id\").cast('integer'),\n",
    "                        F.col(\"unit_concept_id\").cast('integer'),\n",
    "                        F.col(\"range_low\").cast('float'),\n",
    "                        F.col(\"range_high\").cast('float'),\n",
    "                        F.col(\"provider_id\").cast('integer'),\n",
    "                        F.col(\"visit_occurrence_id\").cast('integer'),\n",
    "                        F.col(\"visit_detail_id\").cast('integer'),\n",
    "                        F.col(\"measurement_source_value\").cast('string'),\n",
    "                        F.col(\"measurement_source_concept_id\").cast('integer'),\n",
    "                        F.col(\"unit_source_value\").cast('string'),\n",
    "                        F.col(\"unit_source_concept_id\").cast('integer'),\n",
    "                        F.col(\"value_source_value\").cast('string'),\n",
    "                        F.col(\"measurement_event_id\").cast('integer'),\n",
    "                        F.col(\"meas_event_field_concept_id\").cast('integer'))\n",
    "\n",
    "df_measurement.count()"
   ]
  },
  {
   "cell_type": "markdown",
   "id": "29c5e59f",
   "metadata": {},
   "source": [
    "### Escrevendo no Postgresql"
   ]
  },
  {
   "cell_type": "code",
   "execution_count": 9,
   "id": "1e9d2b32",
   "metadata": {},
   "outputs": [
    {
     "name": "stderr",
     "output_type": "stream",
     "text": [
      "25/05/07 17:39:51 WARN WindowExec: No Partition Defined for Window operation! Moving all data to a single partition, this can cause serious performance degradation.\n",
      "25/05/07 17:39:51 WARN WindowExec: No Partition Defined for Window operation! Moving all data to a single partition, this can cause serious performance degradation.\n",
      "25/05/07 17:39:51 WARN WindowExec: No Partition Defined for Window operation! Moving all data to a single partition, this can cause serious performance degradation.\n",
      "25/05/07 17:40:13 WARN WindowExec: No Partition Defined for Window operation! Moving all data to a single partition, this can cause serious performance degradation.\n",
      "25/05/07 17:40:13 WARN WindowExec: No Partition Defined for Window operation! Moving all data to a single partition, this can cause serious performance degradation.\n",
      "                                                                                \r"
     ]
    },
    {
     "data": {
      "text/plain": [
       "'Total time: 3:56:10.265856 and - Total rows: 81885801 - Total columns: 23'"
      ]
     },
     "execution_count": 9,
     "metadata": {},
     "output_type": "execute_result"
    }
   ],
   "source": [
    "write_to_postgresl(df_measurement, tb_name='omop.measurement', write_mode='append')"
   ]
  },
  {
   "cell_type": "markdown",
   "id": "0981a5d7",
   "metadata": {},
   "source": [
    "## Deprecated"
   ]
  },
  {
   "cell_type": "markdown",
   "id": "74d8976f",
   "metadata": {},
   "source": [
    "### Salvando CSV "
   ]
  },
  {
   "cell_type": "code",
   "execution_count": 6,
   "id": "77898bd0",
   "metadata": {},
   "outputs": [
    {
     "name": "stderr",
     "output_type": "stream",
     "text": [
      "25/05/26 13:13:06 WARN WindowExec: No Partition Defined for Window operation! Moving all data to a single partition, this can cause serious performance degradation.\n",
      "25/05/26 13:13:06 WARN WindowExec: No Partition Defined for Window operation! Moving all data to a single partition, this can cause serious performance degradation.\n",
      "25/05/26 13:13:21 WARN WindowExec: No Partition Defined for Window operation! Moving all data to a single partition, this can cause serious performance degradation.\n",
      "25/05/26 13:13:21 WARN WindowExec: No Partition Defined for Window operation! Moving all data to a single partition, this can cause serious performance degradation.\n",
      "                                                                                \r"
     ]
    }
   ],
   "source": [
    "df_measurement.repartition(1).write.parquet('/data/IDAF/PROJETOS/PARCERIA_CIDACS_PHDC/omop_scripts_base_16mi_karine/csv/measurement_infant', mode='overwrite')"
   ]
  },
  {
   "cell_type": "markdown",
   "id": "4beea3f6",
   "metadata": {},
   "source": [
    "## SQL de insertion"
   ]
  },
  {
   "cell_type": "code",
   "execution_count": null,
   "id": "c7b417f2",
   "metadata": {},
   "outputs": [],
   "source": [
    "# CREATE TABLE public.measurement (\n",
    "# \t\t\tmeasurement_id integer NOT NULL,\n",
    "# \t\t\tperson_id integer NOT NULL,\n",
    "# \t\t\tmeasurement_concept_id integer NOT NULL,\n",
    "# \t\t\tmeasurement_date date NOT NULL,\n",
    "# \t\t\tmeasurement_datetime TIMESTAMP NULL,\n",
    "# \t\t\tmeasurement_time varchar(10) NULL,\n",
    "# \t\t\tmeasurement_type_concept_id integer NOT NULL,\n",
    "# \t\t\toperator_concept_id integer NULL,\n",
    "# \t\t\tvalue_as_number NUMERIC NULL,\n",
    "# \t\t\tvalue_as_concept_id integer NULL,\n",
    "# \t\t\tunit_concept_id integer NULL,\n",
    "# \t\t\trange_low NUMERIC NULL,\n",
    "# \t\t\trange_high NUMERIC NULL,\n",
    "# \t\t\tprovider_id integer NULL,\n",
    "# \t\t\tvisit_occurrence_id integer NULL,\n",
    "# \t\t\tvisit_detail_id integer NULL,\n",
    "# \t\t\tmeasurement_source_value varchar(50) NULL,\n",
    "# \t\t\tmeasurement_source_concept_id integer NULL,\n",
    "# \t\t\tunit_source_value varchar(50) NULL,\n",
    "# \t\t\tunit_source_concept_id integer NULL,\n",
    "# \t\t\tvalue_source_value varchar(50) NULL,\n",
    "# \t\t\tmeasurement_event_id bigint NULL,\n",
    "# \t\t\tmeas_event_field_concept_id integer NULL );\n",
    "\n",
    "\n",
    "# CREATE TABLE public.measurement_pyspark (\n",
    "# \t\t\tmeasurement_id varchar,\n",
    "# \t\t\tperson_id varchar,\n",
    "# \t\t\tmeasurement_concept_id varchar,\n",
    "# \t\t\tmeasurement_date varchar,\n",
    "# \t\t\tmeasurement_datetime varchar,\n",
    "# \t\t\tmeasurement_time varchar,\n",
    "# \t\t\tmeasurement_type_concept_id varchar,\n",
    "# \t\t\toperator_concept_id varchar,\n",
    "# \t\t\tvalue_as_number varchar,\n",
    "# \t\t\tvalue_as_concept_id varchar,\n",
    "# \t\t\tunit_concept_id varchar,\n",
    "# \t\t\trange_low varchar,\n",
    "# \t\t\trange_high varchar,\n",
    "# \t\t\tprovider_id varchar,\n",
    "# \t\t\tvisit_occurrence_id varchar,\n",
    "# \t\t\tvisit_detail_id varchar,\n",
    "# \t\t\tmeasurement_source_value varchar,\n",
    "# \t\t\tmeasurement_source_concept_id varchar,\n",
    "# \t\t\tunit_source_value varchar,\n",
    "# \t\t\tunit_source_concept_id varchar,\n",
    "# \t\t\tvalue_source_value varchar,\n",
    "# \t\t\tmeasurement_event_id varchar,\n",
    "# \t\t\tmeas_event_field_concept_id varchar);\n",
    "\n",
    "\n",
    "\n",
    "  \n",
    "# insert into public.measurement (\n",
    "# measurement_id,\n",
    "# person_id,\n",
    "# measurement_concept_id,\n",
    "# measurement_date,\n",
    "# measurement_datetime,\n",
    "# measurement_time,\n",
    "# measurement_type_concept_id,\n",
    "# operator_concept_id,\n",
    "# value_as_number,\n",
    "# value_as_concept_id,\n",
    "# unit_concept_id,\n",
    "# range_low,\n",
    "# range_high,\n",
    "# provider_id,\n",
    "# visit_occurrence_id,\n",
    "# visit_detail_id,\n",
    "# measurement_source_value,\n",
    "# measurement_source_concept_id,\n",
    "# unit_source_value,\n",
    "# unit_source_concept_id,\n",
    "# value_source_value,\n",
    "# measurement_event_id,\n",
    "# meas_event_field_concept_id\n",
    "#     )\n",
    "# SELECT \n",
    "#     cast(case when measurement_id='' then null else measurement_id end as integer),\n",
    "#     cast(case when person_id='' then null else person_id end as integer),\n",
    "#     cast(case when measurement_concept_id='' then null else measurement_concept_id end as integer),\n",
    "#     cast(case when measurement_date='' then null else measurement_date end as date),\n",
    "#     cast(case when measurement_datetime='' then null else measurement_datetime end as timestamp),\n",
    "#     cast(case when measurement_time='' then null else measurement_time end as varchar),\n",
    "#     cast(case when measurement_type_concept_id='' then null else measurement_type_concept_id end as integer),\n",
    "#     cast(case when operator_concept_id='' then null else operator_concept_id end as integer),\n",
    "#     cast(case when value_as_number='' then null else value_as_number end as float),\n",
    "#     cast(case when value_as_concept_id='' then null else value_as_concept_id end as integer),\n",
    "#     cast(case when unit_concept_id='' then null else unit_concept_id end as integer),\n",
    "#     cast(case when range_low='' then null else range_low end as float),\n",
    "#     cast(case when range_high='' then null else range_high end as float),\n",
    "#     cast(case when provider_id='' then null else provider_id end as integer),\n",
    "#     cast(case when visit_occurrence_id='' then null else visit_occurrence_id end as integer),\n",
    "#     cast(case when visit_detail_id='' then null else visit_detail_id end as integer),\n",
    "#     measurement_source_value,\n",
    "#     cast(case when measurement_source_concept_id='' then null else measurement_source_concept_id end as integer),\n",
    "#     unit_source_value,\n",
    "#     cast(case when unit_source_concept_id='' then null else unit_source_concept_id end as integer),\n",
    "#     value_source_value,\n",
    "#     cast(case when measurement_event_id='' then null else measurement_event_id end as integer),\n",
    "#     cast(case when meas_event_field_concept_id='' then null else meas_event_field_concept_id end as integer)\n",
    "# FROM public.measurement_pyspark;\n",
    "    \n",
    "    \n",
    "    "
   ]
  }
 ],
 "metadata": {
  "kernelspec": {
   "display_name": "Python 3 (ipykernel)",
   "language": "python",
   "name": "python3"
  },
  "language_info": {
   "codemirror_mode": {
    "name": "ipython",
    "version": 3
   },
   "file_extension": ".py",
   "mimetype": "text/x-python",
   "name": "python",
   "nbconvert_exporter": "python",
   "pygments_lexer": "ipython3",
   "version": "3.10.12"
  }
 },
 "nbformat": 4,
 "nbformat_minor": 5
}
