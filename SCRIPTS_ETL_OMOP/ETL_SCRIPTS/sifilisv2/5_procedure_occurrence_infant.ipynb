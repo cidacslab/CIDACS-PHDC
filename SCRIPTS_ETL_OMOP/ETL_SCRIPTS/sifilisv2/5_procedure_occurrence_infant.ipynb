{
 "cells": [
  {
   "cell_type": "markdown",
   "id": "b3b8b21d",
   "metadata": {},
   "source": [
    "### Configurações Pyspark"
   ]
  },
  {
   "cell_type": "code",
   "execution_count": 1,
   "id": "e5254cb2",
   "metadata": {},
   "outputs": [
    {
     "name": "stderr",
     "output_type": "stream",
     "text": [
      "25/05/26 12:40:03 WARN NativeCodeLoader: Unable to load native-hadoop library for your platform... using builtin-java classes where applicable\n",
      "Setting default log level to \"WARN\".\n",
      "To adjust logging level use sc.setLogLevel(newLevel). For SparkR, use setLogLevel(newLevel).\n",
      "25/05/26 12:40:04 WARN Utils: Service 'SparkUI' could not bind on port 4040. Attempting port 4041.\n",
      "25/05/26 12:40:04 WARN Utils: Service 'SparkUI' could not bind on port 4041. Attempting port 4042.\n",
      "25/05/26 12:40:04 WARN Utils: Service 'SparkUI' could not bind on port 4042. Attempting port 4043.\n",
      "25/05/26 12:40:04 WARN Utils: Service 'SparkUI' could not bind on port 4043. Attempting port 4044.\n",
      "25/05/26 12:40:04 WARN Utils: Service 'SparkUI' could not bind on port 4044. Attempting port 4045.\n",
      "25/05/26 12:40:04 WARN Utils: Service 'SparkUI' could not bind on port 4045. Attempting port 4046.\n",
      "25/05/26 12:40:04 WARN Utils: Service 'SparkUI' could not bind on port 4046. Attempting port 4047.\n",
      "25/05/26 12:40:04 WARN Utils: Service 'SparkUI' could not bind on port 4047. Attempting port 4048.\n",
      "25/05/26 12:40:04 WARN Utils: Service 'SparkUI' could not bind on port 4048. Attempting port 4049.\n"
     ]
    }
   ],
   "source": [
    "from pyspark.sql import SparkSession\n",
    "from pyspark.sql import functions as F\n",
    "from pyspark.sql import Window\n",
    "\n",
    "import pandas as pd\n",
    "\n",
    "def write_to_postgresl(df, tb_name=None, write_mode='None'):\n",
    "    df.count()\n",
    "    if tb_name is None:\n",
    "        raise Exception('Informe o nome da tabela')\n",
    "    if write_mode is None:\n",
    "        raise Exception('Informe o mode de escrita: append ou overwrite')\n",
    "        \n",
    "    from datetime import datetime\n",
    "    start_time = datetime.now()\n",
    "    \n",
    "    try:\n",
    "        df.write.jdbc(url, table=tb_name, mode=write_mode, properties=properties)\n",
    "    except Exception as e:\n",
    "        print(f'Erro: {e}')\n",
    "    end_time = datetime.now()\n",
    "    \n",
    "    total_time = str(end_time - start_time)\n",
    "    \n",
    "    return f'Total time: {total_time} and - Total rows: {df.count()} - Total columns: {len(df.columns)}'\n",
    "\n",
    "\n",
    "\n",
    "    # Criando a sessão do Spark\n",
    "spark  = SparkSession.builder \\\n",
    "    .appName(\"Data Analysis\") \\\n",
    "    .config('spark.jars', '/data/IDAF/DATABASECONNECTOR_JAR_FOLDER/postgresql-42.2.18.jar')\\\n",
    "    .config(\"spark.executor.memory\", \"8g\")\\\n",
    "    .config(\"spark.driver.memory\", \"8g\")\\\n",
    "    .config(\"spark.executor.cores\", \"4\")\\\n",
    "    .config(\"spark.executor.instances\",\"8\")\\\n",
    "    .config(\"spark.sql.shuffle.partitions\",\"96\")\\\n",
    "    .config(\"spark.default.parallelism\",\"96\")\\\n",
    "    .getOrCreate()\n",
    "\n",
    "\n",
    "url = \"jdbc:postgresql://localhost:5432/postgres\"\n",
    "\n",
    "properties = {\n",
    "    \"user\" : \"postgres\",\n",
    "    \"password\" : \"cidacs\",\n",
    "    \"driver\" : \"org.postgresql.Driver\"\n",
    "}"
   ]
  },
  {
   "cell_type": "markdown",
   "id": "f32b3550-eebc-4a29-83de-58c7f8ddf882",
   "metadata": {},
   "source": [
    "### Configurações Pandas"
   ]
  },
  {
   "cell_type": "code",
   "execution_count": 2,
   "id": "787acd6f",
   "metadata": {},
   "outputs": [],
   "source": [
    "spark.conf.set(\"spark.sql.repl.eagerEval.enabled\", True)\n",
    "spark.conf.set(\"spark.sql.repl.eagerEval.truncate\", 100)\n",
    "spark.conf.set(\"spark.sql.repl.eagerEval.maxNumRows\", 300)\n",
    "\n",
    "spark.conf.set(\"spark.sql.debug.maxToStringFields\", 100)\n",
    "\n",
    "pd.set_option(\"display.max_columns\", None) \n",
    "pd.set_option(\"display.max_rows\", None)"
   ]
  },
  {
   "cell_type": "markdown",
   "id": "e5bdd252",
   "metadata": {},
   "source": [
    "### Lendo dados enriquecidos"
   ]
  },
  {
   "cell_type": "code",
   "execution_count": 3,
   "id": "64224f0d",
   "metadata": {},
   "outputs": [
    {
     "name": "stderr",
     "output_type": "stream",
     "text": [
      "\r",
      "[Stage 0:>                                                          (0 + 1) / 1]\r",
      "\r",
      "                                                                                \r"
     ]
    }
   ],
   "source": [
    "df_input = (spark\n",
    "            .read\n",
    "            .parquet('/data/IDAF/PROJETOS/PARCERIA_CIDACS_PHDC/basefinal_gest_limp_enriched', header=True)\n",
    "           )"
   ]
  },
  {
   "cell_type": "markdown",
   "id": "b21352a3",
   "metadata": {},
   "source": [
    "### Procedure Occurrence"
   ]
  },
  {
   "cell_type": "code",
   "execution_count": 4,
   "id": "c9933edb",
   "metadata": {},
   "outputs": [],
   "source": [
    "window_procedure_occurrence = Window.partitionBy().orderBy('person_id', 'dtnasc_sinasc')"
   ]
  },
  {
   "cell_type": "code",
   "execution_count": 5,
   "id": "dc28f863",
   "metadata": {},
   "outputs": [
    {
     "name": "stderr",
     "output_type": "stream",
     "text": [
      "                                                                                \r"
     ]
    },
    {
     "data": {
      "text/plain": [
       "16609485"
      ]
     },
     "execution_count": 5,
     "metadata": {},
     "output_type": "execute_result"
    }
   ],
   "source": [
    "df_procedure_occurrence = (df_input\n",
    "                         .withColumn('person_id', F.col('person_id_infant'))\n",
    "                         .withColumn('procedure_concept_id', F.when(F.col('parto_sinasc').isin(0, 88, 99), F.lit(0))\n",
    "                                                              .when(F.col('parto_sinasc')==1, F.lit(44784097))\n",
    "                                                              .when(F.col('parto_sinasc')==2, F.lit(4015701))\n",
    "                                                              .otherwise(0))\n",
    "                           .withColumn('procedure_date', F.col('dtnasc_sinasc'))\n",
    "                        .withColumn('procedure_datetime', F.lit(None))\n",
    "                        .withColumn('procedure_end_date', F.lit(None))\n",
    "                        .withColumn('procedure_end_datetime', F.lit(None))\n",
    "                        .withColumn('procedure_type_concept_id', F.lit(32879))\n",
    "                        .withColumn('modifier_concept_id', F.lit(None))\n",
    "                        .withColumn('quantity', F.lit(None))\n",
    "                        .withColumn('provider_id', F.lit(None))\n",
    "                        .withColumn('visit_occurrence_id', F.col('visit_occurrence_id'))\n",
    "                        .withColumn('visit_detail_id', F.lit(None))\n",
    "                        .withColumn('procedure_source_value', F.col('parto_sinasc'))\n",
    "                        .withColumn('procedure_source_concept_id', F.lit(None))\n",
    "                        .withColumn('modifier_source_value', F.lit(None))\n",
    "                           .withColumn('procedure_occurrence_id', F.row_number().over(window_procedure_occurrence)+F.lit(1000000000))\n",
    "                          ).select(F.col('procedure_occurrence_id').cast('integer'),\n",
    "                                    F.col('person_id').cast('integer'),\n",
    "                                    F.col('procedure_concept_id').cast('integer'),\n",
    "                                    F.col('procedure_date').cast('date'),\n",
    "                                    F.col('procedure_datetime').cast('timestamp'),\n",
    "                                    F.col('procedure_end_date').cast('date'),\n",
    "                                    F.col('procedure_end_datetime').cast('timestamp'),\n",
    "                                    F.col('procedure_type_concept_id').cast('integer'),\n",
    "                                    F.col('modifier_concept_id').cast('integer'),\n",
    "                                    F.col('quantity').cast('float'),\n",
    "                                    F.col('provider_id').cast('integer'),\n",
    "                                    F.col('visit_occurrence_id').cast('integer'),\n",
    "                                    F.col('visit_detail_id').cast('integer'),\n",
    "                                    F.col('procedure_source_value').cast('string'),\n",
    "                                    F.col('procedure_source_concept_id').cast('integer'),\n",
    "                                    F.col('modifier_source_value').cast('string')\n",
    "                                )\n",
    "\n",
    "df_procedure_occurrence.count()"
   ]
  },
  {
   "cell_type": "code",
   "execution_count": 10,
   "id": "045aa28f",
   "metadata": {},
   "outputs": [
    {
     "name": "stderr",
     "output_type": "stream",
     "text": [
      "25/05/07 09:45:26 WARN WindowExec: No Partition Defined for Window operation! Moving all data to a single partition, this can cause serious performance degradation.\n",
      "25/05/07 09:45:26 WARN WindowExec: No Partition Defined for Window operation! Moving all data to a single partition, this can cause serious performance degradation.\n",
      "25/05/07 09:45:26 WARN WindowExec: No Partition Defined for Window operation! Moving all data to a single partition, this can cause serious performance degradation.\n",
      "25/05/07 09:45:29 WARN WindowExec: No Partition Defined for Window operation! Moving all data to a single partition, this can cause serious performance degradation.\n",
      "25/05/07 09:45:29 WARN WindowExec: No Partition Defined for Window operation! Moving all data to a single partition, this can cause serious performance degradation.\n",
      "                                                                                \r"
     ]
    },
    {
     "data": {
      "text/plain": [
       "'Total time: 1:40:11.387356 and - Total rows: 16609485 - Total columns: 16'"
      ]
     },
     "execution_count": 10,
     "metadata": {},
     "output_type": "execute_result"
    }
   ],
   "source": [
    "write_to_postgresl(df_procedure_occurrence, tb_name='omop.procedure_occurrence', write_mode='append')"
   ]
  },
  {
   "cell_type": "markdown",
   "id": "6de036eb",
   "metadata": {},
   "source": [
    "### Deprecated"
   ]
  },
  {
   "cell_type": "markdown",
   "id": "74d8976f",
   "metadata": {},
   "source": [
    "### Salvando CSV "
   ]
  },
  {
   "cell_type": "code",
   "execution_count": 6,
   "id": "77898bd0",
   "metadata": {},
   "outputs": [
    {
     "name": "stderr",
     "output_type": "stream",
     "text": [
      "25/05/26 12:40:19 WARN WindowExec: No Partition Defined for Window operation! Moving all data to a single partition, this can cause serious performance degradation.\n",
      "25/05/26 12:40:19 WARN WindowExec: No Partition Defined for Window operation! Moving all data to a single partition, this can cause serious performance degradation.\n",
      "25/05/26 12:40:22 WARN WindowExec: No Partition Defined for Window operation! Moving all data to a single partition, this can cause serious performance degradation.\n",
      "25/05/26 12:40:22 WARN WindowExec: No Partition Defined for Window operation! Moving all data to a single partition, this can cause serious performance degradation.\n",
      "                                                                                \r"
     ]
    }
   ],
   "source": [
    "df_procedure_occurrence.repartition(1).write.parquet('/data/IDAF/PROJETOS/PARCERIA_CIDACS_PHDC/omop_scripts_base_16mi_karine/csv/procedure_occurrence_infant', mode='overwrite')"
   ]
  },
  {
   "cell_type": "markdown",
   "id": "4beea3f6",
   "metadata": {},
   "source": [
    "## SQL de insertion"
   ]
  },
  {
   "cell_type": "code",
   "execution_count": null,
   "id": "c7b417f2",
   "metadata": {},
   "outputs": [],
   "source": [
    "# -- CREATE TABLE public.procedure_occurrence (\n",
    "# -- \t\t\tprocedure_occurrence_id integer NOT NULL,\n",
    "# -- \t\t\tperson_id integer NOT NULL,\n",
    "# -- \t\t\tprocedure_concept_id integer NOT NULL,\n",
    "# -- \t\t\tprocedure_date date NOT NULL,\n",
    "# -- \t\t\tprocedure_datetime TIMESTAMP NULL,\n",
    "# -- \t\t\tprocedure_end_date date NULL,\n",
    "# -- \t\t\tprocedure_end_datetime TIMESTAMP NULL,\n",
    "# -- \t\t\tprocedure_type_concept_id integer NOT NULL,\n",
    "# -- \t\t\tmodifier_concept_id integer NULL,\n",
    "# -- \t\t\tquantity integer NULL,\n",
    "# -- \t\t\tprovider_id integer NULL,\n",
    "# -- \t\t\tvisit_occurrence_id integer NULL,\n",
    "# -- \t\t\tvisit_detail_id integer NULL,\n",
    "# -- \t\t\tprocedure_source_value varchar(50) NULL,\n",
    "# -- \t\t\tprocedure_source_concept_id integer NULL,\n",
    "# -- \t\t\tmodifier_source_value varchar(50) NULL );\n",
    "\n",
    "\n",
    "# -- CREATE TABLE public.procedure_occurrence_pyspark (\n",
    "# -- \t\t\tprocedure_occurrence_id varchar,\n",
    "# -- \t\t\tperson_id varchar,\n",
    "# -- \t\t\tprocedure_concept_id varchar,\n",
    "# -- \t\t\tprocedure_date varchar,\n",
    "# -- \t\t\tprocedure_datetime varchar,\n",
    "# -- \t\t\tprocedure_end_date varchar,\n",
    "# -- \t\t\tprocedure_end_datetime varchar,\n",
    "# -- \t\t\tprocedure_type_concept_id varchar,\n",
    "# -- \t\t\tmodifier_concept_id varchar,\n",
    "# -- \t\t\tquantity varchar,\n",
    "# -- \t\t\tprovider_id varchar,\n",
    "# -- \t\t\tvisit_occurrence_id varchar,\n",
    "# -- \t\t\tvisit_detail_id varchar,\n",
    "# -- \t\t\tprocedure_source_value varchar,\n",
    "# -- \t\t\tprocedure_source_concept_id varchar,\n",
    "# -- \t\t\tmodifier_source_value  varchar);\n",
    "\n",
    "\t\t\t\t\t\t\t\t   \n",
    "# insert into public.procedure_occurrence (\n",
    "# \t\t\tprocedure_occurrence_id,\n",
    "# \t\t\tperson_id,\n",
    "# \t\t\tprocedure_concept_id,\n",
    "# \t\t\tprocedure_date,\n",
    "# \t\t\tprocedure_datetime,\n",
    "# \t\t\tprocedure_end_date,\n",
    "# \t\t\tprocedure_end_datetime,\n",
    "# \t\t\tprocedure_type_concept_id,\n",
    "# \t\t\tmodifier_concept_id,\n",
    "# \t\t\tquantity,\n",
    "# \t\t\tprovider_id,\n",
    "# \t\t\tvisit_occurrence_id,\n",
    "# \t\t\tvisit_detail_id,\n",
    "# \t\t\tprocedure_source_value,\n",
    "# \t\t\tprocedure_source_concept_id,\n",
    "# \t\t\tmodifier_source_value\n",
    "# )\n",
    "# SELECT \n",
    "# \t\t\tcast(procedure_occurrence_id as integer),\n",
    "# \t\t\tcast(person_id as integer),\n",
    "# \t\t\tcast(case when procedure_concept_id = '' then null else procedure_concept_id end as integer),\n",
    "# \t\t\tcast(procedure_date as date),\n",
    "# \t\t\tcast(case when procedure_datetime = '' then null else procedure_datetime end as timestamp),\n",
    "# \t\t\tcast(case when procedure_end_date = '' then null else procedure_end_date end as date),\n",
    "# \t\t\tcast(case when procedure_end_datetime = '' then null else procedure_end_datetime end as timestamp),\n",
    "# \t\t\tcast(case when procedure_type_concept_id = '' then null else procedure_type_concept_id end as integer),\n",
    "# \t\t\tcast(case when modifier_concept_id ='' then null else modifier_concept_id end as integer),\n",
    "# \t\t\tcast(case when quantity = '' then null else quantity end as integer),\n",
    "# \t\t\tcast(case when provider_id ='' then null else provider_id end as integer),\n",
    "# \t\t\tcast(case when visit_occurrence_id = '' then null else visit_occurrence_id end as integer),\n",
    "# \t\t\tcast(case when visit_detail_id = '' then null else visit_detail_id end as integer),\n",
    "# \t\t\tcast(procedure_source_value as varchar),\n",
    "# \t\t\tcast(case when procedure_source_concept_id = '' then null else procedure_source_concept_id end as integer),\n",
    "# \t\t\tcast(modifier_source_value as varchar)\n",
    "# \tFROM public.procedure_occurrence_pyspark;\n",
    "\n",
    "\n"
   ]
  }
 ],
 "metadata": {
  "kernelspec": {
   "display_name": "Python 3 (ipykernel)",
   "language": "python",
   "name": "python3"
  },
  "language_info": {
   "codemirror_mode": {
    "name": "ipython",
    "version": 3
   },
   "file_extension": ".py",
   "mimetype": "text/x-python",
   "name": "python",
   "nbconvert_exporter": "python",
   "pygments_lexer": "ipython3",
   "version": "3.10.12"
  }
 },
 "nbformat": 4,
 "nbformat_minor": 5
}
