{
 "cells": [
  {
   "cell_type": "markdown",
   "id": "b3b8b21d",
   "metadata": {},
   "source": [
    "### Configurações Pyspark"
   ]
  },
  {
   "cell_type": "code",
   "execution_count": 1,
   "id": "e5254cb2",
   "metadata": {},
   "outputs": [
    {
     "name": "stderr",
     "output_type": "stream",
     "text": [
      "25/05/26 13:57:38 WARN NativeCodeLoader: Unable to load native-hadoop library for your platform... using builtin-java classes where applicable\n",
      "Setting default log level to \"WARN\".\n",
      "To adjust logging level use sc.setLogLevel(newLevel). For SparkR, use setLogLevel(newLevel).\n",
      "25/05/26 13:57:39 WARN Utils: Service 'SparkUI' could not bind on port 4040. Attempting port 4041.\n",
      "25/05/26 13:57:39 WARN Utils: Service 'SparkUI' could not bind on port 4041. Attempting port 4042.\n",
      "25/05/26 13:57:39 WARN Utils: Service 'SparkUI' could not bind on port 4042. Attempting port 4043.\n",
      "25/05/26 13:57:39 WARN Utils: Service 'SparkUI' could not bind on port 4043. Attempting port 4044.\n",
      "25/05/26 13:57:39 WARN Utils: Service 'SparkUI' could not bind on port 4044. Attempting port 4045.\n",
      "25/05/26 13:57:39 WARN Utils: Service 'SparkUI' could not bind on port 4045. Attempting port 4046.\n",
      "25/05/26 13:57:39 WARN Utils: Service 'SparkUI' could not bind on port 4046. Attempting port 4047.\n",
      "25/05/26 13:57:39 WARN Utils: Service 'SparkUI' could not bind on port 4047. Attempting port 4048.\n",
      "25/05/26 13:57:39 WARN Utils: Service 'SparkUI' could not bind on port 4048. Attempting port 4049.\n",
      "25/05/26 13:57:39 WARN Utils: Service 'SparkUI' could not bind on port 4049. Attempting port 4050.\n",
      "25/05/26 13:57:39 WARN Utils: Service 'SparkUI' could not bind on port 4050. Attempting port 4051.\n",
      "25/05/26 13:57:39 WARN Utils: Service 'SparkUI' could not bind on port 4051. Attempting port 4052.\n",
      "25/05/26 13:57:39 WARN Utils: Service 'SparkUI' could not bind on port 4052. Attempting port 4053.\n"
     ]
    }
   ],
   "source": [
    "from pyspark.sql import SparkSession\n",
    "from pyspark.sql import functions as F\n",
    "from pyspark.sql import Window\n",
    "\n",
    "import pandas as pd\n",
    "\n",
    "def write_to_postgresl(df, tb_name=None, write_mode='None'):\n",
    "    df.count()\n",
    "    if tb_name is None:\n",
    "        raise Exception('Informe o nome da tabela')\n",
    "    if write_mode is None:\n",
    "        raise Exception('Informe o mode de escrita: append ou overwrite')\n",
    "        \n",
    "    from datetime import datetime\n",
    "    start_time = datetime.now()\n",
    "    \n",
    "    try:\n",
    "        df.write.jdbc(url, table=tb_name, mode=write_mode, properties=properties)\n",
    "    except Exception as e:\n",
    "        print(f'Erro: {e}')\n",
    "    end_time = datetime.now()\n",
    "    \n",
    "    total_time = str(end_time - start_time)\n",
    "    \n",
    "    return f'Total time: {total_time} and - Total rows: {df.count()} - Total columns: {len(df.columns)}'\n",
    "\n",
    "\n",
    "\n",
    "    # Criando a sessão do Spark\n",
    "spark  = SparkSession.builder \\\n",
    "    .appName(\"Data Analysis\") \\\n",
    "    .config('spark.jars', '/data/IDAF/DATABASECONNECTOR_JAR_FOLDER/postgresql-42.2.18.jar')\\\n",
    "    .config(\"spark.executor.memory\", \"8g\")\\\n",
    "    .config(\"spark.driver.memory\", \"8g\")\\\n",
    "    .config(\"spark.executor.cores\", \"4\")\\\n",
    "    .config(\"spark.executor.instances\",\"8\")\\\n",
    "    .config(\"spark.sql.shuffle.partitions\",\"96\")\\\n",
    "    .config(\"spark.default.parallelism\",\"96\")\\\n",
    "    .getOrCreate()\n",
    "\n",
    "\n",
    "url = \"jdbc:postgresql://localhost:5432/postgres\"\n",
    "\n",
    "properties = {\n",
    "    \"user\" : \"postgres\",\n",
    "    \"password\" : \"cidacs\",\n",
    "    \"driver\" : \"org.postgresql.Driver\"\n",
    "}"
   ]
  },
  {
   "cell_type": "markdown",
   "id": "dfefd642-873e-4852-a031-ddea01dfd1fa",
   "metadata": {},
   "source": [
    "### Configurações Pandas"
   ]
  },
  {
   "cell_type": "code",
   "execution_count": 2,
   "id": "787acd6f",
   "metadata": {},
   "outputs": [],
   "source": [
    "spark.conf.set(\"spark.sql.repl.eagerEval.enabled\", True)\n",
    "spark.conf.set(\"spark.sql.repl.eagerEval.truncate\", 100)\n",
    "spark.conf.set(\"spark.sql.repl.eagerEval.maxNumRows\", 300)\n",
    "\n",
    "spark.conf.set(\"spark.sql.debug.maxToStringFields\", 100)\n",
    "\n",
    "pd.set_option(\"display.max_columns\", None) \n",
    "pd.set_option(\"display.max_rows\", None)"
   ]
  },
  {
   "cell_type": "markdown",
   "id": "e5bdd252",
   "metadata": {},
   "source": [
    "### Lendo dados enriquecidos"
   ]
  },
  {
   "cell_type": "code",
   "execution_count": 3,
   "id": "64224f0d",
   "metadata": {},
   "outputs": [
    {
     "name": "stderr",
     "output_type": "stream",
     "text": [
      "\r",
      "[Stage 0:>                                                          (0 + 1) / 1]\r",
      "\r",
      "                                                                                \r"
     ]
    }
   ],
   "source": [
    "df_input = (spark\n",
    "            .read\n",
    "            .parquet('/data/IDAF/PROJETOS/PARCERIA_CIDACS_PHDC/basefinal_gest_limp_enriched', header=True)\n",
    "           )"
   ]
  },
  {
   "cell_type": "markdown",
   "id": "b21352a3",
   "metadata": {},
   "source": [
    "### Location"
   ]
  },
  {
   "cell_type": "code",
   "execution_count": 4,
   "id": "5b364336",
   "metadata": {},
   "outputs": [
    {
     "name": "stderr",
     "output_type": "stream",
     "text": [
      "                                                                                \r"
     ]
    },
    {
     "data": {
      "text/plain": [
       "115184"
      ]
     },
     "execution_count": 4,
     "metadata": {},
     "output_type": "execute_result"
    }
   ],
   "source": [
    "## Quantidade de exposicao a droga muito baixo pois não existe um start date\n",
    "df_drug_exposure = (df_input\n",
    "                  .select('person_id', 'tpesquema_mae', 'dt_notific_mae', 'visit_occurrence_id')\n",
    "                  .withColumn('drug_concept_id', F.when(F.col('tpesquema_mae').isin(1,2,3), 1728416)\n",
    "                              .when(F.col('tpesquema_mae').isin(4), 1738521)\n",
    "                              .when(F.col('tpesquema_mae').isin(5), 4118638)\n",
    "                              .when(F.col('tpesquema_mae').isin(88,99), 0)\n",
    "                              .otherwise(0))\n",
    "                  .withColumn('drug_exposure_start_date', F.to_date(F.col('dt_notific_mae'), 'yyyy-MM-dd'))\n",
    "                  .withColumn('drug_exposure_end_date', F.when(F.col('tpesquema_mae')==1, F.date_add('dt_notific_mae', 1))\n",
    "                              .when(F.col('tpesquema_mae')==2, F.date_add('dt_notific_mae', 7))\n",
    "                              .when(F.col('tpesquema_mae').isin(3, 4), F.date_add('dt_notific_mae', 14))\n",
    "                              .when(F.col('tpesquema_mae')==5, F.col('dt_notific_mae'))\n",
    "                              .when(F.col('tpesquema_mae')==88, F.col('dt_notific_mae'))\n",
    "                              .when(F.col('tpesquema_mae')==99, F.col('dt_notific_mae'))\n",
    "                              .otherwise(F.col('dt_notific_mae')))\n",
    "                  .withColumn('drug_type_concept_id', F.lit(32879))\n",
    "                  .withColumn('quantity', F.when(F.col('tpesquema_mae')==0, F.lit(None).cast('int'))\n",
    "                              .when(F.col('tpesquema_mae')==1, F.lit(2400000).cast('int'))\n",
    "                              .when(F.col('tpesquema_mae')==2, F.lit(4800000).cast('int'))\n",
    "                              .when(F.col('tpesquema_mae')==3, F.lit(7200000).cast('int'))\n",
    "                              .when(F.col('tpesquema_mae')==4, F.lit(100).cast('int'))\n",
    "                              .when(F.col('tpesquema_mae')==5, F.lit(0).cast('int'))\n",
    "                              .when(F.col('tpesquema_mae')==88, F.lit(0).cast('int'))\n",
    "                              .when(F.col('tpesquema_mae')==99, F.lit(0).cast('int'))\n",
    "                              .otherwise(0))\n",
    "                  .withColumn('dose_unit_source_value', F.when(F.col('tpesquema_mae')==0, F.lit(None).cast('int'))\n",
    "                              .when(F.col('tpesquema_mae').isin(1,2,3), F.lit(8718).cast('int'))\n",
    "                              .when(F.col('tpesquema_mae')==4, F.lit(8576).cast('int'))\n",
    "                              .when(F.col('tpesquema_mae')==5, F.lit(None).cast('int'))\n",
    "                              .when(F.col('tpesquema_mae')==88, F.lit(None).cast('int'))\n",
    "                              .when(F.col('tpesquema_mae')==99, F.lit(None).cast('int'))\n",
    "                              .otherwise(0))\n",
    "                    .withColumn('drug_exposure_end_datetime', F.lit(None))\n",
    "                    .withColumn('drug_exposure_start_datetime', F.lit(None))\n",
    "                    .withColumn('verbatim_end_date', F.lit(None))\n",
    "                    .withColumn('stop_reason', F.lit(None))\n",
    "                    .withColumn('refills', F.lit(None))\n",
    "                    .withColumn('days_supply', F.lit(None))\n",
    "                    .withColumn('sig', F.lit(None))\n",
    "                    .withColumn('route_concept_id', F.lit(None))\n",
    "                    .withColumn('lot_number', F.lit(None))\n",
    "                    .withColumn('provider_id', F.lit(None))\n",
    "                    .withColumn('visit_occurrence_id', F.col('visit_occurrence_id'))\n",
    "                    .withColumn('visit_detail_id', F.lit(None))\n",
    "                    .withColumn('drug_source_value', F.lit(None))\n",
    "                    .withColumn('drug_source_concept_id', F.lit(None))\n",
    "                    .withColumn('route_source_value', F.lit(None))\n",
    "                    .withColumn('drug_exposure_id', F.row_number().over(Window.orderBy('person_id')))\n",
    "                    .filter(F.col('drug_exposure_start_date').isNotNull())\n",
    "           ).select(\n",
    "                    F.col('drug_exposure_id').cast('integer'),\n",
    "                    F.col('person_id').cast('integer'),\n",
    "                    F.col('drug_concept_id').cast('integer'),\n",
    "                    F.col('drug_exposure_start_date').cast('date'),\n",
    "                    F.col('drug_exposure_start_datetime').cast('timestamp'),\n",
    "                    F.col('drug_exposure_end_date').cast('date'),\n",
    "                    F.col('drug_exposure_end_datetime').cast('timestamp'),\n",
    "                    F.col('verbatim_end_date').cast('date'),\n",
    "                    F.col('drug_type_concept_id').cast('integer'),\n",
    "                    F.col('stop_reason').cast('string'),\n",
    "                    F.col('refills').cast('integer'),\n",
    "                    F.col('quantity').cast('float'),\n",
    "                    F.col('days_supply').cast('integer'),\n",
    "                    F.col('sig').cast('string'),\n",
    "                    F.col('route_concept_id').cast('integer'),\n",
    "                    F.col('lot_number').cast('string'),\n",
    "                    F.col('provider_id').cast('integer'),\n",
    "                    F.col('visit_occurrence_id').cast('integer'),\n",
    "                    F.col('visit_detail_id').cast('integer'),\n",
    "                    F.col('drug_source_value').cast('string'),\n",
    "                    F.col('drug_source_concept_id').cast('integer'),\n",
    "                    F.col('route_source_value').cast('string'),\n",
    "                    F.col('dose_unit_source_value').cast('string')\n",
    "                )\n",
    "\n",
    "df_drug_exposure.count()"
   ]
  },
  {
   "cell_type": "markdown",
   "id": "add41721",
   "metadata": {},
   "source": [
    "## Salvando no postgresql"
   ]
  },
  {
   "cell_type": "code",
   "execution_count": 12,
   "id": "a3be2fe1",
   "metadata": {},
   "outputs": [
    {
     "name": "stderr",
     "output_type": "stream",
     "text": [
      "25/05/23 10:07:26 WARN WindowExec: No Partition Defined for Window operation! Moving all data to a single partition, this can cause serious performance degradation.\n",
      "25/05/23 10:07:26 WARN WindowExec: No Partition Defined for Window operation! Moving all data to a single partition, this can cause serious performance degradation.\n",
      "25/05/23 10:07:26 WARN WindowExec: No Partition Defined for Window operation! Moving all data to a single partition, this can cause serious performance degradation.\n",
      "25/05/23 10:07:29 WARN WindowExec: No Partition Defined for Window operation! Moving all data to a single partition, this can cause serious performance degradation.\n",
      "25/05/23 10:07:29 WARN WindowExec: No Partition Defined for Window operation! Moving all data to a single partition, this can cause serious performance degradation.\n",
      "                                                                                \r"
     ]
    },
    {
     "data": {
      "text/plain": [
       "'Total time: 0:02:41.614232 and - Total rows: 115184 - Total columns: 23'"
      ]
     },
     "execution_count": 12,
     "metadata": {},
     "output_type": "execute_result"
    }
   ],
   "source": [
    "write_to_postgresl(df_drug_exposure, tb_name='omop.drug_exposure', write_mode='append')"
   ]
  },
  {
   "cell_type": "markdown",
   "id": "8841e3f0",
   "metadata": {},
   "source": [
    "### Deprecated"
   ]
  },
  {
   "cell_type": "markdown",
   "id": "74d8976f",
   "metadata": {},
   "source": [
    "### Salvando CSV "
   ]
  },
  {
   "cell_type": "code",
   "execution_count": 5,
   "id": "77898bd0",
   "metadata": {},
   "outputs": [
    {
     "name": "stderr",
     "output_type": "stream",
     "text": [
      "25/05/26 13:57:53 WARN WindowExec: No Partition Defined for Window operation! Moving all data to a single partition, this can cause serious performance degradation.\n",
      "25/05/26 13:57:53 WARN WindowExec: No Partition Defined for Window operation! Moving all data to a single partition, this can cause serious performance degradation.\n",
      "25/05/26 13:57:56 WARN WindowExec: No Partition Defined for Window operation! Moving all data to a single partition, this can cause serious performance degradation.\n",
      "25/05/26 13:57:56 WARN WindowExec: No Partition Defined for Window operation! Moving all data to a single partition, this can cause serious performance degradation.\n",
      "                                                                                \r"
     ]
    }
   ],
   "source": [
    "df_drug_exposure.repartition(1).write.parquet('/data/IDAF/PROJETOS/PARCERIA_CIDACS_PHDC/omop_scripts_base_16mi_karine/csv/drug_exposure', mode='overwrite')"
   ]
  },
  {
   "cell_type": "markdown",
   "id": "4beea3f6",
   "metadata": {},
   "source": [
    "## SQL de insertion"
   ]
  },
  {
   "cell_type": "code",
   "execution_count": null,
   "id": "c7b417f2",
   "metadata": {},
   "outputs": [],
   "source": [
    "# CREATE TABLE public.drug_exposure (\n",
    "# \t\t\tdrug_exposure_id integer NOT NULL,\n",
    "# \t\t\tperson_id integer NOT NULL,\n",
    "# \t\t\tdrug_concept_id integer NOT NULL,\n",
    "# \t\t\tdrug_exposure_start_date date NOT NULL,\n",
    "# \t\t\tdrug_exposure_start_datetime TIMESTAMP NULL,\n",
    "# \t\t\tdrug_exposure_end_date date NOT NULL,\n",
    "# \t\t\tdrug_exposure_end_datetime TIMESTAMP NULL,\n",
    "# \t\t\tverbatim_end_date date NULL,\n",
    "# \t\t\tdrug_type_concept_id integer NOT NULL,\n",
    "# \t\t\tstop_reason varchar(20) NULL,\n",
    "# \t\t\trefills integer NULL,\n",
    "# \t\t\tquantity NUMERIC NULL,\n",
    "# \t\t\tdays_supply integer NULL,\n",
    "# \t\t\tsig TEXT NULL,\n",
    "# \t\t\troute_concept_id integer NULL,\n",
    "# \t\t\tlot_number varchar(50) NULL,\n",
    "# \t\t\tprovider_id integer NULL,\n",
    "# \t\t\tvisit_occurrence_id integer NULL,\n",
    "# \t\t\tvisit_detail_id integer NULL,\n",
    "# \t\t\tdrug_source_value varchar(50) NULL,\n",
    "# \t\t\tdrug_source_concept_id integer NULL,\n",
    "# \t\t\troute_source_value varchar(50) NULL,\n",
    "# \t\t\tdose_unit_source_value varchar(50) NULL );\n",
    "\n",
    "\n",
    "\n",
    "# CREATE TABLE public.drug_exposure_pyspark (\n",
    "# \t\t\tdrug_exposure_id varchar,\n",
    "# \t\t\tperson_id varchar,\n",
    "# \t\t\tdrug_concept_id varchar,\n",
    "# \t\t\tdrug_exposure_start_date varchar,\n",
    "# \t\t\tdrug_exposure_start_datetime varchar,\n",
    "# \t\t\tdrug_exposure_end_date varchar,\n",
    "# \t\t\tdrug_exposure_end_datetime varchar,\n",
    "# \t\t\tverbatim_end_date varchar,\n",
    "# \t\t\tdrug_type_concept_id varchar,\n",
    "# \t\t\tstop_reason varchar,\n",
    "# \t\t\trefills varchar,\n",
    "# \t\t\tquantity varchar,\n",
    "# \t\t\tdays_supply varchar,\n",
    "# \t\t\tsig varchar,\n",
    "# \t\t\troute_concept_id varchar,\n",
    "# \t\t\tlot_number varchar,\n",
    "# \t\t\tprovider_id varchar,\n",
    "# \t\t\tvisit_occurrence_id varchar,\n",
    "# \t\t\tvisit_detail_id varchar,\n",
    "# \t\t\tdrug_source_value varchar,\n",
    "# \t\t\tdrug_source_concept_id varchar,\n",
    "# \t\t\troute_source_value varchar,\n",
    "# \t\t\tdose_unit_source_value varchar)\n",
    "\n",
    "\n",
    "# insert into public.drug_exposure (\n",
    "# drug_exposure_id,\n",
    "# person_id,\n",
    "# drug_concept_id,\n",
    "# drug_exposure_start_date,\n",
    "# drug_exposure_start_datetime,\n",
    "# drug_exposure_end_date,\n",
    "# drug_exposure_end_datetime,\n",
    "# verbatim_end_date,\n",
    "# drug_type_concept_id,\n",
    "# stop_reason,\n",
    "# refills,\n",
    "# quantity,\n",
    "# days_supply,\n",
    "# sig,\n",
    "# route_concept_id,\n",
    "# lot_number,\n",
    "# provider_id,\n",
    "# visit_occurrence_id,\n",
    "# visit_detail_id,\n",
    "# drug_source_value,\n",
    "# drug_source_concept_id,\n",
    "# route_source_value,\n",
    "# dose_unit_source_value\n",
    "# )\n",
    "# SELECT \n",
    "# cast(case when drug_exposure_id='' then null else drug_exposure_id end as integer),\n",
    "# cast(case when person_id='' then null else person_id end as integer),\n",
    "# cast(case when drug_concept_id='' then null else drug_concept_id end as integer),\n",
    "# cast(case when drug_exposure_start_date='' then null else drug_exposure_start_date end as date),\n",
    "# cast(case when drug_exposure_start_datetime='' then null else drug_exposure_start_datetime end as timestamp),\n",
    "# cast(case when drug_exposure_end_date='' then null else drug_exposure_end_date end as date),\n",
    "# cast(case when drug_exposure_end_datetime='' then null else drug_exposure_end_datetime end as timestamp),\n",
    "# cast(case when verbatim_end_date='' then null else verbatim_end_date end as timestamp),\n",
    "# cast(case when drug_type_concept_id='' then null else drug_type_concept_id end as integer),\n",
    "# stop_reason,\n",
    "# cast(case when refills='' then null else refills end as integer),\n",
    "# cast(case when quantity='' then null else quantity end as decimal),\n",
    "# cast(case when days_supply='' then null else days_supply end as integer),\n",
    "# sig,\n",
    "# cast(case when route_concept_id='' then null else route_concept_id end as integer),\n",
    "# cast(case when lot_number='' then null else lot_number end as integer),\n",
    "# cast(case when provider_id='' then null else provider_id end as integer),\n",
    "# cast(case when visit_occurrence_id='' then null else visit_occurrence_id end as integer),\n",
    "# cast(case when visit_detail_id='' then null else visit_detail_id end as integer),\n",
    "# drug_source_value,\n",
    "# cast(case when drug_source_concept_id='' then null else drug_source_concept_id end as integer),\n",
    "# route_source_value,\n",
    "# dose_unit_source_value\n",
    "# \tFROM public.drug_exposure_pyspark;\n"
   ]
  }
 ],
 "metadata": {
  "kernelspec": {
   "display_name": "Python 3 (ipykernel)",
   "language": "python",
   "name": "python3"
  },
  "language_info": {
   "codemirror_mode": {
    "name": "ipython",
    "version": 3
   },
   "file_extension": ".py",
   "mimetype": "text/x-python",
   "name": "python",
   "nbconvert_exporter": "python",
   "pygments_lexer": "ipython3",
   "version": "3.10.12"
  }
 },
 "nbformat": 4,
 "nbformat_minor": 5
}
