{
 "cells": [
  {
   "cell_type": "markdown",
   "id": "b3b8b21d",
   "metadata": {},
   "source": [
    "### Configurações Pyspark"
   ]
  },
  {
   "cell_type": "code",
   "execution_count": 1,
   "id": "e5254cb2",
   "metadata": {},
   "outputs": [
    {
     "name": "stderr",
     "output_type": "stream",
     "text": [
      "25/07/16 23:50:17 WARN NativeCodeLoader: Unable to load native-hadoop library for your platform... using builtin-java classes where applicable\n",
      "Setting default log level to \"WARN\".\n",
      "To adjust logging level use sc.setLogLevel(newLevel). For SparkR, use setLogLevel(newLevel).\n",
      "25/07/16 23:50:18 WARN Utils: Service 'SparkUI' could not bind on port 4040. Attempting port 4041.\n",
      "25/07/16 23:50:18 WARN Utils: Service 'SparkUI' could not bind on port 4041. Attempting port 4042.\n",
      "25/07/16 23:50:18 WARN Utils: Service 'SparkUI' could not bind on port 4042. Attempting port 4043.\n",
      "25/07/16 23:50:18 WARN Utils: Service 'SparkUI' could not bind on port 4043. Attempting port 4044.\n",
      "25/07/16 23:50:18 WARN Utils: Service 'SparkUI' could not bind on port 4044. Attempting port 4045.\n",
      "25/07/16 23:50:18 WARN Utils: Service 'SparkUI' could not bind on port 4045. Attempting port 4046.\n",
      "25/07/16 23:50:18 WARN Utils: Service 'SparkUI' could not bind on port 4046. Attempting port 4047.\n"
     ]
    }
   ],
   "source": [
    "from pyspark.sql import SparkSession\n",
    "from pyspark.sql import functions as F\n",
    "from pyspark.sql import Window\n",
    "\n",
    "import pandas as pd\n",
    "\n",
    "def write_to_postgresl(df, tb_name=None, write_mode='None'):\n",
    "    df.count()\n",
    "    if tb_name is None:\n",
    "        raise Exception('Informe o nome da tabela')\n",
    "    if write_mode is None:\n",
    "        raise Exception('Informe o mode de escrita: append ou overwrite')\n",
    "        \n",
    "    from datetime import datetime\n",
    "    start_time = datetime.now()\n",
    "    \n",
    "    try:\n",
    "        df.write.jdbc(url, table=tb_name, mode=write_mode, properties=properties)\n",
    "    except Exception as e:\n",
    "        print(f'Erro: {e}')\n",
    "    end_time = datetime.now()\n",
    "    \n",
    "    total_time = str(end_time - start_time)\n",
    "    \n",
    "    return f'Total time: {total_time} and - Total rows: {df.count()} - Total columns: {len(df.columns)}'\n",
    "\n",
    "\n",
    "\n",
    "    # Criando a sessão do Spark\n",
    "spark  = SparkSession.builder \\\n",
    "    .appName(\"Data Analysis\") \\\n",
    "    .config('spark.jars', '/data/IDAF/DATABASECONNECTOR_JAR_FOLDER/postgresql-42.2.18.jar')\\\n",
    "    .config(\"spark.executor.memory\", \"8g\")\\\n",
    "    .config(\"spark.driver.memory\", \"8g\")\\\n",
    "    .config(\"spark.executor.cores\", \"4\")\\\n",
    "    .config(\"spark.executor.instances\",\"8\")\\\n",
    "    .config(\"spark.sql.shuffle.partitions\",\"96\")\\\n",
    "    .config(\"spark.default.parallelism\",\"96\")\\\n",
    "    .getOrCreate()\n",
    "\n",
    "\n",
    "url = \"jdbc:postgresql://localhost:5432/postgres\"\n",
    "\n",
    "properties = {\n",
    "    \"user\" : \"postgres\",\n",
    "    \"password\" : \"cidacs\",\n",
    "    \"driver\" : \"org.postgresql.Driver\"\n",
    "}"
   ]
  },
  {
   "cell_type": "markdown",
   "id": "dfefd642-873e-4852-a031-ddea01dfd1fa",
   "metadata": {},
   "source": [
    "### Configurações Pandas"
   ]
  },
  {
   "cell_type": "code",
   "execution_count": 2,
   "id": "787acd6f",
   "metadata": {},
   "outputs": [],
   "source": [
    "spark.conf.set(\"spark.sql.repl.eagerEval.enabled\", True)\n",
    "spark.conf.set(\"spark.sql.repl.eagerEval.truncate\", 100)\n",
    "spark.conf.set(\"spark.sql.repl.eagerEval.maxNumRows\", 300)\n",
    "\n",
    "spark.conf.set(\"spark.sql.debug.maxToStringFields\", 100)\n",
    "\n",
    "pd.set_option(\"display.max_columns\", None) \n",
    "pd.set_option(\"display.max_rows\", None)"
   ]
  },
  {
   "cell_type": "markdown",
   "id": "e5bdd252",
   "metadata": {},
   "source": [
    "### Lendo dados enriquecidos"
   ]
  },
  {
   "cell_type": "code",
   "execution_count": 3,
   "id": "64224f0d",
   "metadata": {},
   "outputs": [
    {
     "name": "stderr",
     "output_type": "stream",
     "text": [
      "                                                                                \r"
     ]
    }
   ],
   "source": [
    "df_input = (spark\n",
    "            .read\n",
    "            .parquet('/data/IDAF/PROJETOS/PARCERIA_CIDACS_PHDC/scripts_omop_tb/basefinal_tb_limp_enriched')\n",
    "           )"
   ]
  },
  {
   "cell_type": "markdown",
   "id": "b21352a3",
   "metadata": {},
   "source": [
    "### Drug Exposure"
   ]
  },
  {
   "cell_type": "code",
   "execution_count": 5,
   "id": "5b364336",
   "metadata": {},
   "outputs": [
    {
     "data": {
      "text/plain": [
       "17058"
      ]
     },
     "execution_count": 5,
     "metadata": {},
     "output_type": "execute_result"
    }
   ],
   "source": [
    "## Quantidade de exposicao a droga muito baixo pois não existe um start date\n",
    "df_drug_exposure = (df_input\n",
    "                  .select('person_id', 'dt_inic_tr', 'visit_occurrence_id')\n",
    "                  .withColumn('drug_concept_id', F.when(F.col('dt_inic_tr').isNotNull(), 21090430))\n",
    "                  .withColumn('drug_exposure_start_date', F.when(F.col('dt_inic_tr').isNotNull(), F.to_date(F.col('dt_inic_tr'), 'yyyy-MM-dd')).otherwise(None))\n",
    "                  .withColumn('drug_exposure_end_date', F.when(F.col('dt_inic_tr').isNotNull(), F.date_add('drug_exposure_start_date', 180)))\n",
    "                  .withColumn('drug_type_concept_id', F.lit(32879))\n",
    "                  .withColumn('quantity', F.lit(None).cast('float'))\n",
    "                  .withColumn('dose_unit_source_value', F.lit(None).cast('string'))\n",
    "                    .withColumn('drug_exposure_end_datetime', F.lit(None))\n",
    "                    .withColumn('drug_exposure_start_datetime', F.lit(None))\n",
    "                    .withColumn('verbatim_end_date', F.lit(None))\n",
    "                    .withColumn('stop_reason', F.lit(None))\n",
    "                    .withColumn('refills', F.lit(None))\n",
    "                    .withColumn('days_supply', F.lit(None))\n",
    "                    .withColumn('sig', F.lit(None))\n",
    "                    .withColumn('route_concept_id', F.lit(None))\n",
    "                    .withColumn('lot_number', F.lit(None))\n",
    "                    .withColumn('provider_id', F.lit(None))\n",
    "                    .withColumn('visit_occurrence_id', F.col('visit_occurrence_id'))\n",
    "                    .withColumn('visit_detail_id', F.lit(None))\n",
    "                    .withColumn('drug_source_value', F.lit(None))\n",
    "                    .withColumn('drug_source_concept_id', F.lit(None))\n",
    "                    .withColumn('route_source_value', F.lit(None))\n",
    "                    .withColumn('drug_exposure_id', F.row_number().over(Window.orderBy('person_id')))\n",
    "                    .filter(F.col('drug_exposure_start_date').isNotNull())\n",
    "           ).select(\n",
    "                    F.col('drug_exposure_id').cast('integer'),\n",
    "                    F.col('person_id').cast('integer'),\n",
    "                    F.col('drug_concept_id').cast('integer'),\n",
    "                    F.col('drug_exposure_start_date').cast('date'),\n",
    "                    F.col('drug_exposure_start_datetime').cast('timestamp'),\n",
    "                    F.col('drug_exposure_end_date').cast('date'),\n",
    "                    F.col('drug_exposure_end_datetime').cast('timestamp'),\n",
    "                    F.col('verbatim_end_date').cast('date'),\n",
    "                    F.col('drug_type_concept_id').cast('integer'),\n",
    "                    F.col('stop_reason').cast('string'),\n",
    "                    F.col('refills').cast('integer'),\n",
    "                    F.col('quantity').cast('float'),\n",
    "                    F.col('days_supply').cast('integer'),\n",
    "                    F.col('sig').cast('string'),\n",
    "                    F.col('route_concept_id').cast('integer'),\n",
    "                    F.col('lot_number').cast('string'),\n",
    "                    F.col('provider_id').cast('integer'),\n",
    "                    F.col('visit_occurrence_id').cast('integer'),\n",
    "                    F.col('visit_detail_id').cast('integer'),\n",
    "                    F.col('drug_source_value').cast('string'),\n",
    "                    F.col('drug_source_concept_id').cast('integer'),\n",
    "                    F.col('route_source_value').cast('string'),\n",
    "                    F.col('dose_unit_source_value').cast('string')\n",
    "                )\n",
    "\n",
    "df_drug_exposure.count()"
   ]
  },
  {
   "cell_type": "markdown",
   "id": "add41721",
   "metadata": {},
   "source": [
    "## Salvando no postgresql"
   ]
  },
  {
   "cell_type": "code",
   "execution_count": 6,
   "id": "a3be2fe1",
   "metadata": {},
   "outputs": [
    {
     "name": "stderr",
     "output_type": "stream",
     "text": [
      "25/07/16 23:56:15 WARN WindowExec: No Partition Defined for Window operation! Moving all data to a single partition, this can cause serious performance degradation.\n",
      "25/07/16 23:56:15 WARN WindowExec: No Partition Defined for Window operation! Moving all data to a single partition, this can cause serious performance degradation.\n",
      "25/07/16 23:56:15 WARN WindowExec: No Partition Defined for Window operation! Moving all data to a single partition, this can cause serious performance degradation.\n",
      "25/07/16 23:56:19 WARN WindowExec: No Partition Defined for Window operation! Moving all data to a single partition, this can cause serious performance degradation.\n",
      "25/07/16 23:56:19 WARN WindowExec: No Partition Defined for Window operation! Moving all data to a single partition, this can cause serious performance degradation.\n",
      "                                                                                \r"
     ]
    },
    {
     "data": {
      "text/plain": [
       "'Total time: 0:01:01.307374 and - Total rows: 17058 - Total columns: 23'"
      ]
     },
     "execution_count": 6,
     "metadata": {},
     "output_type": "execute_result"
    }
   ],
   "source": [
    "write_to_postgresl(df_drug_exposure, tb_name='tuberculose.drug_exposure', write_mode='append')"
   ]
  },
  {
   "cell_type": "code",
   "execution_count": null,
   "id": "117c72c7",
   "metadata": {},
   "outputs": [],
   "source": []
  }
 ],
 "metadata": {
  "kernelspec": {
   "display_name": "Python 3 (ipykernel)",
   "language": "python",
   "name": "python3"
  },
  "language_info": {
   "codemirror_mode": {
    "name": "ipython",
    "version": 3
   },
   "file_extension": ".py",
   "mimetype": "text/x-python",
   "name": "python",
   "nbconvert_exporter": "python",
   "pygments_lexer": "ipython3",
   "version": "3.10.12"
  }
 },
 "nbformat": 4,
 "nbformat_minor": 5
}
