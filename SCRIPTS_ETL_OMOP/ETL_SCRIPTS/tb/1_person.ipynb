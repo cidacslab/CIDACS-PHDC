{
 "cells": [
  {
   "cell_type": "markdown",
   "id": "f6dc322a",
   "metadata": {},
   "source": [
    "### Configurações Pyspark"
   ]
  },
  {
   "cell_type": "code",
   "execution_count": 16,
   "id": "223c0402",
   "metadata": {},
   "outputs": [],
   "source": [
    "from pyspark.sql import SparkSession\n",
    "from pyspark.sql import functions as F\n",
    "from pyspark.sql import Window\n",
    "\n",
    "import pandas as pd\n",
    "\n",
    "def write_to_postgresl(df, tb_name=None, write_mode='None'):\n",
    "    df.count()\n",
    "    if tb_name is None:\n",
    "        raise Exception('Informe o nome da tabela')\n",
    "    if write_mode is None:\n",
    "        raise Exception('Informe o mode de escrita: append ou overwrite')\n",
    "        \n",
    "    from datetime import datetime\n",
    "    start_time = datetime.now()\n",
    "    \n",
    "    try:\n",
    "        df.write.jdbc(url, table=tb_name, mode=write_mode, properties=properties)\n",
    "    except Exception as e:\n",
    "        print(f'Erro: {e}')\n",
    "    end_time = datetime.now()\n",
    "    \n",
    "    total_time = str(end_time - start_time)\n",
    "    \n",
    "    return f'Total time: {total_time} and - Total rows: {df.count()} - Total columns: {len(df.columns)}'\n",
    "\n",
    "\n",
    "\n",
    "    # Criando a sessão do Spark\n",
    "spark  = SparkSession.builder \\\n",
    "    .appName(\"Data Analysis\") \\\n",
    "    .config('spark.jars', '/data/IDAF/DATABASECONNECTOR_JAR_FOLDER/postgresql-42.2.18.jar')\\\n",
    "    .config(\"spark.executor.memory\", \"8g\")\\\n",
    "    .config(\"spark.driver.memory\", \"8g\")\\\n",
    "    .config(\"spark.executor.cores\", \"4\")\\\n",
    "    .config(\"spark.executor.instances\",\"8\")\\\n",
    "    .config(\"spark.sql.shuffle.partitions\",\"96\")\\\n",
    "    .config(\"spark.default.parallelism\",\"96\")\\\n",
    "    .getOrCreate()\n",
    "\n",
    "\n",
    "url = \"jdbc:postgresql://localhost:5432/postgres\"\n",
    "\n",
    "properties = {\n",
    "    \"user\" : \"postgres\",\n",
    "    \"password\" : \"cidacs\",\n",
    "    \"driver\" : \"org.postgresql.Driver\"\n",
    "}"
   ]
  },
  {
   "cell_type": "markdown",
   "id": "4f6bfd13",
   "metadata": {},
   "source": [
    "# Configurações Pandas"
   ]
  },
  {
   "cell_type": "code",
   "execution_count": 17,
   "id": "46b9923f",
   "metadata": {},
   "outputs": [],
   "source": [
    "spark.conf.set(\"spark.sql.repl.eagerEval.enabled\", True)\n",
    "spark.conf.set(\"spark.sql.repl.eagerEval.truncate\", 100)\n",
    "spark.conf.set(\"spark.sql.repl.eagerEval.maxNumRows\", 300)\n",
    "\n",
    "spark.conf.set(\"spark.sql.debug.maxToStringFields\", 100)\n",
    "\n",
    "pd.set_option(\"display.max_columns\", None) \n",
    "pd.set_option(\"display.max_rows\", None)"
   ]
  },
  {
   "cell_type": "markdown",
   "id": "b28186dd",
   "metadata": {},
   "source": [
    "### Leitura da base enriquecida"
   ]
  },
  {
   "cell_type": "code",
   "execution_count": 18,
   "id": "4ef08e4d",
   "metadata": {},
   "outputs": [],
   "source": [
    "df_input = (spark\n",
    "            .read\n",
    "            .parquet('/data/IDAF/PROJETOS/PARCERIA_CIDACS_PHDC/scripts_omop_tb/basefinal_tb_limp_enriched')\n",
    "           )"
   ]
  },
  {
   "cell_type": "markdown",
   "id": "2bfd8c2b",
   "metadata": {},
   "source": [
    "### Criação das colunas da tabela Person do OMOP"
   ]
  },
  {
   "cell_type": "code",
   "execution_count": 19,
   "id": "741b7b90",
   "metadata": {},
   "outputs": [],
   "source": [
    "cod_mun = ['11','12','13','14','15','16','17','21','22','23','24','25','26','27','28','29','31','32','33','35','41','42','43','50','51','52','53']"
   ]
  },
  {
   "cell_type": "code",
   "execution_count": 20,
   "id": "8df41b65",
   "metadata": {},
   "outputs": [
    {
     "name": "stderr",
     "output_type": "stream",
     "text": [
      "                                                                                \r"
     ]
    },
    {
     "data": {
      "text/plain": [
       "12670996"
      ]
     },
     "execution_count": 20,
     "metadata": {},
     "output_type": "execute_result"
    }
   ],
   "source": [
    "df_person = (df_input\n",
    "             .withColumn('person_id', F.col('person_id'))\n",
    "             .withColumn('race_concept_id', F.when(F.col('racacormae_sinasc') == '0', 0)\n",
    "                                             .when(F.col('racacormae_sinasc') == '1', 8527)\n",
    "                                             .when(F.col('racacormae_sinasc') == '2', 38003598)\n",
    "                                             .when(F.col('racacormae_sinasc') == '3', 8515)\n",
    "                                             .when(F.col('racacormae_sinasc') == '4', 4212311)\n",
    "                                             .when(F.col('racacormae_sinasc') == '5', 19387526)\n",
    "                                             .when(F.col('racacormae_sinasc') == '99', 0)\n",
    "                                             .otherwise(0))\n",
    "             .withColumn('gender_concept_id', F.lit(8532)) # only female\n",
    "             .withColumn('sg_uf_mae', F.substring(F.col('codmunres_sinasc'), 1, 2))\n",
    "             .withColumn('ethnicity_concept_id', F.when(F.col('sg_uf_mae').isin(cod_mun), 38003563).otherwise(0))\n",
    "             .withColumn('year_of_birth', F.year('dt_nascimento_calc_mae'))\n",
    "             .withColumn('month_of_birth', F.month('dt_nascimento_calc_mae'))\n",
    "             .withColumn('day_of_birth', F.day('dt_nascimento_calc_mae'))\n",
    "             .withColumn('location_id', F.col('location_id'))\n",
    "             .withColumn('person_source_value', F.col('id_cidacs_mae_sinasc'))\n",
    "             .groupBy('person_id')\n",
    "             .agg( # Agrupando por person_id para que o dataframe tenha 1 mãe por \n",
    "                 F.max('race_concept_id').alias('race_concept_id'), \n",
    "                 F.max('gender_concept_id').alias('gender_concept_id'), \n",
    "                 F.max('ethnicity_concept_id').alias('ethnicity_concept_id'),\n",
    "                 F.max('year_of_birth').alias('year_of_birth'), \n",
    "                 F.max('month_of_birth').alias('month_of_birth'), \n",
    "                 F.max('day_of_birth').alias('day_of_birth'), \n",
    "                 F.max('location_id').alias('location_id'),\n",
    "                 F.max('person_source_value').alias('person_source_value'))\n",
    "             .withColumn('care_site_id', F.col('location_id')) # Utilizar a mesma regra do location_id: último local onde a mãe foi atendida\n",
    "             .withColumn('birth_datetime', F.lit(None))\n",
    "             .withColumn('provider_id', F.lit(None))\n",
    "             .withColumn('gender_source_value', F.lit(None))\n",
    "             .withColumn('gender_source_concept_id', F.lit(None))\n",
    "             .withColumn('race_source_value', F.lit(None))\n",
    "             .withColumn('race_source_concept_id', F.lit(None))\n",
    "             .withColumn('ethnicity_source_value', F.lit(None))\n",
    "             .withColumn('ethnicity_source_concept_id', F.lit(None))\n",
    "            ).select(\n",
    "                 F.col('person_id').cast('integer'),\n",
    "                 F.col('gender_concept_id').cast('integer'),\n",
    "                 F.col('year_of_birth').cast('integer'),\n",
    "                 F.col('month_of_birth').cast('integer'),\n",
    "                 F.col('day_of_birth').cast('integer'),\n",
    "                 F.col('birth_datetime').cast('timestamp'),\n",
    "                 F.col('race_concept_id').cast('integer'),\n",
    "                 F.col('location_id').cast('integer'),\n",
    "                 F.col('provider_id').cast('integer'),\n",
    "                 F.col('care_site_id').cast('integer'),\n",
    "                 F.col('person_source_value').cast('string'),\n",
    "                 F.col('gender_source_value').cast('string'),\n",
    "                 F.col('gender_source_concept_id').cast('integer'),\n",
    "                 F.col('race_source_value').cast('string'),\n",
    "                 F.col('race_source_concept_id').cast('integer'),\n",
    "                 F.col('ethnicity_source_value').cast('string'),\n",
    "                 F.col('ethnicity_source_concept_id').cast('integer'),\n",
    "                 F.col('ethnicity_concept_id').cast('integer')\n",
    "            )\n",
    "\n",
    "df_person.count()"
   ]
  },
  {
   "cell_type": "code",
   "execution_count": 22,
   "id": "c22ce259",
   "metadata": {},
   "outputs": [
    {
     "name": "stderr",
     "output_type": "stream",
     "text": [
      "                                                                                \r"
     ]
    },
    {
     "data": {
      "text/plain": [
       "'Total time: 0:03:54.511339 and - Total rows: 12670996 - Total columns: 18'"
      ]
     },
     "execution_count": 22,
     "metadata": {},
     "output_type": "execute_result"
    }
   ],
   "source": [
    "write_to_postgresl(df_person, tb_name='tuberculose.person', write_mode='append')"
   ]
  },
  {
   "cell_type": "code",
   "execution_count": null,
   "id": "0b1e1977",
   "metadata": {},
   "outputs": [],
   "source": []
  }
 ],
 "metadata": {
  "kernelspec": {
   "display_name": "Python 3 (ipykernel)",
   "language": "python",
   "name": "python3"
  },
  "language_info": {
   "codemirror_mode": {
    "name": "ipython",
    "version": 3
   },
   "file_extension": ".py",
   "mimetype": "text/x-python",
   "name": "python",
   "nbconvert_exporter": "python",
   "pygments_lexer": "ipython3",
   "version": "3.10.12"
  }
 },
 "nbformat": 4,
 "nbformat_minor": 5
}
