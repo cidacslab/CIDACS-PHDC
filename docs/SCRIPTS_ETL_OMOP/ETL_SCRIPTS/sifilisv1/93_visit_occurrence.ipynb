{
 "cells": [
  {
   "cell_type": "markdown",
   "id": "b3b8b21d",
   "metadata": {},
   "source": [
    "### Configurações Pyspark"
   ]
  },
  {
   "cell_type": "code",
   "execution_count": 1,
   "id": "e5254cb2",
   "metadata": {},
   "outputs": [
    {
     "name": "stderr",
     "output_type": "stream",
     "text": [
      "25/03/13 20:48:29 WARN NativeCodeLoader: Unable to load native-hadoop library for your platform... using builtin-java classes where applicable\n",
      "Setting default log level to \"WARN\".\n",
      "To adjust logging level use sc.setLogLevel(newLevel). For SparkR, use setLogLevel(newLevel).\n",
      "25/03/13 20:48:30 WARN Utils: Service 'SparkUI' could not bind on port 4040. Attempting port 4041.\n",
      "25/03/13 20:48:30 WARN Utils: Service 'SparkUI' could not bind on port 4041. Attempting port 4042.\n"
     ]
    }
   ],
   "source": [
    "from pyspark.sql import SparkSession\n",
    "from pyspark.sql import functions as F\n",
    "from pyspark.sql import Window\n",
    "\n",
    "import pandas as pd\n",
    "\n",
    "def write_to_postgresl(df, tb_name=None, write_mode='None'):\n",
    "    df.count()\n",
    "    if tb_name is None:\n",
    "        raise Exception('Informe o nome da tabela')\n",
    "    if write_mode is None:\n",
    "        raise Exception('Informe o mode de escrita: append ou overwrite')\n",
    "        \n",
    "    from datetime import datetime\n",
    "    start_time = datetime.now()\n",
    "    \n",
    "    try:\n",
    "        df.write.jdbc(url, table=tb_name, mode=write_mode, properties=properties)\n",
    "    except Exception as e:\n",
    "        print(f'Erro: {e}')\n",
    "    end_time = datetime.now()\n",
    "    \n",
    "    total_time = str(end_time - start_time)\n",
    "    \n",
    "    return f'Total time: {total_time} and - Total rows: {df.count()} - Total columns: {len(df.columns)}'\n",
    "\n",
    "\n",
    "\n",
    "    # Criando a sessão do Spark\n",
    "spark  = SparkSession.builder \\\n",
    "    .appName(\"Data Analysis\") \\\n",
    "    .config('spark.jars', '/data/IDAF/DATABASECONNECTOR_JAR_FOLDER/postgresql-42.2.18.jar')\\\n",
    "    .config(\"spark.executor.memory\", \"8g\")\\\n",
    "    .config(\"spark.driver.memory\", \"8g\")\\\n",
    "    .config(\"spark.executor.cores\", \"4\")\\\n",
    "    .config(\"spark.executor.instances\",\"8\")\\\n",
    "    .config(\"spark.sql.shuffle.partitions\",\"96\")\\\n",
    "    .config(\"spark.default.parallelism\",\"96\")\\\n",
    "    .getOrCreate()\n",
    "\n",
    "\n",
    "url = \"jdbc:postgresql://localhost:5432/postgres\"\n",
    "\n",
    "properties = {\n",
    "    \"user\" : \"postgres\",\n",
    "    \"password\" : \"cidacs\",\n",
    "    \"driver\" : \"org.postgresql.Driver\"\n",
    "}"
   ]
  },
  {
   "cell_type": "markdown",
   "id": "c323d302-5f75-4c89-a2dd-76ca68158745",
   "metadata": {},
   "source": [
    "### Configurações Pandas"
   ]
  },
  {
   "cell_type": "code",
   "execution_count": 2,
   "id": "787acd6f",
   "metadata": {},
   "outputs": [],
   "source": [
    "spark.conf.set(\"spark.sql.repl.eagerEval.enabled\", True)\n",
    "spark.conf.set(\"spark.sql.repl.eagerEval.truncate\", 100)\n",
    "spark.conf.set(\"spark.sql.repl.eagerEval.maxNumRows\", 300)\n",
    "\n",
    "spark.conf.set(\"spark.sql.debug.maxToStringFields\", 100)\n",
    "\n",
    "pd.set_option(\"display.max_columns\", None) \n",
    "pd.set_option(\"display.max_rows\", None)"
   ]
  },
  {
   "cell_type": "markdown",
   "id": "e5bdd252",
   "metadata": {},
   "source": [
    "### Lendo dados enriquecidos"
   ]
  },
  {
   "cell_type": "code",
   "execution_count": 3,
   "id": "64224f0d",
   "metadata": {},
   "outputs": [
    {
     "name": "stderr",
     "output_type": "stream",
     "text": [
      "\r",
      "[Stage 0:===========================================================(1 + 0) / 1]\r",
      "\r",
      "                                                                                \r"
     ]
    }
   ],
   "source": [
    "df_input = (spark\n",
    "            .read\n",
    "            .parquet('/data/IDAF/PROJETOS/PARCERIA_CIDACS_PHDC/banco_original_enriched')\n",
    "           )"
   ]
  },
  {
   "cell_type": "markdown",
   "id": "b21352a3",
   "metadata": {},
   "source": [
    "### Visit Occurrence"
   ]
  },
  {
   "cell_type": "code",
   "execution_count": 6,
   "id": "dc28f863",
   "metadata": {},
   "outputs": [
    {
     "data": {
      "text/plain": [
       "24696018"
      ]
     },
     "execution_count": 6,
     "metadata": {},
     "output_type": "execute_result"
    }
   ],
   "source": [
    "df_visit_occurrence = (df_input\n",
    "                         .select('id_cidacs_mae_sinasc', 'dtnasc_sinasc', 'mesprenat_sinasc', 'person_id', 'codmunres_sinasc', 'visit_occurrence_id')\n",
    "                        .withColumn('visit_occurrence_id', F.col('visit_occurrence_id'))\n",
    "                        .withColumn('visit_concept_id', F.lit(9202))\n",
    "                        .withColumn('visit_start_date', F.when(F.col('mesprenat_sinasc')<=9, F.add_months(F.col('dtnasc_sinasc'), -(9 - F.col('mesprenat_sinasc').cast('int'))))\n",
    "                                 .when((F.col('mesprenat_sinasc')==99)|(F.col('mesprenat_sinasc').isNull()), F.lit('2099-12-31'))\n",
    "                                 .when(F.col('mesprenat_sinasc')>9, F.trunc(F.col('dtnasc_sinasc'), 'month')))\n",
    "                        .withColumn('visit_end_date', F.when(F.col('visit_start_date')=='2099-12-31', F.col('visit_start_date'))\n",
    "                                                    .otherwise(F.date_add(F.col('visit_start_date'), 2)))\n",
    "                        .withColumn('visit_type_concept_id', F.lit(32879))\n",
    "                        .withColumn('care_site_id',  F.col('codmunres_sinasc'))\n",
    "                        .withColumn('visit_start_datetime', F.lit(None))\n",
    "                        .withColumn('visit_end_datetime', F.lit(None))\n",
    "                        .withColumn('provider_id', F.lit(None))\n",
    "                        .withColumn('visit_source_value', F.lit(None))\n",
    "                        .withColumn('visit_source_concept_id', F.lit(None))\n",
    "                        .withColumn('admitted_from_concept_id', F.lit(None))\n",
    "                        .withColumn('admitted_from_source_value', F.lit(None))\n",
    "                        .withColumn('discharged_to_concept_id', F.lit(None))\n",
    "                        .withColumn('discharged_to_source_value', F.lit(None))\n",
    "                        .withColumn('preceding_visit_occurrence_id', F.lit(None))\n",
    "                    ).select(\n",
    "                        F.col('visit_occurrence_id').cast('integer'),\n",
    "                        F.col('person_id').cast('integer'),\n",
    "                        F.col('visit_concept_id').cast('integer'),\n",
    "                        F.col('visit_start_date').cast('date'),\n",
    "                        F.col('visit_start_datetime').cast('timestamp'),\n",
    "                        F.col('visit_end_date').cast('date'),\n",
    "                        F.col('visit_end_datetime' ).cast('timestamp'),\n",
    "                        F.col('visit_type_concept_id').cast('integer'),\n",
    "                        F.col('provider_id').cast('integer'),\n",
    "                        F.col('care_site_id').cast('integer'),\n",
    "                        F.col('visit_source_value').cast('string'),\n",
    "                        F.col('visit_source_concept_id').cast('integer'),\n",
    "                        F.col('admitted_from_concept_id').cast('integer'),\n",
    "                        F.col('admitted_from_source_value').cast('string'),\n",
    "                        F.col('discharged_to_concept_id').cast('integer'),\n",
    "                        F.col('discharged_to_source_value').cast('string'),\n",
    "                        F.col('preceding_visit_occurrence_id').cast('integer')\n",
    "                            )\n",
    "\n",
    "\n",
    "df_visit_occurrence.count()"
   ]
  },
  {
   "cell_type": "markdown",
   "id": "707d7701",
   "metadata": {},
   "source": [
    "## Salvando no Postgresql"
   ]
  },
  {
   "cell_type": "code",
   "execution_count": 7,
   "id": "a687b6d0",
   "metadata": {},
   "outputs": [
    {
     "name": "stderr",
     "output_type": "stream",
     "text": [
      "                                                                                \r"
     ]
    },
    {
     "data": {
      "text/plain": [
       "'Total time: 0:06:29.007400 and - Total rows: 24696018 - Total columns: 17'"
      ]
     },
     "execution_count": 7,
     "metadata": {},
     "output_type": "execute_result"
    }
   ],
   "source": [
    "write_to_postgresl(df_visit_occurrence, tb_name='visit_occurrence', write_mode='append')"
   ]
  },
  {
   "cell_type": "markdown",
   "id": "89dc8b65",
   "metadata": {},
   "source": [
    "### Deprecated"
   ]
  },
  {
   "cell_type": "markdown",
   "id": "74d8976f",
   "metadata": {},
   "source": [
    "### Salvando CSV "
   ]
  },
  {
   "cell_type": "code",
   "execution_count": 49,
   "id": "77898bd0",
   "metadata": {},
   "outputs": [
    {
     "name": "stderr",
     "output_type": "stream",
     "text": [
      "24/12/16 16:21:21 WARN WindowExec: No Partition Defined for Window operation! Moving all data to a single partition, this can cause serious performance degradation.\n",
      "24/12/16 16:21:21 WARN WindowExec: No Partition Defined for Window operation! Moving all data to a single partition, this can cause serious performance degradation.\n",
      "24/12/16 16:21:24 WARN WindowExec: No Partition Defined for Window operation! Moving all data to a single partition, this can cause serious performance degradation.\n",
      "24/12/16 16:21:24 WARN WindowExec: No Partition Defined for Window operation! Moving all data to a single partition, this can cause serious performance degradation.\n",
      "                                                                                \r"
     ]
    }
   ],
   "source": [
    "df_visit_occurrence.repartition(1).write.option(\"quoteAll\",True).csv('/data/IDAF/SHARED/omop_tables_revisadas/visit_occurrence', header=True, mode='overwrite')"
   ]
  },
  {
   "cell_type": "markdown",
   "id": "4beea3f6",
   "metadata": {},
   "source": [
    "## SQL de insertion"
   ]
  },
  {
   "cell_type": "code",
   "execution_count": null,
   "id": "c7b417f2",
   "metadata": {},
   "outputs": [],
   "source": [
    "CREATE TABLE public.visit_occurrence (\n",
    "\t\t\tvisit_occurrence_id integer NOT NULL,\n",
    "\t\t\tperson_id integer NOT NULL,\n",
    "\t\t\tvisit_concept_id integer NOT NULL,\n",
    "\t\t\tvisit_start_date date NOT NULL,\n",
    "\t\t\tvisit_start_datetime TIMESTAMP NULL,\n",
    "\t\t\tvisit_end_date date NOT NULL,\n",
    "\t\t\tvisit_end_datetime TIMESTAMP NULL,\n",
    "\t\t\tvisit_type_concept_id Integer NOT NULL,\n",
    "\t\t\tprovider_id integer NULL,\n",
    "\t\t\tcare_site_id integer NULL,\n",
    "\t\t\tvisit_source_value varchar(50) NULL,\n",
    "\t\t\tvisit_source_concept_id integer NULL,\n",
    "\t\t\tadmitted_from_concept_id integer NULL,\n",
    "\t\t\tadmitted_from_source_value varchar(50) NULL,\n",
    "\t\t\tdischarged_to_concept_id integer NULL,\n",
    "\t\t\tdischarged_to_source_value varchar(50) NULL,\n",
    "\t\t\tpreceding_visit_occurrence_id integer NULL );\n",
    "\n",
    "\n",
    "CREATE TABLE public.visit_occurrence_pyspark (\n",
    "\t\t\tvisit_occurrence_id varchar,\n",
    "\t\t\tperson_id varchar,\n",
    "\t\t\tvisit_concept_id varchar,\n",
    "\t\t\tvisit_start_date varchar,\n",
    "\t\t\tvisit_start_datetime varchar,\n",
    "\t\t\tvisit_end_date varchar,\n",
    "\t\t\tvisit_end_datetime varchar,\n",
    "\t\t\tvisit_type_concept_id varchar,\n",
    "\t\t\tprovider_id varchar,\n",
    "\t\t\tcare_site_id varchar,\n",
    "\t\t\tvisit_source_value varchar,\n",
    "\t\t\tvisit_source_concept_id varchar,\n",
    "\t\t\tadmitted_from_concept_id varchar,\n",
    "\t\t\tadmitted_from_source_value varchar,\n",
    "\t\t\tdischarged_to_concept_id varchar,\n",
    "\t\t\tdischarged_to_source_value varchar,\n",
    "\t\t\tpreceding_visit_occurrence_id varchar);\n",
    "\n",
    "\n",
    "insert into public.visit_occurrence (\n",
    "visit_occurrence_id ,\n",
    "person_id ,\n",
    "visit_concept_id ,\n",
    "visit_start_date ,\n",
    "visit_start_datetime ,\n",
    "visit_end_date ,\n",
    "visit_end_datetime ,\n",
    "visit_type_concept_id ,\n",
    "provider_id ,\n",
    "care_site_id ,\n",
    "visit_source_value ,\n",
    "visit_source_concept_id ,\n",
    "admitted_from_concept_id ,\n",
    "admitted_from_source_value,\n",
    "discharged_to_concept_id ,\n",
    "discharged_to_source_value ,\n",
    "preceding_visit_occurrence_id  \n",
    ")\n",
    "SELECT \n",
    "cast(visit_occurrence_id as integer) ,\n",
    "cast(person_id as integer) ,\n",
    "cast(visit_concept_id as integer) ,\n",
    "cast(visit_start_date as date) ,\n",
    "cast(case when visit_start_datetime='' then null else visit_start_datetime end as timestamp),\n",
    "cast(visit_end_date as date) ,\n",
    "cast(case when visit_end_datetime='' then null else visit_end_datetime end as timestamp),\n",
    "cast(visit_type_concept_id as integer) ,\n",
    "cast(case when provider_id='' then null else provider_id end as integer) ,\n",
    "cast(case when care_site_id='' then null else care_site_id end as integer) ,\n",
    "cast(case when visit_source_value='' then null else visit_source_value end as integer) ,\n",
    "cast(case when visit_source_concept_id='' then null else visit_source_concept_id end as integer) ,\n",
    "cast(case when admitted_from_concept_id='' then null else admitted_from_concept_id end as integer) ,\n",
    "cast(admitted_from_source_value as varchar),\n",
    "cast(case when discharged_to_concept_id='' then null else discharged_to_concept_id end as integer) ,\n",
    "cast(discharged_to_source_value as varchar) ,\n",
    "cast(case when preceding_visit_occurrence_id='' then null else preceding_visit_occurrence_id end as integer)\n",
    "\tFROM public.visit_occurrence_pyspark;\n"
   ]
  }
 ],
 "metadata": {
  "kernelspec": {
   "display_name": "Python 3 (ipykernel)",
   "language": "python",
   "name": "python3"
  },
  "language_info": {
   "codemirror_mode": {
    "name": "ipython",
    "version": 3
   },
   "file_extension": ".py",
   "mimetype": "text/x-python",
   "name": "python",
   "nbconvert_exporter": "python",
   "pygments_lexer": "ipython3",
   "version": "3.10.12"
  }
 },
 "nbformat": 4,
 "nbformat_minor": 5
}
