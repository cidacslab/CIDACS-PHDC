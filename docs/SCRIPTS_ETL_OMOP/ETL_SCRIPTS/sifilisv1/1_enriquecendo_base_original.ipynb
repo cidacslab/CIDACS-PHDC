{
 "cells": [
  {
   "cell_type": "markdown",
   "id": "24dd487d",
   "metadata": {},
   "source": [
    "### Tratamentos da Base Original\n",
    "\n",
    "- Notebook criado para tratar dados de input antes de passar para o CDM OMOP. Ex: como criar campos de id"
   ]
  },
  {
   "cell_type": "markdown",
   "id": "6b65a5b8-1704-4053-838c-f8e78001f326",
   "metadata": {},
   "source": [
    "## Configurações PySpark"
   ]
  },
  {
   "cell_type": "code",
   "execution_count": 1,
   "id": "8fdc0b6c",
   "metadata": {},
   "outputs": [
    {
     "name": "stderr",
     "output_type": "stream",
     "text": [
      "Setting default log level to \"WARN\".\n",
      "To adjust logging level use sc.setLogLevel(newLevel). For SparkR, use setLogLevel(newLevel).\n",
      "25/05/06 10:26:43 WARN NativeCodeLoader: Unable to load native-hadoop library for your platform... using builtin-java classes where applicable\n",
      "25/05/06 10:26:44 WARN Utils: Service 'SparkUI' could not bind on port 4040. Attempting port 4041.\n",
      "25/05/06 10:26:44 WARN Utils: Service 'SparkUI' could not bind on port 4041. Attempting port 4042.\n"
     ]
    }
   ],
   "source": [
    "from pyspark.sql import SparkSession\n",
    "from pyspark.sql import functions as F\n",
    "from pyspark.sql import Window\n",
    "\n",
    "import pandas as pd\n",
    "\n",
    "\n",
    "spark  = SparkSession.builder \\\n",
    "    .appName(\"Data Analysis\") \\\n",
    "    .config(\"spark.executor.memory\", \"8g\")\\\n",
    "    .config(\"spark.driver.memory\", \"8g\")\\\n",
    "    .config(\"spark.executor.cores\", \"4\")\\\n",
    "    .config(\"spark.executor.instances\",\"8\")\\\n",
    "    .config(\"spark.sql.shuffle.partitions\",\"96\")\\\n",
    "    .config(\"spark.default.parallelism\",\"96\")\\\n",
    "    .getOrCreate()"
   ]
  },
  {
   "cell_type": "markdown",
   "id": "b2cdb1c0-3b60-491b-a452-9ac4b99efd36",
   "metadata": {},
   "source": [
    "## Configurações Pandas"
   ]
  },
  {
   "cell_type": "code",
   "execution_count": 2,
   "id": "eba5130b",
   "metadata": {},
   "outputs": [],
   "source": [
    "spark.conf.set(\"spark.sql.repl.eagerEval.enabled\", True)\n",
    "spark.conf.set(\"spark.sql.repl.eagerEval.truncate\", 100)\n",
    "spark.conf.set(\"spark.sql.repl.eagerEval.maxNumRows\", 300)\n",
    "\n",
    "spark.conf.set(\"spark.sql.debug.maxToStringFields\", 100)\n",
    "\n",
    "pd.set_option(\"display.max_columns\", None) \n",
    "pd.set_option(\"display.max_rows\", None)"
   ]
  },
  {
   "cell_type": "markdown",
   "id": "4ff33b7d",
   "metadata": {},
   "source": [
    "## Leitura da base original"
   ]
  },
  {
   "cell_type": "code",
   "execution_count": 3,
   "id": "7b8b3813",
   "metadata": {},
   "outputs": [],
   "source": [
    "df_input = (spark\n",
    "            .read\n",
    "            .option('nullValue', 'NA')\n",
    "            .csv('/data/IDAF/PROJETOS/PARCERIA_CIDACS_PHDC/Karine/bancofinal.csv', header=True))"
   ]
  },
  {
   "cell_type": "markdown",
   "id": "bd77f1e3-719d-47b4-9139-8261198fc34f",
   "metadata": {
    "tags": []
   },
   "source": [
    "### Métricas de leitura"
   ]
  },
  {
   "cell_type": "code",
   "execution_count": 4,
   "id": "e6424de9",
   "metadata": {},
   "outputs": [
    {
     "name": "stderr",
     "output_type": "stream",
     "text": [
      "                                                                                \r"
     ]
    },
    {
     "name": "stdout",
     "output_type": "stream",
     "text": [
      "Quantidade de registros com id_cidacs_mae_sinasc não nulos: 24707761\n"
     ]
    },
    {
     "name": "stderr",
     "output_type": "stream",
     "text": [
      "[Stage 6:============================================>           (76 + 12) / 96]\r"
     ]
    },
    {
     "name": "stdout",
     "output_type": "stream",
     "text": [
      "Quantidades de id_cidacs_mae_sinasc distintos: 15871219\n"
     ]
    },
    {
     "name": "stderr",
     "output_type": "stream",
     "text": [
      "\r",
      "[Stage 6:======================================================>  (92 + 4) / 96]\r",
      "\r",
      "                                                                                \r"
     ]
    }
   ],
   "source": [
    "# quantidade de registros com id_cidacs_mae_sinasc não nulos na base completa\n",
    "qtd_registros_base_com_id_not_null = df_input.select('id_cidacs_mae_sinasc').filter(F.col('id_cidacs_mae_sinasc').isNotNull()).count()\n",
    "print(f'Quantidade de registros com id_cidacs_mae_sinasc não nulos: {qtd_registros_base_com_id_not_null}')\n",
    "\n",
    "qtd_id_mae_cidacs_not_null = df_input.filter(F.col('id_cidacs_mae_sinasc').isNotNull()).select(\"id_cidacs_mae_sinasc\").distinct().count()\n",
    "print(f'Quantidades de id_cidacs_mae_sinasc distintos: {qtd_id_mae_cidacs_not_null}')"
   ]
  },
  {
   "cell_type": "markdown",
   "id": "11e1ac13-920f-4d59-9cd7-abbc21a67dca",
   "metadata": {},
   "source": [
    "#### 1. Mostrando que existem id_cidacs_sinasc_v4 que se repetem\n",
    "\n",
    " - podem ser gêmeos e também registros duplicados como é o caso abaixo"
   ]
  },
  {
   "cell_type": "code",
   "execution_count": 5,
   "id": "254637eb",
   "metadata": {
    "scrolled": true
   },
   "outputs": [
    {
     "name": "stderr",
     "output_type": "stream",
     "text": [
      "                                                                                \r"
     ]
    },
    {
     "data": {
      "text/html": [
       "<div>\n",
       "<style scoped>\n",
       "    .dataframe tbody tr th:only-of-type {\n",
       "        vertical-align: middle;\n",
       "    }\n",
       "\n",
       "    .dataframe tbody tr th {\n",
       "        vertical-align: top;\n",
       "    }\n",
       "\n",
       "    .dataframe thead th {\n",
       "        text-align: right;\n",
       "    }\n",
       "</style>\n",
       "<table border=\"1\" class=\"dataframe\">\n",
       "  <thead>\n",
       "    <tr style=\"text-align: right;\">\n",
       "      <th></th>\n",
       "      <th>apgar1_sinasc</th>\n",
       "      <th>apgar5_sinasc</th>\n",
       "      <th>cod_raca_cor_pessoa_eq</th>\n",
       "      <th>codanomal_sinasc</th>\n",
       "      <th>codmunres_sinasc</th>\n",
       "      <th>codocupmae_sinasc</th>\n",
       "      <th>consprenat_sinasc</th>\n",
       "      <th>consultas_sinasc</th>\n",
       "      <th>dt_notific_mae</th>\n",
       "      <th>dtnasc_sinasc</th>\n",
       "      <th>dtnascmae_sinasc</th>\n",
       "      <th>dtobito_sim.y</th>\n",
       "      <th>escmae_sinasc</th>\n",
       "      <th>estcivmae_sinasc</th>\n",
       "      <th>gravidez_sinasc</th>\n",
       "      <th>id_agravo_mae</th>\n",
       "      <th>id_cidacs_mae_sinasc</th>\n",
       "      <th>id_cidacs_sinasc_v4</th>\n",
       "      <th>idademae_sinasc</th>\n",
       "      <th>idanomal_sinasc</th>\n",
       "      <th>mesprenat_sinasc</th>\n",
       "      <th>obitograv_sim.y</th>\n",
       "      <th>obitopuerp_sim.y</th>\n",
       "      <th>parto_sinasc</th>\n",
       "      <th>peso_sinasc</th>\n",
       "      <th>qtdfilmort_sinasc</th>\n",
       "      <th>qtdfilvivo_sinasc</th>\n",
       "      <th>semagestac_sinasc</th>\n",
       "      <th>sexo_sinasc</th>\n",
       "      <th>tipobito_sim.y</th>\n",
       "      <th>tpapresent_sinasc</th>\n",
       "      <th>tpconfirma_mae</th>\n",
       "      <th>tpesquema_mae</th>\n",
       "      <th>tpevidenci_mae</th>\n",
       "      <th>tpteste1_mae</th>\n",
       "      <th>tra_dt_sc</th>\n",
       "    </tr>\n",
       "  </thead>\n",
       "  <tbody>\n",
       "    <tr>\n",
       "      <th>0</th>\n",
       "      <td>8</td>\n",
       "      <td>9</td>\n",
       "      <td>None</td>\n",
       "      <td></td>\n",
       "      <td>120017</td>\n",
       "      <td>999992</td>\n",
       "      <td>6</td>\n",
       "      <td>3</td>\n",
       "      <td>2014-12-01</td>\n",
       "      <td>2015-04-11</td>\n",
       "      <td>1991-04-09</td>\n",
       "      <td>None</td>\n",
       "      <td>4</td>\n",
       "      <td>1</td>\n",
       "      <td>1</td>\n",
       "      <td>O981</td>\n",
       "      <td>None</td>\n",
       "      <td>37574548037</td>\n",
       "      <td>24</td>\n",
       "      <td>2</td>\n",
       "      <td>6</td>\n",
       "      <td>None</td>\n",
       "      <td>None</td>\n",
       "      <td>1</td>\n",
       "      <td>3065</td>\n",
       "      <td>0</td>\n",
       "      <td>1</td>\n",
       "      <td>None</td>\n",
       "      <td>1</td>\n",
       "      <td>None</td>\n",
       "      <td>1</td>\n",
       "      <td>1</td>\n",
       "      <td>3</td>\n",
       "      <td>1</td>\n",
       "      <td>1</td>\n",
       "      <td>None</td>\n",
       "    </tr>\n",
       "    <tr>\n",
       "      <th>1</th>\n",
       "      <td>8</td>\n",
       "      <td>9</td>\n",
       "      <td>None</td>\n",
       "      <td></td>\n",
       "      <td>120017</td>\n",
       "      <td>999992</td>\n",
       "      <td>6</td>\n",
       "      <td>3</td>\n",
       "      <td>2014-12-01</td>\n",
       "      <td>2015-04-11</td>\n",
       "      <td>1991-04-09</td>\n",
       "      <td>None</td>\n",
       "      <td>4</td>\n",
       "      <td>1</td>\n",
       "      <td>1</td>\n",
       "      <td>O981</td>\n",
       "      <td>None</td>\n",
       "      <td>37574548037</td>\n",
       "      <td>24</td>\n",
       "      <td>2</td>\n",
       "      <td>6</td>\n",
       "      <td>None</td>\n",
       "      <td>None</td>\n",
       "      <td>1</td>\n",
       "      <td>3065</td>\n",
       "      <td>0</td>\n",
       "      <td>1</td>\n",
       "      <td>None</td>\n",
       "      <td>1</td>\n",
       "      <td>None</td>\n",
       "      <td>1</td>\n",
       "      <td>1</td>\n",
       "      <td>3</td>\n",
       "      <td>1</td>\n",
       "      <td>1</td>\n",
       "      <td>None</td>\n",
       "    </tr>\n",
       "    <tr>\n",
       "      <th>2</th>\n",
       "      <td>8</td>\n",
       "      <td>9</td>\n",
       "      <td>None</td>\n",
       "      <td></td>\n",
       "      <td>120017</td>\n",
       "      <td>999992</td>\n",
       "      <td>6</td>\n",
       "      <td>3</td>\n",
       "      <td>2015-04-13</td>\n",
       "      <td>2015-04-11</td>\n",
       "      <td>1991-04-09</td>\n",
       "      <td>None</td>\n",
       "      <td>4</td>\n",
       "      <td>1</td>\n",
       "      <td>1</td>\n",
       "      <td>O981</td>\n",
       "      <td>None</td>\n",
       "      <td>37574548037</td>\n",
       "      <td>24</td>\n",
       "      <td>2</td>\n",
       "      <td>6</td>\n",
       "      <td>None</td>\n",
       "      <td>None</td>\n",
       "      <td>1</td>\n",
       "      <td>3065</td>\n",
       "      <td>0</td>\n",
       "      <td>1</td>\n",
       "      <td>None</td>\n",
       "      <td>1</td>\n",
       "      <td>None</td>\n",
       "      <td>1</td>\n",
       "      <td>1</td>\n",
       "      <td>2</td>\n",
       "      <td>88</td>\n",
       "      <td>1</td>\n",
       "      <td>None</td>\n",
       "    </tr>\n",
       "    <tr>\n",
       "      <th>3</th>\n",
       "      <td>8</td>\n",
       "      <td>9</td>\n",
       "      <td>None</td>\n",
       "      <td></td>\n",
       "      <td>120017</td>\n",
       "      <td>999992</td>\n",
       "      <td>6</td>\n",
       "      <td>3</td>\n",
       "      <td>2015-04-13</td>\n",
       "      <td>2015-04-11</td>\n",
       "      <td>1991-04-09</td>\n",
       "      <td>None</td>\n",
       "      <td>4</td>\n",
       "      <td>1</td>\n",
       "      <td>1</td>\n",
       "      <td>O981</td>\n",
       "      <td>None</td>\n",
       "      <td>37574548037</td>\n",
       "      <td>24</td>\n",
       "      <td>2</td>\n",
       "      <td>6</td>\n",
       "      <td>None</td>\n",
       "      <td>None</td>\n",
       "      <td>1</td>\n",
       "      <td>3065</td>\n",
       "      <td>0</td>\n",
       "      <td>1</td>\n",
       "      <td>None</td>\n",
       "      <td>1</td>\n",
       "      <td>None</td>\n",
       "      <td>1</td>\n",
       "      <td>1</td>\n",
       "      <td>2</td>\n",
       "      <td>88</td>\n",
       "      <td>1</td>\n",
       "      <td>None</td>\n",
       "    </tr>\n",
       "  </tbody>\n",
       "</table>\n",
       "</div>"
      ],
      "text/plain": [
       "  apgar1_sinasc apgar5_sinasc cod_raca_cor_pessoa_eq codanomal_sinasc  \\\n",
       "0             8             9                   None                    \n",
       "1             8             9                   None                    \n",
       "2             8             9                   None                    \n",
       "3             8             9                   None                    \n",
       "\n",
       "  codmunres_sinasc codocupmae_sinasc consprenat_sinasc consultas_sinasc  \\\n",
       "0           120017            999992                 6                3   \n",
       "1           120017            999992                 6                3   \n",
       "2           120017            999992                 6                3   \n",
       "3           120017            999992                 6                3   \n",
       "\n",
       "  dt_notific_mae dtnasc_sinasc dtnascmae_sinasc dtobito_sim.y escmae_sinasc  \\\n",
       "0     2014-12-01    2015-04-11       1991-04-09          None             4   \n",
       "1     2014-12-01    2015-04-11       1991-04-09          None             4   \n",
       "2     2015-04-13    2015-04-11       1991-04-09          None             4   \n",
       "3     2015-04-13    2015-04-11       1991-04-09          None             4   \n",
       "\n",
       "  estcivmae_sinasc gravidez_sinasc id_agravo_mae id_cidacs_mae_sinasc  \\\n",
       "0                1               1          O981                 None   \n",
       "1                1               1          O981                 None   \n",
       "2                1               1          O981                 None   \n",
       "3                1               1          O981                 None   \n",
       "\n",
       "  id_cidacs_sinasc_v4 idademae_sinasc idanomal_sinasc mesprenat_sinasc  \\\n",
       "0         37574548037              24               2                6   \n",
       "1         37574548037              24               2                6   \n",
       "2         37574548037              24               2                6   \n",
       "3         37574548037              24               2                6   \n",
       "\n",
       "  obitograv_sim.y obitopuerp_sim.y parto_sinasc peso_sinasc qtdfilmort_sinasc  \\\n",
       "0            None             None            1        3065                 0   \n",
       "1            None             None            1        3065                 0   \n",
       "2            None             None            1        3065                 0   \n",
       "3            None             None            1        3065                 0   \n",
       "\n",
       "  qtdfilvivo_sinasc semagestac_sinasc sexo_sinasc tipobito_sim.y  \\\n",
       "0                 1              None           1           None   \n",
       "1                 1              None           1           None   \n",
       "2                 1              None           1           None   \n",
       "3                 1              None           1           None   \n",
       "\n",
       "  tpapresent_sinasc tpconfirma_mae tpesquema_mae tpevidenci_mae tpteste1_mae  \\\n",
       "0                 1              1             3              1            1   \n",
       "1                 1              1             3              1            1   \n",
       "2                 1              1             2             88            1   \n",
       "3                 1              1             2             88            1   \n",
       "\n",
       "  tra_dt_sc  \n",
       "0      None  \n",
       "1      None  \n",
       "2      None  \n",
       "3      None  "
      ]
     },
     "execution_count": 5,
     "metadata": {},
     "output_type": "execute_result"
    }
   ],
   "source": [
    "# mostrando dados duplicados para o mesmo infant\n",
    "#************* Tratar: excluir nascimentos multiplos, pegar o último dtnotific_mae\n",
    "df_input.filter(F.col('id_cidacs_sinasc_v4')=='37574548037').toPandas()"
   ]
  },
  {
   "cell_type": "code",
   "execution_count": 6,
   "id": "cf68667a",
   "metadata": {},
   "outputs": [
    {
     "name": "stderr",
     "output_type": "stream",
     "text": [
      "[Stage 13:======================================>                (68 + 12) / 96]\r"
     ]
    },
    {
     "name": "stdout",
     "output_type": "stream",
     "text": [
      "Quantidade de infants que aparecem mais de uma vez na base: 11407\n"
     ]
    },
    {
     "name": "stderr",
     "output_type": "stream",
     "text": [
      "\r",
      "[Stage 13:================================================>      (85 + 11) / 96]\r",
      "\r",
      "                                                                                \r"
     ]
    }
   ],
   "source": [
    "# Mostrando quais ids e a sua quantidade/gêmeos tem duplicidade\n",
    "count_registros_duplicados_infant = df_input.groupBy('id_cidacs_sinasc_v4').count().filter(F.col('count')>1).count()\n",
    "print(f'Quantidade de infants que aparecem mais de uma vez na base: {count_registros_duplicados_infant}')"
   ]
  },
  {
   "cell_type": "markdown",
   "id": "6bd96862-b3d2-443e-83bb-b71e2d3f10bf",
   "metadata": {},
   "source": [
    "# Tratamentos"
   ]
  },
  {
   "cell_type": "markdown",
   "id": "8925d7db",
   "metadata": {},
   "source": [
    "### 1. Removendo registros com id_cidacs_mae_sinasc = NA/Nulo"
   ]
  },
  {
   "cell_type": "code",
   "execution_count": 7,
   "id": "8272f001",
   "metadata": {},
   "outputs": [
    {
     "name": "stderr",
     "output_type": "stream",
     "text": [
      "                                                                                \r"
     ]
    },
    {
     "name": "stdout",
     "output_type": "stream",
     "text": [
      "Quantidade de id_cidacs_mae_sinasc nulos: 27678\n"
     ]
    },
    {
     "name": "stderr",
     "output_type": "stream",
     "text": [
      "[Stage 22:=========================================>             (73 + 12) / 96]\r"
     ]
    },
    {
     "name": "stdout",
     "output_type": "stream",
     "text": [
      "Quantidade de id_cidacs_mae_sinasc distintos em toda a base: 15871219\n"
     ]
    },
    {
     "name": "stderr",
     "output_type": "stream",
     "text": [
      "\r",
      "[Stage 22:======================================================> (93 + 3) / 96]\r",
      "\r",
      "                                                                                \r"
     ]
    }
   ],
   "source": [
    "df = df_input.filter(F.col('id_cidacs_mae_sinasc').isNotNull())\n",
    "print(f'Quantidade de id_cidacs_mae_sinasc nulos: {df_input.filter(F.col(\"id_cidacs_mae_sinasc\").isNull()).count()}')\n",
    "print(f'Quantidade de id_cidacs_mae_sinasc distintos em toda a base: {df.select(\"id_cidacs_mae_sinasc\").distinct().count()}')"
   ]
  },
  {
   "cell_type": "markdown",
   "id": "f9e97b3b",
   "metadata": {},
   "source": [
    "###  2. Criando Visit Occurrence ID\n",
    "\n",
    "- Cada registro não duplicado deve ser equivalente à uma visita, ou seja, ter um visit_occurrence_id próprio\n",
    "- Obs.: Nesse caso ainda não estamos removendo os duplicados (verificar no item 1. da sessão 'Métricas de leitura'"
   ]
  },
  {
   "cell_type": "code",
   "execution_count": 8,
   "id": "97ef8b5c",
   "metadata": {},
   "outputs": [],
   "source": [
    "df = df.withColumn('visit_occurrence_id', F.row_number().over(Window.orderBy('id_cidacs_mae_sinasc', 'dtnasc_sinasc')))"
   ]
  },
  {
   "cell_type": "markdown",
   "id": "17555ef3",
   "metadata": {},
   "source": [
    "### 2.1 Criando Visit Occurrence ID do bebe"
   ]
  },
  {
   "cell_type": "code",
   "execution_count": 9,
   "id": "90383173",
   "metadata": {},
   "outputs": [
    {
     "name": "stderr",
     "output_type": "stream",
     "text": [
      "25/03/30 23:08:07 WARN WindowExec: No Partition Defined for Window operation! Moving all data to a single partition, this can cause serious performance degradation.\n",
      "25/03/30 23:08:07 WARN WindowExec: No Partition Defined for Window operation! Moving all data to a single partition, this can cause serious performance degradation.\n",
      "25/03/30 23:08:13 WARN WindowExec: No Partition Defined for Window operation! Moving all data to a single partition, this can cause serious performance degradation.\n",
      "25/03/30 23:08:13 WARN WindowExec: No Partition Defined for Window operation! Moving all data to a single partition, this can cause serious performance degradation.\n",
      "                                                                                \r"
     ]
    },
    {
     "data": {
      "text/plain": [
       "24707761"
      ]
     },
     "execution_count": 9,
     "metadata": {},
     "output_type": "execute_result"
    }
   ],
   "source": [
    "# Encontrando o maior person_id da mãe\n",
    "max_mother_visit = df.agg(F.max(F.col('visit_occurrence_id')).alias('max_value')).collect()[0]['max_value']\n",
    "max_mother_visit"
   ]
  },
  {
   "cell_type": "code",
   "execution_count": 10,
   "id": "04ec0585",
   "metadata": {},
   "outputs": [],
   "source": [
    "df = df.withColumn('visit_occurrence_id_infant', F.row_number().over(Window.orderBy('id_cidacs_mae_sinasc', 'dtnasc_sinasc'))+max_mother_visit)"
   ]
  },
  {
   "cell_type": "markdown",
   "id": "abecccc5",
   "metadata": {},
   "source": [
    "### 2. Criando Id sequencial do paciente - Mãe (PersonId)"
   ]
  },
  {
   "cell_type": "code",
   "execution_count": 11,
   "id": "eae8274b",
   "metadata": {},
   "outputs": [
    {
     "name": "stderr",
     "output_type": "stream",
     "text": [
      "[Stage 31:===============================================>       (83 + 12) / 96]\r"
     ]
    },
    {
     "name": "stdout",
     "output_type": "stream",
     "text": [
      "Quantidade de person_ids distintos: 15871219\n",
      "Colunas de/para person_id: ['id_cidacs_mae_sinasc', 'person_id']\n"
     ]
    },
    {
     "name": "stderr",
     "output_type": "stream",
     "text": [
      "\r",
      "                                                                                \r"
     ]
    }
   ],
   "source": [
    "window_person_id = Window.partitionBy().orderBy('id_cidacs_mae_sinasc')\n",
    "\n",
    "df_person_id = (df\n",
    "                .select(\"id_cidacs_mae_sinasc\")\n",
    "                .distinct()\n",
    "                .withColumn('person_id', F.row_number().over(window_person_id))\n",
    "               )\n",
    "\n",
    "print(f'Quantidade de person_ids distintos: {df_person_id.count()}')\n",
    "print(f'Colunas de/para person_id: {df_person_id.columns}')"
   ]
  },
  {
   "cell_type": "code",
   "execution_count": 12,
   "id": "97a7438a",
   "metadata": {},
   "outputs": [],
   "source": [
    "# Adicionando o person_id com left join à base completa\n",
    "df = df.join(df_person_id, how='left', on='id_cidacs_mae_sinasc')"
   ]
  },
  {
   "cell_type": "markdown",
   "id": "f7c52370",
   "metadata": {},
   "source": [
    "### 2.1 Criando Id sequencial infant (PersonID do filho)\n",
    "\n",
    "- Para criar o person_id do infant, vamos pegar o maior person_id da mãe e somar com a sequencia criada para o filho "
   ]
  },
  {
   "cell_type": "code",
   "execution_count": 13,
   "id": "e68f4627",
   "metadata": {},
   "outputs": [
    {
     "name": "stderr",
     "output_type": "stream",
     "text": [
      "25/03/30 23:09:09 WARN WindowExec: No Partition Defined for Window operation! Moving all data to a single partition, this can cause serious performance degradation.\n",
      "25/03/30 23:09:09 WARN WindowExec: No Partition Defined for Window operation! Moving all data to a single partition, this can cause serious performance degradation.\n",
      "25/03/30 23:09:15 WARN WindowExec: No Partition Defined for Window operation! Moving all data to a single partition, this can cause serious performance degradation.\n",
      "25/03/30 23:09:15 WARN WindowExec: No Partition Defined for Window operation! Moving all data to a single partition, this can cause serious performance degradation.\n",
      "25/03/30 23:09:23 WARN WindowExec: No Partition Defined for Window operation! Moving all data to a single partition, this can cause serious performance degradation.\n",
      "25/03/30 23:09:23 WARN WindowExec: No Partition Defined for Window operation! Moving all data to a single partition, this can cause serious performance degradation.\n",
      "25/03/30 23:09:25 WARN WindowExec: No Partition Defined for Window operation! Moving all data to a single partition, this can cause serious performance degradation.\n",
      "25/03/30 23:09:25 WARN WindowExec: No Partition Defined for Window operation! Moving all data to a single partition, this can cause serious performance degradation.\n",
      "                                                                                \r"
     ]
    },
    {
     "data": {
      "text/plain": [
       "15871219"
      ]
     },
     "execution_count": 13,
     "metadata": {},
     "output_type": "execute_result"
    }
   ],
   "source": [
    "# Encontrando o maior person_id da mãe\n",
    "max_mother_person_id = df.agg(F.max(F.col('person_id')).alias('max_value')).collect()[0]['max_value']\n",
    "max_mother_person_id"
   ]
  },
  {
   "cell_type": "code",
   "execution_count": 14,
   "id": "da11cb0c",
   "metadata": {},
   "outputs": [
    {
     "name": "stderr",
     "output_type": "stream",
     "text": [
      "[Stage 55:=======================================================>(95 + 1) / 96]\r"
     ]
    },
    {
     "name": "stdout",
     "output_type": "stream",
     "text": [
      "Quantidade de person_ids distintos da criança: 24695595\n"
     ]
    },
    {
     "name": "stderr",
     "output_type": "stream",
     "text": [
      "\r",
      "                                                                                \r"
     ]
    }
   ],
   "source": [
    "window_person_id_infant = Window.partitionBy().orderBy('id_cidacs_sinasc_v4')\n",
    "\n",
    "df_person_id_infant = (df\n",
    "                .select(\"id_cidacs_sinasc_v4\")\n",
    "                .distinct()\n",
    "                .withColumn('person_id_infant', F.row_number().over(window_person_id_infant) + max_mother_person_id)\n",
    "               )\n",
    "\n",
    "print(f'Quantidade de person_ids distintos da criança: {df_person_id_infant.count()}')"
   ]
  },
  {
   "cell_type": "markdown",
   "id": "6013a845-9944-4ea9-b1b2-f3a8d96a3c7b",
   "metadata": {},
   "source": [
    "### Observação sobre person_id e person_id_infant\n",
    "- A quantidade de infant deveria ser igual ou muito próxima da quantidade de registros da base completa, pois em teoria cada linha representa um nascimento.\n",
    "- As causas dessas divergências podem ser duplicidade de registros ou gêmeos\n",
    "- 24707761 linhas na basa\n",
    "- 24695595 de infants distintos na base"
   ]
  },
  {
   "cell_type": "code",
   "execution_count": 15,
   "id": "eae8fbd0",
   "metadata": {},
   "outputs": [
    {
     "name": "stderr",
     "output_type": "stream",
     "text": [
      "25/03/30 23:10:08 WARN WindowExec: No Partition Defined for Window operation! Moving all data to a single partition, this can cause serious performance degradation.\n",
      "25/03/30 23:10:08 WARN WindowExec: No Partition Defined for Window operation! Moving all data to a single partition, this can cause serious performance degradation.\n",
      "25/03/30 23:10:15 WARN WindowExec: No Partition Defined for Window operation! Moving all data to a single partition, this can cause serious performance degradation.\n",
      "25/03/30 23:10:15 WARN WindowExec: No Partition Defined for Window operation! Moving all data to a single partition, this can cause serious performance degradation.\n",
      "25/03/30 23:10:18 WARN WindowExec: No Partition Defined for Window operation! Moving all data to a single partition, this can cause serious performance degradation.\n",
      "25/03/30 23:10:18 WARN WindowExec: No Partition Defined for Window operation! Moving all data to a single partition, this can cause serious performance degradation.\n",
      "[Stage 64:>                                                         (0 + 1) / 1]\r"
     ]
    },
    {
     "name": "stdout",
     "output_type": "stream",
     "text": [
      "Menor person_id_infant: 15871220\n"
     ]
    },
    {
     "name": "stderr",
     "output_type": "stream",
     "text": [
      "\r",
      "                                                                                \r"
     ]
    }
   ],
   "source": [
    "# coletando o menor person_id_infant para validar se corresponde ao valor do maior person_id da mãe +1\n",
    "print(f\"Menor person_id_infant: {df_person_id_infant.agg(F.min(F.col('person_id_infant')).alias('min_value')).collect()[0]['min_value']}\")"
   ]
  },
  {
   "cell_type": "code",
   "execution_count": 16,
   "id": "850be828",
   "metadata": {},
   "outputs": [
    {
     "name": "stderr",
     "output_type": "stream",
     "text": [
      "[Stage 65:======================================================> (93 + 3) / 96]\r"
     ]
    },
    {
     "name": "stdout",
     "output_type": "stream",
     "text": [
      "Quantidade de registros após à adição do person_id_infant: 24707761\n"
     ]
    },
    {
     "name": "stderr",
     "output_type": "stream",
     "text": [
      "\r",
      "[Stage 65:======================================================> (94 + 2) / 96]\r",
      "\r",
      "                                                                                \r"
     ]
    }
   ],
   "source": [
    "# Adicionando o person_id_infant a base completa através do left join pelo id_cidacs_sinasc_v4\n",
    "df = df.join(df_person_id_infant, how='left', on='id_cidacs_sinasc_v4')\n",
    "print(f'Quantidade de registros após à adição do person_id_infant: {df.count()}')"
   ]
  },
  {
   "cell_type": "code",
   "execution_count": 17,
   "id": "8abd69f8",
   "metadata": {},
   "outputs": [
    {
     "name": "stderr",
     "output_type": "stream",
     "text": [
      "25/03/30 23:10:48 WARN WindowExec: No Partition Defined for Window operation! Moving all data to a single partition, this can cause serious performance degradation.\n",
      "25/03/30 23:10:48 WARN WindowExec: No Partition Defined for Window operation! Moving all data to a single partition, this can cause serious performance degradation.\n",
      "25/03/30 23:10:54 WARN WindowExec: No Partition Defined for Window operation! Moving all data to a single partition, this can cause serious performance degradation.\n",
      "25/03/30 23:10:54 WARN WindowExec: No Partition Defined for Window operation! Moving all data to a single partition, this can cause serious performance degradation.\n",
      "25/03/30 23:11:01 WARN WindowExec: No Partition Defined for Window operation! Moving all data to a single partition, this can cause serious performance degradation.\n",
      "25/03/30 23:11:01 WARN WindowExec: No Partition Defined for Window operation! Moving all data to a single partition, this can cause serious performance degradation.\n",
      "25/03/30 23:11:03 WARN WindowExec: No Partition Defined for Window operation! Moving all data to a single partition, this can cause serious performance degradation.\n",
      "25/03/30 23:11:03 WARN WindowExec: No Partition Defined for Window operation! Moving all data to a single partition, this can cause serious performance degradation.\n",
      "[Stage 79:===================================================>    (89 + 7) / 96]\r"
     ]
    },
    {
     "name": "stdout",
     "output_type": "stream",
     "text": [
      "Quantidade de person_id_infant nulos: 0\n"
     ]
    },
    {
     "name": "stderr",
     "output_type": "stream",
     "text": [
      "\r",
      "                                                                                \r"
     ]
    }
   ],
   "source": [
    "# verificando se existe algum person_id_infant nulo no novo dataframe\n",
    "print(f\"Quantidade de person_id_infant nulos: {df.filter(F.col('person_id_infant').isNull()).count()}\")"
   ]
  },
  {
   "cell_type": "markdown",
   "id": "619a357c",
   "metadata": {},
   "source": [
    "### 3. Criando LocationID\n",
    "\n",
    "Observações:\n",
    "1. Não tem codmunres_sinasc null\n",
    "2. dtnasc_sinasc não tem valores nulos\n",
    "\n",
    "Como existem pessoas (person_id) que tem mais de um 'codmunres_sinasc' (CEP), vamos pegar o último 'codmunres_sinasc' não nulo ordenando pela data de nascimento do filho (dtnasc_sinasc) em ordem crescente"
   ]
  },
  {
   "cell_type": "code",
   "execution_count": 18,
   "id": "5c62d01b",
   "metadata": {},
   "outputs": [],
   "source": [
    "window_location_id = Window.partitionBy('person_id').orderBy('dtnasc_sinasc')\n",
    "\n",
    "df = df.withColumn('location_id', F.last('codmunres_sinasc', ignorenulls=True).over(window_location_id))"
   ]
  },
  {
   "cell_type": "markdown",
   "id": "fbe789fe-363f-4bd0-8a49-ea45127ab349",
   "metadata": {},
   "source": [
    "### 4. Calculando Data de nascimento da mãe  \n",
    "\n",
    "- Quando a data de nascimento da mãe (dtnascmae_sinasc) for nulo, fazer o cálculo: dtnasc_sinasc - idademae_sinasc."
   ]
  },
  {
   "cell_type": "code",
   "execution_count": 19,
   "id": "fb77a375",
   "metadata": {},
   "outputs": [],
   "source": [
    "window_dt_mae = Window.partitionBy('id_cidacs_mae_sinasc').orderBy('dtnasc_sinasc').rowsBetween(Window.unboundedPreceding, Window.unboundedFollowing)"
   ]
  },
  {
   "cell_type": "code",
   "execution_count": 20,
   "id": "1f019a7a",
   "metadata": {},
   "outputs": [],
   "source": [
    "df = (df.withColumn('dt_nascimento_calc_mae', F.when(F.col('dtnascmae_sinasc').isNotNull(), \n",
    "                                                 F.to_date('dtnascmae_sinasc', 'yyyy-MM-dd'))\n",
    "                                           .when(F.col('dtnascmae_sinasc').isNull(), \n",
    "                                                F.add_months(F.to_date('dtnasc_sinasc', 'yyyy-MM-dd'), -12 * F.col('idademae_sinasc').cast('integer')))\n",
    "                                           .otherwise(None).cast('date')\n",
    "                                          )\n",
    "      .withColumn('dt_nascimento_calc_mae', F.max('dt_nascimento_calc_mae').over(window_dt_mae))\n",
    "     )"
   ]
  },
  {
   "cell_type": "markdown",
   "id": "6cd6ca19",
   "metadata": {},
   "source": [
    "### 4.1 Removendo casos em que o dtnascmae_sinasc e idademae_sinasc são nulos\n",
    "\n",
    "Onde o dtnascmae_sinasc é nulo, não é possível calcular ou extrair o ano de nascimento da mãe, e este é um campo obrigatório para o OMOP.\n",
    "\n",
    "O que fazer?\n",
    "R: Como existem poucos registros onde a data de nascimento da mãe é nulo depois de calcular o item 4, vamos manter apenas os not nulls."
   ]
  },
  {
   "cell_type": "code",
   "execution_count": 21,
   "id": "ed7bee8f",
   "metadata": {},
   "outputs": [
    {
     "name": "stderr",
     "output_type": "stream",
     "text": [
      "[Stage 88:=======================================================>(95 + 1) / 96]\r"
     ]
    },
    {
     "name": "stdout",
     "output_type": "stream",
     "text": [
      "Quantidade de registros onde é possível extrair o ano de nascimento da mãe: 24702759\n"
     ]
    },
    {
     "name": "stderr",
     "output_type": "stream",
     "text": [
      "\r",
      "                                                                                \r"
     ]
    }
   ],
   "source": [
    "df = df.filter(F.col('dt_nascimento_calc_mae').isNotNull())\n",
    "print(f'Quantidade de registros onde é possível extrair o ano de nascimento da mãe: {df.count()}')"
   ]
  },
  {
   "cell_type": "markdown",
   "id": "e3deb379",
   "metadata": {},
   "source": [
    "### Salvando Base completa enriquecida no formato Parquet"
   ]
  },
  {
   "cell_type": "code",
   "execution_count": null,
   "id": "9bc1aad5-5f03-4395-80aa-d01ca3e6c46e",
   "metadata": {
    "tags": []
   },
   "outputs": [
    {
     "name": "stderr",
     "output_type": "stream",
     "text": [
      "25/03/30 23:11:54 WARN WindowExec: No Partition Defined for Window operation! Moving all data to a single partition, this can cause serious performance degradation.\n",
      "25/03/30 23:11:54 WARN WindowExec: No Partition Defined for Window operation! Moving all data to a single partition, this can cause serious performance degradation.\n",
      "25/03/30 23:11:54 WARN WindowExec: No Partition Defined for Window operation! Moving all data to a single partition, this can cause serious performance degradation.\n",
      "25/03/30 23:11:54 WARN WindowExec: No Partition Defined for Window operation! Moving all data to a single partition, this can cause serious performance degradation.\n",
      "25/03/30 23:11:54 WARN WindowExec: No Partition Defined for Window operation! Moving all data to a single partition, this can cause serious performance degradation.\n",
      "25/03/30 23:11:54 WARN WindowExec: No Partition Defined for Window operation! Moving all data to a single partition, this can cause serious performance degradation.\n",
      "25/03/30 23:12:11 WARN WindowExec: No Partition Defined for Window operation! Moving all data to a single partition, this can cause serious performance degradation.\n",
      "25/03/30 23:12:11 WARN WindowExec: No Partition Defined for Window operation! Moving all data to a single partition, this can cause serious performance degradation.\n",
      "25/03/30 23:12:11 WARN WindowExec: No Partition Defined for Window operation! Moving all data to a single partition, this can cause serious performance degradation.\n",
      "25/03/30 23:12:11 WARN WindowExec: No Partition Defined for Window operation! Moving all data to a single partition, this can cause serious performance degradation.\n",
      "25/03/30 23:12:11 WARN WindowExec: No Partition Defined for Window operation! Moving all data to a single partition, this can cause serious performance degradation.\n",
      "25/03/30 23:12:11 WARN WindowExec: No Partition Defined for Window operation! Moving all data to a single partition, this can cause serious performance degradation.\n",
      "25/03/30 23:12:18 WARN WindowExec: No Partition Defined for Window operation! Moving all data to a single partition, this can cause serious performance degradation.\n",
      "25/03/30 23:12:18 WARN WindowExec: No Partition Defined for Window operation! Moving all data to a single partition, this can cause serious performance degradation.\n",
      "25/03/30 23:12:18 WARN WindowExec: No Partition Defined for Window operation! Moving all data to a single partition, this can cause serious performance degradation.\n",
      "25/03/30 23:12:18 WARN WindowExec: No Partition Defined for Window operation! Moving all data to a single partition, this can cause serious performance degradation.\n",
      "25/03/30 23:12:18 WARN WindowExec: No Partition Defined for Window operation! Moving all data to a single partition, this can cause serious performance degradation.\n",
      "25/03/30 23:12:18 WARN WindowExec: No Partition Defined for Window operation! Moving all data to a single partition, this can cause serious performance degradation.\n",
      "25/03/30 23:12:25 WARN WindowExec: No Partition Defined for Window operation! Moving all data to a single partition, this can cause serious performance degradation.\n",
      "25/03/30 23:12:25 WARN WindowExec: No Partition Defined for Window operation! Moving all data to a single partition, this can cause serious performance degradation.\n",
      "25/03/30 23:12:25 WARN WindowExec: No Partition Defined for Window operation! Moving all data to a single partition, this can cause serious performance degradation.\n",
      "25/03/30 23:12:25 WARN WindowExec: No Partition Defined for Window operation! Moving all data to a single partition, this can cause serious performance degradation.\n",
      "25/03/30 23:12:25 WARN WindowExec: No Partition Defined for Window operation! Moving all data to a single partition, this can cause serious performance degradation.\n",
      "25/03/30 23:12:25 WARN WindowExec: No Partition Defined for Window operation! Moving all data to a single partition, this can cause serious performance degradation.\n",
      "25/03/30 23:12:27 WARN WindowExec: No Partition Defined for Window operation! Moving all data to a single partition, this can cause serious performance degradation.\n",
      "25/03/30 23:12:27 WARN WindowExec: No Partition Defined for Window operation! Moving all data to a single partition, this can cause serious performance degradation.\n",
      "25/03/30 23:12:27 WARN WindowExec: No Partition Defined for Window operation! Moving all data to a single partition, this can cause serious performance degradation.\n",
      "25/03/30 23:12:27 WARN WindowExec: No Partition Defined for Window operation! Moving all data to a single partition, this can cause serious performance degradation.\n",
      "25/03/30 23:12:27 WARN WindowExec: No Partition Defined for Window operation! Moving all data to a single partition, this can cause serious performance degradation.\n",
      "25/03/30 23:12:27 WARN WindowExec: No Partition Defined for Window operation! Moving all data to a single partition, this can cause serious performance degradation.\n",
      "25/03/30 23:12:29 WARN WindowExec: No Partition Defined for Window operation! Moving all data to a single partition, this can cause serious performance degradation.\n",
      "25/03/30 23:12:29 WARN WindowExec: No Partition Defined for Window operation! Moving all data to a single partition, this can cause serious performance degradation.\n",
      "25/03/30 23:12:29 WARN WindowExec: No Partition Defined for Window operation! Moving all data to a single partition, this can cause serious performance degradation.\n",
      "25/03/30 23:12:29 WARN WindowExec: No Partition Defined for Window operation! Moving all data to a single partition, this can cause serious performance degradation.\n",
      "25/03/30 23:12:29 WARN WindowExec: No Partition Defined for Window operation! Moving all data to a single partition, this can cause serious performance degradation.\n",
      "25/03/30 23:12:29 WARN WindowExec: No Partition Defined for Window operation! Moving all data to a single partition, this can cause serious performance degradation.\n",
      "                                                                                \r"
     ]
    }
   ],
   "source": [
    "(df\n",
    " .repartition(1)\n",
    " .write\n",
    " .parquet('/data/IDAF/PROJETOS/PARCERIA_CIDACS_PHDC/banco_original_enriched', mode='overwrite')\n",
    ")"
   ]
  },
  {
   "cell_type": "code",
   "execution_count": null,
   "id": "bf1be6a0-4d0e-449a-962a-a76d91f0e29f",
   "metadata": {},
   "outputs": [],
   "source": []
  }
 ],
 "metadata": {
  "kernelspec": {
   "display_name": "Python 3 (ipykernel)",
   "language": "python",
   "name": "python3"
  },
  "language_info": {
   "codemirror_mode": {
    "name": "ipython",
    "version": 3
   },
   "file_extension": ".py",
   "mimetype": "text/x-python",
   "name": "python",
   "nbconvert_exporter": "python",
   "pygments_lexer": "ipython3",
   "version": "3.10.12"
  }
 },
 "nbformat": 4,
 "nbformat_minor": 5
}
