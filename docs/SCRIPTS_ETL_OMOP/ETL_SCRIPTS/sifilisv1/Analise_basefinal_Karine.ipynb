{
 "cells": [
  {
   "cell_type": "code",
   "execution_count": 1,
   "id": "354b5112-446d-492f-abf3-eef532d02ef5",
   "metadata": {},
   "outputs": [
    {
     "name": "stderr",
     "output_type": "stream",
     "text": [
      "Setting default log level to \"WARN\".\n",
      "To adjust logging level use sc.setLogLevel(newLevel). For SparkR, use setLogLevel(newLevel).\n",
      "25/05/05 13:49:02 WARN NativeCodeLoader: Unable to load native-hadoop library for your platform... using builtin-java classes where applicable\n"
     ]
    }
   ],
   "source": [
    "from pyspark.sql import SparkSession\n",
    "from pyspark.sql import functions as F\n",
    "from pyspark.sql import Window\n",
    "\n",
    "import pandas as pd\n",
    "\n",
    "\n",
    "spark  = SparkSession.builder \\\n",
    "    .appName(\"Data Analysis\") \\\n",
    "    .config(\"spark.executor.memory\", \"8g\")\\\n",
    "    .config(\"spark.driver.memory\", \"8g\")\\\n",
    "    .config(\"spark.executor.cores\", \"4\")\\\n",
    "    .config(\"spark.executor.instances\",\"8\")\\\n",
    "    .config(\"spark.sql.shuffle.partitions\",\"96\")\\\n",
    "    .config(\"spark.default.parallelism\",\"96\")\\\n",
    "    .getOrCreate()"
   ]
  },
  {
   "cell_type": "code",
   "execution_count": 2,
   "id": "27c264bd-adc3-4f03-855d-cc1916ad545c",
   "metadata": {},
   "outputs": [],
   "source": [
    "spark.conf.set(\"spark.sql.repl.eagerEval.enabled\", True)\n",
    "spark.conf.set(\"spark.sql.repl.eagerEval.truncate\", 100)\n",
    "spark.conf.set(\"spark.sql.repl.eagerEval.maxNumRows\", 300)\n",
    "\n",
    "spark.conf.set(\"spark.sql.debug.maxToStringFields\", 100)\n",
    "\n",
    "pd.set_option(\"display.max_columns\", None) \n",
    "pd.set_option(\"display.max_rows\", None)"
   ]
  },
  {
   "cell_type": "code",
   "execution_count": 3,
   "id": "a3dfc10b-2fed-4a39-910e-50ea61b99976",
   "metadata": {},
   "outputs": [],
   "source": [
    "base_final_gest_limp = (spark\n",
    "            .read\n",
    "            .option('nullValue', 'NA')\n",
    "            .csv('/data/IDAF/PROJETOS/PARCERIA_CIDACS_PHDC/Karine/Banco/basefinal_gest_limp.csv', header=True))"
   ]
  },
  {
   "cell_type": "code",
   "execution_count": 4,
   "id": "e2392687-513c-4dc4-9a96-37e0c3b4ed16",
   "metadata": {},
   "outputs": [
    {
     "data": {
      "text/plain": [
       "Row(apgar1_sinasc='9', apgar5_sinasc='10', cod_raca_cor_pessoa_eq='4', codanomal_sinasc=None, codmunres_sinasc='292810', consprenat_sinasc='10', consultas_sinasc='4', dt_notific_mae=None, dtnasc_sinasc='2014-06-09', dtnascmae_sinasc='1985-01-18', dtobito_sim.y=None, escmae_sinasc='4', estcivmae_sinasc='2', gravidez_sinasc='1', id_agravo_mae=None, id_cidacs_mae_sinasc='849297898', id_cidacs_sinasc_v5='448674125', idademae_sinasc='29', idanomal_sinasc='2', mesprenat_sinasc='2', parto_sinasc='2', peso_sinasc='3770', qtdfilmort_sinasc='0', qtdfilvivo_sinasc='1', racacormae_sinasc='4', semagestac_sinasc='40', sexo_sinasc='2', tpapresent_sinasc='1', tpconfirma_mae=None, tpesquema_mae=None, tpevidenci_mae=None, tpteste1_mae=None, tra_dt_sc=None, marc_pbf_eq_v4='1', id_cidacs_pop100_v4='1205803674', ind_mae_sinasc_cidacs='0', dtultmenst_sinasc='2013-08-29', qtdgestant_sinasc='1')"
      ]
     },
     "execution_count": 4,
     "metadata": {},
     "output_type": "execute_result"
    }
   ],
   "source": [
    "base_final_gest_limp.head()"
   ]
  },
  {
   "cell_type": "code",
   "execution_count": 5,
   "id": "4b190e46-68f4-4ca1-a125-0ea6c44e7508",
   "metadata": {
    "scrolled": true
   },
   "outputs": [
    {
     "data": {
      "text/plain": [
       "['apgar1_sinasc',\n",
       " 'apgar5_sinasc',\n",
       " 'cod_raca_cor_pessoa_eq',\n",
       " 'codanomal_sinasc',\n",
       " 'codmunres_sinasc',\n",
       " 'consprenat_sinasc',\n",
       " 'consultas_sinasc',\n",
       " 'dt_notific_mae',\n",
       " 'dtnasc_sinasc',\n",
       " 'dtnascmae_sinasc',\n",
       " 'dtobito_sim.y',\n",
       " 'escmae_sinasc',\n",
       " 'estcivmae_sinasc',\n",
       " 'gravidez_sinasc',\n",
       " 'id_agravo_mae',\n",
       " 'id_cidacs_mae_sinasc',\n",
       " 'id_cidacs_sinasc_v5',\n",
       " 'idademae_sinasc',\n",
       " 'idanomal_sinasc',\n",
       " 'mesprenat_sinasc',\n",
       " 'parto_sinasc',\n",
       " 'peso_sinasc',\n",
       " 'qtdfilmort_sinasc',\n",
       " 'qtdfilvivo_sinasc',\n",
       " 'racacormae_sinasc',\n",
       " 'semagestac_sinasc',\n",
       " 'sexo_sinasc',\n",
       " 'tpapresent_sinasc',\n",
       " 'tpconfirma_mae',\n",
       " 'tpesquema_mae',\n",
       " 'tpevidenci_mae',\n",
       " 'tpteste1_mae',\n",
       " 'tra_dt_sc',\n",
       " 'marc_pbf_eq_v4',\n",
       " 'id_cidacs_pop100_v4',\n",
       " 'ind_mae_sinasc_cidacs',\n",
       " 'dtultmenst_sinasc',\n",
       " 'qtdgestant_sinasc']"
      ]
     },
     "execution_count": 5,
     "metadata": {},
     "output_type": "execute_result"
    }
   ],
   "source": [
    "base_final_gest_limp.columns"
   ]
  },
  {
   "cell_type": "code",
   "execution_count": 6,
   "id": "6fc9dd29-f309-417f-be2f-c675e9da91c8",
   "metadata": {},
   "outputs": [
    {
     "data": {
      "text/plain": [
       "38"
      ]
     },
     "execution_count": 6,
     "metadata": {},
     "output_type": "execute_result"
    }
   ],
   "source": [
    "number_of_variables = len(base_final_gest_limp.columns)\n",
    "number_of_variables"
   ]
  },
  {
   "cell_type": "code",
   "execution_count": 7,
   "id": "0d21e9c1-0af3-4e61-9e0c-771ccde11951",
   "metadata": {},
   "outputs": [],
   "source": [
    "base_final_gest_limp = base_final_gest_limp.withColumnRenamed('dtobito_sim.y','dtobito_sim')"
   ]
  },
  {
   "cell_type": "code",
   "execution_count": 8,
   "id": "12ea8f3a-9b79-4beb-a362-59b6eca5a556",
   "metadata": {},
   "outputs": [],
   "source": [
    "date_variables = [] \n",
    "\n",
    "for variable in base_final_gest_limp.columns: \n",
    "    if str(variable).lower().startswith('dt'): \n",
    "        date_variables.append(variable)"
   ]
  },
  {
   "cell_type": "code",
   "execution_count": 9,
   "id": "c765dc3a-3392-484b-887c-471fa8697f80",
   "metadata": {},
   "outputs": [
    {
     "data": {
      "text/plain": [
       "['dt_notific_mae',\n",
       " 'dtnasc_sinasc',\n",
       " 'dtnascmae_sinasc',\n",
       " 'dtobito_sim',\n",
       " 'dtultmenst_sinasc']"
      ]
     },
     "execution_count": 9,
     "metadata": {},
     "output_type": "execute_result"
    }
   ],
   "source": [
    "date_variables"
   ]
  },
  {
   "cell_type": "markdown",
   "id": "52247371-36fe-46cb-abf1-f29c70d5cfae",
   "metadata": {},
   "source": [
    "## **Análise das datas**"
   ]
  },
  {
   "cell_type": "code",
   "execution_count": 10,
   "id": "53319c04-ec80-4ddf-898d-f23577e85b99",
   "metadata": {},
   "outputs": [
    {
     "name": "stdout",
     "output_type": "stream",
     "text": [
      "variável: {variable}\n"
     ]
    },
    {
     "name": "stderr",
     "output_type": "stream",
     "text": [
      "                                                                                \r"
     ]
    },
    {
     "name": "stdout",
     "output_type": "stream",
     "text": [
      "+-------------------+\n",
      "|min(dt_notific_mae)|\n",
      "+-------------------+\n",
      "|         2011-01-01|\n",
      "+-------------------+\n",
      "\n"
     ]
    },
    {
     "name": "stderr",
     "output_type": "stream",
     "text": [
      "                                                                                \r"
     ]
    },
    {
     "name": "stdout",
     "output_type": "stream",
     "text": [
      "+-------------------+\n",
      "|max(dt_notific_mae)|\n",
      "+-------------------+\n",
      "|         2020-12-31|\n",
      "+-------------------+\n",
      "\n",
      "------------------------------------\n",
      "variável: {variable}\n"
     ]
    },
    {
     "name": "stderr",
     "output_type": "stream",
     "text": [
      "                                                                                \r"
     ]
    },
    {
     "name": "stdout",
     "output_type": "stream",
     "text": [
      "+------------------+\n",
      "|min(dtnasc_sinasc)|\n",
      "+------------------+\n",
      "|        2011-01-01|\n",
      "+------------------+\n",
      "\n"
     ]
    },
    {
     "name": "stderr",
     "output_type": "stream",
     "text": [
      "                                                                                \r"
     ]
    },
    {
     "name": "stdout",
     "output_type": "stream",
     "text": [
      "+------------------+\n",
      "|max(dtnasc_sinasc)|\n",
      "+------------------+\n",
      "|        2020-12-31|\n",
      "+------------------+\n",
      "\n",
      "------------------------------------\n",
      "variável: {variable}\n"
     ]
    },
    {
     "name": "stderr",
     "output_type": "stream",
     "text": [
      "                                                                                \r"
     ]
    },
    {
     "name": "stdout",
     "output_type": "stream",
     "text": [
      "+---------------------+\n",
      "|min(dtnascmae_sinasc)|\n",
      "+---------------------+\n",
      "|           1927-10-28|\n",
      "+---------------------+\n",
      "\n"
     ]
    },
    {
     "name": "stderr",
     "output_type": "stream",
     "text": [
      "                                                                                \r"
     ]
    },
    {
     "name": "stdout",
     "output_type": "stream",
     "text": [
      "+---------------------+\n",
      "|max(dtnascmae_sinasc)|\n",
      "+---------------------+\n",
      "|           2009-10-05|\n",
      "+---------------------+\n",
      "\n",
      "------------------------------------\n",
      "variável: {variable}\n"
     ]
    },
    {
     "name": "stderr",
     "output_type": "stream",
     "text": [
      "                                                                                \r"
     ]
    },
    {
     "name": "stdout",
     "output_type": "stream",
     "text": [
      "+----------------+\n",
      "|min(dtobito_sim)|\n",
      "+----------------+\n",
      "|      2011-01-01|\n",
      "+----------------+\n",
      "\n"
     ]
    },
    {
     "name": "stderr",
     "output_type": "stream",
     "text": [
      "                                                                                \r"
     ]
    },
    {
     "name": "stdout",
     "output_type": "stream",
     "text": [
      "+----------------+\n",
      "|max(dtobito_sim)|\n",
      "+----------------+\n",
      "|      2020-12-31|\n",
      "+----------------+\n",
      "\n",
      "------------------------------------\n",
      "variável: {variable}\n"
     ]
    },
    {
     "name": "stderr",
     "output_type": "stream",
     "text": [
      "                                                                                \r"
     ]
    },
    {
     "name": "stdout",
     "output_type": "stream",
     "text": [
      "+----------------------+\n",
      "|min(dtultmenst_sinasc)|\n",
      "+----------------------+\n",
      "|            1931-02-11|\n",
      "+----------------------+\n",
      "\n"
     ]
    },
    {
     "name": "stderr",
     "output_type": "stream",
     "text": [
      "[Stage 29:=======================================================>(95 + 1) / 96]\r"
     ]
    },
    {
     "name": "stdout",
     "output_type": "stream",
     "text": [
      "+----------------------+\n",
      "|max(dtultmenst_sinasc)|\n",
      "+----------------------+\n",
      "|            2020-12-27|\n",
      "+----------------------+\n",
      "\n",
      "------------------------------------\n"
     ]
    },
    {
     "name": "stderr",
     "output_type": "stream",
     "text": [
      "                                                                                \r"
     ]
    }
   ],
   "source": [
    "for variable in date_variables:\n",
    "    print('variável: {variable}')\n",
    "    base_final_gest_limp.select(F.min(variable)).show()\n",
    "    base_final_gest_limp.select(F.max(variable)).show()\n",
    "    print('------------------------------------')"
   ]
  },
  {
   "cell_type": "markdown",
   "id": "06a10f01-69da-424c-9229-5a5b31eb306a",
   "metadata": {},
   "source": [
    "## **Análise da variável racacormae_sinasc**"
   ]
  },
  {
   "cell_type": "code",
   "execution_count": 13,
   "id": "d6480391-d57b-4d24-bf24-4f6ab88c3c0c",
   "metadata": {},
   "outputs": [
    {
     "name": "stderr",
     "output_type": "stream",
     "text": [
      "[Stage 33:===================================================>    (89 + 7) / 96]\r"
     ]
    },
    {
     "name": "stdout",
     "output_type": "stream",
     "text": [
      "+------------------------+\n",
      "|count(racacormae_sinasc)|\n",
      "+------------------------+\n",
      "|                16609493|\n",
      "+------------------------+\n",
      "\n"
     ]
    },
    {
     "name": "stderr",
     "output_type": "stream",
     "text": [
      "                                                                                \r"
     ]
    }
   ],
   "source": [
    "spark.sql(\"SELECT COUNT({df.racacormae_sinasc}) FROM {df} WHERE {df.racacormae_sinasc} != 'NA'\", df=base_final_gest_limp).show()"
   ]
  },
  {
   "cell_type": "code",
   "execution_count": null,
   "id": "35d8cf2d-eaa3-4f14-9f5a-6233cc712734",
   "metadata": {},
   "outputs": [],
   "source": []
  }
 ],
 "metadata": {
  "kernelspec": {
   "display_name": "Python 3 (ipykernel)",
   "language": "python",
   "name": "python3"
  },
  "language_info": {
   "codemirror_mode": {
    "name": "ipython",
    "version": 3
   },
   "file_extension": ".py",
   "mimetype": "text/x-python",
   "name": "python",
   "nbconvert_exporter": "python",
   "pygments_lexer": "ipython3",
   "version": "3.10.12"
  }
 },
 "nbformat": 4,
 "nbformat_minor": 5
}
