{
 "cells": [
  {
   "cell_type": "markdown",
   "id": "b3b8b21d",
   "metadata": {},
   "source": [
    "### Configurações Pyspark"
   ]
  },
  {
   "cell_type": "code",
   "execution_count": 1,
   "id": "e5254cb2",
   "metadata": {},
   "outputs": [
    {
     "name": "stderr",
     "output_type": "stream",
     "text": [
      "25/03/13 15:34:45 WARN NativeCodeLoader: Unable to load native-hadoop library for your platform... using builtin-java classes where applicable\n",
      "Setting default log level to \"WARN\".\n",
      "To adjust logging level use sc.setLogLevel(newLevel). For SparkR, use setLogLevel(newLevel).\n",
      "25/03/13 15:34:46 WARN Utils: Service 'SparkUI' could not bind on port 4040. Attempting port 4041.\n",
      "25/03/13 15:34:46 WARN Utils: Service 'SparkUI' could not bind on port 4041. Attempting port 4042.\n",
      "25/03/13 15:34:46 WARN Utils: Service 'SparkUI' could not bind on port 4042. Attempting port 4043.\n"
     ]
    }
   ],
   "source": [
    "from pyspark.sql import SparkSession\n",
    "from pyspark.sql import functions as F\n",
    "from pyspark.sql import Window\n",
    "\n",
    "import pandas as pd\n",
    "\n",
    "def write_to_postgresl(df, tb_name=None, write_mode='None'):\n",
    "    df.count()\n",
    "    if tb_name is None:\n",
    "        raise Exception('Informe o nome da tabela')\n",
    "    if write_mode is None:\n",
    "        raise Exception('Informe o mode de escrita: append ou overwrite')\n",
    "        \n",
    "    from datetime import datetime\n",
    "    start_time = datetime.now()\n",
    "    \n",
    "    try:\n",
    "        df.write.jdbc(url, table=tb_name, mode=write_mode, properties=properties)\n",
    "    except Exception as e:\n",
    "        print(f'Erro: {e}')\n",
    "    end_time = datetime.now()\n",
    "    \n",
    "    total_time = str(end_time - start_time)\n",
    "    \n",
    "    return f'Total time: {total_time} and - Total rows: {df.count()} - Total columns: {len(df.columns)}'\n",
    "\n",
    "\n",
    "\n",
    "    # Criando a sessão do Spark\n",
    "spark  = SparkSession.builder \\\n",
    "    .appName(\"Data Analysis\") \\\n",
    "    .config('spark.jars', '/data/IDAF/DATABASECONNECTOR_JAR_FOLDER/postgresql-42.2.18.jar')\\\n",
    "    .config(\"spark.executor.memory\", \"8g\")\\\n",
    "    .config(\"spark.driver.memory\", \"8g\")\\\n",
    "    .config(\"spark.executor.cores\", \"4\")\\\n",
    "    .config(\"spark.executor.instances\",\"8\")\\\n",
    "    .config(\"spark.sql.shuffle.partitions\",\"96\")\\\n",
    "    .config(\"spark.default.parallelism\",\"96\")\\\n",
    "    .getOrCreate()\n",
    "\n",
    "\n",
    "url = \"jdbc:postgresql://localhost:5432/postgres\"\n",
    "\n",
    "properties = {\n",
    "    \"user\" : \"postgres\",\n",
    "    \"password\" : \"cidacs\",\n",
    "    \"driver\" : \"org.postgresql.Driver\"\n",
    "}"
   ]
  },
  {
   "cell_type": "markdown",
   "id": "b89a1810-f956-4493-9f11-134bef6d000d",
   "metadata": {},
   "source": [
    "## Configurações Pandas"
   ]
  },
  {
   "cell_type": "code",
   "execution_count": 2,
   "id": "787acd6f",
   "metadata": {},
   "outputs": [],
   "source": [
    "spark.conf.set(\"spark.sql.repl.eagerEval.enabled\", True)\n",
    "spark.conf.set(\"spark.sql.repl.eagerEval.truncate\", 100)\n",
    "spark.conf.set(\"spark.sql.repl.eagerEval.maxNumRows\", 300)\n",
    "\n",
    "spark.conf.set(\"spark.sql.debug.maxToStringFields\", 100)\n",
    "\n",
    "pd.set_option(\"display.max_columns\", None) \n",
    "pd.set_option(\"display.max_rows\", None)"
   ]
  },
  {
   "cell_type": "markdown",
   "id": "e5bdd252",
   "metadata": {},
   "source": [
    "### Lendo dados enriquecidos"
   ]
  },
  {
   "cell_type": "code",
   "execution_count": 3,
   "id": "64224f0d",
   "metadata": {},
   "outputs": [
    {
     "name": "stderr",
     "output_type": "stream",
     "text": [
      "\r",
      "[Stage 0:>                                                          (0 + 1) / 1]\r",
      "\r",
      "                                                                                \r"
     ]
    }
   ],
   "source": [
    "df_input = (spark\n",
    "            .read\n",
    "            .parquet('/data/IDAF/PROJETOS/PARCERIA_CIDACS_PHDC/banco_original_enriched')\n",
    "           )"
   ]
  },
  {
   "cell_type": "markdown",
   "id": "b21352a3",
   "metadata": {},
   "source": [
    "### Care Site"
   ]
  },
  {
   "cell_type": "code",
   "execution_count": 4,
   "id": "dc28f863",
   "metadata": {},
   "outputs": [
    {
     "name": "stderr",
     "output_type": "stream",
     "text": [
      "                                                                                \r"
     ]
    },
    {
     "data": {
      "text/plain": [
       "11158"
      ]
     },
     "execution_count": 4,
     "metadata": {},
     "output_type": "execute_result"
    }
   ],
   "source": [
    "df_care_site = (df_input\n",
    "                         .select('codmunres_sinasc') # exitem valores com 5 e 6 digitos e podem representar o mesmo municipio\n",
    "                         .distinct()\n",
    "                         .withColumn('care_site_id', F.col('codmunres_sinasc'))\n",
    "                         .withColumn('care_site_source_value', F.col('codmunres_sinasc'))\n",
    "                         .withColumn('care_site_name', F.lit(None))\n",
    "                         .withColumn('place_of_service_concept_id', F.lit(None).cast('integer'))\n",
    "                         # criando location_id: precisei reescrever a lógica aqui pois se eu trouxesse o location_id da base original haveria duplicidade ao fazer o distinct\n",
    "                         .withColumn('county', F.col('codmunres_sinasc'))\n",
    "                         .withColumn('location_id', F.col('codmunres_sinasc'))\n",
    "                         .withColumn('place_of_service_source_value', F.lit(None))\n",
    "                        ).select(F.col('care_site_id').cast('integer'),\n",
    "                                 F.col('care_site_source_value').cast('string'),\n",
    "                                 F.col('care_site_name').cast('string'),\n",
    "                                 F.col('place_of_service_concept_id').cast('integer'),\n",
    "                                 F.col('location_id').cast('integer'),\n",
    "                                 F.col('place_of_service_source_value').cast('string')\n",
    "                                )\n",
    "\n",
    "df_care_site.count()"
   ]
  },
  {
   "cell_type": "markdown",
   "id": "4a3347da",
   "metadata": {},
   "source": [
    "### Salvando dados no Postgresql"
   ]
  },
  {
   "cell_type": "code",
   "execution_count": 5,
   "id": "b4a0652d",
   "metadata": {},
   "outputs": [
    {
     "name": "stderr",
     "output_type": "stream",
     "text": [
      "                                                                                \r"
     ]
    },
    {
     "data": {
      "text/plain": [
       "'Total time: 0:00:02.938407 and - Total rows: 11158 - Total columns: 6'"
      ]
     },
     "execution_count": 5,
     "metadata": {},
     "output_type": "execute_result"
    }
   ],
   "source": [
    "write_to_postgresl(df_care_site, tb_name='care_site', write_mode='append')"
   ]
  },
  {
   "cell_type": "markdown",
   "id": "b95b5a69",
   "metadata": {},
   "source": [
    "## Deprecated"
   ]
  },
  {
   "cell_type": "markdown",
   "id": "74d8976f",
   "metadata": {},
   "source": [
    "### Salvando CSV "
   ]
  },
  {
   "cell_type": "code",
   "execution_count": null,
   "id": "77898bd0",
   "metadata": {},
   "outputs": [],
   "source": [
    "# df_care_site.repartition(1).write.option(\"quoteAll\",True).csv('/data/IDAF/SHARED/omop_tables_revisadas/care_site', header=True, mode='overwrite')"
   ]
  },
  {
   "cell_type": "markdown",
   "id": "4beea3f6",
   "metadata": {},
   "source": [
    "## SQL de insertion"
   ]
  },
  {
   "cell_type": "code",
   "execution_count": null,
   "id": "c7b417f2",
   "metadata": {},
   "outputs": [],
   "source": [
    "# -- CREATE TABLE public.care_site (\n",
    "# -- \t\t\tcare_site_id integer NOT NULL,\n",
    "# -- \t\t\tcare_site_name varchar(255) NULL,\n",
    "# -- \t\t\tplace_of_service_concept_id integer NULL,\n",
    "# -- \t\t\tlocation_id integer NULL,\n",
    "# -- \t\t\tcare_site_source_value varchar(50) NULL,\n",
    "# -- \t\t\tplace_of_service_source_value varchar(50) NULL );\n",
    "\n",
    "\n",
    "# -- CREATE TABLE public.care_site_pyspark (\n",
    "# -- \t\t\tcare_site_id varchar,\n",
    "# -- \t\t\tcare_site_name varchar,\n",
    "# -- \t\t\tplace_of_service_concept_id varchar,\n",
    "# -- \t\t\tlocation_id varchar,\n",
    "# -- \t\t\tcare_site_source_value varchar,\n",
    "# -- \t\t\tplace_of_service_source_value varchar);\n",
    "\n",
    "\n",
    "# insert into public.care_site (\n",
    "# care_site_id ,\n",
    "# care_site_name ,\n",
    "# place_of_service_concept_id ,\n",
    "# location_id ,\n",
    "# care_site_source_value ,\n",
    "# place_of_service_source_value \n",
    "# )\n",
    "# SELECT \n",
    "# cast(case when care_site_id = '' then null else care_site_id end as integer) ,\n",
    "# care_site_name ,\n",
    "# cast(case when place_of_service_concept_id = '' then null else place_of_service_concept_id end as integer ) ,\n",
    "# cast(case when location_id = '' then null else location_id end  as integer) ,\n",
    "# care_site_source_value ,\n",
    "# place_of_service_source_value \n",
    "# \tFROM public.care_site_pyspark;\n",
    "\n",
    "\n"
   ]
  }
 ],
 "metadata": {
  "kernelspec": {
   "display_name": "Python 3 (ipykernel)",
   "language": "python",
   "name": "python3"
  },
  "language_info": {
   "codemirror_mode": {
    "name": "ipython",
    "version": 3
   },
   "file_extension": ".py",
   "mimetype": "text/x-python",
   "name": "python",
   "nbconvert_exporter": "python",
   "pygments_lexer": "ipython3",
   "version": "3.10.12"
  }
 },
 "nbformat": 4,
 "nbformat_minor": 5
}
