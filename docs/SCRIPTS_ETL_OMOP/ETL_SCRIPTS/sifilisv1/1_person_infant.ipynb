{
 "cells": [
  {
   "cell_type": "markdown",
   "id": "b3b8b21d",
   "metadata": {},
   "source": [
    "### Configurações Pyspark"
   ]
  },
  {
   "cell_type": "code",
   "execution_count": 1,
   "id": "32a9ebf8",
   "metadata": {
    "tags": []
   },
   "outputs": [
    {
     "name": "stderr",
     "output_type": "stream",
     "text": [
      "25/03/31 08:34:06 WARN NativeCodeLoader: Unable to load native-hadoop library for your platform... using builtin-java classes where applicable\n",
      "Setting default log level to \"WARN\".\n",
      "To adjust logging level use sc.setLogLevel(newLevel). For SparkR, use setLogLevel(newLevel).\n"
     ]
    }
   ],
   "source": [
    "from pyspark.sql import SparkSession\n",
    "from pyspark.sql import functions as F\n",
    "from pyspark.sql import Window\n",
    "\n",
    "import pandas as pd\n",
    "\n",
    "def write_to_postgresl(df, tb_name=None, write_mode='None'):\n",
    "    df.count()\n",
    "    if tb_name is None:\n",
    "        raise Exception('Informe o nome da tabela')\n",
    "    if write_mode is None:\n",
    "        raise Exception('Informe o mode de escrita: append ou overwrite')\n",
    "        \n",
    "    from datetime import datetime\n",
    "    start_time = datetime.now()\n",
    "    \n",
    "    try:\n",
    "        df.write.jdbc(url, table=tb_name, mode=write_mode, properties=properties)\n",
    "    except Exception as e:\n",
    "        print(f'Erro: {e}')\n",
    "    end_time = datetime.now()\n",
    "    \n",
    "    total_time = str(end_time - start_time)\n",
    "    \n",
    "    return f'Total time: {total_time} and - Total rows: {df.count()} - Total columns: {len(df.columns)}'\n",
    "\n",
    "\n",
    "\n",
    "    # Criando a sessão do Spark\n",
    "spark  = SparkSession.builder \\\n",
    "    .appName(\"Data Analysis\") \\\n",
    "    .config('spark.jars', '/data/IDAF/DATABASECONNECTOR_JAR_FOLDER/postgresql-42.2.18.jar')\\\n",
    "    .config(\"spark.executor.memory\", \"8g\")\\\n",
    "    .config(\"spark.driver.memory\", \"8g\")\\\n",
    "    .config(\"spark.executor.cores\", \"4\")\\\n",
    "    .config(\"spark.executor.instances\",\"8\")\\\n",
    "    .config(\"spark.sql.shuffle.partitions\",\"96\")\\\n",
    "    .config(\"spark.default.parallelism\",\"96\")\\\n",
    "    .getOrCreate()\n",
    "\n",
    "\n",
    "url = \"jdbc:postgresql://localhost:5432/postgres\"\n",
    "\n",
    "properties = {\n",
    "    \"user\" : \"postgres\",\n",
    "    \"password\" : \"cidacs\",\n",
    "    \"driver\" : \"org.postgresql.Driver\"\n",
    "}"
   ]
  },
  {
   "cell_type": "markdown",
   "id": "2a65eed3-74ed-46c3-ac0c-a9474707d567",
   "metadata": {},
   "source": [
    "# Configurações Pandas"
   ]
  },
  {
   "cell_type": "code",
   "execution_count": 2,
   "id": "787acd6f",
   "metadata": {
    "tags": []
   },
   "outputs": [],
   "source": [
    "spark.conf.set(\"spark.sql.repl.eagerEval.enabled\", True)\n",
    "spark.conf.set(\"spark.sql.repl.eagerEval.truncate\", 100)\n",
    "spark.conf.set(\"spark.sql.repl.eagerEval.maxNumRows\", 300)\n",
    "\n",
    "spark.conf.set(\"spark.sql.debug.maxToStringFields\", 100)\n",
    "\n",
    "pd.set_option(\"display.max_columns\", None) \n",
    "pd.set_option(\"display.max_rows\", None)"
   ]
  },
  {
   "cell_type": "markdown",
   "id": "e5bdd252",
   "metadata": {},
   "source": [
    "### Leitura da base enriquecida"
   ]
  },
  {
   "cell_type": "code",
   "execution_count": 3,
   "id": "64224f0d",
   "metadata": {
    "tags": []
   },
   "outputs": [],
   "source": [
    "df_input = (spark\n",
    "            .read\n",
    "            .parquet('/data/IDAF/PROJETOS/PARCERIA_CIDACS_PHDC/banco_original_enriched', header=True)\n",
    "           )"
   ]
  },
  {
   "cell_type": "markdown",
   "id": "b21352a3",
   "metadata": {},
   "source": [
    "### Criação das colunas da tabela Person do OMOP"
   ]
  },
  {
   "cell_type": "code",
   "execution_count": 4,
   "id": "e4263682",
   "metadata": {
    "tags": []
   },
   "outputs": [],
   "source": [
    "cod_mun = ['11','12','13','14','15','16','17','21','22','23','24','25','26','27','28','29','31','32','33','35','41','42','43','50','51','52','53']"
   ]
  },
  {
   "cell_type": "code",
   "execution_count": 5,
   "id": "115ab6f8",
   "metadata": {
    "tags": []
   },
   "outputs": [
    {
     "name": "stderr",
     "output_type": "stream",
     "text": [
      "                                                                                \r"
     ]
    },
    {
     "data": {
      "text/plain": [
       "24690593"
      ]
     },
     "execution_count": 5,
     "metadata": {},
     "output_type": "execute_result"
    }
   ],
   "source": [
    "df_person = (df_input\n",
    "             .withColumn('person_id', F.col('person_id_infant'))\n",
    "             .withColumn('gender_concept_id', F.when(F.col('sexo_sinasc')==0, 0)\n",
    "                                               .when(F.col('sexo_sinasc')==1, 8507)\n",
    "                                               .when(F.col('sexo_sinasc')==2, 8532)\n",
    "                                               .when(F.col('sexo_sinasc')==88, 4214687)\n",
    "                                               .when(F.col('sexo_sinasc')==99, 0)\n",
    "                                               .otherwise(0))\n",
    "             .withColumn('race_concept_id', F.when(F.col('cod_raca_cor_pessoa_eq') == '0', 0)\n",
    "                                             .when(F.col('cod_raca_cor_pessoa_eq') == '1', 8527)\n",
    "                                             .when(F.col('cod_raca_cor_pessoa_eq') == '2', 38003598)\n",
    "                                             .when(F.col('cod_raca_cor_pessoa_eq') == '3', 8515)\n",
    "                                             .when(F.col('cod_raca_cor_pessoa_eq') == '4', 4212311)\n",
    "                                             .when(F.col('cod_raca_cor_pessoa_eq') == '5', 19387526)\n",
    "                                             .when(F.col('cod_raca_cor_pessoa_eq') == '99', 0)\n",
    "                                             .otherwise(0))\n",
    "             # criando campo ethnicity_concept_id\n",
    "             .withColumn('sg_uf_mae', F.substring(F.col('codmunres_sinasc'), 1, 2))\n",
    "             .withColumn('ethnicity_concept_id', F.when(F.col('sg_uf_mae').isin(cod_mun), 38003563)\n",
    "                                                  .otherwise(0))\n",
    "             .withColumn('year_of_birth', F.year('dtnasc_sinasc'))\n",
    "             .withColumn('month_of_birth', F.month('dtnasc_sinasc'))\n",
    "             .withColumn('day_of_birth', F.day('dtnasc_sinasc'))\n",
    "             .withColumn('location_id', F.col('location_id')) # Mesmo da mãe\n",
    "             .withColumn('person_source_value', F.col('id_cidacs_sinasc_v4'))\n",
    "             .groupBy('person_id')\n",
    "             .agg( # Agrupando por person_id para garantir que o filho apareça apenas uma vez\n",
    "                 F.max('race_concept_id').alias('race_concept_id'), \n",
    "                 F.max('gender_concept_id').alias('gender_concept_id'), \n",
    "                 F.max('ethnicity_concept_id').alias('ethnicity_concept_id'),\n",
    "                 F.max('year_of_birth').alias('year_of_birth'), \n",
    "                 F.max('month_of_birth').alias('month_of_birth'), \n",
    "                 F.max('day_of_birth').alias('day_of_birth'), \n",
    "                 F.max('location_id').alias('location_id'),\n",
    "                 F.max('person_source_value').alias('person_source_value'))\n",
    "             .withColumn('care_site_id', F.col('location_id'))\n",
    "             .withColumn('birth_datetime', F.lit(None))\n",
    "             .withColumn('provider_id', F.lit(None))\n",
    "             .withColumn('gender_source_value', F.lit(None))\n",
    "             .withColumn('gender_source_concept_id', F.lit(None))\n",
    "             .withColumn('race_source_value', F.lit(None))\n",
    "             .withColumn('race_source_concept_id', F.lit(None))\n",
    "             .withColumn('ethnicity_source_value', F.lit(None))\n",
    "             .withColumn('ethnicity_source_concept_id', F.lit(None))\n",
    "            ).select(\n",
    "                F.col('person_id').cast('integer'),\n",
    "                F.col('gender_concept_id').cast('integer'),\n",
    "                F.col('year_of_birth').cast('integer'),\n",
    "                F.col('month_of_birth').cast('integer'),\n",
    "                F.col('day_of_birth').cast('integer'),\n",
    "                F.col('birth_datetime').cast('timestamp'),\n",
    "                F.col('race_concept_id').cast('integer'),\n",
    "                F.col('location_id').cast('integer'),\n",
    "                F.col('provider_id').cast('integer'),\n",
    "                F.col('care_site_id').cast('integer'),\n",
    "                F.col('person_source_value').cast('string'),\n",
    "                F.col('gender_source_value').cast('string'),\n",
    "                F.col('gender_source_concept_id').cast('integer'),\n",
    "                F.col('race_source_value').cast('string'),\n",
    "                F.col('race_source_concept_id').cast('integer'),\n",
    "                F.col('ethnicity_source_value').cast('string'),\n",
    "                F.col('ethnicity_source_concept_id').cast('integer'),\n",
    "                F.col('ethnicity_concept_id').cast('integer')\n",
    "            )\n",
    "\n",
    "df_person.count()"
   ]
  },
  {
   "cell_type": "code",
   "execution_count": 6,
   "id": "7d3c696f",
   "metadata": {},
   "outputs": [
    {
     "name": "stderr",
     "output_type": "stream",
     "text": [
      "                                                                                \r"
     ]
    },
    {
     "data": {
      "text/plain": [
       "'Total time: 0:06:02.769420 and - Total rows: 24690593 - Total columns: 18'"
      ]
     },
     "execution_count": 6,
     "metadata": {},
     "output_type": "execute_result"
    }
   ],
   "source": [
    "write_to_postgresl(df_person, tb_name='person', write_mode='append')"
   ]
  },
  {
   "cell_type": "markdown",
   "id": "b1b1556c",
   "metadata": {},
   "source": [
    "### Deprecated"
   ]
  },
  {
   "cell_type": "code",
   "execution_count": null,
   "id": "77898bd0",
   "metadata": {
    "tags": []
   },
   "outputs": [],
   "source": [
    "# df_person.repartition(1).write.csv('/data/IDAF/SHARED/omop_tables_revisadas/person_infant.csv', header=True, mode='overwrite')"
   ]
  },
  {
   "cell_type": "markdown",
   "id": "4beea3f6",
   "metadata": {},
   "source": [
    "## SQL de insertion"
   ]
  },
  {
   "cell_type": "code",
   "execution_count": null,
   "id": "c7b417f2",
   "metadata": {},
   "outputs": [],
   "source": [
    "# -- CREATE TABLE public.person (\n",
    "# -- \t\t\tperson_id integer NOT NULL,\n",
    "# -- \t\t\tgender_concept_id integer NOT NULL,\n",
    "# -- \t\t\tyear_of_birth integer NOT NULL,\n",
    "# -- \t\t\tmonth_of_birth integer NULL,\n",
    "# -- \t\t\tday_of_birth integer NULL,\n",
    "# -- \t\t\tbirth_datetime TIMESTAMP NULL,\n",
    "# -- \t\t\trace_concept_id integer NOT NULL,\n",
    "# -- \t\t\tethnicity_concept_id integer NOT NULL,\n",
    "# -- \t\t\tlocation_id integer NULL,\n",
    "# -- \t\t\tprovider_id integer NULL,\n",
    "# -- \t\t\tcare_site_id integer NULL,\n",
    "# -- \t\t\tperson_source_value varchar(50) NULL,\n",
    "# -- \t\t\tgender_source_value varchar(50) NULL,\n",
    "# -- \t\t\tgender_source_concept_id integer NULL,\n",
    "# -- \t\t\trace_source_value varchar(50) NULL,\n",
    "# -- \t\t\trace_source_concept_id integer NULL,\n",
    "# -- \t\t\tethnicity_source_value varchar(50) NULL,\n",
    "# -- \t\t\tethnicity_source_concept_id integer NULL );\n",
    "\n",
    "\n",
    "# -- select distinct year_of_birth from public.person_pyspark\n",
    "\n",
    "# insert into public.person (\n",
    "# person_id, \n",
    "# gender_concept_id,\n",
    "# year_of_birth,\n",
    "# month_of_birth,\n",
    "# day_of_birth,\n",
    "# birth_datetime, \n",
    "# race_concept_id,\n",
    "# ethnicity_concept_id,\n",
    "# location_id,\n",
    "# provider_id,\n",
    "# care_site_id,\n",
    "# person_source_value,\n",
    "# gender_source_value,\n",
    "# gender_source_concept_id,\n",
    "# race_source_value,\n",
    "# race_source_concept_id,\n",
    "# ethnicity_source_value,\n",
    "# ethnicity_source_concept_id\n",
    "# )\n",
    "# SELECT \n",
    "# cast(nullif(person_id, '') as integer), \n",
    "# cast(nullif(gender_concept_id, '') as integer),\n",
    "# cast(nullif(year_of_birth, '') as integer),\n",
    "# cast(nullif(month_of_birth, '') as integer),\n",
    "# cast(nullif(day_of_birth, '') as integer),\n",
    "# cast(nullif(birth_datetime, '') as timestamp), \n",
    "# cast(nullif(race_concept_id, '') as integer),\n",
    "# cast(ethnicity_concept_id as integer),\n",
    "# cast(nullif(location_id, '') as integer),\n",
    "# cast(nullif(provider_id, '') as integer),\n",
    "# cast(nullif(care_site_id, '') as integer),\n",
    "# cast(person_source_value as varchar),\n",
    "# cast(gender_source_value as varchar),\n",
    "# cast(nullif(gender_source_concept_id, '') as integer),\n",
    "# cast(race_source_value as varchar),\n",
    "# cast(nullif(race_source_concept_id, '') as integer),\n",
    "# cast(ethnicity_source_value as varchar),\n",
    "# cast(nullif(ethnicity_source_concept_id, '') as integer)\n",
    "# \tFROM public.person_pyspark;"
   ]
  },
  {
   "cell_type": "code",
   "execution_count": null,
   "id": "e9b9b2d3",
   "metadata": {},
   "outputs": [],
   "source": []
  }
 ],
 "metadata": {
  "kernelspec": {
   "display_name": "Python 3 (ipykernel)",
   "language": "python",
   "name": "python3"
  },
  "language_info": {
   "codemirror_mode": {
    "name": "ipython",
    "version": 3
   },
   "file_extension": ".py",
   "mimetype": "text/x-python",
   "name": "python",
   "nbconvert_exporter": "python",
   "pygments_lexer": "ipython3",
   "version": "3.10.12"
  }
 },
 "nbformat": 4,
 "nbformat_minor": 5
}
