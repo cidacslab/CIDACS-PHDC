{
 "cells": [
  {
   "cell_type": "markdown",
   "id": "b3b8b21d",
   "metadata": {},
   "source": [
    "### Configurações Pyspark"
   ]
  },
  {
   "cell_type": "code",
   "execution_count": 4,
   "id": "e5254cb2",
   "metadata": {},
   "outputs": [],
   "source": [
    "from pyspark.sql import SparkSession\n",
    "from pyspark.sql import functions as F\n",
    "from pyspark.sql import Window\n",
    "\n",
    "import pandas as pd\n",
    "\n",
    "def write_to_postgresl(df, tb_name=None, write_mode='None'):\n",
    "    df.count()\n",
    "    if tb_name is None:\n",
    "        raise Exception('Informe o nome da tabela')\n",
    "    if write_mode is None:\n",
    "        raise Exception('Informe o mode de escrita: append ou overwrite')\n",
    "        \n",
    "    from datetime import datetime\n",
    "    start_time = datetime.now()\n",
    "    \n",
    "    try:\n",
    "        df.write.jdbc(url, table=tb_name, mode=write_mode, properties=properties)\n",
    "    except Exception as e:\n",
    "        print(f'Erro: {e}')\n",
    "    end_time = datetime.now()\n",
    "    \n",
    "    total_time = str(end_time - start_time)\n",
    "    \n",
    "    return f'Total time: {total_time} and - Total rows: {df.count()} - Total columns: {len(df.columns)}'\n",
    "\n",
    "\n",
    "\n",
    "    # Criando a sessão do Spark\n",
    "spark  = SparkSession.builder \\\n",
    "    .appName(\"Data Analysis\") \\\n",
    "    .config('spark.jars', '/data/IDAF/DATABASECONNECTOR_JAR_FOLDER/postgresql-42.2.18.jar')\\\n",
    "    .config(\"spark.executor.memory\", \"8g\")\\\n",
    "    .config(\"spark.driver.memory\", \"8g\")\\\n",
    "    .config(\"spark.executor.cores\", \"4\")\\\n",
    "    .config(\"spark.executor.instances\",\"8\")\\\n",
    "    .config(\"spark.sql.shuffle.partitions\",\"96\")\\\n",
    "    .config(\"spark.default.parallelism\",\"96\")\\\n",
    "    .getOrCreate()\n",
    "\n",
    "\n",
    "url = \"jdbc:postgresql://localhost:5432/postgres\"\n",
    "\n",
    "properties = {\n",
    "    \"user\" : \"postgres\",\n",
    "    \"password\" : \"cidacs\",\n",
    "    \"driver\" : \"org.postgresql.Driver\"\n",
    "}"
   ]
  },
  {
   "cell_type": "markdown",
   "id": "c323d302-5f75-4c89-a2dd-76ca68158745",
   "metadata": {},
   "source": [
    "### Configurações Pandas"
   ]
  },
  {
   "cell_type": "code",
   "execution_count": 5,
   "id": "787acd6f",
   "metadata": {},
   "outputs": [],
   "source": [
    "spark.conf.set(\"spark.sql.repl.eagerEval.enabled\", True)\n",
    "spark.conf.set(\"spark.sql.repl.eagerEval.truncate\", 100)\n",
    "spark.conf.set(\"spark.sql.repl.eagerEval.maxNumRows\", 300)\n",
    "\n",
    "spark.conf.set(\"spark.sql.debug.maxToStringFields\", 100)\n",
    "\n",
    "pd.set_option(\"display.max_columns\", None) \n",
    "pd.set_option(\"display.max_rows\", None)"
   ]
  },
  {
   "cell_type": "markdown",
   "id": "e5bdd252",
   "metadata": {},
   "source": [
    "### Lendo dados enriquecidos"
   ]
  },
  {
   "cell_type": "code",
   "execution_count": 6,
   "id": "64224f0d",
   "metadata": {},
   "outputs": [],
   "source": [
    "df_input = (spark\n",
    "            .read\n",
    "            .parquet('/data/IDAF/PROJETOS/PARCERIA_CIDACS_PHDC/scripts_omop_tb/basefinal_tb_limp_enriched')\n",
    "           )"
   ]
  },
  {
   "cell_type": "markdown",
   "id": "b21352a3",
   "metadata": {},
   "source": [
    "### Visit Occurrence"
   ]
  },
  {
   "cell_type": "code",
   "execution_count": 8,
   "id": "dc28f863",
   "metadata": {},
   "outputs": [
    {
     "data": {
      "text/plain": [
       "16590554"
      ]
     },
     "execution_count": 8,
     "metadata": {},
     "output_type": "execute_result"
    }
   ],
   "source": [
    "df_visit_occurrence = (df_input\n",
    "                         .select('dtnasc_sinasc', 'mesprenat_sinasc', 'person_id', 'codmunres_sinasc', 'visit_occurrence_id')\n",
    "                        .withColumn('visit_occurrence_id', F.col('visit_occurrence_id'))\n",
    "                        .withColumn('visit_concept_id', F.lit(9202))\n",
    "                        .withColumn('visit_start_date', F.when(F.col('mesprenat_sinasc')<=9, F.add_months(F.col('dtnasc_sinasc'), -(9 - F.col('mesprenat_sinasc').cast('int'))))\n",
    "                                 .when((F.col('mesprenat_sinasc')==99)|(F.col('mesprenat_sinasc').isNull()), F.lit('2099-12-31'))\n",
    "                                 .when(F.col('mesprenat_sinasc')>9, F.trunc(F.col('dtnasc_sinasc'), 'month')))\n",
    "                        .withColumn('visit_end_date', F.when(F.col('visit_start_date')=='2099-12-31', F.col('visit_start_date'))\n",
    "                                                    .otherwise(F.date_add(F.col('visit_start_date'), 2)))\n",
    "                        .withColumn('visit_type_concept_id', F.lit(32879))\n",
    "                        .withColumn('care_site_id',  F.col('codmunres_sinasc'))\n",
    "                        .withColumn('visit_start_datetime', F.lit(None))\n",
    "                        .withColumn('visit_end_datetime', F.lit(None))\n",
    "                        .withColumn('provider_id', F.lit(None))\n",
    "                        .withColumn('visit_source_value', F.lit(None))\n",
    "                        .withColumn('visit_source_concept_id', F.lit(None))\n",
    "                        .withColumn('admitted_from_concept_id', F.lit(None))\n",
    "                        .withColumn('admitted_from_source_value', F.lit(None))\n",
    "                        .withColumn('discharged_to_concept_id', F.lit(None))\n",
    "                        .withColumn('discharged_to_source_value', F.lit(None))\n",
    "                        .withColumn('preceding_visit_occurrence_id', F.lit(None))\n",
    "                    ).select(\n",
    "                        F.col('visit_occurrence_id').cast('integer'),\n",
    "                        F.col('person_id').cast('integer'),\n",
    "                        F.col('visit_concept_id').cast('integer'),\n",
    "                        F.col('visit_start_date').cast('date'),\n",
    "                        F.col('visit_start_datetime').cast('timestamp'),\n",
    "                        F.col('visit_end_date').cast('date'),\n",
    "                        F.col('visit_end_datetime' ).cast('timestamp'),\n",
    "                        F.col('visit_type_concept_id').cast('integer'),\n",
    "                        F.col('provider_id').cast('integer'),\n",
    "                        F.col('care_site_id').cast('integer'),\n",
    "                        F.col('visit_source_value').cast('string'),\n",
    "                        F.col('visit_source_concept_id').cast('integer'),\n",
    "                        F.col('admitted_from_concept_id').cast('integer'),\n",
    "                        F.col('admitted_from_source_value').cast('string'),\n",
    "                        F.col('discharged_to_concept_id').cast('integer'),\n",
    "                        F.col('discharged_to_source_value').cast('string'),\n",
    "                        F.col('preceding_visit_occurrence_id').cast('integer')\n",
    "                            )\n",
    "\n",
    "\n",
    "df_visit_occurrence.count()"
   ]
  },
  {
   "cell_type": "markdown",
   "id": "707d7701",
   "metadata": {},
   "source": [
    "## Salvando no Postgresql"
   ]
  },
  {
   "cell_type": "code",
   "execution_count": 9,
   "id": "a687b6d0",
   "metadata": {},
   "outputs": [
    {
     "name": "stderr",
     "output_type": "stream",
     "text": [
      "                                                                                \r"
     ]
    },
    {
     "data": {
      "text/plain": [
       "'Total time: 0:06:01.945198 and - Total rows: 16590554 - Total columns: 17'"
      ]
     },
     "execution_count": 9,
     "metadata": {},
     "output_type": "execute_result"
    }
   ],
   "source": [
    "write_to_postgresl(df_visit_occurrence, tb_name='tuberculose.visit_occurrence', write_mode='append')"
   ]
  }
 ],
 "metadata": {
  "kernelspec": {
   "display_name": "Python 3 (ipykernel)",
   "language": "python",
   "name": "python3"
  },
  "language_info": {
   "codemirror_mode": {
    "name": "ipython",
    "version": 3
   },
   "file_extension": ".py",
   "mimetype": "text/x-python",
   "name": "python",
   "nbconvert_exporter": "python",
   "pygments_lexer": "ipython3",
   "version": "3.10.12"
  }
 },
 "nbformat": 4,
 "nbformat_minor": 5
}
