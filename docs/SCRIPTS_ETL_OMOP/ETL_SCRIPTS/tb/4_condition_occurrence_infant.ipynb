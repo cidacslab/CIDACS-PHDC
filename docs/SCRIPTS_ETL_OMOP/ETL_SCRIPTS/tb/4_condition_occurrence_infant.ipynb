{
 "cells": [
  {
   "cell_type": "markdown",
   "id": "b3b8b21d",
   "metadata": {},
   "source": [
    "## Configurações Pyspark"
   ]
  },
  {
   "cell_type": "code",
   "execution_count": 20,
   "id": "ace3c323",
   "metadata": {},
   "outputs": [],
   "source": [
    "from pyspark.sql import SparkSession\n",
    "from pyspark.sql import functions as F\n",
    "from pyspark.sql import Window\n",
    "\n",
    "import pandas as pd\n",
    "\n",
    "def write_to_postgresl(df, tb_name=None, write_mode='None'):\n",
    "    df.count()\n",
    "    if tb_name is None:\n",
    "        raise Exception('Informe o nome da tabela')\n",
    "    if write_mode is None:\n",
    "        raise Exception('Informe o mode de escrita: append ou overwrite')\n",
    "        \n",
    "    from datetime import datetime\n",
    "    start_time = datetime.now()\n",
    "    \n",
    "    try:\n",
    "        df.write.jdbc(url, table=tb_name, mode=write_mode, properties=properties)\n",
    "    except Exception as e:\n",
    "        print(f'Erro: {e}')\n",
    "    end_time = datetime.now()\n",
    "    \n",
    "    total_time = str(end_time - start_time)\n",
    "    \n",
    "    return f'Total time: {total_time} and - Total rows: {df.count()} - Total columns: {len(df.columns)}'\n",
    "\n",
    "\n",
    "\n",
    "    # Criando a sessão do Spark\n",
    "spark  = SparkSession.builder \\\n",
    "    .appName(\"Data Analysis\") \\\n",
    "    .config('spark.jars', '/data/IDAF/DATABASECONNECTOR_JAR_FOLDER/postgresql-42.2.18.jar')\\\n",
    "    .config(\"spark.executor.memory\", \"8g\")\\\n",
    "    .config(\"spark.driver.memory\", \"8g\")\\\n",
    "    .config(\"spark.executor.cores\", \"4\")\\\n",
    "    .config(\"spark.executor.instances\",\"8\")\\\n",
    "    .config(\"spark.sql.shuffle.partitions\",\"96\")\\\n",
    "    .config(\"spark.default.parallelism\",\"96\")\\\n",
    "    .getOrCreate()\n",
    "\n",
    "\n",
    "url = \"jdbc:postgresql://localhost:5432/postgres\"\n",
    "\n",
    "properties = {\n",
    "    \"user\" : \"postgres\",\n",
    "    \"password\" : \"cidacs\",\n",
    "    \"driver\" : \"org.postgresql.Driver\"\n",
    "}\n",
    "\n"
   ]
  },
  {
   "cell_type": "code",
   "execution_count": 21,
   "id": "5c73cc57",
   "metadata": {},
   "outputs": [],
   "source": [
    "import re\n",
    "from pyspark.sql.types import ArrayType, StringType\n",
    "\n",
    "def dividir_em_blocos(s):\n",
    "    return re.findall('.{1,4}', s) if s else None\n",
    "\n",
    "dividir_udf = F.udf(dividir_em_blocos, ArrayType(StringType()))"
   ]
  },
  {
   "cell_type": "markdown",
   "id": "1a25813f-48a0-4773-95ad-0c2ff8f205c7",
   "metadata": {},
   "source": [
    "## Configurações Pandas"
   ]
  },
  {
   "cell_type": "code",
   "execution_count": 22,
   "id": "787acd6f",
   "metadata": {},
   "outputs": [],
   "source": [
    "spark.conf.set(\"spark.sql.repl.eagerEval.enabled\", True)\n",
    "spark.conf.set(\"spark.sql.repl.eagerEval.truncate\", 100)\n",
    "spark.conf.set(\"spark.sql.repl.eagerEval.maxNumRows\", 300)\n",
    "\n",
    "spark.conf.set(\"spark.sql.debug.maxToStringFields\", 100)\n",
    "\n",
    "pd.set_option(\"display.max_columns\", None) \n",
    "pd.set_option(\"display.max_rows\", None)"
   ]
  },
  {
   "cell_type": "markdown",
   "id": "e5bdd252",
   "metadata": {},
   "source": [
    "### Lendo dados enriquecidos"
   ]
  },
  {
   "cell_type": "code",
   "execution_count": 23,
   "id": "64224f0d",
   "metadata": {},
   "outputs": [],
   "source": [
    "df_input = (spark\n",
    "            .read\n",
    "            .parquet('/data/IDAF/PROJETOS/PARCERIA_CIDACS_PHDC/scripts_omop_tb/basefinal_tb_limp_enriched')\n",
    "           )"
   ]
  },
  {
   "cell_type": "code",
   "execution_count": 24,
   "id": "5db9861c",
   "metadata": {},
   "outputs": [
    {
     "name": "stderr",
     "output_type": "stream",
     "text": [
      "\r",
      "[Stage 28:======================================================> (93 + 3) / 96]\r",
      "\r",
      "                                                                                \r"
     ]
    },
    {
     "data": {
      "text/plain": [
       "5284745"
      ]
     },
     "execution_count": 24,
     "metadata": {},
     "output_type": "execute_result"
    }
   ],
   "source": [
    "df_vocab_map = spark.read.csv('/data/IDAF/PROJETOS/PARCERIA_CIDACS_PHDC/scripts_omop_tb/cte_vocab_map_standard.csv', header=True, sep='\\t')\n",
    "\n",
    "df_vocab_map.createOrReplaceTempView('cte_vocab_map_standard')\n",
    "df_vocab_map.count()"
   ]
  },
  {
   "cell_type": "code",
   "execution_count": 25,
   "id": "98bcabac",
   "metadata": {},
   "outputs": [
    {
     "name": "stderr",
     "output_type": "stream",
     "text": [
      "                                                                                \r"
     ]
    },
    {
     "data": {
      "text/plain": [
       "15762"
      ]
     },
     "execution_count": 25,
     "metadata": {},
     "output_type": "execute_result"
    }
   ],
   "source": [
    "df_vocab_map_standard = spark.sql(\"\"\"\n",
    "        SELECT \n",
    "            REPLACE(source_code, '.', '') as source_code,\n",
    "            target_concept_id,\n",
    "            source_vocabulary_id,\n",
    "            source_concept_id\n",
    "        FROM cte_vocab_map_standard csv\n",
    "        WHERE true \n",
    "        and target_domain_id = 'Condition'\n",
    "        and target_standard_concept = 'S'\n",
    "        and source_vocabulary_id = 'ICD10'\n",
    "\"\"\")\n",
    "df_vocab_map_standard.count()"
   ]
  },
  {
   "cell_type": "code",
   "execution_count": 26,
   "id": "e800691d",
   "metadata": {},
   "outputs": [
    {
     "name": "stderr",
     "output_type": "stream",
     "text": [
      "                                                                                \r"
     ]
    },
    {
     "data": {
      "text/plain": [
       "19103"
      ]
     },
     "execution_count": 26,
     "metadata": {},
     "output_type": "execute_result"
    }
   ],
   "source": [
    "df_vocab_map_source = spark.sql(\"\"\"\n",
    "        SELECT \n",
    "            REPLACE(source_code, '.', '') as source_code,\n",
    "            source_concept_id            \n",
    "        FROM cte_vocab_map_standard csv2\n",
    "        WHERE source_vocabulary_id = 'ICD10'\n",
    "\"\"\")\n",
    "df_vocab_map_source.count()"
   ]
  },
  {
   "cell_type": "markdown",
   "id": "b21352a3",
   "metadata": {},
   "source": [
    "### Condition Occurrence"
   ]
  },
  {
   "cell_type": "code",
   "execution_count": 27,
   "id": "c9933edb",
   "metadata": {},
   "outputs": [],
   "source": [
    "window_condition_occurrence = Window.partitionBy().orderBy('person_id_infant', 'dtnasc_sinasc')"
   ]
  },
  {
   "cell_type": "code",
   "execution_count": 28,
   "id": "e9af9b81",
   "metadata": {},
   "outputs": [
    {
     "name": "stderr",
     "output_type": "stream",
     "text": [
      "                                                                                \r"
     ]
    },
    {
     "data": {
      "text/plain": [
       "15797952"
      ]
     },
     "execution_count": 28,
     "metadata": {},
     "output_type": "execute_result"
    }
   ],
   "source": [
    "df_condition_occurrence = (\n",
    "df_input\n",
    "    .withColumn('person_id', F.col('person_id_infant'))\n",
    "    .withColumn('idanomal_sinasc_code', F.when(F.col('idanomal_sinasc').isin(0,2,88), 0)\n",
    "                                         .when(F.col('idanomal_sinasc')==1, F.col('codanomal_sinasc'))\n",
    "                                         .otherwise(0))\n",
    "    .withColumn('tpapresent_sinasc_code', F.when(F.col('tpapresent_sinasc')==1, 4312344)\n",
    "                                           .when(F.col('tpapresent_sinasc')==2, 4195566)\n",
    "                                           .when(F.col('tpapresent_sinasc')==3, 81358)\n",
    "                                           .when(F.col('tpapresent_sinasc').isin(9,88), 0)\n",
    "                                           .otherwise(0))\n",
    "    .withColumn('concept', F.split(F.concat_ws(',', 'idanomal_sinasc_code', 'tpapresent_sinasc_code', 'codanomal_sinasc'), ','))\n",
    "    .withColumn('concept_id_exploded', F.explode(F.col('concept')))\n",
    "    .join(df_vocab_map_standard, F.col('concept_id_exploded')==df_vocab_map_standard.source_code, how='left')\n",
    "    .join(df_vocab_map_source, F.col('concept_id_exploded')==df_vocab_map_source.source_code, how='left')\n",
    "    .withColumn('condition_concept_id', F.col('target_concept_id'))\n",
    "    .withColumn('condition_source_concept_id', F.col('csv.source_concept_id'))\n",
    "    .withColumn('condition_start_date', F.col('dtnasc_sinasc'))\n",
    "    .withColumn('condition_type_concept_id', F.lit(32879))\n",
    "    .withColumn('condition_start_datetime', F.lit(None))\n",
    "    .withColumn('condition_end_date', F.lit(None))\n",
    "    .withColumn('condition_end_datetime', F.lit(None))\n",
    "    .withColumn('stop_reason', F.lit(None))\n",
    "    .withColumn('condition_status_concept_id', F.lit(None))\n",
    "    .withColumn('provider_id', F.lit(None))\n",
    "    .withColumn('visit_occurrence_id', F.col('visit_occurrence_id_infant'))\n",
    "    .withColumn('visit_detail_id', F.lit(None))\n",
    "    .withColumn('condition_source_value', F.col('concept_id_exploded'))\n",
    "    .withColumn('condition_status_source_value', F.lit(None))\n",
    "    .withColumn('condition_occurrence_id', F.row_number().over(window_condition_occurrence)+F.lit('1000000000'))\n",
    "    .withColumn('condition_concept_id', F.when((F.col('condition_source_concept_id').isNull())\n",
    "                                                     &(F.col('condition_source_value').isin('0', '4312344', '4195566', '81358'))\n",
    "                                                     ,F.col('condition_source_value')).otherwise(F.col('condition_concept_id')))        \n",
    "    .select(\n",
    "                F.col('condition_occurrence_id').cast('integer'),\n",
    "                F.col('person_id').cast('integer'),\n",
    "                F.col('condition_concept_id').cast('integer'), # Snomed\n",
    "                F.col('condition_start_date').cast('date'),\n",
    "                F.col('condition_start_datetime').cast('timestamp'),\n",
    "                F.col('condition_end_date').cast('date'),\n",
    "                F.col('condition_end_datetime').cast('timestamp'),\n",
    "                F.col('condition_type_concept_id').cast('integer'),\n",
    "                F.col('condition_status_concept_id').cast('integer'),\n",
    "                F.col('stop_reason').cast('string'),\n",
    "                F.col('provider_id').cast('integer'),\n",
    "                F.col('visit_occurrence_id').cast('integer'),\n",
    "                F.col('visit_detail_id').cast('integer'),\n",
    "                F.col('condition_source_value').cast('string'),\n",
    "                F.col('condition_source_concept_id').cast('integer'), # CID10\n",
    "                F.col('condition_status_source_value').cast('string'))\n",
    "    \n",
    "    .filter(F.col('condition_concept_id').isNotNull())\n",
    "    .filter(F.col('condition_concept_id')!=0)\n",
    ")\n",
    "\n",
    "\n",
    "df_condition_occurrence.count()"
   ]
  },
  {
   "cell_type": "code",
   "execution_count": 30,
   "id": "f554c797",
   "metadata": {},
   "outputs": [
    {
     "name": "stderr",
     "output_type": "stream",
     "text": [
      "25/07/16 23:10:56 WARN WindowExec: No Partition Defined for Window operation! Moving all data to a single partition, this can cause serious performance degradation.\n",
      "25/07/16 23:10:56 WARN WindowExec: No Partition Defined for Window operation! Moving all data to a single partition, this can cause serious performance degradation.\n",
      "25/07/16 23:10:56 WARN WindowExec: No Partition Defined for Window operation! Moving all data to a single partition, this can cause serious performance degradation.\n",
      "25/07/16 23:11:00 WARN WindowExec: No Partition Defined for Window operation! Moving all data to a single partition, this can cause serious performance degradation.\n",
      "25/07/16 23:11:00 WARN WindowExec: No Partition Defined for Window operation! Moving all data to a single partition, this can cause serious performance degradation.\n",
      "25/07/16 23:11:03 WARN WindowExec: No Partition Defined for Window operation! Moving all data to a single partition, this can cause serious performance degradation.\n",
      "25/07/16 23:11:03 WARN WindowExec: No Partition Defined for Window operation! Moving all data to a single partition, this can cause serious performance degradation.\n",
      "25/07/16 23:11:03 WARN WindowExec: No Partition Defined for Window operation! Moving all data to a single partition, this can cause serious performance degradation.\n",
      "25/07/16 23:11:03 WARN WindowExec: No Partition Defined for Window operation! Moving all data to a single partition, this can cause serious performance degradation.\n",
      "25/07/16 23:11:03 WARN WindowExec: No Partition Defined for Window operation! Moving all data to a single partition, this can cause serious performance degradation.\n",
      "25/07/16 23:11:03 WARN WindowExec: No Partition Defined for Window operation! Moving all data to a single partition, this can cause serious performance degradation.\n",
      "25/07/16 23:11:06 WARN WindowExec: No Partition Defined for Window operation! Moving all data to a single partition, this can cause serious performance degradation.\n",
      "25/07/16 23:11:06 WARN WindowExec: No Partition Defined for Window operation! Moving all data to a single partition, this can cause serious performance degradation.\n",
      "25/07/16 23:11:26 WARN WindowExec: No Partition Defined for Window operation! Moving all data to a single partition, this can cause serious performance degradation.\n",
      "25/07/16 23:11:26 WARN WindowExec: No Partition Defined for Window operation! Moving all data to a single partition, this can cause serious performance degradation.\n",
      "                                                                                \r"
     ]
    },
    {
     "data": {
      "text/plain": [
       "'Total time: 6:27:00.741697 and - Total rows: 15797952 - Total columns: 16'"
      ]
     },
     "execution_count": 30,
     "metadata": {},
     "output_type": "execute_result"
    }
   ],
   "source": [
    "write_to_postgresl(df_condition_occurrence, tb_name='tuberculose.condition_occurrence', write_mode='append')"
   ]
  },
  {
   "cell_type": "code",
   "execution_count": null,
   "id": "97b62b53",
   "metadata": {},
   "outputs": [],
   "source": []
  }
 ],
 "metadata": {
  "kernelspec": {
   "display_name": "Python 3 (ipykernel)",
   "language": "python",
   "name": "python3"
  },
  "language_info": {
   "codemirror_mode": {
    "name": "ipython",
    "version": 3
   },
   "file_extension": ".py",
   "mimetype": "text/x-python",
   "name": "python",
   "nbconvert_exporter": "python",
   "pygments_lexer": "ipython3",
   "version": "3.10.12"
  }
 },
 "nbformat": 4,
 "nbformat_minor": 5
}
