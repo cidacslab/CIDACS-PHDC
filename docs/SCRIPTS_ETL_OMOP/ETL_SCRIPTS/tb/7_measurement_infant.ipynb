{
 "cells": [
  {
   "cell_type": "markdown",
   "id": "b3b8b21d",
   "metadata": {},
   "source": [
    "## Configurações Pyspark"
   ]
  },
  {
   "cell_type": "code",
   "execution_count": 1,
   "id": "32a9ebf8",
   "metadata": {},
   "outputs": [
    {
     "name": "stderr",
     "output_type": "stream",
     "text": [
      "25/07/17 19:57:07 WARN NativeCodeLoader: Unable to load native-hadoop library for your platform... using builtin-java classes where applicable\n",
      "Setting default log level to \"WARN\".\n",
      "To adjust logging level use sc.setLogLevel(newLevel). For SparkR, use setLogLevel(newLevel).\n"
     ]
    }
   ],
   "source": [
    "from pyspark.sql import SparkSession\n",
    "from pyspark.sql import functions as F\n",
    "from pyspark.sql import Window\n",
    "\n",
    "import pandas as pd\n",
    "\n",
    "def write_to_postgresl(df, tb_name=None, write_mode='None'):\n",
    "    df.count()\n",
    "    if tb_name is None:\n",
    "        raise Exception('Informe o nome da tabela')\n",
    "    if write_mode is None:\n",
    "        raise Exception('Informe o mode de escrita: append ou overwrite')\n",
    "        \n",
    "    from datetime import datetime\n",
    "    start_time = datetime.now()\n",
    "    \n",
    "    try:\n",
    "        df.write.jdbc(url, table=tb_name, mode=write_mode, properties=properties)\n",
    "    except Exception as e:\n",
    "        print(f'Erro: {e}')\n",
    "    end_time = datetime.now()\n",
    "    \n",
    "    total_time = str(end_time - start_time)\n",
    "    \n",
    "    return f'Total time: {total_time} and - Total rows: {df.count()} - Total columns: {len(df.columns)}'\n",
    "\n",
    "\n",
    "\n",
    "    # Criando a sessão do Spark\n",
    "spark  = SparkSession.builder \\\n",
    "    .appName(\"Data Analysis\") \\\n",
    "    .config('spark.jars', '/data/IDAF/DATABASECONNECTOR_JAR_FOLDER/postgresql-42.2.18.jar')\\\n",
    "    .config(\"spark.executor.memory\", \"8g\")\\\n",
    "    .config(\"spark.driver.memory\", \"8g\")\\\n",
    "    .config(\"spark.executor.cores\", \"4\")\\\n",
    "    .config(\"spark.executor.instances\",\"8\")\\\n",
    "    .config(\"spark.sql.shuffle.partitions\",\"96\")\\\n",
    "    .config(\"spark.default.parallelism\",\"96\")\\\n",
    "    .getOrCreate()\n",
    "\n",
    "\n",
    "url = \"jdbc:postgresql://localhost:5432/postgres\"\n",
    "\n",
    "properties = {\n",
    "    \"user\" : \"postgres\",\n",
    "    \"password\" : \"cidacs\",\n",
    "    \"driver\" : \"org.postgresql.Driver\"\n",
    "}"
   ]
  },
  {
   "cell_type": "markdown",
   "id": "1392226d-8b67-4bac-be21-74427878fbdc",
   "metadata": {},
   "source": [
    "## Configurações Pandas"
   ]
  },
  {
   "cell_type": "code",
   "execution_count": 2,
   "id": "787acd6f",
   "metadata": {},
   "outputs": [],
   "source": [
    "spark.conf.set(\"spark.sql.repl.eagerEval.enabled\", True)\n",
    "spark.conf.set(\"spark.sql.repl.eagerEval.truncate\", 100)\n",
    "spark.conf.set(\"spark.sql.repl.eagerEval.maxNumRows\", 300)\n",
    "\n",
    "spark.conf.set(\"spark.sql.debug.maxToStringFields\", 100)\n",
    "\n",
    "pd.set_option(\"display.max_columns\", None) \n",
    "pd.set_option(\"display.max_rows\", None)"
   ]
  },
  {
   "cell_type": "markdown",
   "id": "e5bdd252",
   "metadata": {},
   "source": [
    "### Lendo dados enriquecidos"
   ]
  },
  {
   "cell_type": "code",
   "execution_count": 3,
   "id": "64224f0d",
   "metadata": {},
   "outputs": [
    {
     "name": "stderr",
     "output_type": "stream",
     "text": [
      "\r",
      "[Stage 0:>                                                          (0 + 1) / 1]\r",
      "\r",
      "                                                                                \r"
     ]
    }
   ],
   "source": [
    "df_input = (spark\n",
    "            .read\n",
    "            .parquet('/data/IDAF/PROJETOS/PARCERIA_CIDACS_PHDC/scripts_omop_tb/basefinal_tb_limp_enriched')\n",
    "           )"
   ]
  },
  {
   "cell_type": "markdown",
   "id": "b21352a3",
   "metadata": {},
   "source": [
    "### Measurement"
   ]
  },
  {
   "cell_type": "code",
   "execution_count": 4,
   "id": "c9933edb",
   "metadata": {},
   "outputs": [],
   "source": [
    "window_measurement = Window.partitionBy().orderBy('person_id_infant', 'dtnasc_sinasc')"
   ]
  },
  {
   "cell_type": "code",
   "execution_count": 8,
   "id": "85ba32fc",
   "metadata": {},
   "outputs": [
    {
     "name": "stderr",
     "output_type": "stream",
     "text": [
      "                                                                                \r"
     ]
    },
    {
     "data": {
      "text/plain": [
       "81791937"
      ]
     },
     "execution_count": 8,
     "metadata": {},
     "output_type": "execute_result"
    }
   ],
   "source": [
    "df_measurement = (df_input\n",
    "                 .withColumn('person_id', F.col('person_id_infant'))\n",
    "                 .withColumn('gravidez_sinasc_code', F.when(F.col('gravidez_sinasc').isNotNull(), F.lit(4077859)).otherwise(None))\n",
    "                 .withColumn('peso_sinasc_code', F.when(F.col('peso_sinasc').isNotNull(), F.lit(4264825)).otherwise(None))\n",
    "                 .withColumn('apgar1_sinasc_code', \n",
    "                             F.when(F.col('apgar1_sinasc')==0, F.lit(4014468))\n",
    "                             .when(F.col('apgar1_sinasc')==1, F.lit(4015430))\n",
    "                             .when(F.col('apgar1_sinasc')==2, F.lit(4015289))\n",
    "                             .when(F.col('apgar1_sinasc')==3, F.lit(4014305))\n",
    "                             .when(F.col('apgar1_sinasc')==4, F.lit(4015291))\n",
    "                             .when(F.col('apgar1_sinasc')==5, F.lit(4014469))\n",
    "                             .when(F.col('apgar1_sinasc')==6, F.lit(4014306))\n",
    "                             .when(F.col('apgar1_sinasc')==7, F.lit(4015292))\n",
    "                             .when(F.col('apgar1_sinasc')==8, F.lit(4016052))\n",
    "                             .when(F.col('apgar1_sinasc')==9, F.lit(4015431))\n",
    "                             .when(F.col('apgar1_sinasc')==10, F.lit(4014470))\n",
    "                             .when(F.col('apgar1_sinasc').isin(19,89,99), F.lit(4127662))\n",
    "                             .when(F.col('apgar1_sinasc').isNull(), F.lit(40482639))\n",
    "                             .otherwise(None)\n",
    "                            )\n",
    "                 .withColumn('apgar5_sinasc_code', \n",
    "                             F.when(F.col('apgar5_sinasc')==0, F.lit(4014307))\n",
    "                             .when(F.col('apgar5_sinasc')==1, F.lit(4016054))\n",
    "                             .when(F.col('apgar5_sinasc')==2, F.lit(4014308))\n",
    "                             .when(F.col('apgar5_sinasc')==3, F.lit(4016055))\n",
    "                             .when(F.col('apgar5_sinasc')==4, F.lit(4014471))\n",
    "                             .when(F.col('apgar5_sinasc')==5, F.lit(4014309))\n",
    "                             .when(F.col('apgar5_sinasc')==6, F.lit(4014310))\n",
    "                             .when(F.col('apgar5_sinasc')==7, F.lit(4016056))\n",
    "                             .when(F.col('apgar5_sinasc')==8, F.lit(4016465))\n",
    "                             .when(F.col('apgar5_sinasc')==9, F.lit(4016466))\n",
    "                             .when(F.col('apgar5_sinasc')==10, F.lit(4016467))\n",
    "                             .when(F.col('apgar5_sinasc')==99, F.lit(4127662))\n",
    "                             .when(F.col('apgar5_sinasc').isNull(), F.lit(40482639))\n",
    "                             .otherwise(None))\n",
    "                 .withColumn('semagestac_sinasc_code', F.when(F.col('semagestac_sinasc').isNotNull(), F.lit(3012266)).otherwise(None))\n",
    "                  \n",
    "                 .withColumn('measurement_concept_id_list', F.concat_ws(\",\", \n",
    "                                                                        F.col('gravidez_sinasc_code'), \n",
    "                                                                        F.col('peso_sinasc_code'), \n",
    "                                                                        F.col('apgar1_sinasc_code'),\n",
    "                                                                        F.col('apgar5_sinasc_code'),\n",
    "                                                                        F.col('semagestac_sinasc_code')\n",
    "                                                                       )) \n",
    "                 .withColumn('measurement_concept_id', F.explode(F.split(F.col('measurement_concept_id_list'), ',')))\n",
    "                 .withColumn('measurement_date', F.col('dtnasc_sinasc'))\n",
    "                 .withColumn('measurement_type_concept_id', F.lit(32879))                  \n",
    "                 .withColumn('gravidez_sinasc_value', F.when(((F.col('gravidez_sinasc').isNull()) |F.col('gravidez_sinasc').isin(88, 99)), F.lit(None))\n",
    "                                                       .when(F.col('gravidez_sinasc').isin(0, 1, 2, 3), F.col('gravidez_sinasc')).otherwise(None))                                  \n",
    "                 .withColumn('value_as_number', F.when(F.col('measurement_concept_id')==4077859, F.col('gravidez_sinasc'))\n",
    "                                                 .when(F.col('measurement_concept_id')==4264825, F.col('peso_sinasc'))\n",
    "                                                 .when(F.col('measurement_concept_id')==3012266, F.col('semagestac_sinasc'))\n",
    "                                                 .otherwise(None))\n",
    "                 .withColumn('value_as_concept_id', F.lit(None))\n",
    "                 .withColumn('unit_concept_id', F.when(F.col('measurement_concept_id')==4264825, F.lit(8504)).otherwise(None))\n",
    "                 .withColumn('measurement_id', F.row_number().over(window_measurement)+F.lit(1000000000))\n",
    "                 .withColumn('unit_source_value', F.lit(None).cast('string'))\n",
    "                 .withColumn('measurement_datetime', F.lit(None).cast('timestamp'))\n",
    "                 .withColumn('measurement_time', F.lit(None).cast('string'))\n",
    "                 .withColumn('operator_concept_id', F.lit(None).cast('integer'))\n",
    "                 .withColumn('range_low', F.lit(None).cast('float'))\n",
    "                 .withColumn('range_high', F.lit(None).cast('float'))\n",
    "                 .withColumn('provider_id', F.lit(None).cast('integer'))\n",
    "                 .withColumn('visit_occurrence_id', F.col('visit_occurrence_id_infant').cast('integer'))\n",
    "                 .withColumn('visit_detail_id', F.lit(None).cast('integer'))\n",
    "                 .withColumn('measurement_source_value', F.lit(None).cast('string'))\n",
    "                 .withColumn('measurement_source_concept_id', F.lit(None).cast('integer'))\n",
    "                 .withColumn('unit_source_concept_id', F.lit(None).cast('integer'))\n",
    "                 .withColumn('value_source_value', F.lit(None).cast('string'))\n",
    "                  .withColumn('measurement_event_id', F.lit(None).cast('integer'))\n",
    "                  .withColumn('meas_event_field_concept_id', F.lit(None).cast('integer'))\n",
    "                  .filter(F.col('measurement_concept_id').isNotNull())\n",
    "                  ).select(F.col(\"measurement_id\").cast('integer'),\n",
    "                        F.col(\"person_id\").cast('integer'),\n",
    "                        F.col(\"measurement_concept_id\").cast('integer'),\n",
    "                        F.col(\"measurement_date\").cast('date'),\n",
    "                        F.col(\"measurement_datetime\").cast('timestamp'),\n",
    "                        F.col(\"measurement_time\").cast('string'),\n",
    "                        F.col(\"measurement_type_concept_id\").cast('integer'),\n",
    "                        F.col(\"operator_concept_id\").cast('integer'),\n",
    "                        F.col(\"value_as_number\").cast('float'),\n",
    "                        F.col(\"value_as_concept_id\").cast('integer'),\n",
    "                        F.col(\"unit_concept_id\").cast('integer'),\n",
    "                        F.col(\"range_low\").cast('float'),\n",
    "                        F.col(\"range_high\").cast('float'),\n",
    "                        F.col(\"provider_id\").cast('integer'),\n",
    "                        F.col(\"visit_occurrence_id\").cast('integer'),\n",
    "                        F.col(\"visit_detail_id\").cast('integer'),\n",
    "                        F.col(\"measurement_source_value\").cast('string'),\n",
    "                        F.col(\"measurement_source_concept_id\").cast('integer'),\n",
    "                        F.col(\"unit_source_value\").cast('string'),\n",
    "                        F.col(\"unit_source_concept_id\").cast('integer'),\n",
    "                        F.col(\"value_source_value\").cast('string'),\n",
    "                        F.col(\"measurement_event_id\").cast('integer'),\n",
    "                        F.col(\"meas_event_field_concept_id\").cast('integer'))\n",
    "\n",
    "df_measurement.count()"
   ]
  },
  {
   "cell_type": "markdown",
   "id": "29c5e59f",
   "metadata": {},
   "source": [
    "### Escrevendo no Postgresql"
   ]
  },
  {
   "cell_type": "code",
   "execution_count": 9,
   "id": "1e9d2b32",
   "metadata": {},
   "outputs": [
    {
     "name": "stderr",
     "output_type": "stream",
     "text": [
      "25/07/17 19:58:33 WARN WindowExec: No Partition Defined for Window operation! Moving all data to a single partition, this can cause serious performance degradation.\n",
      "25/07/17 19:58:33 WARN WindowExec: No Partition Defined for Window operation! Moving all data to a single partition, this can cause serious performance degradation.\n",
      "25/07/17 19:58:33 WARN WindowExec: No Partition Defined for Window operation! Moving all data to a single partition, this can cause serious performance degradation.\n",
      "25/07/17 19:58:44 WARN WindowExec: No Partition Defined for Window operation! Moving all data to a single partition, this can cause serious performance degradation.\n",
      "25/07/17 19:58:44 WARN WindowExec: No Partition Defined for Window operation! Moving all data to a single partition, this can cause serious performance degradation.\n",
      "                                                                                \r"
     ]
    },
    {
     "data": {
      "text/plain": [
       "'Total time: 5:54:02.754903 and - Total rows: 81791937 - Total columns: 23'"
      ]
     },
     "execution_count": 9,
     "metadata": {},
     "output_type": "execute_result"
    }
   ],
   "source": [
    "write_to_postgresl(df_measurement, tb_name='tuberculose.measurement', write_mode='append')"
   ]
  },
  {
   "cell_type": "code",
   "execution_count": null,
   "id": "4ff3f202",
   "metadata": {},
   "outputs": [],
   "source": []
  }
 ],
 "metadata": {
  "kernelspec": {
   "display_name": "Python 3 (ipykernel)",
   "language": "python",
   "name": "python3"
  },
  "language_info": {
   "codemirror_mode": {
    "name": "ipython",
    "version": 3
   },
   "file_extension": ".py",
   "mimetype": "text/x-python",
   "name": "python",
   "nbconvert_exporter": "python",
   "pygments_lexer": "ipython3",
   "version": "3.10.12"
  }
 },
 "nbformat": 4,
 "nbformat_minor": 5
}
