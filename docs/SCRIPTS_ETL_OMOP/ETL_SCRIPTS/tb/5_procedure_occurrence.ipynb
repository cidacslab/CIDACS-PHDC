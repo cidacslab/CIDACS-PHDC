{
 "cells": [
  {
   "cell_type": "markdown",
   "id": "b3b8b21d",
   "metadata": {},
   "source": [
    "### Configurações Pyspark"
   ]
  },
  {
   "cell_type": "code",
   "execution_count": 5,
   "id": "e5254cb2",
   "metadata": {},
   "outputs": [],
   "source": [
    "from pyspark.sql import SparkSession\n",
    "from pyspark.sql import functions as F\n",
    "from pyspark.sql import Window\n",
    "\n",
    "import pandas as pd\n",
    "\n",
    "def write_to_postgresl(df, tb_name=None, write_mode='None'):\n",
    "    df.count()\n",
    "    if tb_name is None:\n",
    "        raise Exception('Informe o nome da tabela')\n",
    "    if write_mode is None:\n",
    "        raise Exception('Informe o mode de escrita: append ou overwrite')\n",
    "        \n",
    "    from datetime import datetime\n",
    "    start_time = datetime.now()\n",
    "    \n",
    "    try:\n",
    "        df.write.jdbc(url, table=tb_name, mode=write_mode, properties=properties)\n",
    "    except Exception as e:\n",
    "        print(f'Erro: {e}')\n",
    "    end_time = datetime.now()\n",
    "    \n",
    "    total_time = str(end_time - start_time)\n",
    "    \n",
    "    return f'Total time: {total_time} and - Total rows: {df.count()} - Total columns: {len(df.columns)}'\n",
    "\n",
    "\n",
    "\n",
    "    # Criando a sessão do Spark\n",
    "spark  = SparkSession.builder \\\n",
    "    .appName(\"Data Analysis\") \\\n",
    "    .config('spark.jars', '/data/IDAF/DATABASECONNECTOR_JAR_FOLDER/postgresql-42.2.18.jar')\\\n",
    "    .config(\"spark.executor.memory\", \"8g\")\\\n",
    "    .config(\"spark.driver.memory\", \"8g\")\\\n",
    "    .config(\"spark.executor.cores\", \"4\")\\\n",
    "    .config(\"spark.executor.instances\",\"8\")\\\n",
    "    .config(\"spark.sql.shuffle.partitions\",\"96\")\\\n",
    "    .config(\"spark.default.parallelism\",\"96\")\\\n",
    "    .getOrCreate()\n",
    "\n",
    "\n",
    "url = \"jdbc:postgresql://localhost:5432/postgres\"\n",
    "\n",
    "properties = {\n",
    "    \"user\" : \"postgres\",\n",
    "    \"password\" : \"cidacs\",\n",
    "    \"driver\" : \"org.postgresql.Driver\"\n",
    "}"
   ]
  },
  {
   "cell_type": "markdown",
   "id": "f32b3550-eebc-4a29-83de-58c7f8ddf882",
   "metadata": {},
   "source": [
    "### Configurações Pandas"
   ]
  },
  {
   "cell_type": "code",
   "execution_count": 6,
   "id": "787acd6f",
   "metadata": {},
   "outputs": [],
   "source": [
    "spark.conf.set(\"spark.sql.repl.eagerEval.enabled\", True)\n",
    "spark.conf.set(\"spark.sql.repl.eagerEval.truncate\", 100)\n",
    "spark.conf.set(\"spark.sql.repl.eagerEval.maxNumRows\", 300)\n",
    "\n",
    "spark.conf.set(\"spark.sql.debug.maxToStringFields\", 100)\n",
    "\n",
    "pd.set_option(\"display.max_columns\", None) \n",
    "pd.set_option(\"display.max_rows\", None)"
   ]
  },
  {
   "cell_type": "markdown",
   "id": "e5bdd252",
   "metadata": {},
   "source": [
    "### Lendo dados enriquecidos"
   ]
  },
  {
   "cell_type": "code",
   "execution_count": 11,
   "id": "64224f0d",
   "metadata": {},
   "outputs": [],
   "source": [
    "df_input = (spark\n",
    "            .read\n",
    "            .parquet('/data/IDAF/PROJETOS/PARCERIA_CIDACS_PHDC/scripts_omop_tb/basefinal_tb_limp_enriched')\n",
    "           )"
   ]
  },
  {
   "cell_type": "markdown",
   "id": "b21352a3",
   "metadata": {},
   "source": [
    "### Procedure Occurrence"
   ]
  },
  {
   "cell_type": "code",
   "execution_count": 12,
   "id": "c9933edb",
   "metadata": {},
   "outputs": [],
   "source": [
    "window_procedure_occurrence = Window.partitionBy().orderBy('person_id', 'dtnasc_sinasc')"
   ]
  },
  {
   "cell_type": "code",
   "execution_count": 13,
   "id": "dc28f863",
   "metadata": {},
   "outputs": [
    {
     "data": {
      "text/plain": [
       "16590554"
      ]
     },
     "execution_count": 13,
     "metadata": {},
     "output_type": "execute_result"
    }
   ],
   "source": [
    "df_procedure_occurrence = (df_input\n",
    "#                           .filter(F.col('id_cidacs_mae_sinasc')==10010232335)\n",
    "                         .withColumn('person_id', F.col('person_id'))\n",
    "                         .withColumn('parto_sinasc_calc', F.when(F.col('parto_sinasc').isin(0,88,99), 0)\n",
    "                                                            .when(F.col('parto_sinasc')==1, 44784097)\n",
    "                                                            .when(F.col('parto_sinasc')==2, 4015701)\n",
    "                                                            .otherwise(0))\n",
    "                         .withColumn('procedure_concept_id', F.col('parto_sinasc_calc'))\n",
    "                         .withColumn('procedure_source_concept_id', F.lit(None))\n",
    "                         .withColumn('procedure_type_concept_id', F.lit(32879))\n",
    "                         .withColumn('procedure_date', F.col('dtnasc_sinasc'))\n",
    "                         .withColumn('procedure_source_value', F.when(F.col('procedure_concept_id').isin(44784097, 4015701), F.col('parto_sinasc')).otherwise(None))\n",
    "                         .withColumn('quantity', F.lit(None))\n",
    "                           .withColumn('procedure_occurrence_id', F.row_number().over(window_procedure_occurrence))\n",
    "                           .withColumn('procedure_datetime', F.lit(None))\n",
    "                           .withColumn('procedure_end_date', F.lit(None))\n",
    "                           .withColumn('procedure_end_datetime', F.lit(None))\n",
    "                           .withColumn('modifier_concept_id', F.lit(None))\n",
    "                           .withColumn('provider_id', F.lit(None))\n",
    "                           .withColumn('visit_occurrence_id', F.col('visit_occurrence_id'))\n",
    "                           .withColumn('visit_detail_id', F.lit(None))\n",
    "                           .withColumn('modifier_source_value', F.lit(None))\n",
    "                          ).select( F.col('procedure_occurrence_id').cast('integer'),\n",
    "                                    F.col('person_id').cast('integer'),\n",
    "                                    F.col('procedure_concept_id').cast('integer'),\n",
    "                                    F.col('procedure_date').cast('date'),\n",
    "                                    F.col('procedure_datetime').cast('timestamp'),\n",
    "                                    F.col('procedure_end_date').cast('date'),\n",
    "                                    F.col('procedure_end_datetime').cast('timestamp'),\n",
    "                                    F.col('procedure_type_concept_id').cast('integer'),\n",
    "                                    F.col('modifier_concept_id').cast('integer'),\n",
    "                                    F.col('quantity').cast('float'),\n",
    "                                    F.col('provider_id').cast('integer'),\n",
    "                                    F.col('visit_occurrence_id').cast('integer'),\n",
    "                                    F.col('visit_detail_id').cast('integer'),\n",
    "                                    F.col('procedure_source_value').cast('string'),\n",
    "                                    F.col('procedure_source_concept_id').cast('integer'),\n",
    "                                    F.col('modifier_source_value').cast('string')\n",
    "                                )\n",
    "df_procedure_occurrence.count()"
   ]
  },
  {
   "cell_type": "markdown",
   "id": "567e7942",
   "metadata": {},
   "source": [
    "## Salvando dados no Postgresql"
   ]
  },
  {
   "cell_type": "code",
   "execution_count": 14,
   "id": "8b01e583",
   "metadata": {},
   "outputs": [
    {
     "name": "stderr",
     "output_type": "stream",
     "text": [
      "25/07/16 11:21:39 WARN WindowExec: No Partition Defined for Window operation! Moving all data to a single partition, this can cause serious performance degradation.\n",
      "25/07/16 11:21:39 WARN WindowExec: No Partition Defined for Window operation! Moving all data to a single partition, this can cause serious performance degradation.\n",
      "25/07/16 11:21:39 WARN WindowExec: No Partition Defined for Window operation! Moving all data to a single partition, this can cause serious performance degradation.\n",
      "25/07/16 11:21:40 WARN WindowExec: No Partition Defined for Window operation! Moving all data to a single partition, this can cause serious performance degradation.\n",
      "25/07/16 11:21:40 WARN WindowExec: No Partition Defined for Window operation! Moving all data to a single partition, this can cause serious performance degradation.\n",
      "                                                                                \r"
     ]
    },
    {
     "data": {
      "text/plain": [
       "'Total time: 0:15:13.420053 and - Total rows: 16590554 - Total columns: 16'"
      ]
     },
     "execution_count": 14,
     "metadata": {},
     "output_type": "execute_result"
    }
   ],
   "source": [
    "write_to_postgresl(df_procedure_occurrence, tb_name='tuberculose.procedure_occurrence', write_mode='append')"
   ]
  },
  {
   "cell_type": "code",
   "execution_count": null,
   "id": "77823784",
   "metadata": {},
   "outputs": [],
   "source": []
  }
 ],
 "metadata": {
  "kernelspec": {
   "display_name": "Python 3 (ipykernel)",
   "language": "python",
   "name": "python3"
  },
  "language_info": {
   "codemirror_mode": {
    "name": "ipython",
    "version": 3
   },
   "file_extension": ".py",
   "mimetype": "text/x-python",
   "name": "python",
   "nbconvert_exporter": "python",
   "pygments_lexer": "ipython3",
   "version": "3.10.12"
  }
 },
 "nbformat": 4,
 "nbformat_minor": 5
}
