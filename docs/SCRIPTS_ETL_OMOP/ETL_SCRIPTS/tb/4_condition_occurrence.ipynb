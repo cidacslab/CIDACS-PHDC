{
 "cells": [
  {
   "cell_type": "markdown",
   "id": "b3b8b21d",
   "metadata": {},
   "source": [
    "## Configurações Pyspark"
   ]
  },
  {
   "cell_type": "code",
   "execution_count": 1,
   "id": "e5254cb2",
   "metadata": {},
   "outputs": [
    {
     "name": "stderr",
     "output_type": "stream",
     "text": [
      "25/07/16 15:55:40 WARN NativeCodeLoader: Unable to load native-hadoop library for your platform... using builtin-java classes where applicable\n",
      "Setting default log level to \"WARN\".\n",
      "To adjust logging level use sc.setLogLevel(newLevel). For SparkR, use setLogLevel(newLevel).\n",
      "25/07/16 15:55:41 WARN Utils: Service 'SparkUI' could not bind on port 4040. Attempting port 4041.\n",
      "25/07/16 15:55:41 WARN Utils: Service 'SparkUI' could not bind on port 4041. Attempting port 4042.\n"
     ]
    }
   ],
   "source": [
    "from pyspark.sql import SparkSession\n",
    "from pyspark.sql import functions as F\n",
    "from pyspark.sql import Window\n",
    "\n",
    "import pandas as pd\n",
    "\n",
    "def write_to_postgresl(df, tb_name=None, write_mode='None'):\n",
    "    df.count()\n",
    "    if tb_name is None:\n",
    "        raise Exception('Informe o nome da tabela')\n",
    "    if write_mode is None:\n",
    "        raise Exception('Informe o mode de escrita: append ou overwrite')\n",
    "        \n",
    "    from datetime import datetime\n",
    "    start_time = datetime.now()\n",
    "    \n",
    "    try:\n",
    "        df.write.jdbc(url, table=tb_name, mode=write_mode, properties=properties)\n",
    "    except Exception as e:\n",
    "        print(f'Erro: {e}')\n",
    "    end_time = datetime.now()\n",
    "    \n",
    "    total_time = str(end_time - start_time)\n",
    "    \n",
    "    return f'Total time: {total_time} and - Total rows: {df.count()} - Total columns: {len(df.columns)}'\n",
    "\n",
    "\n",
    "\n",
    "    # Criando a sessão do Spark\n",
    "spark  = SparkSession.builder \\\n",
    "    .appName(\"Data Analysis\") \\\n",
    "    .config('spark.jars', '/data/IDAF/DATABASECONNECTOR_JAR_FOLDER/postgresql-42.2.18.jar')\\\n",
    "    .config(\"spark.executor.memory\", \"8g\")\\\n",
    "    .config(\"spark.driver.memory\", \"8g\")\\\n",
    "    .config(\"spark.executor.cores\", \"4\")\\\n",
    "    .config(\"spark.executor.instances\",\"8\")\\\n",
    "    .config(\"spark.sql.shuffle.partitions\",\"96\")\\\n",
    "    .config(\"spark.default.parallelism\",\"96\")\\\n",
    "    .getOrCreate()\n",
    "\n",
    "\n",
    "url = \"jdbc:postgresql://localhost:5432/postgres\"\n",
    "\n",
    "properties = {\n",
    "    \"user\" : \"postgres\",\n",
    "    \"password\" : \"cidacs\",\n",
    "    \"driver\" : \"org.postgresql.Driver\"\n",
    "}"
   ]
  },
  {
   "cell_type": "markdown",
   "id": "1a25813f-48a0-4773-95ad-0c2ff8f205c7",
   "metadata": {},
   "source": [
    "## Configurações Pandas"
   ]
  },
  {
   "cell_type": "code",
   "execution_count": 2,
   "id": "787acd6f",
   "metadata": {},
   "outputs": [],
   "source": [
    "spark.conf.set(\"spark.sql.repl.eagerEval.enabled\", True)\n",
    "spark.conf.set(\"spark.sql.repl.eagerEval.truncate\", 100)\n",
    "spark.conf.set(\"spark.sql.repl.eagerEval.maxNumRows\", 300)\n",
    "\n",
    "spark.conf.set(\"spark.sql.debug.maxToStringFields\", 100)\n",
    "\n",
    "pd.set_option(\"display.max_columns\", None) \n",
    "pd.set_option(\"display.max_rows\", None)"
   ]
  },
  {
   "cell_type": "markdown",
   "id": "e5bdd252",
   "metadata": {},
   "source": [
    "### Lendo dados enriquecidos"
   ]
  },
  {
   "cell_type": "code",
   "execution_count": 3,
   "id": "64224f0d",
   "metadata": {},
   "outputs": [
    {
     "name": "stderr",
     "output_type": "stream",
     "text": [
      "\r",
      "[Stage 0:>                                                          (0 + 1) / 1]\r",
      "\r",
      "                                                                                \r"
     ]
    }
   ],
   "source": [
    "df_input = (spark\n",
    "            .read\n",
    "            .parquet('/data/IDAF/PROJETOS/PARCERIA_CIDACS_PHDC/scripts_omop_tb/basefinal_tb_limp_enriched')\n",
    "           )"
   ]
  },
  {
   "cell_type": "markdown",
   "id": "b21352a3",
   "metadata": {},
   "source": [
    "### Condition Occurrence"
   ]
  },
  {
   "cell_type": "code",
   "execution_count": 4,
   "id": "c9933edb",
   "metadata": {},
   "outputs": [],
   "source": [
    "window_condition_occurrence = Window.partitionBy().orderBy('person_id', 'dtnasc_sinasc')"
   ]
  },
  {
   "cell_type": "code",
   "execution_count": null,
   "id": "d2ab930c",
   "metadata": {},
   "outputs": [],
   "source": [
    "# /data/IDAF/PROJETOS/PARCERIA_CIDACS_PHDC/scripts_omop_tb/cte_vocab_map_standard.csv"
   ]
  },
  {
   "cell_type": "code",
   "execution_count": 26,
   "id": "dc28f863",
   "metadata": {},
   "outputs": [
    {
     "name": "stderr",
     "output_type": "stream",
     "text": [
      "                                                                                \r"
     ]
    },
    {
     "data": {
      "text/plain": [
       "33181108"
      ]
     },
     "execution_count": 26,
     "metadata": {},
     "output_type": "execute_result"
    }
   ],
   "source": [
    "df_condition_occurrence = (df_input\n",
    "                           .withColumn('cod_id_agravo', F.substring(F.col('`id_agravo.y`'), 2,2))\n",
    "                           .withColumn('cod_id_agravo_letra', F.substring(F.col('`id_agravo.y`'), 1,1))\n",
    "                           .withColumn('person_id', F.col('person_id'))\n",
    "                           # criação do campo condition_concept_id\n",
    "                           .withColumn('id_agravo_cat', F.when((F.col('cod_id_agravo')>=15)&(F.col('cod_id_agravo')<=19), 4145952).otherwise(0))\n",
    "                           # O raiox_tora tem os seguintes valores: 0,1,2,3,4,99,null\n",
    "                           # Danilo está vendo se é só isso ou precisa adicionar para os outros casos, além do 2\n",
    "                           .withColumn('raiox_tora_cat', F.when((F.col('id_agravo_cat')==4145952)&(F.col('raiox_tora')==1), 36674325)\n",
    "                                                          .when((F.col('id_agravo_cat')==4145952)&(F.col('raiox_tora')==2), 45768800)\n",
    "                                                          .when((F.col('id_agravo_cat')==4145952)&(F.col('raiox_tora')==3), 257907) # pode mudar\n",
    "                                                          .when((F.col('id_agravo_cat')==4145952)&(F.col('raiox_tora')==4), 4118638)\n",
    "                                                          .otherwise(0))\n",
    "                           .withColumn('concept_id', F.concat_ws(\",\", F.col('id_agravo_cat'), F.col('raiox_tora_cat'))) \n",
    "                           .withColumn('condition_concept_id', F.explode(F.split(F.col('concept_id'), ',')))\n",
    "                           .withColumn('condition_source_concept_id', F.when((F.col('condition_concept_id').isin(4145952))&(F.col('forma')==0), F.lit(4080894))\n",
    "                                                                       .when((F.col('condition_concept_id').isin(4145952))&(F.col('forma')==1), F.lit(253954))\n",
    "                                                                       .when((F.col('condition_concept_id').isin(4145952))&(F.col('forma')==2), F.lit(4310580))\n",
    "                                                                       .when((F.col('condition_concept_id').isin(4145952))&(F.col('forma')==3), F.lit(4013013))\n",
    "                                                                       .when((F.col('condition_concept_id').isin(4145952))&(F.col('forma')==99), F.lit(4127662))\n",
    "                                                                       .otherwise(None))\n",
    "                           .withColumn('condition_type_concept_id', F.lit(32879))\n",
    "                           .withColumn('condition_start_datetime', F.lit(None))\n",
    "                           .withColumn('condition_end_date', F.lit(None))\n",
    "                           .withColumn('condition_end_datetime', F.lit(None))\n",
    "                           .withColumn('stop_reason', F.when(F.col('raiox_tora')==0, None)\n",
    "                                                       .when(F.col('raiox_tora')==1, 4090826)\n",
    "                                                       .when(F.col('raiox_tora')==2, 4056683)\n",
    "                                                       .when(F.col('raiox_tora')==3, 4049904)\n",
    "                                                       .when(F.col('raiox_tora')==4, 4118638)\n",
    "                                                       .when(F.col('raiox_tora')==4, 4127662)\n",
    "                                                       .otherwise(None))\n",
    "                           .withColumn('condition_status_concept_id', F.lit(None))\n",
    "                           .withColumn('provider_id', F.lit(None))\n",
    "                           .withColumn('visit_occurrence_id', F.col('visit_occurrence_id'))\n",
    "                           .withColumn('visit_detail_id', F.lit(None))\n",
    "                           .withColumn('condition_source_value', F.when(F.col('condition_concept_id').isin(4145952, 45768800), F.col('`id_agravo.y`')).otherwise(0))\n",
    "                           .withColumn('condition_status_source_value', F.lit(None))\n",
    "                           # A coluna condition_start_date não pode ser nula, então onde for null vou colocar temp. o dtnasc_sinasc:\n",
    "                           .withColumn('condition_start_date', F.to_date(F.coalesce(F.col('dt_noti_at'), F.col('dtnasc_sinasc')), 'yyyy-MM-dd'))\n",
    "                           .withColumn('condition_occurrence_id', F.row_number().over(window_condition_occurrence))\n",
    "                                ).select(\n",
    "                                    F.col('condition_occurrence_id').cast('integer'),\n",
    "                                    F.col('person_id').cast('integer'),\n",
    "                                    F.col('condition_concept_id').cast('integer'),\n",
    "                                    F.col('condition_start_date').cast('date'),\n",
    "                                    F.col('condition_start_datetime').cast('timestamp'),\n",
    "                                    F.col('condition_end_date').cast('date'),\n",
    "                                    F.col('condition_end_datetime').cast('timestamp'),\n",
    "                                    F.col('condition_type_concept_id').cast('integer'),\n",
    "                                    F.col('condition_status_concept_id').cast('integer'),\n",
    "                                    F.col('stop_reason').cast('string'),\n",
    "                                    F.col('provider_id').cast('integer'),\n",
    "                                    F.col('visit_occurrence_id').cast('integer'),\n",
    "                                    F.col('visit_detail_id').cast('integer'),\n",
    "                                    F.col('condition_source_value').cast('string'),\n",
    "                                    F.col('condition_source_concept_id').cast('integer'),\n",
    "                                    F.col('condition_status_source_value').cast('string')\n",
    "                                        )\n",
    "\n",
    "df_condition_occurrence.count()"
   ]
  },
  {
   "cell_type": "markdown",
   "id": "e120739a",
   "metadata": {},
   "source": [
    "## Salvando dados no Postgresql"
   ]
  },
  {
   "cell_type": "code",
   "execution_count": 27,
   "id": "37b02916",
   "metadata": {},
   "outputs": [
    {
     "name": "stderr",
     "output_type": "stream",
     "text": [
      "25/07/16 16:31:04 WARN WindowExec: No Partition Defined for Window operation! Moving all data to a single partition, this can cause serious performance degradation.\n",
      "25/07/16 16:31:04 WARN WindowExec: No Partition Defined for Window operation! Moving all data to a single partition, this can cause serious performance degradation.\n",
      "25/07/16 16:31:04 WARN WindowExec: No Partition Defined for Window operation! Moving all data to a single partition, this can cause serious performance degradation.\n",
      "25/07/16 16:31:12 WARN WindowExec: No Partition Defined for Window operation! Moving all data to a single partition, this can cause serious performance degradation.\n",
      "25/07/16 16:31:12 WARN WindowExec: No Partition Defined for Window operation! Moving all data to a single partition, this can cause serious performance degradation.\n",
      "                                                                                \r"
     ]
    },
    {
     "data": {
      "text/plain": [
       "'Total time: 0:29:14.061505 and - Total rows: 33181108 - Total columns: 16'"
      ]
     },
     "execution_count": 27,
     "metadata": {},
     "output_type": "execute_result"
    }
   ],
   "source": [
    "write_to_postgresl(df_condition_occurrence, tb_name='tuberculose.condition_occurrence', write_mode='append')"
   ]
  },
  {
   "cell_type": "markdown",
   "id": "89c16346",
   "metadata": {},
   "source": [
    "## Gerando Vocab map"
   ]
  },
  {
   "cell_type": "markdown",
   "id": "83ad5a45",
   "metadata": {},
   "source": [
    "-- CTE_VOCAB_MAP_SOURCE\n",
    "CREATE TABLE tuberculose.CTE_VOCAB_MAP_SOURCE as \n",
    "WITH CTE_VOCAB_MAP_SOURCE_ AS (\n",
    "       SELECT \n",
    "\t   \t\tc.concept_code AS SOURCE_CODE, \n",
    "\t\t\tc.concept_id AS SOURCE_CONCEPT_ID, \n",
    "\t\t\tc.CONCEPT_NAME AS SOURCE_CODE_DESCRIPTION, \n",
    "\t\t\tc.vocabulary_id AS SOURCE_VOCABULARY_ID, \n",
    "\t\t\tc.domain_id AS SOURCE_DOMAIN_ID, \n",
    "\t\t\tc.concept_class_id AS SOURCE_CONCEPT_CLASS_ID, \n",
    "            c.VALID_START_DATE AS SOURCE_VALID_START_DATE, \n",
    "\t\t\tc.VALID_END_DATE AS SOURCE_VALID_END_DATE, \n",
    "\t\t\tc.invalid_reason AS SOURCE_INVALID_REASON, \n",
    "            c.concept_ID as TARGET_CONCEPT_ID, \n",
    "\t\t\tc.concept_name AS TARGET_CONCEPT_NAME, \n",
    "\t\t\tc.vocabulary_id AS TARGET_VOCABULARY_ID, \n",
    "\t\t\tc.domain_id AS TARGET_DOMAIN_ID, \n",
    "\t\t\tc.concept_class_id AS TARGET_CONCEPT_CLASS_ID, \n",
    "\t\t\tc.INVALID_REASON AS TARGET_INVALID_REASON, \n",
    "            c.STANDARD_CONCEPT AS TARGET_STANDARD_CONCEPT\n",
    "       FROM CONCEPT c\n",
    "       UNION\n",
    "       SELECT \n",
    "\t   \t\tsource_code, SOURCE_CONCEPT_ID, \n",
    "\t\t\tSOURCE_CODE_DESCRIPTION, \n",
    "\t\t\tsource_vocabulary_id, \n",
    "\t\t\tc1.domain_id AS SOURCE_DOMAIN_ID, \n",
    "\t\t\tc2.CONCEPT_CLASS_ID AS SOURCE_CONCEPT_CLASS_ID, \n",
    "\t\t\tc1.VALID_START_DATE AS SOURCE_VALID_START_DATE, \n",
    "\t\t\tc1.VALID_END_DATE AS SOURCE_VALID_END_DATE,\n",
    "\t\t\tstcm.INVALID_REASON AS SOURCE_INVALID_REASON,\n",
    "\t\t\ttarget_concept_id, \n",
    "\t\t\tc2.CONCEPT_NAME AS TARGET_CONCEPT_NAME, \n",
    "\t\t\ttarget_vocabulary_id, \n",
    "\t\t\tc2.domain_id AS TARGET_DOMAIN_ID, \n",
    "\t\t\tc2.concept_class_id AS TARGET_CONCEPT_CLASS_ID, \n",
    "\t\t\tc2.INVALID_REASON AS TARGET_INVALID_REASON, \n",
    "\t\t\tc2.standard_concept AS TARGET_STANDARD_CONCEPT\n",
    "       FROM source_to_concept_map stcm\n",
    "              LEFT OUTER JOIN CONCEPT c1\n",
    "                     ON c1.concept_id = stcm.source_concept_id\n",
    "              LEFT OUTER JOIN CONCEPT c2\n",
    "                     ON c2.CONCEPT_ID = stcm.target_concept_id\n",
    "       WHERE stcm.INVALID_REASON IS NULL\n",
    ")\n",
    "SELECT *\n",
    "FROM CTE_VOCAB_MAP_SOURCE_\n",
    "\n",
    "\n",
    "-- CTE_VOCAB_MAP_STANDARD\n",
    "CREATE TABLE tuberculose.CTE_VOCAB_MAP_STANDARD as \n",
    "WITH CTE_VOCAB_MAP AS (\n",
    "       SELECT \n",
    "\t\t\tc.concept_code AS SOURCE_CODE, \n",
    "\t\t\tc.concept_id AS SOURCE_CONCEPT_ID, \n",
    "\t\t\tc.concept_name AS SOURCE_CODE_DESCRIPTION, \n",
    "\t\t\tc.vocabulary_id AS SOURCE_VOCABULARY_ID, \n",
    "\t\t\tc.domain_id AS SOURCE_DOMAIN_ID, \n",
    "\t\t\tc.CONCEPT_CLASS_ID AS SOURCE_CONCEPT_CLASS_ID, \n",
    "\t\t\tc.VALID_START_DATE AS SOURCE_VALID_START_DATE, \n",
    "\t\t\tc.VALID_END_DATE AS SOURCE_VALID_END_DATE, \n",
    "\t\t\tc.INVALID_REASON AS SOURCE_INVALID_REASON, \n",
    "\t\t\tc1.concept_id AS TARGET_CONCEPT_ID, \n",
    "\t\t\tc1.concept_name AS TARGET_CONCEPT_NAME, \n",
    "\t\t\tc1.VOCABULARY_ID AS TARGET_VOCABULARY_ID, \n",
    "\t\t\tc1.domain_id AS TARGET_DOMAIN_ID, \n",
    "\t\t\tc1.concept_class_id AS TARGET_CONCEPT_CLASS_ID, \n",
    "\t\t\tc1.INVALID_REASON AS TARGET_INVALID_REASON, \n",
    "\t\t\tc1.standard_concept AS TARGET_STANDARD_CONCEPT\n",
    "       FROM CONCEPT C\n",
    "             JOIN CONCEPT_RELATIONSHIP CR\n",
    "                        ON C.CONCEPT_ID = CR.CONCEPT_ID_1\n",
    "                        AND CR.invalid_reason IS NULL\n",
    "                        AND lower(cr.relationship_id) = 'maps to'\n",
    "              JOIN CONCEPT C1\n",
    "                        ON CR.CONCEPT_ID_2 = C1.CONCEPT_ID\n",
    "                        AND C1.INVALID_REASON IS NULL\n",
    "       UNION ALL\n",
    "       SELECT \n",
    "\t\t\tsource_code, \n",
    "\t\t\tSOURCE_CONCEPT_ID, \n",
    "\t\t\tSOURCE_CODE_DESCRIPTION, \n",
    "\t\t\tsource_vocabulary_id, \n",
    "\t\t\tc1.domain_id AS SOURCE_DOMAIN_ID,\n",
    "\t\t\tc2.CONCEPT_CLASS_ID AS SOURCE_CONCEPT_CLASS_ID,\n",
    "\t\t\tc1.VALID_START_DATE AS SOURCE_VALID_START_DATE, \n",
    "\t\t\tc1.VALID_END_DATE AS SOURCE_VALID_END_DATE, \n",
    "\t\t\tstcm.INVALID_REASON AS SOURCE_INVALID_REASON,\n",
    "\t\t\ttarget_concept_id, \n",
    "\t\t\tc2.CONCEPT_NAME AS TARGET_CONCEPT_NAME, \n",
    "\t\t\ttarget_vocabulary_id, \n",
    "\t\t\tc2.domain_id AS TARGET_DOMAIN_ID, \n",
    "\t\t\tc2.concept_class_id AS TARGET_CONCEPT_CLASS_ID, \n",
    "\t\t\tc2.INVALID_REASON AS TARGET_INVALID_REASON, \n",
    "\t\t\tc2.standard_concept AS TARGET_STANDARD_CONCEPT\n",
    "       FROM source_to_concept_map stcm\n",
    "              LEFT OUTER JOIN CONCEPT c1\n",
    "                     ON c1.concept_id = stcm.source_concept_id\n",
    "              LEFT OUTER JOIN CONCEPT c2\n",
    "                     ON c2.CONCEPT_ID = stcm.target_concept_id\n",
    "       WHERE stcm.INVALID_REASON IS NULL\n",
    ")\n",
    "SELECT *\n",
    "FROM CTE_VOCAB_MAP"
   ]
  }
 ],
 "metadata": {
  "kernelspec": {
   "display_name": "Python 3 (ipykernel)",
   "language": "python",
   "name": "python3"
  },
  "language_info": {
   "codemirror_mode": {
    "name": "ipython",
    "version": 3
   },
   "file_extension": ".py",
   "mimetype": "text/x-python",
   "name": "python",
   "nbconvert_exporter": "python",
   "pygments_lexer": "ipython3",
   "version": "3.10.12"
  }
 },
 "nbformat": 4,
 "nbformat_minor": 5
}
