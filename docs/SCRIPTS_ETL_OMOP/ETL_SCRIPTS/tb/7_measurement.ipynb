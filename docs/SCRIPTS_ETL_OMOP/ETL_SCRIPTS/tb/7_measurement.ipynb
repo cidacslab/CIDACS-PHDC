{
 "cells": [
  {
   "cell_type": "markdown",
   "id": "b3b8b21d",
   "metadata": {},
   "source": [
    "## Configurações Pyspark"
   ]
  },
  {
   "cell_type": "code",
   "execution_count": 13,
   "id": "e5254cb2",
   "metadata": {},
   "outputs": [],
   "source": [
    "from pyspark.sql import SparkSession\n",
    "from pyspark.sql import functions as F\n",
    "from pyspark.sql import Window\n",
    "\n",
    "import pandas as pd\n",
    "\n",
    "def write_to_postgresl(df, tb_name=None, write_mode='None'):\n",
    "    df.count()\n",
    "    if tb_name is None:\n",
    "        raise Exception('Informe o nome da tabela')\n",
    "    if write_mode is None:\n",
    "        raise Exception('Informe o mode de escrita: append ou overwrite')\n",
    "        \n",
    "    from datetime import datetime\n",
    "    start_time = datetime.now()\n",
    "    \n",
    "    try:\n",
    "        df.write.jdbc(url, table=tb_name, mode=write_mode, properties=properties)\n",
    "    except Exception as e:\n",
    "        print(f'Erro: {e}')\n",
    "    end_time = datetime.now()\n",
    "    \n",
    "    total_time = str(end_time - start_time)\n",
    "    \n",
    "    return f'Total time: {total_time} and - Total rows: {df.count()} - Total columns: {len(df.columns)}'\n",
    "\n",
    "\n",
    "\n",
    "    # Criando a sessão do Spark\n",
    "spark  = SparkSession.builder \\\n",
    "    .appName(\"Data Analysis\") \\\n",
    "    .config('spark.jars', '/data/IDAF/DATABASECONNECTOR_JAR_FOLDER/postgresql-42.2.18.jar')\\\n",
    "    .config(\"spark.executor.memory\", \"8g\")\\\n",
    "    .config(\"spark.driver.memory\", \"8g\")\\\n",
    "    .config(\"spark.executor.cores\", \"4\")\\\n",
    "    .config(\"spark.executor.instances\",\"8\")\\\n",
    "    .config(\"spark.sql.shuffle.partitions\",\"96\")\\\n",
    "    .config(\"spark.default.parallelism\",\"96\")\\\n",
    "    .getOrCreate()\n",
    "\n",
    "\n",
    "url = \"jdbc:postgresql://localhost:5432/postgres\"\n",
    "\n",
    "properties = {\n",
    "    \"user\" : \"postgres\",\n",
    "    \"password\" : \"cidacs\",\n",
    "    \"driver\" : \"org.postgresql.Driver\"\n",
    "}"
   ]
  },
  {
   "cell_type": "markdown",
   "id": "1392226d-8b67-4bac-be21-74427878fbdc",
   "metadata": {},
   "source": [
    "## Configurações Pandas"
   ]
  },
  {
   "cell_type": "code",
   "execution_count": 14,
   "id": "787acd6f",
   "metadata": {},
   "outputs": [],
   "source": [
    "spark.conf.set(\"spark.sql.repl.eagerEval.enabled\", True)\n",
    "spark.conf.set(\"spark.sql.repl.eagerEval.truncate\", 100)\n",
    "spark.conf.set(\"spark.sql.repl.eagerEval.maxNumRows\", 300)\n",
    "\n",
    "spark.conf.set(\"spark.sql.debug.maxToStringFields\", 100)\n",
    "\n",
    "pd.set_option(\"display.max_columns\", None) \n",
    "pd.set_option(\"display.max_rows\", None)"
   ]
  },
  {
   "cell_type": "markdown",
   "id": "e5bdd252",
   "metadata": {},
   "source": [
    "### Lendo dados enriquecidos"
   ]
  },
  {
   "cell_type": "code",
   "execution_count": 16,
   "id": "64224f0d",
   "metadata": {},
   "outputs": [],
   "source": [
    "df_input = (spark\n",
    "            .read\n",
    "            .parquet('/data/IDAF/PROJETOS/PARCERIA_CIDACS_PHDC/scripts_omop_tb/basefinal_tb_limp_enriched')\n",
    "           )"
   ]
  },
  {
   "cell_type": "markdown",
   "id": "b21352a3",
   "metadata": {},
   "source": [
    "### Measurement"
   ]
  },
  {
   "cell_type": "code",
   "execution_count": 17,
   "id": "c9933edb",
   "metadata": {},
   "outputs": [],
   "source": [
    "window_measurement = Window.partitionBy().orderBy('person_id', 'dtnasc_sinasc')"
   ]
  },
  {
   "cell_type": "code",
   "execution_count": 24,
   "id": "dc28f863",
   "metadata": {},
   "outputs": [
    {
     "name": "stderr",
     "output_type": "stream",
     "text": [
      "                                                                                \r"
     ]
    },
    {
     "data": {
      "text/plain": [
       "41534339"
      ]
     },
     "execution_count": 24,
     "metadata": {},
     "output_type": "execute_result"
    }
   ],
   "source": [
    "df_measurement = (df_input\n",
    "                 .withColumn('person_id', F.col('person_id'))\n",
    "                 .withColumn('dtultmenst_code', F.when(F.col('dtultmenst_sinasc').isNotNull(), F.lit(4072438)).otherwise(None))\n",
    "                 .withColumn('histopatol_code', F.when(F.col('histopatol').isNotNull(), F.lit(4098214)).otherwise(None))\n",
    "                 .withColumn('teste_tube_code', F.when(F.col('teste_tube').isNotNull(), F.lit(4308939)).otherwise(None))\n",
    "                 .withColumn('bacilosc_e_code', F.when(F.col('bacilosc_e')==0, None)\n",
    "                                                 .when(F.col('bacilosc_e')==1, F.lit(44810800))\n",
    "                                                 .when(F.col('bacilosc_e')==2, F.lit(44810879))\n",
    "                                                 .when(F.col('bacilosc_e')==3, F.lit(4118638))\n",
    "                                                 .when(F.col('bacilosc_e')==77, F.lit(36303209))\n",
    "                                                 .when(F.col('bacilosc_e')==99, F.lit(4127662))\n",
    "                                                 .otherwise(None))\n",
    "                 .withColumn('cultura_es_code', F.when(F.col('cultura_es').isNotNull(), F.lit(4015189)).otherwise(None)) \n",
    "                 .withColumn('semagestac_sinasc_code', F.when(F.col('semagestac_sinasc').isNotNull(), F.lit(3012266)).otherwise(None)) \n",
    "                 .withColumn('gravidez_sinasc_code', F.when(F.col('gravidez_sinasc').isNotNull(), F.lit(4077859)).otherwise(None)) \n",
    "                 .withColumn('measurement_concept_id_list', F.concat_ws(\",\", F.col('dtultmenst_code'), \n",
    "                                                                             F.col('histopatol_code'), \n",
    "                                                                             F.col('teste_tube_code'), \n",
    "                                                                             F.col('bacilosc_e_code'),\n",
    "                                                                             F.col('cultura_es_code'),\n",
    "                                                                             F.col('semagestac_sinasc_code'),\n",
    "                                                                             F.col('gravidez_sinasc_code'))) \n",
    "                 .withColumn('measurement_concept_id', F.explode(F.split(F.col('measurement_concept_id_list'), ',')))\n",
    "                 .withColumn('measurement_date', F.when(F.col('measurement_concept_id').isin(44810800, 44810879, 4118638, 36303209, 4127662, 4308939, 4015189), F.col('dt_noti_at'))\n",
    "                                                  .when(F.col('measurement_concept_id').isin(3012266, 4077859), F.col('dtnasc_sinasc'))\n",
    "                                                  .when(F.col('measurement_concept_id').isin(4098214), F.col('dt_diag'))\n",
    "                                                  .when(F.col('measurement_concept_id').isin(4072438), F.col('dtultmenst_sinasc')))\n",
    "                 .withColumn('value_as_number', F.when(F.col('measurement_concept_id').isin(3012266), F.col('semagestac_sinasc'))\n",
    "                                                 .when((F.col('measurement_concept_id').isin(4077859))&(F.col('gravidez_sinasc').isin(1, 2, 3)), F.col('gravidez_sinasc'))\n",
    "                                                 .when((F.col('measurement_concept_id').isin(4077859))&(F.col('gravidez_sinasc').isin(0, 88,99)), F.lit(None)).otherwise(None))\n",
    "                 .withColumn('value_as_concept_id', F.when(F.col('histopatol')==0, F.lit(None))\n",
    "                                    .when((F.col('histopatol')==1)&(F.col('measurement_concept_id')==4098214), F.lit(9191))\n",
    "                                    .when((F.col('histopatol')==2)&(F.col('measurement_concept_id')==4098214), F.lit(4090826))\n",
    "                                    .when((F.col('histopatol')==3)&(F.col('measurement_concept_id')==4098214), F.lit(1244617))\n",
    "                                    .when((F.col('histopatol')==4)&(F.col('measurement_concept_id')==4098214), F.lit(4090959))\n",
    "                                    .when((F.col('histopatol')==5)&(F.col('measurement_concept_id')==4098214), F.lit(4118638))\n",
    "                                    .when((F.col('histopatol')==99)&(F.col('measurement_concept_id')==4098214), F.lit(4127662))\n",
    "\n",
    "                                    .when((F.col('teste_tube')==0)&(F.col('measurement_concept_id')==4308939), F.lit(None))\n",
    "                                    .when((F.col('teste_tube')==1)&(F.col('measurement_concept_id')==4308939), F.lit(4305306))\n",
    "                                    .when((F.col('teste_tube')==2)&(F.col('measurement_concept_id')==4308939), F.lit(45878592))\n",
    "                                    .when((F.col('teste_tube')==3)&(F.col('measurement_concept_id')==4308939), F.lit(45880924))\n",
    "                                    .when((F.col('teste_tube')==4)&(F.col('measurement_concept_id')==4308939), F.lit(4118638))\n",
    "                                    .when((F.col('teste_tube')==99)&(F.col('measurement_concept_id')==4308939), F.lit(4127662))\n",
    "\n",
    "                                    .when((F.col('cultura_es')==0)&(F.col('measurement_concept_id')==4015189), F.lit(None))\n",
    "                                    .when((F.col('cultura_es')==1)&(F.col('measurement_concept_id')==4015189), F.lit(9191))\n",
    "                                    .when((F.col('cultura_es')==2)&(F.col('measurement_concept_id')==4015189), F.lit(9189))\n",
    "                                    .when((F.col('cultura_es')==3)&(F.col('measurement_concept_id')==4015189), F.lit(4090959))\n",
    "                                    .when((F.col('cultura_es')==4)&(F.col('measurement_concept_id')==4015189), F.lit(4118638))\n",
    "                                    .when((F.col('cultura_es')==99)&(F.col('measurement_concept_id')==4015189), F.lit(4127662))\n",
    "                                    )\n",
    "                 .withColumn('measurement_type_concept_id', F.lit(32879))\n",
    "                 .withColumn('measurement_id', F.row_number().over(window_measurement))\n",
    "                 .withColumn('unit_source_value', F.lit(None))\n",
    "                 .withColumn('unit_concept_id', F.lit(None))\n",
    "                 .withColumn('measurement_datetime', F.lit(None))\n",
    "                 .withColumn('measurement_time', F.lit(None))\n",
    "                 .withColumn('operator_concept_id', F.lit(None))\n",
    "                 .withColumn('value_as_concept_id', F.lit(None))\n",
    "                 .withColumn('range_low', F.lit(None))\n",
    "                 .withColumn('range_high', F.lit(None))\n",
    "                 .withColumn('provider_id', F.lit(None))\n",
    "                 .withColumn('visit_occurrence_id', F.col('visit_occurrence_id'))\n",
    "                 .withColumn('visit_detail_id', F.lit(None))\n",
    "                 .withColumn('measurement_source_value', F.lit(None))\n",
    "                 .withColumn('measurement_source_concept_id', F.lit(None))\n",
    "                 .withColumn('unit_source_concept_id', F.lit(None))\n",
    "                 .withColumn('value_source_value', F.when(F.col('measurement_concept_id').isin(4072438), F.col('dtultmenst_sinasc')).otherwise(None))\n",
    "                  .withColumn('measurement_event_id', F.lit(None))\n",
    "                  .withColumn('meas_event_field_concept_id', F.lit(None))\n",
    "                  .filter(F.col('measurement_date').isNotNull())\n",
    "                  ).select( F.col(\"measurement_id\").cast('integer'),\n",
    "                            F.col(\"person_id\").cast('integer'),\n",
    "                            F.col(\"measurement_concept_id\").cast('integer'),\n",
    "                            F.col(\"measurement_date\").cast('date'),\n",
    "                            F.col(\"measurement_datetime\").cast('timestamp'),\n",
    "                            F.col(\"measurement_time\").cast('string'),\n",
    "                            F.col(\"measurement_type_concept_id\").cast('integer'),\n",
    "                            F.col(\"operator_concept_id\").cast('integer'),\n",
    "                            F.col(\"value_as_number\").cast('float'),\n",
    "                            F.col(\"value_as_concept_id\").cast('integer'),\n",
    "                            F.col(\"unit_concept_id\").cast('integer'),\n",
    "                            F.col(\"range_low\").cast('float'),\n",
    "                            F.col(\"range_high\").cast('float'),\n",
    "                            F.col(\"provider_id\").cast('integer'),\n",
    "                            F.col(\"visit_occurrence_id\").cast('integer'),\n",
    "                            F.col(\"visit_detail_id\").cast('integer'),\n",
    "                            F.col(\"measurement_source_value\").cast('string'),\n",
    "                            F.col(\"measurement_source_concept_id\").cast('integer'),\n",
    "                            F.col(\"unit_source_value\").cast('string'),\n",
    "                            F.col(\"unit_source_concept_id\").cast('integer'),\n",
    "                            F.col(\"value_source_value\").cast('string'),\n",
    "                            F.col(\"measurement_event_id\").cast('integer'),\n",
    "                            F.col(\"meas_event_field_concept_id\").cast('integer')\n",
    "                            )\n",
    "df_measurement.count()"
   ]
  },
  {
   "cell_type": "markdown",
   "id": "c08eadb8",
   "metadata": {},
   "source": [
    "### Salvando no Postgresql"
   ]
  },
  {
   "cell_type": "code",
   "execution_count": 25,
   "id": "2a2dd6eb",
   "metadata": {},
   "outputs": [
    {
     "name": "stderr",
     "output_type": "stream",
     "text": [
      "25/07/16 13:33:38 WARN WindowExec: No Partition Defined for Window operation! Moving all data to a single partition, this can cause serious performance degradation.\n",
      "25/07/16 13:33:38 WARN WindowExec: No Partition Defined for Window operation! Moving all data to a single partition, this can cause serious performance degradation.\n",
      "25/07/16 13:33:38 WARN WindowExec: No Partition Defined for Window operation! Moving all data to a single partition, this can cause serious performance degradation.\n",
      "25/07/16 13:33:44 WARN WindowExec: No Partition Defined for Window operation! Moving all data to a single partition, this can cause serious performance degradation.\n",
      "25/07/16 13:33:44 WARN WindowExec: No Partition Defined for Window operation! Moving all data to a single partition, this can cause serious performance degradation.\n",
      "                                                                                \r"
     ]
    },
    {
     "data": {
      "text/plain": [
       "'Total time: 1:07:30.353026 and - Total rows: 41534339 - Total columns: 23'"
      ]
     },
     "execution_count": 25,
     "metadata": {},
     "output_type": "execute_result"
    }
   ],
   "source": [
    "write_to_postgresl(df_measurement, tb_name='tuberculose.measurement', write_mode='append')"
   ]
  },
  {
   "cell_type": "code",
   "execution_count": null,
   "id": "550280fe",
   "metadata": {},
   "outputs": [],
   "source": []
  }
 ],
 "metadata": {
  "kernelspec": {
   "display_name": "Python 3 (ipykernel)",
   "language": "python",
   "name": "python3"
  },
  "language_info": {
   "codemirror_mode": {
    "name": "ipython",
    "version": 3
   },
   "file_extension": ".py",
   "mimetype": "text/x-python",
   "name": "python",
   "nbconvert_exporter": "python",
   "pygments_lexer": "ipython3",
   "version": "3.10.12"
  }
 },
 "nbformat": 4,
 "nbformat_minor": 5
}
