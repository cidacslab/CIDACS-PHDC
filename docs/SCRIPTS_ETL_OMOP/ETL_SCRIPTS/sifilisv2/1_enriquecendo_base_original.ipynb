{
 "cells": [
  {
   "cell_type": "markdown",
   "id": "24dd487d",
   "metadata": {},
   "source": [
    "### Tratamentos da Base Original\n",
    "\n",
    "- Notebook criado para tratar dados de input antes de passar para o CDM OMOP. Ex: como criar campos de id"
   ]
  },
  {
   "cell_type": "markdown",
   "id": "6b65a5b8-1704-4053-838c-f8e78001f326",
   "metadata": {},
   "source": [
    "## Configurações PySpark"
   ]
  },
  {
   "cell_type": "code",
   "execution_count": 1,
   "id": "8fdc0b6c",
   "metadata": {},
   "outputs": [
    {
     "name": "stderr",
     "output_type": "stream",
     "text": [
      "Setting default log level to \"WARN\".\n",
      "To adjust logging level use sc.setLogLevel(newLevel). For SparkR, use setLogLevel(newLevel).\n",
      "25/05/07 17:20:54 WARN NativeCodeLoader: Unable to load native-hadoop library for your platform... using builtin-java classes where applicable\n"
     ]
    }
   ],
   "source": [
    "from pyspark.sql import SparkSession\n",
    "from pyspark.sql import functions as F\n",
    "from pyspark.sql import Window\n",
    "\n",
    "import pandas as pd\n",
    "\n",
    "\n",
    "spark  = SparkSession.builder \\\n",
    "    .appName(\"Data Analysis\") \\\n",
    "    .config(\"spark.executor.memory\", \"8g\")\\\n",
    "    .config(\"spark.driver.memory\", \"8g\")\\\n",
    "    .config(\"spark.executor.cores\", \"4\")\\\n",
    "    .config(\"spark.executor.instances\",\"8\")\\\n",
    "    .config(\"spark.sql.shuffle.partitions\",\"96\")\\\n",
    "    .config(\"spark.default.parallelism\",\"96\")\\\n",
    "    .getOrCreate()"
   ]
  },
  {
   "cell_type": "markdown",
   "id": "b2cdb1c0-3b60-491b-a452-9ac4b99efd36",
   "metadata": {},
   "source": [
    "## Configurações Pandas"
   ]
  },
  {
   "cell_type": "code",
   "execution_count": 2,
   "id": "eba5130b",
   "metadata": {},
   "outputs": [],
   "source": [
    "spark.conf.set(\"spark.sql.repl.eagerEval.enabled\", True)\n",
    "spark.conf.set(\"spark.sql.repl.eagerEval.truncate\", 100)\n",
    "spark.conf.set(\"spark.sql.repl.eagerEval.maxNumRows\", 300)\n",
    "\n",
    "spark.conf.set(\"spark.sql.debug.maxToStringFields\", 100)\n",
    "\n",
    "pd.set_option(\"display.max_columns\", None) \n",
    "pd.set_option(\"display.max_rows\", None)"
   ]
  },
  {
   "cell_type": "markdown",
   "id": "4ff33b7d",
   "metadata": {},
   "source": [
    "## Leitura da base original"
   ]
  },
  {
   "cell_type": "code",
   "execution_count": 3,
   "id": "7b8b3813",
   "metadata": {},
   "outputs": [],
   "source": [
    "df_input = (spark\n",
    "            .read\n",
    "            .option('nullValue', 'NA')\n",
    "            .csv('/data/IDAF/PROJETOS/PARCERIA_CIDACS_PHDC/Karine/Banco/basefinal_gest_limp.csv', header=True))"
   ]
  },
  {
   "cell_type": "markdown",
   "id": "bd77f1e3-719d-47b4-9139-8261198fc34f",
   "metadata": {
    "tags": []
   },
   "source": [
    "### Métricas de leitura"
   ]
  },
  {
   "cell_type": "code",
   "execution_count": 4,
   "id": "e6424de9",
   "metadata": {},
   "outputs": [
    {
     "name": "stderr",
     "output_type": "stream",
     "text": [
      "                                                                                \r"
     ]
    },
    {
     "name": "stdout",
     "output_type": "stream",
     "text": [
      "Quantidade de registros com id_cidacs_mae_sinasc não nulos: 16609493\n"
     ]
    },
    {
     "name": "stderr",
     "output_type": "stream",
     "text": [
      "[Stage 6:=============================================>          (78 + 12) / 96]\r"
     ]
    },
    {
     "name": "stdout",
     "output_type": "stream",
     "text": [
      "Quantidades de id_cidacs_mae_sinasc distintos: 12671004\n"
     ]
    },
    {
     "name": "stderr",
     "output_type": "stream",
     "text": [
      "\r",
      "                                                                                \r"
     ]
    }
   ],
   "source": [
    "# quantidade de registros com id_cidacs_mae_sinasc não nulos na base completa\n",
    "qtd_registros_base_com_id_not_null = df_input.select('id_cidacs_mae_sinasc').filter(F.col('id_cidacs_mae_sinasc').isNotNull()).count()\n",
    "print(f'Quantidade de registros com id_cidacs_mae_sinasc não nulos: {qtd_registros_base_com_id_not_null}')\n",
    "\n",
    "qtd_id_mae_cidacs_not_null = df_input.filter(F.col('id_cidacs_mae_sinasc').isNotNull()).select(\"id_cidacs_mae_sinasc\").distinct().count()\n",
    "print(f'Quantidades de id_cidacs_mae_sinasc distintos: {qtd_id_mae_cidacs_not_null}')"
   ]
  },
  {
   "cell_type": "markdown",
   "id": "11e1ac13-920f-4d59-9cd7-abbc21a67dca",
   "metadata": {},
   "source": [
    "#### 1. Mostrando que existem id_cidacs_sinasc_v4 que se repetem\n",
    "\n",
    " - podem ser gêmeos e também registros duplicados como é o caso abaixo"
   ]
  },
  {
   "cell_type": "code",
   "execution_count": 5,
   "id": "254637eb",
   "metadata": {
    "scrolled": true
   },
   "outputs": [
    {
     "name": "stderr",
     "output_type": "stream",
     "text": [
      "                                                                                \r"
     ]
    },
    {
     "data": {
      "text/html": [
       "<div>\n",
       "<style scoped>\n",
       "    .dataframe tbody tr th:only-of-type {\n",
       "        vertical-align: middle;\n",
       "    }\n",
       "\n",
       "    .dataframe tbody tr th {\n",
       "        vertical-align: top;\n",
       "    }\n",
       "\n",
       "    .dataframe thead th {\n",
       "        text-align: right;\n",
       "    }\n",
       "</style>\n",
       "<table border=\"1\" class=\"dataframe\">\n",
       "  <thead>\n",
       "    <tr style=\"text-align: right;\">\n",
       "      <th></th>\n",
       "      <th>apgar1_sinasc</th>\n",
       "      <th>apgar5_sinasc</th>\n",
       "      <th>cod_raca_cor_pessoa_eq</th>\n",
       "      <th>codanomal_sinasc</th>\n",
       "      <th>codmunres_sinasc</th>\n",
       "      <th>consprenat_sinasc</th>\n",
       "      <th>consultas_sinasc</th>\n",
       "      <th>dt_notific_mae</th>\n",
       "      <th>dtnasc_sinasc</th>\n",
       "      <th>dtnascmae_sinasc</th>\n",
       "      <th>dtobito_sim.y</th>\n",
       "      <th>escmae_sinasc</th>\n",
       "      <th>estcivmae_sinasc</th>\n",
       "      <th>gravidez_sinasc</th>\n",
       "      <th>id_agravo_mae</th>\n",
       "      <th>id_cidacs_mae_sinasc</th>\n",
       "      <th>id_cidacs_sinasc_v5</th>\n",
       "      <th>idademae_sinasc</th>\n",
       "      <th>idanomal_sinasc</th>\n",
       "      <th>mesprenat_sinasc</th>\n",
       "      <th>parto_sinasc</th>\n",
       "      <th>peso_sinasc</th>\n",
       "      <th>qtdfilmort_sinasc</th>\n",
       "      <th>qtdfilvivo_sinasc</th>\n",
       "      <th>racacormae_sinasc</th>\n",
       "      <th>semagestac_sinasc</th>\n",
       "      <th>sexo_sinasc</th>\n",
       "      <th>tpapresent_sinasc</th>\n",
       "      <th>tpconfirma_mae</th>\n",
       "      <th>tpesquema_mae</th>\n",
       "      <th>tpevidenci_mae</th>\n",
       "      <th>tpteste1_mae</th>\n",
       "      <th>tra_dt_sc</th>\n",
       "      <th>marc_pbf_eq_v4</th>\n",
       "      <th>id_cidacs_pop100_v4</th>\n",
       "      <th>ind_mae_sinasc_cidacs</th>\n",
       "      <th>dtultmenst_sinasc</th>\n",
       "      <th>qtdgestant_sinasc</th>\n",
       "    </tr>\n",
       "  </thead>\n",
       "  <tbody>\n",
       "    <tr>\n",
       "      <th>0</th>\n",
       "      <td>5</td>\n",
       "      <td>7</td>\n",
       "      <td>4</td>\n",
       "      <td>None</td>\n",
       "      <td>250750</td>\n",
       "      <td>99</td>\n",
       "      <td>88</td>\n",
       "      <td>2012-07-09</td>\n",
       "      <td>2014-08-09</td>\n",
       "      <td>1994-03-19</td>\n",
       "      <td>None</td>\n",
       "      <td>3</td>\n",
       "      <td>5</td>\n",
       "      <td>1</td>\n",
       "      <td>O981</td>\n",
       "      <td>877053219</td>\n",
       "      <td>444164246</td>\n",
       "      <td>20</td>\n",
       "      <td>2</td>\n",
       "      <td>99</td>\n",
       "      <td>1</td>\n",
       "      <td>3115</td>\n",
       "      <td>0</td>\n",
       "      <td>1</td>\n",
       "      <td>4</td>\n",
       "      <td>40</td>\n",
       "      <td>1</td>\n",
       "      <td>1</td>\n",
       "      <td>1</td>\n",
       "      <td>3</td>\n",
       "      <td>88</td>\n",
       "      <td>1</td>\n",
       "      <td>None</td>\n",
       "      <td>1</td>\n",
       "      <td>1236324582</td>\n",
       "      <td>0</td>\n",
       "      <td>None</td>\n",
       "      <td>1</td>\n",
       "    </tr>\n",
       "    <tr>\n",
       "      <th>1</th>\n",
       "      <td>5</td>\n",
       "      <td>7</td>\n",
       "      <td>4</td>\n",
       "      <td>None</td>\n",
       "      <td>250750</td>\n",
       "      <td>99</td>\n",
       "      <td>88</td>\n",
       "      <td>2020-01-03</td>\n",
       "      <td>2014-08-09</td>\n",
       "      <td>1994-03-19</td>\n",
       "      <td>None</td>\n",
       "      <td>3</td>\n",
       "      <td>5</td>\n",
       "      <td>1</td>\n",
       "      <td>O981</td>\n",
       "      <td>877053219</td>\n",
       "      <td>444164246</td>\n",
       "      <td>20</td>\n",
       "      <td>2</td>\n",
       "      <td>99</td>\n",
       "      <td>1</td>\n",
       "      <td>3115</td>\n",
       "      <td>0</td>\n",
       "      <td>1</td>\n",
       "      <td>4</td>\n",
       "      <td>40</td>\n",
       "      <td>1</td>\n",
       "      <td>1</td>\n",
       "      <td>1</td>\n",
       "      <td>5</td>\n",
       "      <td>88</td>\n",
       "      <td>1</td>\n",
       "      <td>None</td>\n",
       "      <td>1</td>\n",
       "      <td>1236324582</td>\n",
       "      <td>0</td>\n",
       "      <td>None</td>\n",
       "      <td>1</td>\n",
       "    </tr>\n",
       "  </tbody>\n",
       "</table>\n",
       "</div>"
      ],
      "text/plain": [
       "  apgar1_sinasc apgar5_sinasc cod_raca_cor_pessoa_eq codanomal_sinasc  \\\n",
       "0             5             7                      4             None   \n",
       "1             5             7                      4             None   \n",
       "\n",
       "  codmunres_sinasc consprenat_sinasc consultas_sinasc dt_notific_mae  \\\n",
       "0           250750                99               88     2012-07-09   \n",
       "1           250750                99               88     2020-01-03   \n",
       "\n",
       "  dtnasc_sinasc dtnascmae_sinasc dtobito_sim.y escmae_sinasc estcivmae_sinasc  \\\n",
       "0    2014-08-09       1994-03-19          None             3                5   \n",
       "1    2014-08-09       1994-03-19          None             3                5   \n",
       "\n",
       "  gravidez_sinasc id_agravo_mae id_cidacs_mae_sinasc id_cidacs_sinasc_v5  \\\n",
       "0               1          O981            877053219           444164246   \n",
       "1               1          O981            877053219           444164246   \n",
       "\n",
       "  idademae_sinasc idanomal_sinasc mesprenat_sinasc parto_sinasc peso_sinasc  \\\n",
       "0              20               2               99            1        3115   \n",
       "1              20               2               99            1        3115   \n",
       "\n",
       "  qtdfilmort_sinasc qtdfilvivo_sinasc racacormae_sinasc semagestac_sinasc  \\\n",
       "0                 0                 1                 4                40   \n",
       "1                 0                 1                 4                40   \n",
       "\n",
       "  sexo_sinasc tpapresent_sinasc tpconfirma_mae tpesquema_mae tpevidenci_mae  \\\n",
       "0           1                 1              1             3             88   \n",
       "1           1                 1              1             5             88   \n",
       "\n",
       "  tpteste1_mae tra_dt_sc marc_pbf_eq_v4 id_cidacs_pop100_v4  \\\n",
       "0            1      None              1          1236324582   \n",
       "1            1      None              1          1236324582   \n",
       "\n",
       "  ind_mae_sinasc_cidacs dtultmenst_sinasc qtdgestant_sinasc  \n",
       "0                     0              None                 1  \n",
       "1                     0              None                 1  "
      ]
     },
     "execution_count": 5,
     "metadata": {},
     "output_type": "execute_result"
    }
   ],
   "source": [
    "# mostrando dados duplicados para o mesmo infant\n",
    "#************* Tratar: excluir nascimentos multiplos, pegar o último dtnotific_mae\n",
    "df_input.filter(F.col('id_cidacs_sinasc_v5')=='444164246').toPandas()"
   ]
  },
  {
   "cell_type": "code",
   "execution_count": 6,
   "id": "cf68667a",
   "metadata": {},
   "outputs": [
    {
     "name": "stderr",
     "output_type": "stream",
     "text": [
      "[Stage 13:====================================>                  (64 + 12) / 96]\r"
     ]
    },
    {
     "name": "stdout",
     "output_type": "stream",
     "text": [
      "Quantidade de infants que aparecem mais de uma vez na base: 17544\n"
     ]
    },
    {
     "name": "stderr",
     "output_type": "stream",
     "text": [
      "\r",
      "[Stage 13:===================================================>    (88 + 8) / 96]\r",
      "\r",
      "                                                                                \r"
     ]
    }
   ],
   "source": [
    "# Mostrando quais ids e a sua quantidade/gêmeos tem duplicidade\n",
    "count_registros_duplicados_infant = df_input.groupBy('id_cidacs_sinasc_v5').count().filter(F.col('count')>1).count()\n",
    "print(f'Quantidade de infants que aparecem mais de uma vez na base: {count_registros_duplicados_infant}')"
   ]
  },
  {
   "cell_type": "markdown",
   "id": "6bd96862-b3d2-443e-83bb-b71e2d3f10bf",
   "metadata": {},
   "source": [
    "# Tratamentos"
   ]
  },
  {
   "cell_type": "markdown",
   "id": "8925d7db",
   "metadata": {},
   "source": [
    "### 1. Removendo registros com id_cidacs_mae_sinasc = NA/Nulo"
   ]
  },
  {
   "cell_type": "code",
   "execution_count": 7,
   "id": "8272f001",
   "metadata": {},
   "outputs": [
    {
     "name": "stderr",
     "output_type": "stream",
     "text": [
      "                                                                                \r"
     ]
    },
    {
     "name": "stdout",
     "output_type": "stream",
     "text": [
      "Quantidade de id_cidacs_mae_sinasc nulos: 0\n"
     ]
    },
    {
     "name": "stderr",
     "output_type": "stream",
     "text": [
      "[Stage 22:=======================================================>(95 + 1) / 96]\r"
     ]
    },
    {
     "name": "stdout",
     "output_type": "stream",
     "text": [
      "Quantidade de id_cidacs_mae_sinasc distintos em toda a base: 12671004\n"
     ]
    },
    {
     "name": "stderr",
     "output_type": "stream",
     "text": [
      "\r",
      "                                                                                \r"
     ]
    }
   ],
   "source": [
    "df = df_input.filter(F.col('id_cidacs_mae_sinasc').isNotNull())\n",
    "print(f'Quantidade de id_cidacs_mae_sinasc nulos: {df_input.filter(F.col(\"id_cidacs_mae_sinasc\").isNull()).count()}')\n",
    "print(f'Quantidade de id_cidacs_mae_sinasc distintos em toda a base: {df.select(\"id_cidacs_mae_sinasc\").distinct().count()}')"
   ]
  },
  {
   "cell_type": "markdown",
   "id": "f9e97b3b",
   "metadata": {},
   "source": [
    "###  2. Criando Visit Occurrence ID\n",
    "\n",
    "- Cada registro não duplicado deve ser equivalente à uma visita, ou seja, ter um visit_occurrence_id próprio\n",
    "- Obs.: Nesse caso ainda não estamos removendo os duplicados (verificar no item 1. da sessão 'Métricas de leitura'"
   ]
  },
  {
   "cell_type": "code",
   "execution_count": 8,
   "id": "97ef8b5c",
   "metadata": {},
   "outputs": [],
   "source": [
    "df = df.withColumn('visit_occurrence_id', F.row_number().over(Window.orderBy('id_cidacs_mae_sinasc', 'dtnasc_sinasc')))"
   ]
  },
  {
   "cell_type": "markdown",
   "id": "17555ef3",
   "metadata": {},
   "source": [
    "### 2.1 Criando Visit Occurrence ID do bebe"
   ]
  },
  {
   "cell_type": "code",
   "execution_count": 9,
   "id": "90383173",
   "metadata": {},
   "outputs": [
    {
     "name": "stderr",
     "output_type": "stream",
     "text": [
      "25/05/06 13:56:48 WARN WindowExec: No Partition Defined for Window operation! Moving all data to a single partition, this can cause serious performance degradation.\n",
      "25/05/06 13:56:48 WARN WindowExec: No Partition Defined for Window operation! Moving all data to a single partition, this can cause serious performance degradation.\n",
      "25/05/06 13:56:53 WARN WindowExec: No Partition Defined for Window operation! Moving all data to a single partition, this can cause serious performance degradation.\n",
      "25/05/06 13:56:53 WARN WindowExec: No Partition Defined for Window operation! Moving all data to a single partition, this can cause serious performance degradation.\n",
      "                                                                                \r"
     ]
    },
    {
     "data": {
      "text/plain": [
       "16609493"
      ]
     },
     "execution_count": 9,
     "metadata": {},
     "output_type": "execute_result"
    }
   ],
   "source": [
    "# Encontrando o maior person_id da mãe\n",
    "max_mother_visit = df.agg(F.max(F.col('visit_occurrence_id')).alias('max_value')).collect()[0]['max_value']\n",
    "max_mother_visit"
   ]
  },
  {
   "cell_type": "code",
   "execution_count": 10,
   "id": "04ec0585",
   "metadata": {},
   "outputs": [],
   "source": [
    "df = df.withColumn('visit_occurrence_id_infant', F.row_number().over(Window.orderBy('id_cidacs_mae_sinasc', 'dtnasc_sinasc'))+max_mother_visit)"
   ]
  },
  {
   "cell_type": "markdown",
   "id": "abecccc5",
   "metadata": {},
   "source": [
    "### 2. Criando Id sequencial do paciente - Mãe (PersonId)"
   ]
  },
  {
   "cell_type": "code",
   "execution_count": 11,
   "id": "eae8274b",
   "metadata": {},
   "outputs": [
    {
     "name": "stderr",
     "output_type": "stream",
     "text": [
      "[Stage 29:==================================================>     (87 + 9) / 96]\r"
     ]
    },
    {
     "name": "stdout",
     "output_type": "stream",
     "text": [
      "Quantidade de person_ids distintos: 12671004\n",
      "Colunas de/para person_id: ['id_cidacs_mae_sinasc', 'person_id']\n"
     ]
    },
    {
     "name": "stderr",
     "output_type": "stream",
     "text": [
      "\r",
      "[Stage 31:============================================>          (78 + 12) / 96]\r",
      "\r",
      "                                                                                \r"
     ]
    }
   ],
   "source": [
    "window_person_id = Window.partitionBy().orderBy('id_cidacs_mae_sinasc')\n",
    "\n",
    "df_person_id = (df\n",
    "                .select(\"id_cidacs_mae_sinasc\")\n",
    "                .distinct()\n",
    "                .withColumn('person_id', F.row_number().over(window_person_id))\n",
    "               )\n",
    "\n",
    "print(f'Quantidade de person_ids distintos: {df_person_id.count()}')\n",
    "print(f'Colunas de/para person_id: {df_person_id.columns}')"
   ]
  },
  {
   "cell_type": "code",
   "execution_count": 12,
   "id": "97a7438a",
   "metadata": {},
   "outputs": [],
   "source": [
    "# Adicionando o person_id com left join à base completa\n",
    "df = df.join(df_person_id, how='left', on='id_cidacs_mae_sinasc')"
   ]
  },
  {
   "cell_type": "markdown",
   "id": "f7c52370",
   "metadata": {},
   "source": [
    "### 2.1 Criando Id sequencial infant (PersonID do filho)\n",
    "\n",
    "- Para criar o person_id do infant, vamos pegar o maior person_id da mãe e somar com a sequencia criada para o filho "
   ]
  },
  {
   "cell_type": "code",
   "execution_count": 13,
   "id": "e68f4627",
   "metadata": {},
   "outputs": [
    {
     "name": "stderr",
     "output_type": "stream",
     "text": [
      "25/05/06 13:57:28 WARN WindowExec: No Partition Defined for Window operation! Moving all data to a single partition, this can cause serious performance degradation.\n",
      "25/05/06 13:57:28 WARN WindowExec: No Partition Defined for Window operation! Moving all data to a single partition, this can cause serious performance degradation.\n",
      "25/05/06 13:57:32 WARN WindowExec: No Partition Defined for Window operation! Moving all data to a single partition, this can cause serious performance degradation.\n",
      "25/05/06 13:57:32 WARN WindowExec: No Partition Defined for Window operation! Moving all data to a single partition, this can cause serious performance degradation.\n",
      "25/05/06 13:57:37 WARN WindowExec: No Partition Defined for Window operation! Moving all data to a single partition, this can cause serious performance degradation.\n",
      "25/05/06 13:57:37 WARN WindowExec: No Partition Defined for Window operation! Moving all data to a single partition, this can cause serious performance degradation.\n",
      "25/05/06 13:57:39 WARN WindowExec: No Partition Defined for Window operation! Moving all data to a single partition, this can cause serious performance degradation.\n",
      "25/05/06 13:57:39 WARN WindowExec: No Partition Defined for Window operation! Moving all data to a single partition, this can cause serious performance degradation.\n",
      "                                                                                \r"
     ]
    },
    {
     "data": {
      "text/plain": [
       "12671004"
      ]
     },
     "execution_count": 13,
     "metadata": {},
     "output_type": "execute_result"
    }
   ],
   "source": [
    "# Encontrando o maior person_id da mãe\n",
    "max_mother_person_id = df.agg(F.max(F.col('person_id')).alias('max_value')).collect()[0]['max_value']\n",
    "max_mother_person_id"
   ]
  },
  {
   "cell_type": "code",
   "execution_count": 14,
   "id": "da11cb0c",
   "metadata": {},
   "outputs": [
    {
     "name": "stderr",
     "output_type": "stream",
     "text": [
      "[Stage 53:====================================================>   (90 + 6) / 96]\r"
     ]
    },
    {
     "name": "stdout",
     "output_type": "stream",
     "text": [
      "Quantidade de person_ids distintos da criança: 16588298\n"
     ]
    },
    {
     "name": "stderr",
     "output_type": "stream",
     "text": [
      "\r",
      "[Stage 55:==============================================>        (81 + 12) / 96]\r",
      "\r",
      "                                                                                \r"
     ]
    }
   ],
   "source": [
    "window_person_id_infant = Window.partitionBy().orderBy('id_cidacs_sinasc_v5')\n",
    "\n",
    "df_person_id_infant = (df\n",
    "                .select(\"id_cidacs_sinasc_v5\")\n",
    "                .distinct()\n",
    "                .withColumn('person_id_infant', F.row_number().over(window_person_id_infant) + max_mother_person_id)\n",
    "               )\n",
    "\n",
    "print(f'Quantidade de person_ids distintos da criança: {df_person_id_infant.count()}')"
   ]
  },
  {
   "cell_type": "markdown",
   "id": "6013a845-9944-4ea9-b1b2-f3a8d96a3c7b",
   "metadata": {},
   "source": [
    "### Observação sobre person_id e person_id_infant\n",
    "- A quantidade de infant deveria ser igual ou muito próxima da quantidade de registros da base completa, pois em teoria cada linha representa um nascimento.\n",
    "- As causas dessas divergências podem ser duplicidade de registros ou gêmeos\n",
    "- 24707761 linhas na basa\n",
    "- 24695595 de infants distintos na base"
   ]
  },
  {
   "cell_type": "code",
   "execution_count": 15,
   "id": "eae8fbd0",
   "metadata": {},
   "outputs": [
    {
     "name": "stderr",
     "output_type": "stream",
     "text": [
      "25/05/06 13:58:11 WARN WindowExec: No Partition Defined for Window operation! Moving all data to a single partition, this can cause serious performance degradation.\n",
      "25/05/06 13:58:11 WARN WindowExec: No Partition Defined for Window operation! Moving all data to a single partition, this can cause serious performance degradation.\n",
      "25/05/06 13:58:16 WARN WindowExec: No Partition Defined for Window operation! Moving all data to a single partition, this can cause serious performance degradation.\n",
      "25/05/06 13:58:16 WARN WindowExec: No Partition Defined for Window operation! Moving all data to a single partition, this can cause serious performance degradation.\n",
      "25/05/06 13:58:17 WARN WindowExec: No Partition Defined for Window operation! Moving all data to a single partition, this can cause serious performance degradation.\n",
      "25/05/06 13:58:17 WARN WindowExec: No Partition Defined for Window operation! Moving all data to a single partition, this can cause serious performance degradation.\n",
      "[Stage 64:>                                                         (0 + 1) / 1]\r"
     ]
    },
    {
     "name": "stdout",
     "output_type": "stream",
     "text": [
      "Menor person_id_infant: 12671005\n"
     ]
    },
    {
     "name": "stderr",
     "output_type": "stream",
     "text": [
      "\r",
      "                                                                                \r"
     ]
    }
   ],
   "source": [
    "# coletando o menor person_id_infant para validar se corresponde ao valor do maior person_id da mãe +1\n",
    "print(f\"Menor person_id_infant: {df_person_id_infant.agg(F.min(F.col('person_id_infant')).alias('min_value')).collect()[0]['min_value']}\")"
   ]
  },
  {
   "cell_type": "code",
   "execution_count": 16,
   "id": "850be828",
   "metadata": {},
   "outputs": [
    {
     "name": "stderr",
     "output_type": "stream",
     "text": [
      "[Stage 65:==================================================>     (87 + 9) / 96]\r"
     ]
    },
    {
     "name": "stdout",
     "output_type": "stream",
     "text": [
      "Quantidade de registros após à adição do person_id_infant: 16609493\n"
     ]
    },
    {
     "name": "stderr",
     "output_type": "stream",
     "text": [
      "\r",
      "                                                                                \r"
     ]
    }
   ],
   "source": [
    "# Adicionando o person_id_infant a base completa através do left join pelo id_cidacs_sinasc_v4\n",
    "df = df.join(df_person_id_infant, how='left', on='id_cidacs_sinasc_v5')\n",
    "print(f'Quantidade de registros após à adição do person_id_infant: {df.count()}')"
   ]
  },
  {
   "cell_type": "code",
   "execution_count": 17,
   "id": "8abd69f8",
   "metadata": {},
   "outputs": [
    {
     "name": "stderr",
     "output_type": "stream",
     "text": [
      "25/05/06 13:58:42 WARN WindowExec: No Partition Defined for Window operation! Moving all data to a single partition, this can cause serious performance degradation.\n",
      "25/05/06 13:58:42 WARN WindowExec: No Partition Defined for Window operation! Moving all data to a single partition, this can cause serious performance degradation.\n",
      "25/05/06 13:58:46 WARN WindowExec: No Partition Defined for Window operation! Moving all data to a single partition, this can cause serious performance degradation.\n",
      "25/05/06 13:58:46 WARN WindowExec: No Partition Defined for Window operation! Moving all data to a single partition, this can cause serious performance degradation.\n",
      "25/05/06 13:58:51 WARN WindowExec: No Partition Defined for Window operation! Moving all data to a single partition, this can cause serious performance degradation.\n",
      "25/05/06 13:58:51 WARN WindowExec: No Partition Defined for Window operation! Moving all data to a single partition, this can cause serious performance degradation.\n",
      "25/05/06 13:58:53 WARN WindowExec: No Partition Defined for Window operation! Moving all data to a single partition, this can cause serious performance degradation.\n",
      "25/05/06 13:58:53 WARN WindowExec: No Partition Defined for Window operation! Moving all data to a single partition, this can cause serious performance degradation.\n",
      "[Stage 79:==========================================>            (74 + 12) / 96]\r"
     ]
    },
    {
     "name": "stdout",
     "output_type": "stream",
     "text": [
      "Quantidade de person_id_infant nulos: 0\n"
     ]
    },
    {
     "name": "stderr",
     "output_type": "stream",
     "text": [
      "\r",
      "[Stage 79:================================================>      (85 + 11) / 96]\r",
      "\r",
      "                                                                                \r"
     ]
    }
   ],
   "source": [
    "# verificando se existe algum person_id_infant nulo no novo dataframe\n",
    "print(f\"Quantidade de person_id_infant nulos: {df.filter(F.col('person_id_infant').isNull()).count()}\")"
   ]
  },
  {
   "cell_type": "markdown",
   "id": "619a357c",
   "metadata": {},
   "source": [
    "### 3. Criando LocationID\n",
    "\n",
    "Observações:\n",
    "1. Não tem codmunres_sinasc null\n",
    "2. dtnasc_sinasc não tem valores nulos\n",
    "\n",
    "Como existem pessoas (person_id) que tem mais de um 'codmunres_sinasc' (CEP), vamos pegar o último 'codmunres_sinasc' não nulo ordenando pela data de nascimento do filho (dtnasc_sinasc) em ordem crescente"
   ]
  },
  {
   "cell_type": "code",
   "execution_count": 18,
   "id": "5c62d01b",
   "metadata": {},
   "outputs": [],
   "source": [
    "window_location_id = Window.partitionBy('person_id').orderBy('dtnasc_sinasc')\n",
    "\n",
    "df = df.withColumn('location_id', F.last('codmunres_sinasc', ignorenulls=True).over(window_location_id))"
   ]
  },
  {
   "cell_type": "markdown",
   "id": "fbe789fe-363f-4bd0-8a49-ea45127ab349",
   "metadata": {},
   "source": [
    "### 4. Calculando Data de nascimento da mãe  \n",
    "\n",
    "- Quando a data de nascimento da mãe (dtnascmae_sinasc) for nulo, fazer o cálculo: dtnasc_sinasc - idademae_sinasc."
   ]
  },
  {
   "cell_type": "code",
   "execution_count": 19,
   "id": "fb77a375",
   "metadata": {},
   "outputs": [],
   "source": [
    "window_dt_mae = Window.partitionBy('id_cidacs_mae_sinasc').orderBy('dtnasc_sinasc').rowsBetween(Window.unboundedPreceding, Window.unboundedFollowing)"
   ]
  },
  {
   "cell_type": "code",
   "execution_count": 20,
   "id": "1f019a7a",
   "metadata": {},
   "outputs": [],
   "source": [
    "df = (df.withColumn('dt_nascimento_calc_mae', F.when(F.col('dtnascmae_sinasc').isNotNull(), \n",
    "                                                 F.to_date('dtnascmae_sinasc', 'yyyy-MM-dd'))\n",
    "                                           .when(F.col('dtnascmae_sinasc').isNull(), \n",
    "                                                F.add_months(F.to_date('dtnasc_sinasc', 'yyyy-MM-dd'), -12 * F.col('idademae_sinasc').cast('integer')))\n",
    "                                           .otherwise(None).cast('date')\n",
    "                                          )\n",
    "      .withColumn('dt_nascimento_calc_mae', F.max('dt_nascimento_calc_mae').over(window_dt_mae))\n",
    "     )"
   ]
  },
  {
   "cell_type": "markdown",
   "id": "6cd6ca19",
   "metadata": {},
   "source": [
    "### 4.1 Removendo casos em que o dtnascmae_sinasc e idademae_sinasc são nulos\n",
    "\n",
    "Onde o dtnascmae_sinasc é nulo, não é possível calcular ou extrair o ano de nascimento da mãe, e este é um campo obrigatório para o OMOP.\n",
    "\n",
    "O que fazer?\n",
    "R: Como existem poucos registros onde a data de nascimento da mãe é nulo depois de calcular o item 4, vamos manter apenas os not nulls."
   ]
  },
  {
   "cell_type": "code",
   "execution_count": 21,
   "id": "ed7bee8f",
   "metadata": {},
   "outputs": [
    {
     "name": "stderr",
     "output_type": "stream",
     "text": [
      "[Stage 88:================================================>      (84 + 12) / 96]\r"
     ]
    },
    {
     "name": "stdout",
     "output_type": "stream",
     "text": [
      "Quantidade de registros onde é possível extrair o ano de nascimento da mãe: 16609485\n"
     ]
    },
    {
     "name": "stderr",
     "output_type": "stream",
     "text": [
      "\r",
      "[Stage 88:=======================================================>(95 + 1) / 96]\r",
      "\r",
      "                                                                                \r"
     ]
    }
   ],
   "source": [
    "df = df.filter(F.col('dt_nascimento_calc_mae').isNotNull())\n",
    "print(f'Quantidade de registros onde é possível extrair o ano de nascimento da mãe: {df.count()}')"
   ]
  },
  {
   "cell_type": "markdown",
   "id": "e3deb379",
   "metadata": {},
   "source": [
    "### Salvando Base completa enriquecida no formato Parquet"
   ]
  },
  {
   "cell_type": "code",
   "execution_count": 22,
   "id": "9bc1aad5-5f03-4395-80aa-d01ca3e6c46e",
   "metadata": {
    "tags": []
   },
   "outputs": [
    {
     "name": "stderr",
     "output_type": "stream",
     "text": [
      "25/05/06 14:00:47 WARN WindowExec: No Partition Defined for Window operation! Moving all data to a single partition, this can cause serious performance degradation.\n",
      "25/05/06 14:00:47 WARN WindowExec: No Partition Defined for Window operation! Moving all data to a single partition, this can cause serious performance degradation.\n",
      "25/05/06 14:00:47 WARN WindowExec: No Partition Defined for Window operation! Moving all data to a single partition, this can cause serious performance degradation.\n",
      "25/05/06 14:00:47 WARN WindowExec: No Partition Defined for Window operation! Moving all data to a single partition, this can cause serious performance degradation.\n",
      "25/05/06 14:00:47 WARN WindowExec: No Partition Defined for Window operation! Moving all data to a single partition, this can cause serious performance degradation.\n",
      "25/05/06 14:00:47 WARN WindowExec: No Partition Defined for Window operation! Moving all data to a single partition, this can cause serious performance degradation.\n",
      "25/05/06 14:00:59 WARN WindowExec: No Partition Defined for Window operation! Moving all data to a single partition, this can cause serious performance degradation.\n",
      "25/05/06 14:00:59 WARN WindowExec: No Partition Defined for Window operation! Moving all data to a single partition, this can cause serious performance degradation.\n",
      "25/05/06 14:00:59 WARN WindowExec: No Partition Defined for Window operation! Moving all data to a single partition, this can cause serious performance degradation.\n",
      "25/05/06 14:00:59 WARN WindowExec: No Partition Defined for Window operation! Moving all data to a single partition, this can cause serious performance degradation.\n",
      "25/05/06 14:00:59 WARN WindowExec: No Partition Defined for Window operation! Moving all data to a single partition, this can cause serious performance degradation.\n",
      "25/05/06 14:00:59 WARN WindowExec: No Partition Defined for Window operation! Moving all data to a single partition, this can cause serious performance degradation.\n",
      "25/05/06 14:01:03 WARN WindowExec: No Partition Defined for Window operation! Moving all data to a single partition, this can cause serious performance degradation.\n",
      "25/05/06 14:01:03 WARN WindowExec: No Partition Defined for Window operation! Moving all data to a single partition, this can cause serious performance degradation.\n",
      "25/05/06 14:01:03 WARN WindowExec: No Partition Defined for Window operation! Moving all data to a single partition, this can cause serious performance degradation.\n",
      "25/05/06 14:01:03 WARN WindowExec: No Partition Defined for Window operation! Moving all data to a single partition, this can cause serious performance degradation.\n",
      "25/05/06 14:01:03 WARN WindowExec: No Partition Defined for Window operation! Moving all data to a single partition, this can cause serious performance degradation.\n",
      "25/05/06 14:01:03 WARN WindowExec: No Partition Defined for Window operation! Moving all data to a single partition, this can cause serious performance degradation.\n",
      "25/05/06 14:01:08 WARN WindowExec: No Partition Defined for Window operation! Moving all data to a single partition, this can cause serious performance degradation.\n",
      "25/05/06 14:01:08 WARN WindowExec: No Partition Defined for Window operation! Moving all data to a single partition, this can cause serious performance degradation.\n",
      "25/05/06 14:01:08 WARN WindowExec: No Partition Defined for Window operation! Moving all data to a single partition, this can cause serious performance degradation.\n",
      "25/05/06 14:01:08 WARN WindowExec: No Partition Defined for Window operation! Moving all data to a single partition, this can cause serious performance degradation.\n",
      "25/05/06 14:01:08 WARN WindowExec: No Partition Defined for Window operation! Moving all data to a single partition, this can cause serious performance degradation.\n",
      "25/05/06 14:01:08 WARN WindowExec: No Partition Defined for Window operation! Moving all data to a single partition, this can cause serious performance degradation.\n",
      "25/05/06 14:01:10 WARN WindowExec: No Partition Defined for Window operation! Moving all data to a single partition, this can cause serious performance degradation.\n",
      "25/05/06 14:01:10 WARN WindowExec: No Partition Defined for Window operation! Moving all data to a single partition, this can cause serious performance degradation.\n",
      "25/05/06 14:01:10 WARN WindowExec: No Partition Defined for Window operation! Moving all data to a single partition, this can cause serious performance degradation.\n",
      "25/05/06 14:01:10 WARN WindowExec: No Partition Defined for Window operation! Moving all data to a single partition, this can cause serious performance degradation.\n",
      "25/05/06 14:01:10 WARN WindowExec: No Partition Defined for Window operation! Moving all data to a single partition, this can cause serious performance degradation.\n",
      "25/05/06 14:01:10 WARN WindowExec: No Partition Defined for Window operation! Moving all data to a single partition, this can cause serious performance degradation.\n",
      "25/05/06 14:01:11 WARN WindowExec: No Partition Defined for Window operation! Moving all data to a single partition, this can cause serious performance degradation.\n",
      "25/05/06 14:01:11 WARN WindowExec: No Partition Defined for Window operation! Moving all data to a single partition, this can cause serious performance degradation.\n",
      "25/05/06 14:01:11 WARN WindowExec: No Partition Defined for Window operation! Moving all data to a single partition, this can cause serious performance degradation.\n",
      "25/05/06 14:01:11 WARN WindowExec: No Partition Defined for Window operation! Moving all data to a single partition, this can cause serious performance degradation.\n",
      "25/05/06 14:01:11 WARN WindowExec: No Partition Defined for Window operation! Moving all data to a single partition, this can cause serious performance degradation.\n",
      "25/05/06 14:01:11 WARN WindowExec: No Partition Defined for Window operation! Moving all data to a single partition, this can cause serious performance degradation.\n",
      "                                                                                \r"
     ]
    }
   ],
   "source": [
    "(df\n",
    " .repartition(1)\n",
    " .write\n",
    " .parquet('/data/IDAF/PROJETOS/PARCERIA_CIDACS_PHDC/basefinal_gest_limp_enriched', mode='overwrite')\n",
    ")"
   ]
  },
  {
   "cell_type": "code",
   "execution_count": null,
   "id": "bf1be6a0-4d0e-449a-962a-a76d91f0e29f",
   "metadata": {},
   "outputs": [],
   "source": []
  }
 ],
 "metadata": {
  "kernelspec": {
   "display_name": "Python 3 (ipykernel)",
   "language": "python",
   "name": "python3"
  },
  "language_info": {
   "codemirror_mode": {
    "name": "ipython",
    "version": 3
   },
   "file_extension": ".py",
   "mimetype": "text/x-python",
   "name": "python",
   "nbconvert_exporter": "python",
   "pygments_lexer": "ipython3",
   "version": "3.10.12"
  }
 },
 "nbformat": 4,
 "nbformat_minor": 5
}
