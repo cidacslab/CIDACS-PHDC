{
 "cells": [
  {
   "cell_type": "markdown",
   "id": "b3b8b21d",
   "metadata": {},
   "source": [
    "### Configurações Pyspark"
   ]
  },
  {
   "cell_type": "code",
   "execution_count": 19,
   "id": "e5254cb2",
   "metadata": {},
   "outputs": [],
   "source": [
    "from pyspark.sql import SparkSession\n",
    "from pyspark.sql import functions as F\n",
    "from pyspark.sql import Window\n",
    "\n",
    "import pandas as pd\n",
    "\n",
    "def write_to_postgresl(df, tb_name=None, write_mode='None'):\n",
    "    df.count()\n",
    "    if tb_name is None:\n",
    "        raise Exception('Informe o nome da tabela')\n",
    "    if write_mode is None:\n",
    "        raise Exception('Informe o mode de escrita: append ou overwrite')\n",
    "        \n",
    "    from datetime import datetime\n",
    "    start_time = datetime.now()\n",
    "    \n",
    "    try:\n",
    "        df.write.jdbc(url, table=tb_name, mode=write_mode, properties=properties)\n",
    "    except Exception as e:\n",
    "        print(f'Erro: {e}')\n",
    "    end_time = datetime.now()\n",
    "    \n",
    "    total_time = str(end_time - start_time)\n",
    "    \n",
    "    return f'Total time: {total_time} and - Total rows: {df.count()} - Total columns: {len(df.columns)}'\n",
    "\n",
    "\n",
    "\n",
    "    # Criando a sessão do Spark\n",
    "spark  = SparkSession.builder \\\n",
    "    .appName(\"Data Analysis\") \\\n",
    "    .config('spark.jars', '/data/IDAF/DATABASECONNECTOR_JAR_FOLDER/postgresql-42.2.18.jar')\\\n",
    "    .config(\"spark.executor.memory\", \"8g\")\\\n",
    "    .config(\"spark.driver.memory\", \"8g\")\\\n",
    "    .config(\"spark.executor.cores\", \"4\")\\\n",
    "    .config(\"spark.executor.instances\",\"8\")\\\n",
    "    .config(\"spark.sql.shuffle.partitions\",\"96\")\\\n",
    "    .config(\"spark.default.parallelism\",\"96\")\\\n",
    "    .getOrCreate()\n",
    "\n",
    "\n",
    "url = \"jdbc:postgresql://localhost:5432/postgres\"\n",
    "\n",
    "properties = {\n",
    "    \"user\" : \"postgres\",\n",
    "    \"password\" : \"cidacs\",\n",
    "    \"driver\" : \"org.postgresql.Driver\"\n",
    "}"
   ]
  },
  {
   "cell_type": "markdown",
   "id": "e5bdd252",
   "metadata": {},
   "source": [
    "### Lendo dados enriquecidos"
   ]
  },
  {
   "cell_type": "code",
   "execution_count": null,
   "id": "64224f0d",
   "metadata": {},
   "outputs": [],
   "source": [
    "df_input = (spark\n",
    "            .read\n",
    "            .parquet('/data/IDAF/PROJETOS/PARCERIA_CIDACS_PHDC/basefinal_gest_limp_enriched', header=True)\n",
    "           )"
   ]
  },
  {
   "cell_type": "markdown",
   "id": "b21352a3",
   "metadata": {},
   "source": [
    "### Location"
   ]
  },
  {
   "cell_type": "code",
   "execution_count": null,
   "id": "5b364336",
   "metadata": {},
   "outputs": [],
   "source": [
    "observation_concept_list = ['escmae_sinasc_concept', 'estcivmae_sinasc_concept', 'qtdfilvivo_sinasc_aux', \n",
    "                            'qtdfilmort_sinasc_aux', 'consprenat_sinasc_concept', 'qtdgestant_sinasc_concept',\n",
    "                            'marc_pbf_eq_v4_concept'\n",
    "                           ]\n",
    "\n",
    "df_observation = (df_input\n",
    "                  .withColumn('marc_pbf_eq_v4_concept', F.when(F.col('marc_pbf_eq_v4').isNotNull(), 44804295).otherwise(None).cast('int'))\n",
    "                  .withColumn('qtdgestant_sinasc_concept', F.when(F.col('qtdgestant_sinasc').isNotNull(), 4132561).otherwise(None).cast('int'))\n",
    "                  .withColumn('escmae_sinasc_concept', F.when(F.col('escmae_sinasc').isNotNull(), 4144287).otherwise(None).cast('int'))\n",
    "                  .withColumn('estcivmae_sinasc_concept', F.when(F.col('estcivmae_sinasc').isNotNull(), 4053609).otherwise(None).cast('int'))\n",
    "                  .withColumn('qtdfilvivo_sinasc_aux', F.when(F.col('qtdfilvivo_sinasc').isNotNull(), 45770046).otherwise(None).cast('int'))\n",
    "                  .withColumn('qtdfilmort_sinasc_aux', F.when(F.col('qtdfilmort_sinasc').isNotNull(), 4090055).otherwise(None).cast('int'))\n",
    "                  .withColumn('consprenat_sinasc_concept', F.when(F.col('consprenat_sinasc').isNotNull(), 4313474).otherwise(None).cast('int'))\n",
    "                  .withColumn('observation_concept_id_list', F.split(F.concat_ws(',', *observation_concept_list), ','))\n",
    "                  .withColumn('observation_concept_id', F.explode('observation_concept_id_list'))\n",
    "                  .withColumn('observation_date', F.when(F.col('mesprenat_sinasc')<=9, F.add_months(F.col('dtnasc_sinasc'), -(9 - F.col('mesprenat_sinasc').cast('int'))))\n",
    "                                     .when((F.col('mesprenat_sinasc')==99)|(F.col('mesprenat_sinasc').isNull()), F.lit('2099-12-31'))\n",
    "                                     .when(F.col('mesprenat_sinasc')>9, F.trunc(F.col('dtnasc_sinasc'), 'month')))\n",
    "                  .withColumn('observation_datetime', F.lit(None).cast('timestamp'))\n",
    "                  .withColumn('qtdfilvivo_sinasc_calc', F.col('qtdfilvivo_sinasc').cast('int') + F.col('qtdfilmort_sinasc').cast('int'))\n",
    "                  .withColumn('qtdfilmort_sinasc_calc', F.col('qtdfilmort_sinasc').cast('int'))\n",
    "                  .withColumn('consprenat_sinasc_calc', F.col('consprenat_sinasc').cast('int'))\n",
    "                  .withColumn('qtdgestant_sinasc_calc', F.col('consprenat_sinasc').cast('int'))\n",
    "                  .withColumn('value_as_number_list', F.split(F.concat_ws(',', 'qtdgestant_sinasc_calc', 'qtdfilvivo_sinasc_calc', 'qtdfilmort_sinasc_calc', 'consprenat_sinasc_calc'), ','))\n",
    "                  .withColumn('value_as_number', F.explode(F.col('value_as_number_list')))\n",
    "                  .withColumn('value_as_number', \n",
    "                             F.when(F.col('observation_concept_id')==45770046, F.col('qtdfilvivo_sinasc_calc'))\n",
    "                              .when(F.col('observation_concept_id')==4090055, F.col('qtdfilmort_sinasc_calc'))\n",
    "                              .when(F.col('observation_concept_id')==4313474, F.col('consprenat_sinasc_calc'))\n",
    "                              .when(F.col('observation_concept_id')==4132561, F.col('qtdgestant_sinasc_calc'))\n",
    "                              .otherwise(None))\n",
    "                  .withColumn('escmae_sinasc_calc', \n",
    "                              F.when((F.col('escmae_sinasc_concept')==4144287)&(F.col('escmae_sinasc').isin(0,88,99)), 0)\n",
    "                              .when((F.col('escmae_sinasc_concept')==4144287)&(F.col('escmae_sinasc')==1), 45877495)\n",
    "                              .when((F.col('escmae_sinasc_concept')==4144287)&(F.col('escmae_sinasc')==2), 37172863)\n",
    "                              .when((F.col('escmae_sinasc_concept')==4144287)&(F.col('escmae_sinasc').isin(3,4)), 37172863)\n",
    "                              .when((F.col('escmae_sinasc_concept')==4144287)&(F.col('escmae_sinasc')==5), 45884461)\n",
    "                              .otherwise(0)\n",
    "                             )\n",
    "                  .withColumn('estcivmae_sinasc_calc', F.when(F.col('estcivmae_sinasc').isin(0,99), 0)\n",
    "                             .when((F.col('escmae_sinasc_concept')==4053609)&(F.col('estcivmae_sinasc')==1), 45879879)\n",
    "                              .when((F.col('escmae_sinasc_concept')==4053609)&(F.col('estcivmae_sinasc')==2), 45876756)\n",
    "                              .when((F.col('escmae_sinasc_concept')==4053609)&(F.col('estcivmae_sinasc')==3), 45883711)\n",
    "                              .when((F.col('escmae_sinasc_concept')==4053609)&(F.col('estcivmae_sinasc')==4), 1620675)\n",
    "                              .when((F.col('escmae_sinasc_concept')==4053609)&(F.col('estcivmae_sinasc')==5), 1620470)\n",
    "                              .when((F.col('escmae_sinasc_concept')==4053609)&(F.col('estcivmae_sinasc')==88), 4052929)\n",
    "                              .otherwise(0))\n",
    "                  .withColumn('value_as_concept_id_list', F.split(F.concat_ws(',', 'escmae_sinasc_calc', 'estcivmae_sinasc_calc'), ','))\n",
    "                  .withColumn('value_as_concept_id', F.explode('value_as_concept_id_list'))\n",
    "                  .withColumn('observation_id', F.row_number().over(Window.orderBy('person_id', 'dtnasc_sinasc')))\n",
    "                  .withColumn('observation_type_concept_id', F.lit(32879))\n",
    "                  .withColumn('value_as_string', F.when((F.col('observation_concept_id')==44804295)&(F.col('marc_pbf_eq_v4')==0), F.lit(None))\n",
    "                                                  .when((F.col('observation_concept_id')==44804295)&(F.col('marc_pbf_eq_v4')==1), F.lit(4188539))\n",
    "                                                  .when((F.col('observation_concept_id')==44804295)&(F.col('marc_pbf_eq_v4')==2), F.lit(4188540))\n",
    "                                                  .when((F.col('observation_concept_id')==44804295)&(F.col('marc_pbf_eq_v4')==88), F.lit(4118638))\n",
    "                                                  .when((F.col('observation_concept_id')==44804295)&(F.col('marc_pbf_eq_v4')==99), F.lit(4127662))\n",
    "                                                  .otherwise(None)\n",
    "                             )\n",
    "                  .withColumn('qualifier_concept_id', F.lit(None))\n",
    "                  .withColumn('unit_concept_id', F.lit(None))\n",
    "                  .withColumn('provider_id', F.lit(None))\n",
    "                  .withColumn('visit_occurrence_id', F.col('visit_occurrence_id'))\n",
    "                  .withColumn('visit_detail_id', F.lit(None))\n",
    "                  .withColumn('observation_source_value', F.lit(None))\n",
    "                  .withColumn('observation_source_concept_id', F.lit(None))\n",
    "                  .withColumn('unit_source_value', F.lit(None))\n",
    "                  .withColumn('qualifier_source_value', F.lit(None))\n",
    "                  .withColumn('value_source_value', F.lit(None))\n",
    "                  .withColumn('observation_event_id', F.lit(None))\n",
    "                  .withColumn('obs_event_field_concept_id', F.lit(None))\n",
    "                  .filter(F.col('observation_concept_id').isNotNull())\n",
    "                             ).select(\n",
    "                                 F.col('observation_id').cast('integer'),\n",
    "                                 F.col('person_id').cast('integer'),\n",
    "                                 F.col('observation_concept_id').cast('integer'),\n",
    "                                 F.col('observation_date').cast('date'),\n",
    "                                 F.col('observation_datetime').cast('timestamp'),\n",
    "                                 F.col('observation_type_concept_id').cast('integer'),\n",
    "                                 F.col('value_as_number').cast('float'),\n",
    "                                 F.col('value_as_string').cast('string'),\n",
    "                                 F.col('value_as_concept_id').cast('integer'),\n",
    "                                 F.col('qualifier_concept_id').cast('integer'),\n",
    "                                 F.col('unit_concept_id').cast('integer'),\n",
    "                                 F.col('provider_id').cast('integer'),\n",
    "                                 F.col('visit_occurrence_id').cast('integer'),\n",
    "                                 F.col('visit_detail_id').cast('integer'),\n",
    "                                 F.col('observation_source_value').cast('string'),\n",
    "                                 F.col('observation_source_concept_id').cast('integer'),\n",
    "                                 F.col('unit_source_value').cast('string'),\n",
    "                                 F.col('qualifier_source_value').cast('string'),\n",
    "                                 F.col('value_source_value').cast('string'),\n",
    "                                 F.col('observation_event_id').cast('integer'),\n",
    "                                 F.col('obs_event_field_concept_id').cast('integer')\n",
    "                            ).distinct()\n",
    "           \n",
    "# df_observation.count()"
   ]
  },
  {
   "cell_type": "markdown",
   "id": "74d8976f",
   "metadata": {},
   "source": [
    "### Salvando no Postgresql"
   ]
  },
  {
   "cell_type": "code",
   "execution_count": null,
   "id": "3fd15d47",
   "metadata": {},
   "outputs": [],
   "source": [
    "# Ler parquet e salvar em 6 arquivos\n",
    "# Escrever no banco um de cada vez"
   ]
  },
  {
   "cell_type": "code",
   "execution_count": null,
   "id": "6154c8b0",
   "metadata": {},
   "outputs": [],
   "source": [
    "write_to_postgresl(df_observation, tb_name='omop.observation', write_mode='append')"
   ]
  },
  {
   "cell_type": "code",
   "execution_count": null,
   "id": "6f028a70",
   "metadata": {},
   "outputs": [],
   "source": [
    "# Total de rows no df_observation: 759872794\n",
    "df_observation.write.parquet('/data/IDAF/PROJETOS/PARCERIA_CIDACS_PHDC/omop_scripts_base_16mi_karine/csv/observation')"
   ]
  },
  {
   "cell_type": "markdown",
   "id": "e610d863",
   "metadata": {},
   "source": [
    "## Deprecated"
   ]
  },
  {
   "cell_type": "markdown",
   "id": "4beea3f6",
   "metadata": {},
   "source": [
    "## SQL de insertion"
   ]
  },
  {
   "cell_type": "code",
   "execution_count": null,
   "id": "c7b417f2",
   "metadata": {},
   "outputs": [],
   "source": [
    "# CREATE TABLE public.drug_exposure (\n",
    "# \t\t\tdrug_exposure_id integer NOT NULL,\n",
    "# \t\t\tperson_id integer NOT NULL,\n",
    "# \t\t\tdrug_concept_id integer NOT NULL,\n",
    "# \t\t\tdrug_exposure_start_date date NOT NULL,\n",
    "# \t\t\tdrug_exposure_start_datetime TIMESTAMP NULL,\n",
    "# \t\t\tdrug_exposure_end_date date NOT NULL,\n",
    "# \t\t\tdrug_exposure_end_datetime TIMESTAMP NULL,\n",
    "# \t\t\tverbatim_end_date date NULL,\n",
    "# \t\t\tdrug_type_concept_id integer NOT NULL,\n",
    "# \t\t\tstop_reason varchar(20) NULL,\n",
    "# \t\t\trefills integer NULL,\n",
    "# \t\t\tquantity NUMERIC NULL,\n",
    "# \t\t\tdays_supply integer NULL,\n",
    "# \t\t\tsig TEXT NULL,\n",
    "# \t\t\troute_concept_id integer NULL,\n",
    "# \t\t\tlot_number varchar(50) NULL,\n",
    "# \t\t\tprovider_id integer NULL,\n",
    "# \t\t\tvisit_occurrence_id integer NULL,\n",
    "# \t\t\tvisit_detail_id integer NULL,\n",
    "# \t\t\tdrug_source_value varchar(50) NULL,\n",
    "# \t\t\tdrug_source_concept_id integer NULL,\n",
    "# \t\t\troute_source_value varchar(50) NULL,\n",
    "# \t\t\tdose_unit_source_value varchar(50) NULL );\n",
    "\n",
    "\n",
    "\n",
    "# CREATE TABLE public.drug_exposure_pyspark (\n",
    "# \t\t\tdrug_exposure_id varchar,\n",
    "# \t\t\tperson_id varchar,\n",
    "# \t\t\tdrug_concept_id varchar,\n",
    "# \t\t\tdrug_exposure_start_date varchar,\n",
    "# \t\t\tdrug_exposure_start_datetime varchar,\n",
    "# \t\t\tdrug_exposure_end_date varchar,\n",
    "# \t\t\tdrug_exposure_end_datetime varchar,\n",
    "# \t\t\tverbatim_end_date varchar,\n",
    "# \t\t\tdrug_type_concept_id varchar,\n",
    "# \t\t\tstop_reason varchar,\n",
    "# \t\t\trefills varchar,\n",
    "# \t\t\tquantity varchar,\n",
    "# \t\t\tdays_supply varchar,\n",
    "# \t\t\tsig varchar,\n",
    "# \t\t\troute_concept_id varchar,\n",
    "# \t\t\tlot_number varchar,\n",
    "# \t\t\tprovider_id varchar,\n",
    "# \t\t\tvisit_occurrence_id varchar,\n",
    "# \t\t\tvisit_detail_id varchar,\n",
    "# \t\t\tdrug_source_value varchar,\n",
    "# \t\t\tdrug_source_concept_id varchar,\n",
    "# \t\t\troute_source_value varchar,\n",
    "# \t\t\tdose_unit_source_value varchar)\n",
    "\n",
    "\n",
    "# insert into public.drug_exposure (\n",
    "# drug_exposure_id,\n",
    "# person_id,\n",
    "# drug_concept_id,\n",
    "# drug_exposure_start_date,\n",
    "# drug_exposure_start_datetime,\n",
    "# drug_exposure_end_date,\n",
    "# drug_exposure_end_datetime,\n",
    "# verbatim_end_date,\n",
    "# drug_type_concept_id,\n",
    "# stop_reason,\n",
    "# refills,\n",
    "# quantity,\n",
    "# days_supply,\n",
    "# sig,\n",
    "# route_concept_id,\n",
    "# lot_number,\n",
    "# provider_id,\n",
    "# visit_occurrence_id,\n",
    "# visit_detail_id,\n",
    "# drug_source_value,\n",
    "# drug_source_concept_id,\n",
    "# route_source_value,\n",
    "# dose_unit_source_value\n",
    "# )\n",
    "# SELECT \n",
    "# cast(case when drug_exposure_id='' then null else drug_exposure_id end as integer),\n",
    "# cast(case when person_id='' then null else person_id end as integer),\n",
    "# cast(case when drug_concept_id='' then null else drug_concept_id end as integer),\n",
    "# cast(case when drug_exposure_start_date='' then null else drug_exposure_start_date end as date),\n",
    "# cast(case when drug_exposure_start_datetime='' then null else drug_exposure_start_datetime end as timestamp),\n",
    "# cast(case when drug_exposure_end_date='' then null else drug_exposure_end_date end as date),\n",
    "# cast(case when drug_exposure_end_datetime='' then null else drug_exposure_end_datetime end as timestamp),\n",
    "# cast(case when verbatim_end_date='' then null else verbatim_end_date end as timestamp),\n",
    "# cast(case when drug_type_concept_id='' then null else drug_type_concept_id end as integer),\n",
    "# stop_reason,\n",
    "# cast(case when refills='' then null else refills end as integer),\n",
    "# cast(case when quantity='' then null else quantity end as decimal),\n",
    "# cast(case when days_supply='' then null else days_supply end as integer),\n",
    "# sig,\n",
    "# cast(case when route_concept_id='' then null else route_concept_id end as integer),\n",
    "# cast(case when lot_number='' then null else lot_number end as integer),\n",
    "# cast(case when provider_id='' then null else provider_id end as integer),\n",
    "# cast(case when visit_occurrence_id='' then null else visit_occurrence_id end as integer),\n",
    "# cast(case when visit_detail_id='' then null else visit_detail_id end as integer),\n",
    "# drug_source_value,\n",
    "# cast(case when drug_source_concept_id='' then null else drug_source_concept_id end as integer),\n",
    "# route_source_value,\n",
    "# dose_unit_source_value\n",
    "# \tFROM public.drug_exposure_pyspark;\n"
   ]
  },
  {
   "cell_type": "code",
   "execution_count": 4,
   "id": "68b2f47c",
   "metadata": {},
   "outputs": [
    {
     "name": "stderr",
     "output_type": "stream",
     "text": [
      "                                                                                \r"
     ]
    }
   ],
   "source": [
    "df = spark.read.parquet('/data/IDAF/PROJETOS/PARCERIA_CIDACS_PHDC/omop_scripts_base_16mi_karine/csv/observation')"
   ]
  },
  {
   "cell_type": "code",
   "execution_count": 7,
   "id": "970e9767",
   "metadata": {},
   "outputs": [
    {
     "name": "stderr",
     "output_type": "stream",
     "text": [
      "                                                                                \r"
     ]
    }
   ],
   "source": [
    "df.coalesce(8).write.parquet('/data/IDAF/PROJETOS/PARCERIA_CIDACS_PHDC/omop_scripts_base_16mi_karine/csv/observation_batch')"
   ]
  },
  {
   "cell_type": "code",
   "execution_count": 9,
   "id": "8ce8ef66",
   "metadata": {},
   "outputs": [],
   "source": [
    "import os "
   ]
  },
  {
   "cell_type": "code",
   "execution_count": 12,
   "id": "84c7e82d",
   "metadata": {},
   "outputs": [],
   "source": [
    "path = '/data/IDAF/PROJETOS/PARCERIA_CIDACS_PHDC/omop_scripts_base_16mi_karine/csv/observation_batch'\n",
    "\n",
    "files = os.listdir(path)"
   ]
  },
  {
   "cell_type": "code",
   "execution_count": 18,
   "id": "079df202",
   "metadata": {},
   "outputs": [
    {
     "data": {
      "text/plain": [
       "['/data/IDAF/PROJETOS/PARCERIA_CIDACS_PHDC/omop_scripts_base_16mi_karine/csv/observation_batch/part-00006-26dd4e87-eb42-4761-83b5-0f24c2481101-c000.snappy.parquet',\n",
       " '/data/IDAF/PROJETOS/PARCERIA_CIDACS_PHDC/omop_scripts_base_16mi_karine/csv/observation_batch/part-00005-26dd4e87-eb42-4761-83b5-0f24c2481101-c000.snappy.parquet',\n",
       " '/data/IDAF/PROJETOS/PARCERIA_CIDACS_PHDC/omop_scripts_base_16mi_karine/csv/observation_batch/part-00003-26dd4e87-eb42-4761-83b5-0f24c2481101-c000.snappy.parquet',\n",
       " '/data/IDAF/PROJETOS/PARCERIA_CIDACS_PHDC/omop_scripts_base_16mi_karine/csv/observation_batch/part-00002-26dd4e87-eb42-4761-83b5-0f24c2481101-c000.snappy.parquet',\n",
       " '/data/IDAF/PROJETOS/PARCERIA_CIDACS_PHDC/omop_scripts_base_16mi_karine/csv/observation_batch/part-00007-26dd4e87-eb42-4761-83b5-0f24c2481101-c000.snappy.parquet',\n",
       " '/data/IDAF/PROJETOS/PARCERIA_CIDACS_PHDC/omop_scripts_base_16mi_karine/csv/observation_batch/part-00000-26dd4e87-eb42-4761-83b5-0f24c2481101-c000.snappy.parquet',\n",
       " '/data/IDAF/PROJETOS/PARCERIA_CIDACS_PHDC/omop_scripts_base_16mi_karine/csv/observation_batch/part-00004-26dd4e87-eb42-4761-83b5-0f24c2481101-c000.snappy.parquet',\n",
       " '/data/IDAF/PROJETOS/PARCERIA_CIDACS_PHDC/omop_scripts_base_16mi_karine/csv/observation_batch/part-00001-26dd4e87-eb42-4761-83b5-0f24c2481101-c000.snappy.parquet']"
      ]
     },
     "execution_count": 18,
     "metadata": {},
     "output_type": "execute_result"
    }
   ],
   "source": [
    "files_to_upload = [f'{path}/{f}' for f in files if f.endswith('.parquet')]\n",
    "files_to_upload"
   ]
  },
  {
   "cell_type": "code",
   "execution_count": null,
   "id": "31a27f27",
   "metadata": {},
   "outputs": [
    {
     "name": "stdout",
     "output_type": "stream",
     "text": [
      "Writing /data/IDAF/PROJETOS/PARCERIA_CIDACS_PHDC/omop_scripts_base_16mi_karine/csv/observation_batch/part-00006-26dd4e87-eb42-4761-83b5-0f24c2481101-c000.snappy.parquet\n"
     ]
    },
    {
     "name": "stderr",
     "output_type": "stream",
     "text": [
      "25/06/05 09:26:34 WARN SparkStringUtils: Truncated the string representation of a plan since it was too large. This behavior can be adjusted by setting 'spark.sql.debug.maxToStringFields'.\n",
      "[Stage 9:======================================================>  (92 + 4) / 96]\r"
     ]
    }
   ],
   "source": [
    "for f in files_to_upload:\n",
    "    print(f'Writing {f}')\n",
    "    write_to_postgresl(spark.read.parquet(f), tb_name='omop.observation', write_mode='append')\n",
    "    print(f'Written {f}')"
   ]
  },
  {
   "cell_type": "code",
   "execution_count": null,
   "id": "1b1bf312",
   "metadata": {},
   "outputs": [],
   "source": []
  }
 ],
 "metadata": {
  "kernelspec": {
   "display_name": "Python 3 (ipykernel)",
   "language": "python",
   "name": "python3"
  },
  "language_info": {
   "codemirror_mode": {
    "name": "ipython",
    "version": 3
   },
   "file_extension": ".py",
   "mimetype": "text/x-python",
   "name": "python",
   "nbconvert_exporter": "python",
   "pygments_lexer": "ipython3",
   "version": "3.10.12"
  }
 },
 "nbformat": 4,
 "nbformat_minor": 5
}
